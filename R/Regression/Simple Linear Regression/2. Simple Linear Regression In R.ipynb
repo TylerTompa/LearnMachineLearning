{
 "cells": [
  {
   "cell_type": "markdown",
   "id": "41f6a875",
   "metadata": {},
   "source": [
    "# Simple Linear Regression: Application\n",
    "\n",
    "In this notebook, we examine how to apply simple linear regression in R on a sample dataset containing two variables—an individual's years of experience, and their salary.\n",
    "\n",
    "Sources:\n",
    "1. <a href='https://www.udemy.com/course/machinelearning/'>Machine Learning A-Z™: Hands-On Python & R In Data Science</a>\n",
    "2. <a href='https://www.simplypsychology.org/p-value.html#:~:text=The%20smaller%20the%20p%2Dvalue,and%20the%20results%20are%20random)'>What a p-value tells you about statistical significance</a>"
   ]
  },
  {
   "cell_type": "code",
   "execution_count": 1,
   "id": "b0ccddce",
   "metadata": {},
   "outputs": [
    {
     "data": {
      "text/html": [
       "<ol>\n",
       "\t<li><style>\n",
       ".list-inline {list-style: none; margin:0; padding: 0}\n",
       ".list-inline>li {display: inline-block}\n",
       ".list-inline>li:not(:last-child)::after {content: \"\\00b7\"; padding: 0 .5ex}\n",
       "</style>\n",
       "<ol class=list-inline><li>'ggplot2'</li><li>'stats'</li><li>'graphics'</li><li>'grDevices'</li><li>'utils'</li><li>'datasets'</li><li>'methods'</li><li>'base'</li></ol>\n",
       "</li>\n",
       "\t<li><style>\n",
       ".list-inline {list-style: none; margin:0; padding: 0}\n",
       ".list-inline>li {display: inline-block}\n",
       ".list-inline>li:not(:last-child)::after {content: \"\\00b7\"; padding: 0 .5ex}\n",
       "</style>\n",
       "<ol class=list-inline><li>'caTools'</li><li>'ggplot2'</li><li>'stats'</li><li>'graphics'</li><li>'grDevices'</li><li>'utils'</li><li>'datasets'</li><li>'methods'</li><li>'base'</li></ol>\n",
       "</li>\n",
       "\t<li><style>\n",
       ".list-inline {list-style: none; margin:0; padding: 0}\n",
       ".list-inline>li {display: inline-block}\n",
       ".list-inline>li:not(:last-child)::after {content: \"\\00b7\"; padding: 0 .5ex}\n",
       "</style>\n",
       "<ol class=list-inline><li>'patchwork'</li><li>'caTools'</li><li>'ggplot2'</li><li>'stats'</li><li>'graphics'</li><li>'grDevices'</li><li>'utils'</li><li>'datasets'</li><li>'methods'</li><li>'base'</li></ol>\n",
       "</li>\n",
       "</ol>\n"
      ],
      "text/latex": [
       "\\begin{enumerate}\n",
       "\\item \\begin{enumerate*}\n",
       "\\item 'ggplot2'\n",
       "\\item 'stats'\n",
       "\\item 'graphics'\n",
       "\\item 'grDevices'\n",
       "\\item 'utils'\n",
       "\\item 'datasets'\n",
       "\\item 'methods'\n",
       "\\item 'base'\n",
       "\\end{enumerate*}\n",
       "\n",
       "\\item \\begin{enumerate*}\n",
       "\\item 'caTools'\n",
       "\\item 'ggplot2'\n",
       "\\item 'stats'\n",
       "\\item 'graphics'\n",
       "\\item 'grDevices'\n",
       "\\item 'utils'\n",
       "\\item 'datasets'\n",
       "\\item 'methods'\n",
       "\\item 'base'\n",
       "\\end{enumerate*}\n",
       "\n",
       "\\item \\begin{enumerate*}\n",
       "\\item 'patchwork'\n",
       "\\item 'caTools'\n",
       "\\item 'ggplot2'\n",
       "\\item 'stats'\n",
       "\\item 'graphics'\n",
       "\\item 'grDevices'\n",
       "\\item 'utils'\n",
       "\\item 'datasets'\n",
       "\\item 'methods'\n",
       "\\item 'base'\n",
       "\\end{enumerate*}\n",
       "\n",
       "\\end{enumerate}\n"
      ],
      "text/markdown": [
       "1. 1. 'ggplot2'\n",
       "2. 'stats'\n",
       "3. 'graphics'\n",
       "4. 'grDevices'\n",
       "5. 'utils'\n",
       "6. 'datasets'\n",
       "7. 'methods'\n",
       "8. 'base'\n",
       "\n",
       "\n",
       "\n",
       "2. 1. 'caTools'\n",
       "2. 'ggplot2'\n",
       "3. 'stats'\n",
       "4. 'graphics'\n",
       "5. 'grDevices'\n",
       "6. 'utils'\n",
       "7. 'datasets'\n",
       "8. 'methods'\n",
       "9. 'base'\n",
       "\n",
       "\n",
       "\n",
       "3. 1. 'patchwork'\n",
       "2. 'caTools'\n",
       "3. 'ggplot2'\n",
       "4. 'stats'\n",
       "5. 'graphics'\n",
       "6. 'grDevices'\n",
       "7. 'utils'\n",
       "8. 'datasets'\n",
       "9. 'methods'\n",
       "10. 'base'\n",
       "\n",
       "\n",
       "\n",
       "\n",
       "\n"
      ],
      "text/plain": [
       "[[1]]\n",
       "[1] \"ggplot2\"   \"stats\"     \"graphics\"  \"grDevices\" \"utils\"     \"datasets\" \n",
       "[7] \"methods\"   \"base\"     \n",
       "\n",
       "[[2]]\n",
       "[1] \"caTools\"   \"ggplot2\"   \"stats\"     \"graphics\"  \"grDevices\" \"utils\"    \n",
       "[7] \"datasets\"  \"methods\"   \"base\"     \n",
       "\n",
       "[[3]]\n",
       " [1] \"patchwork\" \"caTools\"   \"ggplot2\"   \"stats\"     \"graphics\"  \"grDevices\"\n",
       " [7] \"utils\"     \"datasets\"  \"methods\"   \"base\"     \n"
      ]
     },
     "metadata": {},
     "output_type": "display_data"
    }
   ],
   "source": [
    "libraries <- c('ggplot2', 'caTools', 'patchwork')\n",
    "lapply(libraries, library, character.only = TRUE)"
   ]
  },
  {
   "cell_type": "markdown",
   "id": "000ef10e",
   "metadata": {},
   "source": [
    "## Load & Preview Data"
   ]
  },
  {
   "cell_type": "code",
   "execution_count": 2,
   "id": "f660e73c",
   "metadata": {},
   "outputs": [],
   "source": [
    "# Define data file path\n",
    "salaies_file_path  <- file.path('Data', 'Salary_Data.csv')\n",
    "\n",
    "# Load data\n",
    "salaries <- read.csv(salaies_file_path)"
   ]
  },
  {
   "cell_type": "code",
   "execution_count": 3,
   "id": "b5ba4ed2",
   "metadata": {},
   "outputs": [
    {
     "name": "stdout",
     "output_type": "stream",
     "text": [
      "Shape:"
     ]
    },
    {
     "data": {
      "text/html": [
       "<style>\n",
       ".list-inline {list-style: none; margin:0; padding: 0}\n",
       ".list-inline>li {display: inline-block}\n",
       ".list-inline>li:not(:last-child)::after {content: \"\\00b7\"; padding: 0 .5ex}\n",
       "</style>\n",
       "<ol class=list-inline><li>30</li><li>2</li></ol>\n"
      ],
      "text/latex": [
       "\\begin{enumerate*}\n",
       "\\item 30\n",
       "\\item 2\n",
       "\\end{enumerate*}\n"
      ],
      "text/markdown": [
       "1. 30\n",
       "2. 2\n",
       "\n",
       "\n"
      ],
      "text/plain": [
       "[1] 30  2"
      ]
     },
     "metadata": {},
     "output_type": "display_data"
    },
    {
     "name": "stdout",
     "output_type": "stream",
     "text": [
      "Figure 1.\n",
      "\n",
      "Preview:"
     ]
    },
    {
     "data": {
      "text/html": [
       "<table class=\"dataframe\">\n",
       "<caption>A data.frame: 5 × 2</caption>\n",
       "<thead>\n",
       "\t<tr><th></th><th scope=col>YearsExperience</th><th scope=col>Salary</th></tr>\n",
       "\t<tr><th></th><th scope=col>&lt;dbl&gt;</th><th scope=col>&lt;dbl&gt;</th></tr>\n",
       "</thead>\n",
       "<tbody>\n",
       "\t<tr><th scope=row>1</th><td>1.1</td><td>39343</td></tr>\n",
       "\t<tr><th scope=row>2</th><td>1.3</td><td>46205</td></tr>\n",
       "\t<tr><th scope=row>3</th><td>1.5</td><td>37731</td></tr>\n",
       "\t<tr><th scope=row>4</th><td>2.0</td><td>43525</td></tr>\n",
       "\t<tr><th scope=row>5</th><td>2.2</td><td>39891</td></tr>\n",
       "</tbody>\n",
       "</table>\n"
      ],
      "text/latex": [
       "A data.frame: 5 × 2\n",
       "\\begin{tabular}{r|ll}\n",
       "  & YearsExperience & Salary\\\\\n",
       "  & <dbl> & <dbl>\\\\\n",
       "\\hline\n",
       "\t1 & 1.1 & 39343\\\\\n",
       "\t2 & 1.3 & 46205\\\\\n",
       "\t3 & 1.5 & 37731\\\\\n",
       "\t4 & 2.0 & 43525\\\\\n",
       "\t5 & 2.2 & 39891\\\\\n",
       "\\end{tabular}\n"
      ],
      "text/markdown": [
       "\n",
       "A data.frame: 5 × 2\n",
       "\n",
       "| <!--/--> | YearsExperience &lt;dbl&gt; | Salary &lt;dbl&gt; |\n",
       "|---|---|---|\n",
       "| 1 | 1.1 | 39343 |\n",
       "| 2 | 1.3 | 46205 |\n",
       "| 3 | 1.5 | 37731 |\n",
       "| 4 | 2.0 | 43525 |\n",
       "| 5 | 2.2 | 39891 |\n",
       "\n"
      ],
      "text/plain": [
       "  YearsExperience Salary\n",
       "1 1.1             39343 \n",
       "2 1.3             46205 \n",
       "3 1.5             37731 \n",
       "4 2.0             43525 \n",
       "5 2.2             39891 "
      ]
     },
     "metadata": {},
     "output_type": "display_data"
    },
    {
     "name": "stdout",
     "output_type": "stream",
     "text": [
      "Figure 2.\n",
      "\n",
      "Structure:\n",
      "'data.frame':\t30 obs. of  2 variables:\n",
      " $ YearsExperience: num  1.1 1.3 1.5 2 2.2 2.9 3 3.2 3.2 3.7 ...\n",
      " $ Salary         : num  39343 46205 37731 43525 39891 ...\n",
      "Figure 3.\n",
      "\n",
      "Summary:"
     ]
    },
    {
     "data": {
      "text/plain": [
       " YearsExperience      Salary      \n",
       " Min.   : 1.100   Min.   : 37731  \n",
       " 1st Qu.: 3.200   1st Qu.: 56721  \n",
       " Median : 4.700   Median : 65237  \n",
       " Mean   : 5.313   Mean   : 76003  \n",
       " 3rd Qu.: 7.700   3rd Qu.:100545  \n",
       " Max.   :10.500   Max.   :122391  "
      ]
     },
     "metadata": {},
     "output_type": "display_data"
    },
    {
     "name": "stdout",
     "output_type": "stream",
     "text": [
      "Figure 4."
     ]
    }
   ],
   "source": [
    "cat('Shape:')\n",
    "dim(salaries)\n",
    "cat('Figure 1.')\n",
    "\n",
    "cat('\\n\\nPreview:')\n",
    "head(salaries, 5)\n",
    "cat('Figure 2.')\n",
    "\n",
    "cat('\\n\\nStructure:\\n')\n",
    "str(salaries)\n",
    "cat('Figure 3.')\n",
    "\n",
    "cat('\\n\\nSummary:')\n",
    "summary(salaries)\n",
    "cat('Figure 4.')"
   ]
  },
  {
   "cell_type": "markdown",
   "id": "5afad4c9",
   "metadata": {},
   "source": [
    "## Prepare Data"
   ]
  },
  {
   "cell_type": "code",
   "execution_count": 4,
   "id": "d40bb2a0",
   "metadata": {},
   "outputs": [],
   "source": [
    "# Set seed for consistent spitting results\n",
    "set.seed(123)\n",
    "\n",
    "# Define train-test split function\n",
    "\n",
    "split <- sample.split(Y=salaries$Salary, SplitRatio=2/3)\n",
    "# Split data\n",
    "salaries_train <- subset(salaries, split == TRUE)\n",
    "salaries_test <- subset(salaries, split==FALSE)"
   ]
  },
  {
   "cell_type": "markdown",
   "id": "37522ec0",
   "metadata": {},
   "source": [
    "Note that the simple linear regression package we're using handles feature scaling; therefore, we do not need to manually perform the scaling step."
   ]
  },
  {
   "cell_type": "markdown",
   "id": "f6e8a78b",
   "metadata": {},
   "source": [
    "## Applying Linear Regression"
   ]
  },
  {
   "cell_type": "code",
   "execution_count": 5,
   "id": "95492f4f",
   "metadata": {},
   "outputs": [],
   "source": [
    "# Define regressor\n",
    "regressor  <- lm(formula= Salary ~ YearsExperience\n",
    "                ,data=salaries_train)"
   ]
  },
  {
   "cell_type": "markdown",
   "id": "d393be02",
   "metadata": {},
   "source": [
    "By calling the summary function on our regressor object, we can view information such as the calculated slope and $y$-intercept.\n",
    "\n",
    "For example, examine the Coefficients section.  At the far right, the Pr(|t|) column indicates the $p$-value.  When $p \\leq 0.05$, the it is statistically significant, meaning that the independent and dependent variables are related, or that the independent variables does indeed affect the dependent variable.$^2$  Additionally, just beside this we see three stars.  Possible star counts can range from no stars—indicating no statistical significance—to three stars—indicating high statistical significance.\n",
    "\n",
    "Before even plotting our data, we can already tell that there is a strong linear relationship between years of experience and salary.\n",
    "\n"
   ]
  },
  {
   "cell_type": "code",
   "execution_count": 6,
   "id": "169b06e4",
   "metadata": {
    "scrolled": true
   },
   "outputs": [
    {
     "data": {
      "text/plain": [
       "\n",
       "Call:\n",
       "lm(formula = Salary ~ YearsExperience, data = salaries_train)\n",
       "\n",
       "Residuals:\n",
       "    Min      1Q  Median      3Q     Max \n",
       "-7325.1 -3814.4   427.7  3559.7  8884.6 \n",
       "\n",
       "Coefficients:\n",
       "                Estimate Std. Error t value Pr(>|t|)    \n",
       "(Intercept)        25592       2646   9.672 1.49e-08 ***\n",
       "YearsExperience     9365        421  22.245 1.52e-14 ***\n",
       "---\n",
       "Signif. codes:  0 '***' 0.001 '**' 0.01 '*' 0.05 '.' 0.1 ' ' 1\n",
       "\n",
       "Residual standard error: 5391 on 18 degrees of freedom\n",
       "Multiple R-squared:  0.9649,\tAdjusted R-squared:  0.963 \n",
       "F-statistic: 494.8 on 1 and 18 DF,  p-value: 1.524e-14\n"
      ]
     },
     "metadata": {},
     "output_type": "display_data"
    }
   ],
   "source": [
    "# Summarize regressor\n",
    "summary(regressor)"
   ]
  },
  {
   "cell_type": "markdown",
   "id": "d8c20263",
   "metadata": {},
   "source": [
    "## Predict Salaries"
   ]
  },
  {
   "cell_type": "code",
   "execution_count": 7,
   "id": "3f15df7b",
   "metadata": {},
   "outputs": [
    {
     "data": {
      "text/html": [
       "<style>\n",
       ".dl-inline {width: auto; margin:0; padding: 0}\n",
       ".dl-inline>dt, .dl-inline>dd {float: none; width: auto; display: inline-block}\n",
       ".dl-inline>dt::after {content: \":\\0020\"; padding-right: .5ex}\n",
       ".dl-inline>dt:not(:first-of-type) {padding-left: .5ex}\n",
       "</style><dl class=dl-inline><dt>2</dt><dd>37766.7736315146</dd><dt>4</dt><dd>44322.3308976239</dd><dt>5</dt><dd>46195.3472593695</dd><dt>8</dt><dd>55560.4290680972</dd><dt>11</dt><dd>62115.9863342066</dd><dt>16</dt><dd>71481.0681429342</dd><dt>20</dt><dd>81782.6581325347</dd><dt>21</dt><dd>89274.7235795169</dd><dt>24</dt><dd>102385.838111736</dd><dt>26</dt><dd>109877.903558718</dd></dl>\n"
      ],
      "text/latex": [
       "\\begin{description*}\n",
       "\\item[2] 37766.7736315146\n",
       "\\item[4] 44322.3308976239\n",
       "\\item[5] 46195.3472593695\n",
       "\\item[8] 55560.4290680972\n",
       "\\item[11] 62115.9863342066\n",
       "\\item[16] 71481.0681429342\n",
       "\\item[20] 81782.6581325347\n",
       "\\item[21] 89274.7235795169\n",
       "\\item[24] 102385.838111736\n",
       "\\item[26] 109877.903558718\n",
       "\\end{description*}\n"
      ],
      "text/markdown": [
       "2\n",
       ":   37766.77363151464\n",
       ":   44322.33089762395\n",
       ":   46195.34725936958\n",
       ":   55560.429068097211\n",
       ":   62115.986334206616\n",
       ":   71481.068142934220\n",
       ":   81782.658132534721\n",
       ":   89274.723579516924\n",
       ":   102385.83811173626\n",
       ":   109877.903558718\n",
       "\n"
      ],
      "text/plain": [
       "        2         4         5         8        11        16        20        21 \n",
       " 37766.77  44322.33  46195.35  55560.43  62115.99  71481.07  81782.66  89274.72 \n",
       "       24        26 \n",
       "102385.84 109877.90 "
      ]
     },
     "metadata": {},
     "output_type": "display_data"
    }
   ],
   "source": [
    "# Define training set predictions\n",
    "y_predict <- predict(regressor, newdata=salaries_test)\n",
    "y_predict"
   ]
  },
  {
   "cell_type": "markdown",
   "id": "0fda3f13",
   "metadata": {},
   "source": [
    "## Visualize Results"
   ]
  },
  {
   "cell_type": "code",
   "execution_count": 8,
   "id": "6404e43f",
   "metadata": {},
   "outputs": [],
   "source": [
    "# Predict test label\n",
    "y_train_ression_line <- predict(regressor, newdata=salaries_train)"
   ]
  },
  {
   "cell_type": "markdown",
   "id": "448f985e",
   "metadata": {},
   "source": [
    "When we visualize our data, we will first plot our known salaries from the training set with a scatter plot, then plot our regression line to examine how close it is to the actual points.\n",
    "\n",
    "Both plots use the same input for the $x$-axis—our training years of experience.  The input for the $y$-axis will differ however.  For known values on the scatter plot, we plot the actual points, and for the regression line plot, the regression line itself will be our input.\n",
    "\n",
    "When repeating the above for the testing set, the regression line inputs will be the same.  On both graphs, we are plotting the same regression line that we trained using training data, and then predicted values with on the testing set."
   ]
  },
  {
   "cell_type": "code",
   "execution_count": 9,
   "id": "1c569dbd",
   "metadata": {},
   "outputs": [
    {
     "data": {
      "image/png": "[encoded data removed]",
      "text/plain": [
       "plot without title"
      ]
     },
     "metadata": {
      "image/png": {
       "height": 420,
       "width": 420
      }
     },
     "output_type": "display_data"
    }
   ],
   "source": [
    "# Plot training data\n",
    "ggplot() +\n",
    "  geom_point(aes(x=salaries_train$YearsExperience, y=salaries_train$Salary) # Add training points as scatter plot\n",
    "            ,color='red') +\n",
    "  geom_line(aes(x = salaries_train$YearsExperience, y=y_train_ression_line) # Add regression line\n",
    "           ,color='blue') +\n",
    "  ggtitle('Salary Based On Years Of Experience') +\n",
    "  theme(plot.title = element_text(hjust=0.5)) + # Center title\n",
    "  xlab('Years of Experience') +\n",
    "  ylab('Salary')"
   ]
  },
  {
   "cell_type": "code",
   "execution_count": 10,
   "id": "e29a4945",
   "metadata": {},
   "outputs": [
    {
     "data": {
      "image/png": "[encoded data removed]",
      "text/plain": [
       "plot without title"
      ]
     },
     "metadata": {
      "image/png": {
       "height": 420,
       "width": 420
      }
     },
     "output_type": "display_data"
    }
   ],
   "source": [
    "# Plot testing data\n",
    "ggplot() +\n",
    "  geom_point(aes(x=salaries_test$YearsExperience, y=salaries_test$Salary) # Add testing points as scatter plot\n",
    "            ,color='red') +\n",
    "  geom_line(aes(salaries_train$YearsExperience, y=y_train_ression_line)# Add regression line\n",
    "           ,color='blue') +\n",
    "  ggtitle('Salary Based On Years Of Experience') +\n",
    "  theme(plot.title = element_text(hjust=0.5)) + # Center title\n",
    "  xlab('Years Of Experience') +\n",
    "  ylab('Salary')"
   ]
  },
  {
   "cell_type": "markdown",
   "id": "26692f7f",
   "metadata": {},
   "source": [
    "## Parking Lot Notes\n",
    "\n",
    "Figure out how to plot side by side without making both plots really small."
   ]
  },
  {
   "cell_type": "code",
   "execution_count": 11,
   "id": "d744d7d4",
   "metadata": {},
   "outputs": [
    {
     "data": {
      "image/png": "[encoded data removed]",
      "text/plain": [
       "plot without title"
      ]
     },
     "metadata": {
      "image/png": {
       "height": 420,
       "width": 420
      }
     },
     "output_type": "display_data"
    }
   ],
   "source": [
    "# Plot training data\n",
    "plot_training <- ggplot() +\n",
    "  geom_point(aes(x=salaries_train$YearsExperience, y=salaries_train$Salary) # Add training points as scatter plot\n",
    "            ,color='red') +\n",
    "  geom_line(aes(x = salaries_train$YearsExperience, y=y_train_ression_line) # Add regression line\n",
    "           ,color='blue') +\n",
    "  ggtitle('Salary Based On Years Of Experience') +\n",
    "  theme(plot.title = element_text(hjust=0.5)) + # Center title\n",
    "  xlab('Years of Experience') +\n",
    "  ylab('Salary')\n",
    "\n",
    "# Plot testing data\n",
    "plot_testing <- ggplot() +\n",
    "  geom_point(aes(x=salaries_test$YearsExperience, y=salaries_test$Salary) # Add testing points as scatter plot\n",
    "            ,color='red') +\n",
    "  geom_line(aes(salaries_train$YearsExperience, y=y_train_ression_line)# Add regression line\n",
    "           ,color='blue') +\n",
    "  ggtitle('Salary Based On Years Of Experience') +\n",
    "  theme(plot.title = element_text(hjust=0.5)) + # Center title\n",
    "  xlab('Years Of Experience') +\n",
    "  ylab('Salary')\n",
    "\n",
    "# Plot side-by-side using the patchwork library\n",
    "plot_training + plot_testing"
   ]
  }
 ],
 "metadata": {
  "kernelspec": {
   "display_name": "R",
   "language": "R",
   "name": "ir"
  },
  "language_info": {
   "codemirror_mode": "r",
   "file_extension": ".r",
   "mimetype": "text/x-r-source",
   "name": "R",
   "pygments_lexer": "r",
   "version": "4.2.0"
  }
 },
 "nbformat": 4,
 "nbformat_minor": 5
}

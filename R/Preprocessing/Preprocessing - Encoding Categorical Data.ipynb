{
 "cells": [
  {
   "cell_type": "markdown",
   "metadata": {},
   "source": [
    "# Machine Learning Preprocessing: Encoding Categorical Data\n",
    "\n",
    "In this notebook, we explore how to encode categorical data.  Machine Learning algorithms often require numerical data, and encoding \"<em>small, medium, large</em>\" is an important step in converting data into a format that algorithms can understand.\n",
    "\n",
    "Sources:\n",
    "1. <a href='https://www.udemy.com/course/machinelearning/'>Machine Learning A-Z™: Hands-On Python & R In Data Science</a>"
   ]
  },
  {
   "cell_type": "markdown",
   "metadata": {},
   "source": [
    "## Load & Preview Data"
   ]
  },
  {
   "cell_type": "code",
   "execution_count": 1,
   "metadata": {},
   "outputs": [],
   "source": [
    "# Define file path to data\n",
    "purchases_file_path  <- file.path('Data','Data.csv')\n",
    "\n",
    "# Load data\n",
    "purchases  <- read.csv(purchases_file_path)"
   ]
  },
  {
   "cell_type": "code",
   "execution_count": 2,
   "metadata": {},
   "outputs": [
    {
     "name": "stdout",
     "output_type": "stream",
     "text": [
      "Shape:"
     ]
    },
    {
     "data": {
      "text/html": [
       "<ol class=list-inline>\n",
       "\t<li>10</li>\n",
       "\t<li>4</li>\n",
       "</ol>\n"
      ],
      "text/latex": [
       "\\begin{enumerate*}\n",
       "\\item 10\n",
       "\\item 4\n",
       "\\end{enumerate*}\n"
      ],
      "text/markdown": [
       "1. 10\n",
       "2. 4\n",
       "\n",
       "\n"
      ],
      "text/plain": [
       "[1] 10  4"
      ]
     },
     "metadata": {},
     "output_type": "display_data"
    },
    {
     "name": "stdout",
     "output_type": "stream",
     "text": [
      "Figure 1.\n",
      "\n",
      "Preview:"
     ]
    },
    {
     "data": {
      "text/html": [
       "<table>\n",
       "<thead><tr><th scope=col>Country</th><th scope=col>Age</th><th scope=col>Salary</th><th scope=col>Purchased</th></tr></thead>\n",
       "<tbody>\n",
       "\t<tr><td>France </td><td>44     </td><td>72000  </td><td>No     </td></tr>\n",
       "\t<tr><td>Spain  </td><td>27     </td><td>48000  </td><td>Yes    </td></tr>\n",
       "\t<tr><td>Germany</td><td>30     </td><td>54000  </td><td>No     </td></tr>\n",
       "\t<tr><td>Spain  </td><td>38     </td><td>61000  </td><td>No     </td></tr>\n",
       "\t<tr><td>Germany</td><td>40     </td><td>   NA  </td><td>Yes    </td></tr>\n",
       "</tbody>\n",
       "</table>\n"
      ],
      "text/latex": [
       "\\begin{tabular}{r|llll}\n",
       " Country & Age & Salary & Purchased\\\\\n",
       "\\hline\n",
       "\t France  & 44      & 72000   & No     \\\\\n",
       "\t Spain   & 27      & 48000   & Yes    \\\\\n",
       "\t Germany & 30      & 54000   & No     \\\\\n",
       "\t Spain   & 38      & 61000   & No     \\\\\n",
       "\t Germany & 40      &    NA   & Yes    \\\\\n",
       "\\end{tabular}\n"
      ],
      "text/markdown": [
       "\n",
       "| Country | Age | Salary | Purchased |\n",
       "|---|---|---|---|\n",
       "| France  | 44      | 72000   | No      |\n",
       "| Spain   | 27      | 48000   | Yes     |\n",
       "| Germany | 30      | 54000   | No      |\n",
       "| Spain   | 38      | 61000   | No      |\n",
       "| Germany | 40      |    NA   | Yes     |\n",
       "\n"
      ],
      "text/plain": [
       "  Country Age Salary Purchased\n",
       "1 France  44  72000  No       \n",
       "2 Spain   27  48000  Yes      \n",
       "3 Germany 30  54000  No       \n",
       "4 Spain   38  61000  No       \n",
       "5 Germany 40     NA  Yes      "
      ]
     },
     "metadata": {},
     "output_type": "display_data"
    },
    {
     "name": "stdout",
     "output_type": "stream",
     "text": [
      "Figure 2.\n",
      "\n",
      "Structure:\n",
      "'data.frame':\t10 obs. of  4 variables:\n",
      " $ Country  : Factor w/ 3 levels \"France\",\"Germany\",..: 1 3 2 3 2 1 3 1 2 1\n",
      " $ Age      : int  44 27 30 38 40 35 NA 48 50 37\n",
      " $ Salary   : int  72000 48000 54000 61000 NA 58000 52000 79000 83000 67000\n",
      " $ Purchased: Factor w/ 2 levels \"No\",\"Yes\": 1 2 1 1 2 2 1 2 1 2\n",
      "Figure 3.\n",
      "\n",
      "Summary:"
     ]
    },
    {
     "data": {
      "text/plain": [
       "    Country       Age            Salary      Purchased\n",
       " France :4   Min.   :27.00   Min.   :48000   No :5    \n",
       " Germany:3   1st Qu.:35.00   1st Qu.:54000   Yes:5    \n",
       " Spain  :3   Median :38.00   Median :61000            \n",
       "             Mean   :38.78   Mean   :63778            \n",
       "             3rd Qu.:44.00   3rd Qu.:72000            \n",
       "             Max.   :50.00   Max.   :83000            \n",
       "             NA's   :1       NA's   :1                "
      ]
     },
     "metadata": {},
     "output_type": "display_data"
    },
    {
     "name": "stdout",
     "output_type": "stream",
     "text": [
      "Figure 4.\n",
      "\n",
      "Nulls:"
     ]
    },
    {
     "data": {
      "text/html": [
       "<table>\n",
       "<thead><tr><th></th><th scope=col>colSums.is.na.purchases..</th></tr></thead>\n",
       "<tbody>\n",
       "\t<tr><th scope=row>Country</th><td>0</td></tr>\n",
       "\t<tr><th scope=row>Age</th><td>1</td></tr>\n",
       "\t<tr><th scope=row>Salary</th><td>1</td></tr>\n",
       "\t<tr><th scope=row>Purchased</th><td>0</td></tr>\n",
       "</tbody>\n",
       "</table>\n"
      ],
      "text/latex": [
       "\\begin{tabular}{r|l}\n",
       "  & colSums.is.na.purchases..\\\\\n",
       "\\hline\n",
       "\tCountry & 0\\\\\n",
       "\tAge & 1\\\\\n",
       "\tSalary & 1\\\\\n",
       "\tPurchased & 0\\\\\n",
       "\\end{tabular}\n"
      ],
      "text/markdown": [
       "\n",
       "| <!--/--> | colSums.is.na.purchases.. |\n",
       "|---|---|\n",
       "| Country | 0 |\n",
       "| Age | 1 |\n",
       "| Salary | 1 |\n",
       "| Purchased | 0 |\n",
       "\n"
      ],
      "text/plain": [
       "          colSums.is.na.purchases..\n",
       "Country   0                        \n",
       "Age       1                        \n",
       "Salary    1                        \n",
       "Purchased 0                        "
      ]
     },
     "metadata": {},
     "output_type": "display_data"
    },
    {
     "name": "stdout",
     "output_type": "stream",
     "text": [
      "Figure 5."
     ]
    }
   ],
   "source": [
    "cat('Shape:')\n",
    "dim(purchases)\n",
    "cat('Figure 1.')\n",
    "\n",
    "cat('\\n\\nPreview:')\n",
    "head(purchases, 5)\n",
    "cat('Figure 2.')\n",
    "\n",
    "cat('\\n\\nStructure:\\n')\n",
    "str(purchases)\n",
    "cat('Figure 3.')\n",
    "\n",
    "cat('\\n\\nSummary:')\n",
    "summary(purchases)\n",
    "cat('Figure 4.')\n",
    "\n",
    "cat('\\n\\nNulls:')\n",
    "data.frame(colSums(is.na(purchases)))\n",
    "cat('Figure 5.')"
   ]
  },
  {
   "cell_type": "markdown",
   "metadata": {},
   "source": [
    "## Address Missing Values"
   ]
  },
  {
   "cell_type": "code",
   "execution_count": 3,
   "metadata": {},
   "outputs": [],
   "source": [
    "# Replace salary values with averages if they are null\n",
    "purchases$Salary <- ifelse(is.na(purchases$Salary) # If the salary is null\n",
    "                          ,ave(purchases$Salary, FUN = function(x) mean(x, na.rm = TRUE)) # then return the mean salary\n",
    "                          ,purchases$Salary) # else return the current record's salary\n",
    "\n",
    "# Replace age values with averages if they are null\n",
    "purchases$Age <- ifelse(is.na(purchases$Age) # If the age is null\n",
    "                          ,ave(purchases$Age, FUN = function(x) mean(x, na.rm = TRUE)) # then return the mean age\n",
    "                          ,purchases$Age) # else return the current record's age                        "
   ]
  },
  {
   "cell_type": "markdown",
   "metadata": {},
   "source": [
    "## Encoding Categorical Data\n",
    "\n",
    "Let's start by preview our data again."
   ]
  },
  {
   "cell_type": "code",
   "execution_count": 4,
   "metadata": {},
   "outputs": [
    {
     "data": {
      "text/html": [
       "<table>\n",
       "<thead><tr><th scope=col>Country</th><th scope=col>Age</th><th scope=col>Salary</th><th scope=col>Purchased</th></tr></thead>\n",
       "<tbody>\n",
       "\t<tr><td>France  </td><td>44      </td><td>72000.00</td><td>No      </td></tr>\n",
       "\t<tr><td>Spain   </td><td>27      </td><td>48000.00</td><td>Yes     </td></tr>\n",
       "\t<tr><td>Germany </td><td>30      </td><td>54000.00</td><td>No      </td></tr>\n",
       "\t<tr><td>Spain   </td><td>38      </td><td>61000.00</td><td>No      </td></tr>\n",
       "\t<tr><td>Germany </td><td>40      </td><td>63777.78</td><td>Yes     </td></tr>\n",
       "</tbody>\n",
       "</table>\n"
      ],
      "text/latex": [
       "\\begin{tabular}{r|llll}\n",
       " Country & Age & Salary & Purchased\\\\\n",
       "\\hline\n",
       "\t France   & 44       & 72000.00 & No      \\\\\n",
       "\t Spain    & 27       & 48000.00 & Yes     \\\\\n",
       "\t Germany  & 30       & 54000.00 & No      \\\\\n",
       "\t Spain    & 38       & 61000.00 & No      \\\\\n",
       "\t Germany  & 40       & 63777.78 & Yes     \\\\\n",
       "\\end{tabular}\n"
      ],
      "text/markdown": [
       "\n",
       "| Country | Age | Salary | Purchased |\n",
       "|---|---|---|---|\n",
       "| France   | 44       | 72000.00 | No       |\n",
       "| Spain    | 27       | 48000.00 | Yes      |\n",
       "| Germany  | 30       | 54000.00 | No       |\n",
       "| Spain    | 38       | 61000.00 | No       |\n",
       "| Germany  | 40       | 63777.78 | Yes      |\n",
       "\n"
      ],
      "text/plain": [
       "  Country Age Salary   Purchased\n",
       "1 France  44  72000.00 No       \n",
       "2 Spain   27  48000.00 Yes      \n",
       "3 Germany 30  54000.00 No       \n",
       "4 Spain   38  61000.00 No       \n",
       "5 Germany 40  63777.78 Yes      "
      ]
     },
     "metadata": {},
     "output_type": "display_data"
    }
   ],
   "source": [
    "head(purchases, 5)"
   ]
  },
  {
   "cell_type": "markdown",
   "metadata": {},
   "source": [
    "One of our features is the Country, with the options France, Spain, and Germany.  Under the hood, many machine learning algorithms will not understand these strings, and will instead require numbers.  One idea therefore may be to simply convert \"France\" to the number 1, \"Spain\" to 2, and \"Germany\" to 3.  In certain models however, this could confuse the algorithm into believing that there is a numerical ranking to the countries, that is, that Germany, being 3, is the \"best,\" and France, being 1, is the \"worst,\" with Spain in the middle.  In reality there is no ranking to these countries; so this type of encoding will bias our machine learning model.\n",
    "\n",
    "An alternative is to use \"one-hot encoding,\" which creates binary vectors (True or False vectors) for each category, or in other words, turns a column with $n$ categories into $n$ distinct columns.  In our case, our Country column has 3 categories, and one-hot encoding will transform this into 3 distinct columns.  The result will essentially be an \"Is France?\" column, an \"Is Spain?\" column, and an \"Is Germany?\" column; we will then populate one of these columns with 1, or \"True,\" and the others with 0, or \"False.\"  France will receive the vector [1,0,0]; Germany will receive the vector [0,1,0], and Spain will receive the vector [0,0,1]; note that one-hot encoding will encode alphabetically by defauly, and not the order that each category appears in.\n",
    "\n",
    "Next we will use the factor() function.  This function takes 3 arguments:\n",
    "<ul>\n",
    "    <li>The data to transform into factors</li>\n",
    "    <li>Levels, or the name of each category</li>\n",
    "    <li>Which number to give to each category</li>\n",
    "</ul>"
   ]
  },
  {
   "cell_type": "code",
   "execution_count": 5,
   "metadata": {},
   "outputs": [
    {
     "data": {
      "text/html": [
       "<ol class=list-inline>\n",
       "\t<li>France</li>\n",
       "\t<li>Spain</li>\n",
       "\t<li>Germany</li>\n",
       "\t<li>Spain</li>\n",
       "\t<li>Germany</li>\n",
       "\t<li>France</li>\n",
       "\t<li>Spain</li>\n",
       "\t<li>France</li>\n",
       "\t<li>Germany</li>\n",
       "\t<li>France</li>\n",
       "</ol>\n",
       "\n",
       "<details>\n",
       "\t<summary style=display:list-item;cursor:pointer>\n",
       "\t\t<strong>Levels</strong>:\n",
       "\t</summary>\n",
       "\t<ol class=list-inline>\n",
       "\t\t<li>'France'</li>\n",
       "\t\t<li>'Germany'</li>\n",
       "\t\t<li>'Spain'</li>\n",
       "\t</ol>\n",
       "</details>"
      ],
      "text/latex": [
       "\\begin{enumerate*}\n",
       "\\item France\n",
       "\\item Spain\n",
       "\\item Germany\n",
       "\\item Spain\n",
       "\\item Germany\n",
       "\\item France\n",
       "\\item Spain\n",
       "\\item France\n",
       "\\item Germany\n",
       "\\item France\n",
       "\\end{enumerate*}\n",
       "\n",
       "\\emph{Levels}: \\begin{enumerate*}\n",
       "\\item 'France'\n",
       "\\item 'Germany'\n",
       "\\item 'Spain'\n",
       "\\end{enumerate*}\n"
      ],
      "text/markdown": [
       "1. France\n",
       "2. Spain\n",
       "3. Germany\n",
       "4. Spain\n",
       "5. Germany\n",
       "6. France\n",
       "7. Spain\n",
       "8. France\n",
       "9. Germany\n",
       "10. France\n",
       "\n",
       "\n",
       "\n",
       "**Levels**: 1. 'France'\n",
       "2. 'Germany'\n",
       "3. 'Spain'\n",
       "\n",
       "\n"
      ],
      "text/plain": [
       " [1] France  Spain   Germany Spain   Germany France  Spain   France  Germany\n",
       "[10] France \n",
       "Levels: France Germany Spain"
      ]
     },
     "metadata": {},
     "output_type": "display_data"
    },
    {
     "data": {
      "text/html": [
       "<ol class=list-inline>\n",
       "\t<li>No</li>\n",
       "\t<li>Yes</li>\n",
       "\t<li>No</li>\n",
       "\t<li>No</li>\n",
       "\t<li>Yes</li>\n",
       "\t<li>Yes</li>\n",
       "\t<li>No</li>\n",
       "\t<li>Yes</li>\n",
       "\t<li>No</li>\n",
       "\t<li>Yes</li>\n",
       "</ol>\n",
       "\n",
       "<details>\n",
       "\t<summary style=display:list-item;cursor:pointer>\n",
       "\t\t<strong>Levels</strong>:\n",
       "\t</summary>\n",
       "\t<ol class=list-inline>\n",
       "\t\t<li>'No'</li>\n",
       "\t\t<li>'Yes'</li>\n",
       "\t</ol>\n",
       "</details>"
      ],
      "text/latex": [
       "\\begin{enumerate*}\n",
       "\\item No\n",
       "\\item Yes\n",
       "\\item No\n",
       "\\item No\n",
       "\\item Yes\n",
       "\\item Yes\n",
       "\\item No\n",
       "\\item Yes\n",
       "\\item No\n",
       "\\item Yes\n",
       "\\end{enumerate*}\n",
       "\n",
       "\\emph{Levels}: \\begin{enumerate*}\n",
       "\\item 'No'\n",
       "\\item 'Yes'\n",
       "\\end{enumerate*}\n"
      ],
      "text/markdown": [
       "1. No\n",
       "2. Yes\n",
       "3. No\n",
       "4. No\n",
       "5. Yes\n",
       "6. Yes\n",
       "7. No\n",
       "8. Yes\n",
       "9. No\n",
       "10. Yes\n",
       "\n",
       "\n",
       "\n",
       "**Levels**: 1. 'No'\n",
       "2. 'Yes'\n",
       "\n",
       "\n"
      ],
      "text/plain": [
       " [1] No  Yes No  No  Yes Yes No  Yes No  Yes\n",
       "Levels: No Yes"
      ]
     },
     "metadata": {},
     "output_type": "display_data"
    }
   ],
   "source": [
    "purchases$Country\n",
    "purchases$Purchased"
   ]
  },
  {
   "cell_type": "code",
   "execution_count": 6,
   "metadata": {},
   "outputs": [
    {
     "name": "stderr",
     "output_type": "stream",
     "text": [
      "Warning message:\n",
      "\"package 'mltools' was built under R version 3.6.3\"Warning message:\n",
      "\"package 'data.table' was built under R version 3.6.3\""
     ]
    }
   ],
   "source": [
    "library(mltools)\n",
    "library(data.table)"
   ]
  },
  {
   "cell_type": "code",
   "execution_count": 6,
   "metadata": {},
   "outputs": [
    {
     "data": {
      "text/html": [
       "<table>\n",
       "<thead><tr><th scope=col>Country</th><th scope=col>Age</th><th scope=col>Salary</th><th scope=col>Purchased</th></tr></thead>\n",
       "<tbody>\n",
       "\t<tr><td>France  </td><td>44.00000</td><td>72000.00</td><td>No      </td></tr>\n",
       "\t<tr><td>Spain   </td><td>27.00000</td><td>48000.00</td><td>Yes     </td></tr>\n",
       "\t<tr><td>Germany </td><td>30.00000</td><td>54000.00</td><td>No      </td></tr>\n",
       "\t<tr><td>Spain   </td><td>38.00000</td><td>61000.00</td><td>No      </td></tr>\n",
       "\t<tr><td>Germany </td><td>40.00000</td><td>63777.78</td><td>Yes     </td></tr>\n",
       "\t<tr><td>France  </td><td>35.00000</td><td>58000.00</td><td>Yes     </td></tr>\n",
       "\t<tr><td>Spain   </td><td>38.77778</td><td>52000.00</td><td>No      </td></tr>\n",
       "\t<tr><td>France  </td><td>48.00000</td><td>79000.00</td><td>Yes     </td></tr>\n",
       "\t<tr><td>Germany </td><td>50.00000</td><td>83000.00</td><td>No      </td></tr>\n",
       "\t<tr><td>France  </td><td>37.00000</td><td>67000.00</td><td>Yes     </td></tr>\n",
       "</tbody>\n",
       "</table>\n"
      ],
      "text/latex": [
       "\\begin{tabular}{r|llll}\n",
       " Country & Age & Salary & Purchased\\\\\n",
       "\\hline\n",
       "\t France   & 44.00000 & 72000.00 & No      \\\\\n",
       "\t Spain    & 27.00000 & 48000.00 & Yes     \\\\\n",
       "\t Germany  & 30.00000 & 54000.00 & No      \\\\\n",
       "\t Spain    & 38.00000 & 61000.00 & No      \\\\\n",
       "\t Germany  & 40.00000 & 63777.78 & Yes     \\\\\n",
       "\t France   & 35.00000 & 58000.00 & Yes     \\\\\n",
       "\t Spain    & 38.77778 & 52000.00 & No      \\\\\n",
       "\t France   & 48.00000 & 79000.00 & Yes     \\\\\n",
       "\t Germany  & 50.00000 & 83000.00 & No      \\\\\n",
       "\t France   & 37.00000 & 67000.00 & Yes     \\\\\n",
       "\\end{tabular}\n"
      ],
      "text/markdown": [
       "\n",
       "| Country | Age | Salary | Purchased |\n",
       "|---|---|---|---|\n",
       "| France   | 44.00000 | 72000.00 | No       |\n",
       "| Spain    | 27.00000 | 48000.00 | Yes      |\n",
       "| Germany  | 30.00000 | 54000.00 | No       |\n",
       "| Spain    | 38.00000 | 61000.00 | No       |\n",
       "| Germany  | 40.00000 | 63777.78 | Yes      |\n",
       "| France   | 35.00000 | 58000.00 | Yes      |\n",
       "| Spain    | 38.77778 | 52000.00 | No       |\n",
       "| France   | 48.00000 | 79000.00 | Yes      |\n",
       "| Germany  | 50.00000 | 83000.00 | No       |\n",
       "| France   | 37.00000 | 67000.00 | Yes      |\n",
       "\n"
      ],
      "text/plain": [
       "   Country Age      Salary   Purchased\n",
       "1  France  44.00000 72000.00 No       \n",
       "2  Spain   27.00000 48000.00 Yes      \n",
       "3  Germany 30.00000 54000.00 No       \n",
       "4  Spain   38.00000 61000.00 No       \n",
       "5  Germany 40.00000 63777.78 Yes      \n",
       "6  France  35.00000 58000.00 Yes      \n",
       "7  Spain   38.77778 52000.00 No       \n",
       "8  France  48.00000 79000.00 Yes      \n",
       "9  Germany 50.00000 83000.00 No       \n",
       "10 France  37.00000 67000.00 Yes      "
      ]
     },
     "metadata": {},
     "output_type": "display_data"
    }
   ],
   "source": [
    "purchases"
   ]
  },
  {
   "cell_type": "code",
   "execution_count": null,
   "metadata": {},
   "outputs": [],
   "source": [
    "one_hot( as.dataframe(purchases$Country))"
   ]
  },
  {
   "cell_type": "code",
   "execution_count": null,
   "metadata": {},
   "outputs": [],
   "source": [
    "purchases$Country <- as.factor(purchases$Country)"
   ]
  },
  {
   "cell_type": "code",
   "execution_count": 18,
   "metadata": {
    "scrolled": true
   },
   "outputs": [
    {
     "ename": "ERROR",
     "evalue": "Error in `[.data.frame`(purchases, Country): object 'Country' not found\n",
     "output_type": "error",
     "traceback": [
      "Error in `[.data.frame`(purchases, Country): object 'Country' not found\nTraceback:\n",
      "1. one_hot(as.data.table(purchases), cols = purchases[Country])",
      "2. purchases[Country]",
      "3. `[.data.frame`(purchases, Country)"
     ]
    }
   ],
   "source": [
    "one_hot(as.data.frame(purchases), cols=purchases$Country)"
   ]
  },
  {
   "cell_type": "code",
   "execution_count": null,
   "metadata": {},
   "outputs": [],
   "source": [
    "purchases$Country <- one_hot(as.data.table(purchases$Country))"
   ]
  },
  {
   "cell_type": "code",
   "execution_count": null,
   "metadata": {},
   "outputs": [],
   "source": [
    "purchases$Country"
   ]
  },
  {
   "cell_type": "code",
   "execution_count": 13,
   "metadata": {},
   "outputs": [
    {
     "data": {
      "text/html": [
       "<table>\n",
       "<thead><tr><th scope=col>Country</th><th scope=col>Age</th><th scope=col>Salary</th><th scope=col>Purchased</th></tr></thead>\n",
       "<tbody>\n",
       "\t<tr><td>France  </td><td>44.00000</td><td>72000.00</td><td>No      </td></tr>\n",
       "\t<tr><td>Spain   </td><td>27.00000</td><td>48000.00</td><td>Yes     </td></tr>\n",
       "\t<tr><td>Germany </td><td>30.00000</td><td>54000.00</td><td>No      </td></tr>\n",
       "\t<tr><td>Spain   </td><td>38.00000</td><td>61000.00</td><td>No      </td></tr>\n",
       "\t<tr><td>Germany </td><td>40.00000</td><td>63777.78</td><td>Yes     </td></tr>\n",
       "\t<tr><td>France  </td><td>35.00000</td><td>58000.00</td><td>Yes     </td></tr>\n",
       "\t<tr><td>Spain   </td><td>38.77778</td><td>52000.00</td><td>No      </td></tr>\n",
       "\t<tr><td>France  </td><td>48.00000</td><td>79000.00</td><td>Yes     </td></tr>\n",
       "\t<tr><td>Germany </td><td>50.00000</td><td>83000.00</td><td>No      </td></tr>\n",
       "\t<tr><td>France  </td><td>37.00000</td><td>67000.00</td><td>Yes     </td></tr>\n",
       "</tbody>\n",
       "</table>\n"
      ],
      "text/latex": [
       "\\begin{tabular}{r|llll}\n",
       " Country & Age & Salary & Purchased\\\\\n",
       "\\hline\n",
       "\t France   & 44.00000 & 72000.00 & No      \\\\\n",
       "\t Spain    & 27.00000 & 48000.00 & Yes     \\\\\n",
       "\t Germany  & 30.00000 & 54000.00 & No      \\\\\n",
       "\t Spain    & 38.00000 & 61000.00 & No      \\\\\n",
       "\t Germany  & 40.00000 & 63777.78 & Yes     \\\\\n",
       "\t France   & 35.00000 & 58000.00 & Yes     \\\\\n",
       "\t Spain    & 38.77778 & 52000.00 & No      \\\\\n",
       "\t France   & 48.00000 & 79000.00 & Yes     \\\\\n",
       "\t Germany  & 50.00000 & 83000.00 & No      \\\\\n",
       "\t France   & 37.00000 & 67000.00 & Yes     \\\\\n",
       "\\end{tabular}\n"
      ],
      "text/markdown": [
       "\n",
       "| Country | Age | Salary | Purchased |\n",
       "|---|---|---|---|\n",
       "| France   | 44.00000 | 72000.00 | No       |\n",
       "| Spain    | 27.00000 | 48000.00 | Yes      |\n",
       "| Germany  | 30.00000 | 54000.00 | No       |\n",
       "| Spain    | 38.00000 | 61000.00 | No       |\n",
       "| Germany  | 40.00000 | 63777.78 | Yes      |\n",
       "| France   | 35.00000 | 58000.00 | Yes      |\n",
       "| Spain    | 38.77778 | 52000.00 | No       |\n",
       "| France   | 48.00000 | 79000.00 | Yes      |\n",
       "| Germany  | 50.00000 | 83000.00 | No       |\n",
       "| France   | 37.00000 | 67000.00 | Yes      |\n",
       "\n"
      ],
      "text/plain": [
       "   Country Age      Salary   Purchased\n",
       "1  France  44.00000 72000.00 No       \n",
       "2  Spain   27.00000 48000.00 Yes      \n",
       "3  Germany 30.00000 54000.00 No       \n",
       "4  Spain   38.00000 61000.00 No       \n",
       "5  Germany 40.00000 63777.78 Yes      \n",
       "6  France  35.00000 58000.00 Yes      \n",
       "7  Spain   38.77778 52000.00 No       \n",
       "8  France  48.00000 79000.00 Yes      \n",
       "9  Germany 50.00000 83000.00 No       \n",
       "10 France  37.00000 67000.00 Yes      "
      ]
     },
     "metadata": {},
     "output_type": "display_data"
    }
   ],
   "source": [
    "purchases"
   ]
  },
  {
   "cell_type": "code",
   "execution_count": 28,
   "metadata": {},
   "outputs": [
    {
     "name": "stderr",
     "output_type": "stream",
     "text": [
      "Warning message:\n",
      "\"dependencies 'fastICA', 'randomForest' are not available\"also installing the dependencies 'Rcpp', 'glue', 'R.methodsS3', 'R.oo', 'R.utils', 'bitops', 'httpuv', 'xtable', 'fontawesome', 'sourcetools', 'later', 'promises', 'commonmark', 'cachem', 'cli', 'R.cache', 'caTools', 'TH.data', 'profileModel', 'boot', 'minqa', 'nloptr', 'RcppEigen', 'lazyeval', 'plotrix', 'shiny', 'miniUI', 'styler', 'classInt', 'labelled', 'gplots', 'libcoin', 'matrixStats', 'multcomp', 'htmltools', 'ipred', 'brglm', 'gtools', 'lme4', 'qvcalc', 'rex', 'Formula', 'plotmo', 'TeachingDemos', 'combinat', 'questionr', 'xfun', 'ROCR', 'cluster', 'mvtnorm', 'modeltools', 'strucchange', 'coin', 'sandwich', 'bslib', 'tinytex', 'ISwR', 'corpcor', 'ROSE', 'recipes', 'BradleyTerry2', 'covr', 'Cubist', 'earth', 'ellipse', 'gam', 'kernlab', 'klaR', 'knitr', 'mda', 'mlbench', 'MLmetrics', 'pamr', 'party', 'pls', 'RANN', 'rmarkdown', 'spls', 'subselect', 'superpc', 'themis'\n",
      "\n"
     ]
    },
    {
     "name": "stdout",
     "output_type": "stream",
     "text": [
      "\n",
      "  There are binary versions available but the source versions are later:\n",
      "               binary    source needs_compilation\n",
      "Rcpp            1.0.6   1.0.8.3              TRUE\n",
      "glue            1.4.2     1.6.2              TRUE\n",
      "R.utils        2.10.1    2.11.0             FALSE\n",
      "httpuv          1.6.1     1.6.5              TRUE\n",
      "fontawesome     0.2.1     0.2.2             FALSE\n",
      "later           1.2.0     1.3.0              TRUE\n",
      "commonmark        1.7     1.8.0              TRUE\n",
      "cachem          1.0.4     1.0.6              TRUE\n",
      "cli             2.5.0     3.3.0              TRUE\n",
      "TH.data        1.0-10     1.1-1             FALSE\n",
      "nloptr        1.2.2.2     2.0.3              TRUE\n",
      "RcppEigen   0.3.3.9.1 0.3.3.9.2              TRUE\n",
      "plotrix         3.8-1     3.8-2             FALSE\n",
      "shiny           1.6.0     1.7.1             FALSE\n",
      "styler          1.4.1     1.7.0             FALSE\n",
      "labelled        2.8.0     2.9.1             FALSE\n",
      "gplots          3.1.1     3.1.3             FALSE\n",
      "libcoin         1.0-8     1.0-9              TRUE\n",
      "matrixStats    0.58.0    0.62.0              TRUE\n",
      "multcomp       1.4-17    1.4-19             FALSE\n",
      "htmltools     0.5.1.1     0.5.2              TRUE\n",
      "ipred          0.9-11    0.9-13              TRUE\n",
      "gtools          3.8.2   3.9.2.1              TRUE\n",
      "lme4           1.1-26    1.1-29              TRUE\n",
      "rex             1.2.0     1.2.1             FALSE\n",
      "plotmo          3.6.0     3.6.2             FALSE\n",
      "questionr       0.7.3     0.7.7             FALSE\n",
      "xfun             0.22      0.31              TRUE\n",
      "cluster         2.1.2     2.1.3              TRUE\n",
      "mvtnorm         1.1-1     1.1-3              TRUE\n",
      "coin            1.4-1     1.4-2              TRUE\n",
      "sandwich        3.0-0     3.0-1             FALSE\n",
      "bslib           0.2.4     0.3.1             FALSE\n",
      "tinytex          0.31      0.39             FALSE\n",
      "corpcor         1.6.9    1.6.10             FALSE\n",
      "ROSE            0.0-3     0.0-4             FALSE\n",
      "recipes        0.1.16     0.2.0             FALSE\n",
      "Cubist         0.2.40     0.4.0              TRUE\n",
      "earth           5.3.0     5.3.1              TRUE\n",
      "ellipse         0.4.2     0.4.3             FALSE\n",
      "gam            1.16.1    1.20.1              TRUE\n",
      "kernlab        0.9-29    0.9-30              TRUE\n",
      "klaR           0.6-15     1.7-0             FALSE\n",
      "knitr            1.33      1.39             FALSE\n",
      "mda             0.5-2     0.5-3              TRUE\n",
      "party           1.3-7    1.3-10              TRUE\n",
      "pls             2.7-3     2.8-0             FALSE\n",
      "rmarkdown         2.8      2.14             FALSE\n",
      "themis          0.1.3     0.2.2             FALSE\n",
      "caret          6.0-86    6.0-92              TRUE\n",
      "\n",
      "  Binaries will be installed\n",
      "package 'Rcpp' successfully unpacked and MD5 sums checked\n"
     ]
    },
    {
     "name": "stderr",
     "output_type": "stream",
     "text": [
      "Warning message:\n",
      "\"cannot remove prior installation of package 'Rcpp'\"Warning message in file.copy(savedcopy, lib, recursive = TRUE):\n",
      "\"problem copying C:\\Users\\tyler\\Anaconda3\\Lib\\R\\library\\00LOCK\\Rcpp\\libs\\x64\\Rcpp.dll to C:\\Users\\tyler\\Anaconda3\\Lib\\R\\library\\Rcpp\\libs\\x64\\Rcpp.dll: Permission denied\"Warning message:\n",
      "\"restored 'Rcpp'\""
     ]
    },
    {
     "name": "stdout",
     "output_type": "stream",
     "text": [
      "package 'glue' successfully unpacked and MD5 sums checked\n"
     ]
    },
    {
     "name": "stderr",
     "output_type": "stream",
     "text": [
      "Warning message:\n",
      "\"cannot remove prior installation of package 'glue'\"Warning message in file.copy(savedcopy, lib, recursive = TRUE):\n",
      "\"problem copying C:\\Users\\tyler\\Anaconda3\\Lib\\R\\library\\00LOCK\\glue\\libs\\x64\\glue.dll to C:\\Users\\tyler\\Anaconda3\\Lib\\R\\library\\glue\\libs\\x64\\glue.dll: Permission denied\"Warning message:\n",
      "\"restored 'glue'\""
     ]
    },
    {
     "name": "stdout",
     "output_type": "stream",
     "text": [
      "package 'R.methodsS3' successfully unpacked and MD5 sums checked\n",
      "package 'R.oo' successfully unpacked and MD5 sums checked\n",
      "package 'bitops' successfully unpacked and MD5 sums checked\n",
      "package 'httpuv' successfully unpacked and MD5 sums checked\n",
      "package 'xtable' successfully unpacked and MD5 sums checked\n",
      "package 'sourcetools' successfully unpacked and MD5 sums checked\n",
      "package 'later' successfully unpacked and MD5 sums checked\n",
      "package 'promises' successfully unpacked and MD5 sums checked\n",
      "package 'commonmark' successfully unpacked and MD5 sums checked\n",
      "package 'cachem' successfully unpacked and MD5 sums checked\n",
      "package 'cli' successfully unpacked and MD5 sums checked\n",
      "package 'R.cache' successfully unpacked and MD5 sums checked\n",
      "package 'caTools' successfully unpacked and MD5 sums checked\n",
      "package 'profileModel' successfully unpacked and MD5 sums checked\n",
      "package 'boot' successfully unpacked and MD5 sums checked\n",
      "package 'minqa' successfully unpacked and MD5 sums checked\n",
      "package 'nloptr' successfully unpacked and MD5 sums checked\n",
      "package 'RcppEigen' successfully unpacked and MD5 sums checked\n",
      "package 'lazyeval' successfully unpacked and MD5 sums checked\n",
      "package 'miniUI' successfully unpacked and MD5 sums checked\n",
      "package 'classInt' successfully unpacked and MD5 sums checked\n",
      "package 'libcoin' successfully unpacked and MD5 sums checked\n",
      "package 'matrixStats' successfully unpacked and MD5 sums checked\n",
      "package 'htmltools' successfully unpacked and MD5 sums checked\n"
     ]
    },
    {
     "name": "stderr",
     "output_type": "stream",
     "text": [
      "Warning message:\n",
      "\"cannot remove prior installation of package 'htmltools'\"Warning message in file.copy(savedcopy, lib, recursive = TRUE):\n",
      "\"problem copying C:\\Users\\tyler\\Anaconda3\\Lib\\R\\library\\00LOCK\\htmltools\\libs\\x64\\htmltools.dll to C:\\Users\\tyler\\Anaconda3\\Lib\\R\\library\\htmltools\\libs\\x64\\htmltools.dll: Permission denied\"Warning message:\n",
      "\"restored 'htmltools'\""
     ]
    },
    {
     "name": "stdout",
     "output_type": "stream",
     "text": [
      "package 'ipred' successfully unpacked and MD5 sums checked\n",
      "package 'brglm' successfully unpacked and MD5 sums checked\n",
      "package 'gtools' successfully unpacked and MD5 sums checked\n",
      "package 'lme4' successfully unpacked and MD5 sums checked\n",
      "package 'qvcalc' successfully unpacked and MD5 sums checked\n",
      "package 'Formula' successfully unpacked and MD5 sums checked\n",
      "package 'TeachingDemos' successfully unpacked and MD5 sums checked\n",
      "package 'combinat' successfully unpacked and MD5 sums checked\n",
      "package 'xfun' successfully unpacked and MD5 sums checked\n",
      "package 'ROCR' successfully unpacked and MD5 sums checked\n",
      "package 'cluster' successfully unpacked and MD5 sums checked\n",
      "package 'mvtnorm' successfully unpacked and MD5 sums checked\n",
      "package 'modeltools' successfully unpacked and MD5 sums checked\n",
      "package 'strucchange' successfully unpacked and MD5 sums checked\n",
      "package 'coin' successfully unpacked and MD5 sums checked\n",
      "package 'ISwR' successfully unpacked and MD5 sums checked\n",
      "package 'BradleyTerry2' successfully unpacked and MD5 sums checked\n",
      "package 'covr' successfully unpacked and MD5 sums checked\n",
      "package 'Cubist' successfully unpacked and MD5 sums checked\n",
      "package 'earth' successfully unpacked and MD5 sums checked\n",
      "package 'gam' successfully unpacked and MD5 sums checked\n",
      "package 'kernlab' successfully unpacked and MD5 sums checked\n",
      "package 'mda' successfully unpacked and MD5 sums checked\n",
      "package 'mlbench' successfully unpacked and MD5 sums checked\n",
      "package 'MLmetrics' successfully unpacked and MD5 sums checked\n",
      "package 'pamr' successfully unpacked and MD5 sums checked\n",
      "package 'party' successfully unpacked and MD5 sums checked\n",
      "package 'RANN' successfully unpacked and MD5 sums checked\n",
      "package 'spls' successfully unpacked and MD5 sums checked\n",
      "package 'subselect' successfully unpacked and MD5 sums checked\n",
      "package 'superpc' successfully unpacked and MD5 sums checked\n",
      "package 'caret' successfully unpacked and MD5 sums checked\n",
      "\n",
      "The downloaded binary packages are in\n",
      "\tC:\\Users\\tyler\\AppData\\Local\\Temp\\Rtmpiu3n8V\\downloaded_packages\n"
     ]
    },
    {
     "name": "stderr",
     "output_type": "stream",
     "text": [
      "installing the source packages 'R.utils', 'fontawesome', 'TH.data', 'plotrix', 'shiny', 'styler', 'labelled', 'gplots', 'multcomp', 'rex', 'plotmo', 'questionr', 'sandwich', 'bslib', 'tinytex', 'corpcor', 'ROSE', 'recipes', 'ellipse', 'klaR', 'knitr', 'pls', 'rmarkdown', 'themis'\n",
      "\n",
      "Warning message in install.packages(\"caret\", dependencies = TRUE):\n",
      "\"installation of package 'fontawesome' had non-zero exit status\"Warning message in install.packages(\"caret\", dependencies = TRUE):\n",
      "\"installation of package 'labelled' had non-zero exit status\"Warning message in install.packages(\"caret\", dependencies = TRUE):\n",
      "\"installation of package 'bslib' had non-zero exit status\"Warning message in install.packages(\"caret\", dependencies = TRUE):\n",
      "\"installation of package 'tinytex' had non-zero exit status\"Warning message in install.packages(\"caret\", dependencies = TRUE):\n",
      "\"installation of package 'recipes' had non-zero exit status\"Warning message in install.packages(\"caret\", dependencies = TRUE):\n",
      "\"installation of package 'knitr' had non-zero exit status\"Warning message in install.packages(\"caret\", dependencies = TRUE):\n",
      "\"installation of package 'shiny' had non-zero exit status\"Warning message in install.packages(\"caret\", dependencies = TRUE):\n",
      "\"installation of package 'rmarkdown' had non-zero exit status\"Warning message in install.packages(\"caret\", dependencies = TRUE):\n",
      "\"installation of package 'themis' had non-zero exit status\"Warning message in install.packages(\"caret\", dependencies = TRUE):\n",
      "\"installation of package 'questionr' had non-zero exit status\"Warning message in install.packages(\"caret\", dependencies = TRUE):\n",
      "\"installation of package 'klaR' had non-zero exit status\""
     ]
    }
   ],
   "source": [
    "install.packages('caret', dependencies = TRUE)"
   ]
  },
  {
   "cell_type": "code",
   "execution_count": 7,
   "metadata": {
    "scrolled": true
   },
   "outputs": [
    {
     "name": "stderr",
     "output_type": "stream",
     "text": [
      "Warning message:\n",
      "\"package 'caret' was built under R version 3.6.3\"Loading required package: lattice\n",
      "Warning message:\n",
      "\"package 'lattice' was built under R version 3.6.3\"Loading required package: ggplot2\n",
      "Warning message:\n",
      "\"replacing previous import 'vctrs::data_frame' by 'tibble::data_frame' when loading 'dplyr'\""
     ]
    },
    {
     "ename": "ERROR",
     "evalue": "Error: package or namespace load failed for 'caret' in loadNamespace(i, c(lib.loc, .libPaths()), versionCheck = vI[[i]]):\n there is no package called 'recipes'\n",
     "output_type": "error",
     "traceback": [
      "Error: package or namespace load failed for 'caret' in loadNamespace(i, c(lib.loc, .libPaths()), versionCheck = vI[[i]]):\n there is no package called 'recipes'\nTraceback:\n",
      "1. library(caret)",
      "2. tryCatch({\n .     attr(package, \"LibPath\") <- which.lib.loc\n .     ns <- loadNamespace(package, lib.loc)\n .     env <- attachNamespace(ns, pos = pos, deps, exclude, include.only)\n . }, error = function(e) {\n .     P <- if (!is.null(cc <- conditionCall(e))) \n .         paste(\" in\", deparse(cc)[1L])\n .     else \"\"\n .     msg <- gettextf(\"package or namespace load failed for %s%s:\\n %s\", \n .         sQuote(package), P, conditionMessage(e))\n .     if (logical.return) \n .         message(paste(\"Error:\", msg), domain = NA)\n .     else stop(msg, call. = FALSE, domain = NA)\n . })",
      "3. tryCatchList(expr, classes, parentenv, handlers)",
      "4. tryCatchOne(expr, names, parentenv, handlers[[1L]])",
      "5. value[[3L]](cond)",
      "6. stop(msg, call. = FALSE, domain = NA)"
     ]
    }
   ],
   "source": [
    "library(caret)"
   ]
  },
  {
   "cell_type": "code",
   "execution_count": 27,
   "metadata": {
    "scrolled": true
   },
   "outputs": [
    {
     "ename": "ERROR",
     "evalue": "Error in dummyVars(\" ~ .\", data = purchases): could not find function \"dummyVars\"\n",
     "output_type": "error",
     "traceback": [
      "Error in dummyVars(\" ~ .\", data = purchases): could not find function \"dummyVars\"\nTraceback:\n"
     ]
    }
   ],
   "source": [
    "dummyVars(\" ~ .\", data = purchases)"
   ]
  },
  {
   "cell_type": "code",
   "execution_count": null,
   "metadata": {},
   "outputs": [],
   "source": []
  },
  {
   "cell_type": "code",
   "execution_count": null,
   "metadata": {},
   "outputs": [],
   "source": []
  },
  {
   "cell_type": "code",
   "execution_count": null,
   "metadata": {},
   "outputs": [],
   "source": []
  },
  {
   "cell_type": "code",
   "execution_count": null,
   "metadata": {},
   "outputs": [],
   "source": [
    "# Encode country features\n",
    "purchases$Country  <- factor(purchases$Country\n",
    "                            ,levels=c('France', 'Spain', 'Germany')\n",
    "                            ,labels=c(1,2,3)\n",
    "                            )\n",
    "# Encode purchased label\n",
    "purchases$Purchased  <- factor(purchases$Purchased\n",
    "                            ,levels=c('Yes', 'No')\n",
    "                            ,labels=c(1,0)\n",
    "                            )"
   ]
  },
  {
   "cell_type": "code",
   "execution_count": null,
   "metadata": {},
   "outputs": [],
   "source": [
    "purchases$Country\n",
    "purchases$Purchased"
   ]
  },
  {
   "cell_type": "code",
   "execution_count": 8,
   "metadata": {},
   "outputs": [
    {
     "data": {
      "text/html": [
       "'R version 3.6.1 (2019-07-05)'"
      ],
      "text/latex": [
       "'R version 3.6.1 (2019-07-05)'"
      ],
      "text/markdown": [
       "'R version 3.6.1 (2019-07-05)'"
      ],
      "text/plain": [
       "[1] \"R version 3.6.1 (2019-07-05)\""
      ]
     },
     "metadata": {},
     "output_type": "display_data"
    }
   ],
   "source": [
    "R.version.string"
   ]
  },
  {
   "cell_type": "code",
   "execution_count": null,
   "metadata": {},
   "outputs": [],
   "source": []
  }
 ],
 "metadata": {
  "kernelspec": {
   "display_name": "R",
   "language": "R",
   "name": "ir"
  },
  "language_info": {
   "codemirror_mode": "r",
   "file_extension": ".r",
   "mimetype": "text/x-r-source",
   "name": "R",
   "pygments_lexer": "r",
   "version": "3.6.1"
  }
 },
 "nbformat": 4,
 "nbformat_minor": 4
}

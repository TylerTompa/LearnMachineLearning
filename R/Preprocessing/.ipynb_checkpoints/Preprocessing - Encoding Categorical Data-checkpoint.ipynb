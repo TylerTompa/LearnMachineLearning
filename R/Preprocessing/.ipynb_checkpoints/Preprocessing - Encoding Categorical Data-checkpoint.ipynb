{
 "cells": [
  {
   "cell_type": "markdown",
   "metadata": {},
   "source": [
    "# Machine Learning Preprocessing: Encoding Categorical Data\n",
    "\n",
    "In this notebook, we explore how to encode categorical data.  Machine Learning algorithms often require numerical data, and encoding \"<em>small, medium, large</em>\" is an important step in converting data into a format that algorithms can understand.\n",
    "\n",
    "Sources:\n",
    "1. <a href='https://www.udemy.com/course/machinelearning/'>Machine Learning A-Z™: Hands-On Python & R In Data Science</a>"
   ]
  },
  {
   "cell_type": "markdown",
   "metadata": {},
   "source": [
    "## Load & Preview Data"
   ]
  },
  {
   "cell_type": "code",
   "execution_count": 2,
   "metadata": {},
   "outputs": [
    {
     "name": "stderr",
     "output_type": "stream",
     "text": [
      "also installing the dependency 'ipred'\n",
      "\n"
     ]
    },
    {
     "name": "stdout",
     "output_type": "stream",
     "text": [
      "\n",
      "  There are binary versions available but the source versions are later:\n",
      "        binary source needs_compilation\n",
      "ipred   0.9-11 0.9-12              TRUE\n",
      "recipes 0.1.16  0.2.0             FALSE\n",
      "\n",
      "  Binaries will be installed\n",
      "package 'ipred' successfully unpacked and MD5 sums checked\n",
      "\n",
      "The downloaded binary packages are in\n",
      "\tC:\\Users\\tyler\\AppData\\Local\\Temp\\RtmpWmIL5S\\downloaded_packages\n"
     ]
    },
    {
     "name": "stderr",
     "output_type": "stream",
     "text": [
      "installing the source package 'recipes'\n",
      "\n",
      "Warning message in install.packages(\"recipes\"):\n",
      "\"installation of package 'recipes' had non-zero exit status\""
     ]
    }
   ],
   "source": [
    "install.packages('recipes')"
   ]
  },
  {
   "cell_type": "code",
   "execution_count": 3,
   "metadata": {},
   "outputs": [
    {
     "name": "stderr",
     "output_type": "stream",
     "text": [
      "Warning message:\n",
      "\"package 'caret' was built under R version 3.6.3\""
     ]
    },
    {
     "ename": "ERROR",
     "evalue": "Error: package or namespace load failed for 'caret' in loadNamespace(i, c(lib.loc, .libPaths()), versionCheck = vI[[i]]):\n there is no package called 'recipes'\n",
     "output_type": "error",
     "traceback": [
      "Error: package or namespace load failed for 'caret' in loadNamespace(i, c(lib.loc, .libPaths()), versionCheck = vI[[i]]):\n there is no package called 'recipes'\nTraceback:\n",
      "1. library(caret)",
      "2. tryCatch({\n .     attr(package, \"LibPath\") <- which.lib.loc\n .     ns <- loadNamespace(package, lib.loc)\n .     env <- attachNamespace(ns, pos = pos, deps, exclude, include.only)\n . }, error = function(e) {\n .     P <- if (!is.null(cc <- conditionCall(e))) \n .         paste(\" in\", deparse(cc)[1L])\n .     else \"\"\n .     msg <- gettextf(\"package or namespace load failed for %s%s:\\n %s\", \n .         sQuote(package), P, conditionMessage(e))\n .     if (logical.return) \n .         message(paste(\"Error:\", msg), domain = NA)\n .     else stop(msg, call. = FALSE, domain = NA)\n . })",
      "3. tryCatchList(expr, classes, parentenv, handlers)",
      "4. tryCatchOne(expr, names, parentenv, handlers[[1L]])",
      "5. value[[3L]](cond)",
      "6. stop(msg, call. = FALSE, domain = NA)"
     ]
    }
   ],
   "source": [
    "library(caret)"
   ]
  },
  {
   "cell_type": "code",
   "execution_count": null,
   "metadata": {},
   "outputs": [],
   "source": [
    "# Define file path to data\n",
    "purchases_file_path  <- file.path('Data','Data.csv')\n",
    "\n",
    "# Load data\n",
    "purchases  <- read.csv(purchases_file_path)"
   ]
  },
  {
   "cell_type": "code",
   "execution_count": null,
   "metadata": {},
   "outputs": [],
   "source": [
    "cat('Shape:')\n",
    "dim(purchases)\n",
    "cat('Figure 1.')\n",
    "\n",
    "cat('\\n\\nPreview:')\n",
    "head(purchases, 5)\n",
    "cat('Figure 2.')\n",
    "\n",
    "cat('\\n\\nStructure:\\n')\n",
    "str(purchases)\n",
    "cat('Figure 3.')\n",
    "\n",
    "cat('\\n\\nSummary:')\n",
    "summary(purchases)\n",
    "cat('Figure 4.')\n",
    "\n",
    "cat('\\n\\nNulls:')\n",
    "data.frame(colSums(is.na(purchases)))\n",
    "cat('Figure 5.')"
   ]
  },
  {
   "cell_type": "markdown",
   "metadata": {},
   "source": [
    "## Address Missing Values"
   ]
  },
  {
   "cell_type": "code",
   "execution_count": null,
   "metadata": {},
   "outputs": [],
   "source": [
    "# Replace salary values with averages if they are null\n",
    "purchases$Salary <- ifelse(is.na(purchases$Salary) # If the salary is null\n",
    "                          ,ave(purchases$Salary, FUN = function(x) mean(x, na.rm = TRUE)) # then return the mean salary\n",
    "                          ,purchases$Salary) # else return the current record's salary\n",
    "\n",
    "# Replace age values with averages if they are null\n",
    "purchases$Age <- ifelse(is.na(purchases$Age) # If the age is null\n",
    "                          ,ave(purchases$Age, FUN = function(x) mean(x, na.rm = TRUE)) # then return the mean age\n",
    "                          ,purchases$Age) # else return the current record's age                        "
   ]
  },
  {
   "cell_type": "markdown",
   "metadata": {},
   "source": [
    "## Encoding Categorical Data\n",
    "\n",
    "Let's start by preview our data again."
   ]
  },
  {
   "cell_type": "code",
   "execution_count": null,
   "metadata": {},
   "outputs": [],
   "source": [
    "head(purchases, 5)"
   ]
  },
  {
   "cell_type": "markdown",
   "metadata": {},
   "source": [
    "One of our features is the Country, with the options France, Spain, and Germany.  Under the hood, many machine learning algorithms will not understand these strings, and will instead require numbers.  One idea therefore may be to simply convert \"France\" to the number 1, \"Spain\" to 2, and \"Germany\" to 3.  In certain models however, this could confuse the algorithm into believing that there is a numerical ranking to the countries, that is, that Germany, being 3, is the \"best,\" and France, being 1, is the \"worst,\" with Spain in the middle.  In reality there is no ranking to these countries; so this type of encoding will bias our machine learning model.\n",
    "\n",
    "An alternative is to use \"one-hot encoding,\" which creates binary vectors (True or False vectors) for each category, or in other words, turns a column with $n$ categories into $n$ distinct columns.  In our case, our Country column has 3 categories, and one-hot encoding will transform this into 3 distinct columns.  The result will essentially be an \"Is France?\" column, an \"Is Spain?\" column, and an \"Is Germany?\" column; we will then populate one of these columns with 1, or \"True,\" and the others with 0, or \"False.\"  France will receive the vector [1,0,0]; Germany will receive the vector [0,1,0], and Spain will receive the vector [0,0,1]; note that one-hot encoding will encode alphabetically by defauly, and not the order that each category appears in.\n",
    "\n",
    "Next we will use the factor() function.  This function takes 3 arguments:\n",
    "<ul>\n",
    "    <li>The data to transform into factors</li>\n",
    "    <li>Levels, or the name of each category</li>\n",
    "    <li>Which number to give to each category</li>\n",
    "</ul>"
   ]
  },
  {
   "cell_type": "code",
   "execution_count": null,
   "metadata": {},
   "outputs": [],
   "source": [
    "purchases$Country\n",
    "purchases$Purchased"
   ]
  },
  {
   "cell_type": "code",
   "execution_count": null,
   "metadata": {},
   "outputs": [],
   "source": [
    "# Encode country features\n",
    "purchases$Country  <- factor(purchases$Country\n",
    "                            ,levels=c('France', 'Spain', 'Germany')\n",
    "                            ,labels=c(1,2,3)\n",
    "                            )\n",
    "# Encode purchased label\n",
    "purchases$Purchased  <- factor(purchases$Purchased\n",
    "                            ,levels=c('Yes', 'No')\n",
    "                            ,labels=c(1,0)\n",
    "                            )"
   ]
  },
  {
   "cell_type": "code",
   "execution_count": null,
   "metadata": {},
   "outputs": [],
   "source": [
    "purchases$Country\n",
    "purchases$Purchased"
   ]
  },
  {
   "cell_type": "code",
   "execution_count": null,
   "metadata": {},
   "outputs": [],
   "source": []
  }
 ],
 "metadata": {
  "kernelspec": {
   "display_name": "R",
   "language": "R",
   "name": "ir"
  },
  "language_info": {
   "codemirror_mode": "r",
   "file_extension": ".r",
   "mimetype": "text/x-r-source",
   "name": "R",
   "pygments_lexer": "r",
   "version": "3.6.1"
  }
 },
 "nbformat": 4,
 "nbformat_minor": 4
}

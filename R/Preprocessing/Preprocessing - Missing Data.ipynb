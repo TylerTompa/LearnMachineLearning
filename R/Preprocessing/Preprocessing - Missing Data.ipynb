{
 "cells": [
  {
   "cell_type": "markdown",
   "metadata": {},
   "source": [
    "# Machine Learning Preprocessing: Handling Missing Data\n",
    "\n",
    "In this notebook, we examine how to address missing data.  In practice, we will often work with datasets missing some amount of data, and will have to handle this before we can effectively use the data on a machine learning algorithm.\n",
    "\n",
    "Sources:\n",
    "1. <a href='https://www.udemy.com/course/machinelearning/'>Machine Learning A-Z™: Hands-On Python & R In Data Science</a>"
   ]
  },
  {
   "cell_type": "markdown",
   "metadata": {},
   "source": [
    "## Load and Preview Data"
   ]
  },
  {
   "cell_type": "code",
   "execution_count": 1,
   "metadata": {},
   "outputs": [],
   "source": [
    "# Define file path to data\n",
    "purchases_file_path  <- file.path('Data', 'Data.csv')\n",
    "\n",
    "# Load data\n",
    "purchases <- read.csv(purchases_file_path)"
   ]
  },
  {
   "cell_type": "code",
   "execution_count": 2,
   "metadata": {},
   "outputs": [
    {
     "name": "stdout",
     "output_type": "stream",
     "text": [
      "Shape:"
     ]
    },
    {
     "data": {
      "text/html": [
       "<ol class=list-inline>\n",
       "\t<li>10</li>\n",
       "\t<li>4</li>\n",
       "</ol>\n"
      ],
      "text/latex": [
       "\\begin{enumerate*}\n",
       "\\item 10\n",
       "\\item 4\n",
       "\\end{enumerate*}\n"
      ],
      "text/markdown": [
       "1. 10\n",
       "2. 4\n",
       "\n",
       "\n"
      ],
      "text/plain": [
       "[1] 10  4"
      ]
     },
     "metadata": {},
     "output_type": "display_data"
    },
    {
     "name": "stdout",
     "output_type": "stream",
     "text": [
      "Figure 1.\n",
      "\n",
      "Preview:"
     ]
    },
    {
     "data": {
      "text/html": [
       "<table>\n",
       "<thead><tr><th scope=col>Country</th><th scope=col>Age</th><th scope=col>Salary</th><th scope=col>Purchased</th></tr></thead>\n",
       "<tbody>\n",
       "\t<tr><td>France </td><td>44     </td><td>72000  </td><td>No     </td></tr>\n",
       "\t<tr><td>Spain  </td><td>27     </td><td>48000  </td><td>Yes    </td></tr>\n",
       "\t<tr><td>Germany</td><td>30     </td><td>54000  </td><td>No     </td></tr>\n",
       "\t<tr><td>Spain  </td><td>38     </td><td>61000  </td><td>No     </td></tr>\n",
       "\t<tr><td>Germany</td><td>40     </td><td>   NA  </td><td>Yes    </td></tr>\n",
       "</tbody>\n",
       "</table>\n"
      ],
      "text/latex": [
       "\\begin{tabular}{r|llll}\n",
       " Country & Age & Salary & Purchased\\\\\n",
       "\\hline\n",
       "\t France  & 44      & 72000   & No     \\\\\n",
       "\t Spain   & 27      & 48000   & Yes    \\\\\n",
       "\t Germany & 30      & 54000   & No     \\\\\n",
       "\t Spain   & 38      & 61000   & No     \\\\\n",
       "\t Germany & 40      &    NA   & Yes    \\\\\n",
       "\\end{tabular}\n"
      ],
      "text/markdown": [
       "\n",
       "| Country | Age | Salary | Purchased |\n",
       "|---|---|---|---|\n",
       "| France  | 44      | 72000   | No      |\n",
       "| Spain   | 27      | 48000   | Yes     |\n",
       "| Germany | 30      | 54000   | No      |\n",
       "| Spain   | 38      | 61000   | No      |\n",
       "| Germany | 40      |    NA   | Yes     |\n",
       "\n"
      ],
      "text/plain": [
       "  Country Age Salary Purchased\n",
       "1 France  44  72000  No       \n",
       "2 Spain   27  48000  Yes      \n",
       "3 Germany 30  54000  No       \n",
       "4 Spain   38  61000  No       \n",
       "5 Germany 40     NA  Yes      "
      ]
     },
     "metadata": {},
     "output_type": "display_data"
    },
    {
     "name": "stdout",
     "output_type": "stream",
     "text": [
      "Figure 2.\n",
      "\n",
      "Structure:\n",
      "'data.frame':\t10 obs. of  4 variables:\n",
      " $ Country  : Factor w/ 3 levels \"France\",\"Germany\",..: 1 3 2 3 2 1 3 1 2 1\n",
      " $ Age      : int  44 27 30 38 40 35 NA 48 50 37\n",
      " $ Salary   : int  72000 48000 54000 61000 NA 58000 52000 79000 83000 67000\n",
      " $ Purchased: Factor w/ 2 levels \"No\",\"Yes\": 1 2 1 1 2 2 1 2 1 2\n",
      "Figure 3.\n",
      "\n",
      "Summary:"
     ]
    },
    {
     "data": {
      "text/plain": [
       "    Country       Age            Salary      Purchased\n",
       " France :4   Min.   :27.00   Min.   :48000   No :5    \n",
       " Germany:3   1st Qu.:35.00   1st Qu.:54000   Yes:5    \n",
       " Spain  :3   Median :38.00   Median :61000            \n",
       "             Mean   :38.78   Mean   :63778            \n",
       "             3rd Qu.:44.00   3rd Qu.:72000            \n",
       "             Max.   :50.00   Max.   :83000            \n",
       "             NA's   :1       NA's   :1                "
      ]
     },
     "metadata": {},
     "output_type": "display_data"
    },
    {
     "name": "stdout",
     "output_type": "stream",
     "text": [
      "Figure 4.\n",
      "\n",
      "Nulls:"
     ]
    },
    {
     "data": {
      "text/html": [
       "<table>\n",
       "<thead><tr><th></th><th scope=col>colSums.is.na.purchases..</th></tr></thead>\n",
       "<tbody>\n",
       "\t<tr><th scope=row>Country</th><td>0</td></tr>\n",
       "\t<tr><th scope=row>Age</th><td>1</td></tr>\n",
       "\t<tr><th scope=row>Salary</th><td>1</td></tr>\n",
       "\t<tr><th scope=row>Purchased</th><td>0</td></tr>\n",
       "</tbody>\n",
       "</table>\n"
      ],
      "text/latex": [
       "\\begin{tabular}{r|l}\n",
       "  & colSums.is.na.purchases..\\\\\n",
       "\\hline\n",
       "\tCountry & 0\\\\\n",
       "\tAge & 1\\\\\n",
       "\tSalary & 1\\\\\n",
       "\tPurchased & 0\\\\\n",
       "\\end{tabular}\n"
      ],
      "text/markdown": [
       "\n",
       "| <!--/--> | colSums.is.na.purchases.. |\n",
       "|---|---|\n",
       "| Country | 0 |\n",
       "| Age | 1 |\n",
       "| Salary | 1 |\n",
       "| Purchased | 0 |\n",
       "\n"
      ],
      "text/plain": [
       "          colSums.is.na.purchases..\n",
       "Country   0                        \n",
       "Age       1                        \n",
       "Salary    1                        \n",
       "Purchased 0                        "
      ]
     },
     "metadata": {},
     "output_type": "display_data"
    },
    {
     "name": "stdout",
     "output_type": "stream",
     "text": [
      "Figure 5."
     ]
    }
   ],
   "source": [
    "cat('Shape:')\n",
    "dim(purchases)\n",
    "cat('Figure 1.')\n",
    "\n",
    "cat('\\n\\nPreview:')\n",
    "head(purchases, 5)\n",
    "cat('Figure 2.')\n",
    "\n",
    "cat('\\n\\nStructure:\\n')\n",
    "str(purchases)\n",
    "cat('Figure 3.')\n",
    "\n",
    "cat('\\n\\nSummary:')\n",
    "summary(purchases)\n",
    "cat('Figure 4.')\n",
    "\n",
    "cat('\\n\\nNulls:')\n",
    "data.frame(colSums(is.na(purchases)))\n",
    "cat('Figure 5.')"
   ]
  },
  {
   "cell_type": "markdown",
   "metadata": {},
   "source": [
    "## Address Missing Values\n",
    "\n",
    "In practice, you will often work with missing data.  From just previewing the first five records, we can see in Figure 2 that one of our records is missing a salary.  We need to address this before moving forward, and though it's not visible in our preview, we can see from our NA count in Figure 5 that the age column also has a missing value.\n",
    "\n",
    "There are a number of ways to address missing data.  One way is to simply drop records with missing data, however, this will also drop clean data that we do have in other fields; therefore dropping data is generally discouraged.\n",
    "\n",
    "In this notebook, we will instead replace missing age/salary data with the average of the age/salary column.  We will use the ifelse() function to do this.  This function takes 3 parameters:\n",
    "1. The condition to check\n",
    "2. The value to return if True\n",
    "3. The value to return if False"
   ]
  },
  {
   "cell_type": "code",
   "execution_count": 3,
   "metadata": {},
   "outputs": [
    {
     "data": {
      "text/html": [
       "<ol class=list-inline>\n",
       "\t<li>72000</li>\n",
       "\t<li>48000</li>\n",
       "\t<li>54000</li>\n",
       "\t<li>61000</li>\n",
       "\t<li>&lt;NA&gt;</li>\n",
       "\t<li>58000</li>\n",
       "\t<li>52000</li>\n",
       "\t<li>79000</li>\n",
       "\t<li>83000</li>\n",
       "\t<li>67000</li>\n",
       "</ol>\n"
      ],
      "text/latex": [
       "\\begin{enumerate*}\n",
       "\\item 72000\n",
       "\\item 48000\n",
       "\\item 54000\n",
       "\\item 61000\n",
       "\\item <NA>\n",
       "\\item 58000\n",
       "\\item 52000\n",
       "\\item 79000\n",
       "\\item 83000\n",
       "\\item 67000\n",
       "\\end{enumerate*}\n"
      ],
      "text/markdown": [
       "1. 72000\n",
       "2. 48000\n",
       "3. 54000\n",
       "4. 61000\n",
       "5. &lt;NA&gt;\n",
       "6. 58000\n",
       "7. 52000\n",
       "8. 79000\n",
       "9. 83000\n",
       "10. 67000\n",
       "\n",
       "\n"
      ],
      "text/plain": [
       " [1] 72000 48000 54000 61000    NA 58000 52000 79000 83000 67000"
      ]
     },
     "metadata": {},
     "output_type": "display_data"
    },
    {
     "data": {
      "text/html": [
       "<ol class=list-inline>\n",
       "\t<li>44</li>\n",
       "\t<li>27</li>\n",
       "\t<li>30</li>\n",
       "\t<li>38</li>\n",
       "\t<li>40</li>\n",
       "\t<li>35</li>\n",
       "\t<li>&lt;NA&gt;</li>\n",
       "\t<li>48</li>\n",
       "\t<li>50</li>\n",
       "\t<li>37</li>\n",
       "</ol>\n"
      ],
      "text/latex": [
       "\\begin{enumerate*}\n",
       "\\item 44\n",
       "\\item 27\n",
       "\\item 30\n",
       "\\item 38\n",
       "\\item 40\n",
       "\\item 35\n",
       "\\item <NA>\n",
       "\\item 48\n",
       "\\item 50\n",
       "\\item 37\n",
       "\\end{enumerate*}\n"
      ],
      "text/markdown": [
       "1. 44\n",
       "2. 27\n",
       "3. 30\n",
       "4. 38\n",
       "5. 40\n",
       "6. 35\n",
       "7. &lt;NA&gt;\n",
       "8. 48\n",
       "9. 50\n",
       "10. 37\n",
       "\n",
       "\n"
      ],
      "text/plain": [
       " [1] 44 27 30 38 40 35 NA 48 50 37"
      ]
     },
     "metadata": {},
     "output_type": "display_data"
    }
   ],
   "source": [
    "# View salaries and ages before addressing missing data\n",
    "purchases$Salary\n",
    "purchases$Age"
   ]
  },
  {
   "cell_type": "code",
   "execution_count": 4,
   "metadata": {},
   "outputs": [],
   "source": [
    "# Replace salary values with averages if they are null\n",
    "purchases$Salary <- ifelse(is.na(purchases$Salary) # If the salary is null\n",
    "                          ,ave(purchases$Salary, FUN = function(x) mean(x, na.rm = TRUE)) # then return the mean salary\n",
    "                          ,purchases$Salary) # else return the current record's salary\n",
    "\n",
    "# Replace age values with averages if they are null\n",
    "purchases$Age <- ifelse(is.na(purchases$Age) # If the age is null\n",
    "                          ,ave(purchases$Age, FUN = function(x) mean(x, na.rm = TRUE)) # then return the mean age\n",
    "                          ,purchases$Age) # else return the current record's age                        "
   ]
  },
  {
   "cell_type": "code",
   "execution_count": 5,
   "metadata": {},
   "outputs": [
    {
     "data": {
      "text/html": [
       "<ol class=list-inline>\n",
       "\t<li>72000</li>\n",
       "\t<li>48000</li>\n",
       "\t<li>54000</li>\n",
       "\t<li>61000</li>\n",
       "\t<li>63777.7777777778</li>\n",
       "\t<li>58000</li>\n",
       "\t<li>52000</li>\n",
       "\t<li>79000</li>\n",
       "\t<li>83000</li>\n",
       "\t<li>67000</li>\n",
       "</ol>\n"
      ],
      "text/latex": [
       "\\begin{enumerate*}\n",
       "\\item 72000\n",
       "\\item 48000\n",
       "\\item 54000\n",
       "\\item 61000\n",
       "\\item 63777.7777777778\n",
       "\\item 58000\n",
       "\\item 52000\n",
       "\\item 79000\n",
       "\\item 83000\n",
       "\\item 67000\n",
       "\\end{enumerate*}\n"
      ],
      "text/markdown": [
       "1. 72000\n",
       "2. 48000\n",
       "3. 54000\n",
       "4. 61000\n",
       "5. 63777.7777777778\n",
       "6. 58000\n",
       "7. 52000\n",
       "8. 79000\n",
       "9. 83000\n",
       "10. 67000\n",
       "\n",
       "\n"
      ],
      "text/plain": [
       " [1] 72000.00 48000.00 54000.00 61000.00 63777.78 58000.00 52000.00 79000.00\n",
       " [9] 83000.00 67000.00"
      ]
     },
     "metadata": {},
     "output_type": "display_data"
    },
    {
     "data": {
      "text/html": [
       "<ol class=list-inline>\n",
       "\t<li>44</li>\n",
       "\t<li>27</li>\n",
       "\t<li>30</li>\n",
       "\t<li>38</li>\n",
       "\t<li>40</li>\n",
       "\t<li>35</li>\n",
       "\t<li>38.7777777777778</li>\n",
       "\t<li>48</li>\n",
       "\t<li>50</li>\n",
       "\t<li>37</li>\n",
       "</ol>\n"
      ],
      "text/latex": [
       "\\begin{enumerate*}\n",
       "\\item 44\n",
       "\\item 27\n",
       "\\item 30\n",
       "\\item 38\n",
       "\\item 40\n",
       "\\item 35\n",
       "\\item 38.7777777777778\n",
       "\\item 48\n",
       "\\item 50\n",
       "\\item 37\n",
       "\\end{enumerate*}\n"
      ],
      "text/markdown": [
       "1. 44\n",
       "2. 27\n",
       "3. 30\n",
       "4. 38\n",
       "5. 40\n",
       "6. 35\n",
       "7. 38.7777777777778\n",
       "8. 48\n",
       "9. 50\n",
       "10. 37\n",
       "\n",
       "\n"
      ],
      "text/plain": [
       " [1] 44.00000 27.00000 30.00000 38.00000 40.00000 35.00000 38.77778 48.00000\n",
       " [9] 50.00000 37.00000"
      ]
     },
     "metadata": {},
     "output_type": "display_data"
    }
   ],
   "source": [
    "# View salaries and ages after addressing missing data\n",
    "purchases$Salary\n",
    "purchases$Age"
   ]
  },
  {
   "cell_type": "markdown",
   "metadata": {},
   "source": [
    "To examine what we achived with this, we will then exmaine our features."
   ]
  },
  {
   "cell_type": "code",
   "execution_count": 6,
   "metadata": {},
   "outputs": [
    {
     "data": {
      "text/html": [
       "<table>\n",
       "<thead><tr><th scope=col>Country</th><th scope=col>Age</th><th scope=col>Salary</th><th scope=col>Purchased</th></tr></thead>\n",
       "<tbody>\n",
       "\t<tr><td>France  </td><td>44      </td><td>72000.00</td><td>No      </td></tr>\n",
       "\t<tr><td>Spain   </td><td>27      </td><td>48000.00</td><td>Yes     </td></tr>\n",
       "\t<tr><td>Germany </td><td>30      </td><td>54000.00</td><td>No      </td></tr>\n",
       "\t<tr><td>Spain   </td><td>38      </td><td>61000.00</td><td>No      </td></tr>\n",
       "\t<tr><td>Germany </td><td>40      </td><td>63777.78</td><td>Yes     </td></tr>\n",
       "</tbody>\n",
       "</table>\n"
      ],
      "text/latex": [
       "\\begin{tabular}{r|llll}\n",
       " Country & Age & Salary & Purchased\\\\\n",
       "\\hline\n",
       "\t France   & 44       & 72000.00 & No      \\\\\n",
       "\t Spain    & 27       & 48000.00 & Yes     \\\\\n",
       "\t Germany  & 30       & 54000.00 & No      \\\\\n",
       "\t Spain    & 38       & 61000.00 & No      \\\\\n",
       "\t Germany  & 40       & 63777.78 & Yes     \\\\\n",
       "\\end{tabular}\n"
      ],
      "text/markdown": [
       "\n",
       "| Country | Age | Salary | Purchased |\n",
       "|---|---|---|---|\n",
       "| France   | 44       | 72000.00 | No       |\n",
       "| Spain    | 27       | 48000.00 | Yes      |\n",
       "| Germany  | 30       | 54000.00 | No       |\n",
       "| Spain    | 38       | 61000.00 | No       |\n",
       "| Germany  | 40       | 63777.78 | Yes      |\n",
       "\n"
      ],
      "text/plain": [
       "  Country Age Salary   Purchased\n",
       "1 France  44  72000.00 No       \n",
       "2 Spain   27  48000.00 Yes      \n",
       "3 Germany 30  54000.00 No       \n",
       "4 Spain   38  61000.00 No       \n",
       "5 Germany 40  63777.78 Yes      "
      ]
     },
     "metadata": {},
     "output_type": "display_data"
    },
    {
     "name": "stdout",
     "output_type": "stream",
     "text": [
      "[1] \"Figure 6.\"\n"
     ]
    }
   ],
   "source": [
    "head(purchases, 5)\n",
    "print('Figure 6.')"
   ]
  },
  {
   "cell_type": "markdown",
   "metadata": {},
   "source": [
    "As can be seen in Figure 6, the salary which was previously null has been replaced by the mean salary."
   ]
  },
  {
   "cell_type": "code",
   "execution_count": null,
   "metadata": {},
   "outputs": [],
   "source": []
  }
 ],
 "metadata": {
  "kernelspec": {
   "display_name": "R",
   "language": "R",
   "name": "ir"
  },
  "language_info": {
   "codemirror_mode": "r",
   "file_extension": ".r",
   "mimetype": "text/x-r-source",
   "name": "R",
   "pygments_lexer": "r",
   "version": "3.6.1"
  }
 },
 "nbformat": 4,
 "nbformat_minor": 4
}

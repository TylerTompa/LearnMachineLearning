{
 "cells": [
  {
   "cell_type": "markdown",
   "metadata": {},
   "source": [
    "# Linear Regression With Random Data\n",
    "\n",
    "Now that we have covered how linear regression works, we will test the theory using random sample data."
   ]
  },
  {
   "cell_type": "code",
   "execution_count": 1,
   "metadata": {},
   "outputs": [],
   "source": [
    "# Import analytics libraries\n",
    "import pandas as pd\n",
    "import numpy as np\n",
    "import matplotlib.pyplot as plt\n",
    "from matplotlib import style"
   ]
  },
  {
   "cell_type": "markdown",
   "metadata": {},
   "source": [
    "First, we define the functions we first saw in notebook 5. How Linear Regression Works."
   ]
  },
  {
   "cell_type": "code",
   "execution_count": 2,
   "metadata": {},
   "outputs": [],
   "source": [
    "def slope_intercept(x, y):\n",
    "    \n",
    "    m_numerator = ( (np.mean(x)*np.mean(y)) - np.mean(x*y) )\n",
    "    m_denominator = ( np.mean(x)**2 - np.mean(x**2))\n",
    "    \n",
    "    m = m_numerator / m_denominator\n",
    "    \n",
    "    b = np.mean(y) - m  * np.mean(x)\n",
    "    \n",
    "    return m, b"
   ]
  },
  {
   "cell_type": "code",
   "execution_count": 3,
   "metadata": {},
   "outputs": [],
   "source": [
    "def predict_y(x):\n",
    "    return m*x + b\n",
    "\n",
    "def regression_line(x_array):\n",
    "    return [predict_y(x) for x in x_array]"
   ]
  },
  {
   "cell_type": "code",
   "execution_count": 4,
   "metadata": {},
   "outputs": [],
   "source": [
    "def squared_error(y_actual, y_predicted):\n",
    "    \n",
    "    return sum( (y_predicted - y_actual)**2 )\n",
    "\n",
    "def coefficient_of_determination(y_actual, y_predicted):\n",
    "    \n",
    "    y_mean_line = [np.mean(y_actual) for y in y_actual]\n",
    "    \n",
    "    regression_squared_error = squared_error(y_actual, y_predicted)\n",
    "    \n",
    "    squared_error_y_mean = squared_error(y_actual, y_mean_line)\n",
    "    \n",
    "    return 1 - (regression_squared_error / squared_error_y_mean)"
   ]
  },
  {
   "cell_type": "markdown",
   "metadata": {},
   "source": [
    "Now we define a function that will generate a random dataset of x values and y values.  This function will include parameters allowing us to define the desired variance and direction of correlation."
   ]
  },
  {
   "cell_type": "code",
   "execution_count": 8,
   "metadata": {},
   "outputs": [],
   "source": [
    "# come back and recreate the random array generator using numpy instead of random\n",
    "import random\n",
    "\n",
    "def create_dataset(number_of_datapoints, variance, step=2, correlation=False):\n",
    "    val = 1 # Define first y value\n",
    "    y_array = [] # Initialize empty list for y values\n",
    "    \n",
    "    for i in range(number_of_datapoints):\n",
    "        y = val + random.randrange(-variance, variance) # Add random variance to the current value\n",
    "        y_array.append(y) # Add random y variable to y array\n",
    "        \n",
    "        if correlation == 'positive':\n",
    "            val += step\n",
    "        elif correlation == 'negative':\n",
    "            val -= step   \n",
    "        \n",
    "    x_array = [i for i in range(number_of_datapoints)]\n",
    "    \n",
    "    return np.array(x_array, dtype=np.float64), np.array(y_array, dtype=np.float64)"
   ]
  },
  {
   "cell_type": "markdown",
   "metadata": {},
   "source": [
    "Now we test our random array generator, and pass the data into our linear regression functions."
   ]
  },
  {
   "cell_type": "code",
   "execution_count": 9,
   "metadata": {},
   "outputs": [
    {
     "ename": "TypeError",
     "evalue": "'list' object is not callable",
     "output_type": "error",
     "traceback": [
      "\u001b[1;31m---------------------------------------------------------------------------\u001b[0m",
      "\u001b[1;31mTypeError\u001b[0m                                 Traceback (most recent call last)",
      "\u001b[1;32m<ipython-input-9-fc41f5b67115>\u001b[0m in \u001b[0;36m<module>\u001b[1;34m\u001b[0m\n\u001b[0;32m      5\u001b[0m \u001b[0mm\u001b[0m\u001b[1;33m,\u001b[0m \u001b[0mb\u001b[0m \u001b[1;33m=\u001b[0m \u001b[0mslope_intercept\u001b[0m\u001b[1;33m(\u001b[0m\u001b[0mx_array\u001b[0m\u001b[1;33m,\u001b[0m \u001b[0my_array\u001b[0m\u001b[1;33m)\u001b[0m\u001b[1;33m\u001b[0m\u001b[1;33m\u001b[0m\u001b[0m\n\u001b[0;32m      6\u001b[0m \u001b[1;33m\u001b[0m\u001b[0m\n\u001b[1;32m----> 7\u001b[1;33m \u001b[0mregression_line\u001b[0m \u001b[1;33m=\u001b[0m \u001b[0mregression_line\u001b[0m\u001b[1;33m(\u001b[0m\u001b[0mx_array\u001b[0m\u001b[1;33m)\u001b[0m\u001b[1;33m\u001b[0m\u001b[1;33m\u001b[0m\u001b[0m\n\u001b[0m",
      "\u001b[1;31mTypeError\u001b[0m: 'list' object is not callable"
     ]
    }
   ],
   "source": [
    "# Create random data\n",
    "x_array, y_array = create_dataset(40, 40, 2, correlation='positive')\n",
    "\n",
    "# Define slope and y-intercept\n",
    "m, b = slope_intercept(x_array, y_array)\n",
    "\n",
    "regression_line = regression_line(x_array)"
   ]
  },
  {
   "cell_type": "code",
   "execution_count": null,
   "metadata": {},
   "outputs": [],
   "source": []
  },
  {
   "cell_type": "code",
   "execution_count": 7,
   "metadata": {
    "scrolled": true
   },
   "outputs": [
    {
     "data": {
      "image/png": "[encoded data removed]",
      "text/plain": [
       "<Figure size 432x288 with 1 Axes>"
      ]
     },
     "metadata": {
      "needs_background": "light"
     },
     "output_type": "display_data"
    },
    {
     "name": "stdout",
     "output_type": "stream",
     "text": [
      "0.6373315837722329\n"
     ]
    }
   ],
   "source": [
    "plt.scatter(x_array, y_array)\n",
    "plt.plot(x_array, regression_line)\n",
    "plt.show()\n",
    "print(coefficient_of_determination(y_array, regression_line))"
   ]
  },
  {
   "cell_type": "code",
   "execution_count": null,
   "metadata": {},
   "outputs": [],
   "source": []
  }
 ],
 "metadata": {
  "kernelspec": {
   "display_name": "Python 3",
   "language": "python",
   "name": "python3"
  },
  "language_info": {
   "codemirror_mode": {
    "name": "ipython",
    "version": 3
   },
   "file_extension": ".py",
   "mimetype": "text/x-python",
   "name": "python",
   "nbconvert_exporter": "python",
   "pygments_lexer": "ipython3",
   "version": "3.7.1"
  }
 },
 "nbformat": 4,
 "nbformat_minor": 4
}

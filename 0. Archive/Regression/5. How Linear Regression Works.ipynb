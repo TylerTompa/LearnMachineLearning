{
 "cells": [
  {
   "cell_type": "markdown",
   "metadata": {},
   "source": [
    "# How Linear Regression Works\n",
    "\n",
    "##### This notebook is a work in progress, and will remain scattered notes while the author focuses on other machine learning algorithms\n",
    "\n",
    "Recall that the algebraic equation of a line is:\n",
    "\n",
    "$$\n",
    "y = mx + b\n",
    "$$\n",
    "\n",
    "where $m$ is the slope of the line, and $b$ is the $y$-intercept.  The formulas for $m$ and $b$ are as follows:\n",
    "\n",
    "$$\n",
    "\\displaystyle m = \\frac{\\overline{x}\\times\\overline{y}-\\overline{xy}}{(\\overline{x})^{2}-\\overline{x^2}}\n",
    "$$\n",
    "\n",
    "$$\n",
    "\\displaystyle b = \\overline{y}-m\\overline{x}\n",
    "$$\n",
    "\n",
    "In reality, real-world machine learning algorithms often have multi-dimensional features, making their algebraic equation look more like the following:\n",
    "\n",
    "$$\n",
    "y = b_{0} + m_{1}b_{1}+m_{2}b_{2}+...+m_{n}b_{n}\n",
    "$$\n",
    "\n",
    "where $n$ is the number of dimensions in our features."
   ]
  },
  {
   "cell_type": "markdown",
   "metadata": {},
   "source": [
    "# 1. General Setup"
   ]
  },
  {
   "cell_type": "code",
   "execution_count": 1,
   "metadata": {},
   "outputs": [],
   "source": [
    "# Import analytics libraries\n",
    "import pandas as pd\n",
    "import numpy as np\n",
    "import matplotlib.pyplot as plt\n",
    "from matplotlib import style\n",
    "\n",
    "# Import machine learning libraries\n",
    "from sklearn.preprocessing import StandardScaler\n",
    "from sklearn.model_selection import train_test_split\n",
    "from sklearn.linear_model import LinearRegression\n",
    "\n",
    "# Import support dependencies\n",
    "import os"
   ]
  },
  {
   "cell_type": "code",
   "execution_count": null,
   "metadata": {},
   "outputs": [],
   "source": []
  },
  {
   "cell_type": "markdown",
   "metadata": {},
   "source": [
    "We will define these as Numpy arrays, so that we may use mathematical operations thereon."
   ]
  },
  {
   "cell_type": "code",
   "execution_count": 30,
   "metadata": {},
   "outputs": [],
   "source": [
    "x = np.array([1, 2, 3, 4, 5, 6])\n",
    "y = np.array([5, 4, 6, 5, 6, 7])"
   ]
  },
  {
   "cell_type": "code",
   "execution_count": 31,
   "metadata": {
    "scrolled": true
   },
   "outputs": [
    {
     "data": {
      "text/plain": [
       "<matplotlib.collections.PathCollection at 0x190f88a90b8>"
      ]
     },
     "execution_count": 31,
     "metadata": {},
     "output_type": "execute_result"
    },
    {
     "data": {
      "image/png": "[encoded data removed]",
      "text/plain": [
       "<Figure size 432x288 with 1 Axes>"
      ]
     },
     "metadata": {
      "needs_background": "light"
     },
     "output_type": "display_data"
    }
   ],
   "source": [
    "plt.scatter(x,y)"
   ]
  },
  {
   "cell_type": "markdown",
   "metadata": {},
   "source": [
    "We can define a function to calculate the slope and the $y$-intercept."
   ]
  },
  {
   "cell_type": "code",
   "execution_count": 32,
   "metadata": {},
   "outputs": [],
   "source": [
    "def slope_intercept(x, y):\n",
    "    \n",
    "    m_numerator = ( (np.mean(x)*np.mean(y)) - np.mean(x*y) )\n",
    "    m_denominator = ( np.mean(x)**2 - np.mean(x**2))\n",
    "    \n",
    "    m = m_numerator / m_denominator\n",
    "    \n",
    "    b = np.mean(y) - m  * np.mean(x)\n",
    "    \n",
    "    return m, b"
   ]
  },
  {
   "cell_type": "markdown",
   "metadata": {},
   "source": [
    "We can then pass in the arrays defined earlier, and get the slope and y-intercept of these data points."
   ]
  },
  {
   "cell_type": "code",
   "execution_count": 33,
   "metadata": {},
   "outputs": [
    {
     "name": "stdout",
     "output_type": "stream",
     "text": [
      "Slope:0.42857142857142866\n",
      "y-Intercept: 4.0\n"
     ]
    }
   ],
   "source": [
    "m, b = slope_intercept(x, y)\n",
    "\n",
    "print(f'Slope:{m}\\ny-Intercept: {b}')"
   ]
  },
  {
   "cell_type": "markdown",
   "metadata": {},
   "source": [
    "Now we will define a function with the slope and y_intercept defined earlier, allowing us to predict any $y$ value given an input $x$ value."
   ]
  },
  {
   "cell_type": "code",
   "execution_count": 34,
   "metadata": {},
   "outputs": [],
   "source": [
    "def predict_y(x):\n",
    "    \n",
    "    y = (m*x) + b\n",
    "    \n",
    "    return y"
   ]
  },
  {
   "cell_type": "code",
   "execution_count": 35,
   "metadata": {},
   "outputs": [
    {
     "name": "stdout",
     "output_type": "stream",
     "text": [
      "6.700000000000001\n"
     ]
    }
   ],
   "source": [
    "x_predict = 6.3\n",
    "\n",
    "y_predict = predict_y(x_predict)\n",
    "\n",
    "print(y_predict)"
   ]
  },
  {
   "cell_type": "markdown",
   "metadata": {},
   "source": [
    "Then we can populate all the <em>predicted</em> $y$ values from out actual $x$ values."
   ]
  },
  {
   "cell_type": "code",
   "execution_count": 36,
   "metadata": {},
   "outputs": [],
   "source": [
    "regression_line = [predict_y(observation) for observation in x]"
   ]
  },
  {
   "cell_type": "code",
   "execution_count": 9,
   "metadata": {},
   "outputs": [
    {
     "data": {
      "image/png": "[encoded data removed]",
      "text/plain": [
       "<Figure size 432x288 with 1 Axes>"
      ]
     },
     "metadata": {
      "needs_background": "light"
     },
     "output_type": "display_data"
    }
   ],
   "source": [
    "plt.scatter(x, y, color='#25DE00', label='Actuals')\n",
    "plt.plot(x, regression_line, color='red', label='Regression Line')\n",
    "plt.scatter(x_predict, y_predict, color='blue', label='Predicted')\n",
    "plt.legend()\n",
    "\n",
    "plt.show()"
   ]
  },
  {
   "cell_type": "code",
   "execution_count": 10,
   "metadata": {},
   "outputs": [
    {
     "data": {
      "text/html": [
       "<div>\n",
       "<style scoped>\n",
       "    .dataframe tbody tr th:only-of-type {\n",
       "        vertical-align: middle;\n",
       "    }\n",
       "\n",
       "    .dataframe tbody tr th {\n",
       "        vertical-align: top;\n",
       "    }\n",
       "\n",
       "    .dataframe thead th {\n",
       "        text-align: right;\n",
       "    }\n",
       "</style>\n",
       "<table border=\"1\" class=\"dataframe\">\n",
       "  <thead>\n",
       "    <tr style=\"text-align: right;\">\n",
       "      <th></th>\n",
       "      <th>Adj. Close</th>\n",
       "      <th>Open-Close Percent Change</th>\n",
       "      <th>High-Low Percent Change</th>\n",
       "      <th>Adj. Volume</th>\n",
       "      <th>Forecast</th>\n",
       "    </tr>\n",
       "    <tr>\n",
       "      <th>Date</th>\n",
       "      <th></th>\n",
       "      <th></th>\n",
       "      <th></th>\n",
       "      <th></th>\n",
       "      <th></th>\n",
       "    </tr>\n",
       "  </thead>\n",
       "  <tbody>\n",
       "    <tr>\n",
       "      <th>2004-08-19</th>\n",
       "      <td>50.322842</td>\n",
       "      <td>0.324968</td>\n",
       "      <td>8.441017</td>\n",
       "      <td>44659000.0</td>\n",
       "      <td>109.713676</td>\n",
       "    </tr>\n",
       "    <tr>\n",
       "      <th>2004-08-20</th>\n",
       "      <td>54.322689</td>\n",
       "      <td>7.227007</td>\n",
       "      <td>8.537313</td>\n",
       "      <td>22834300.0</td>\n",
       "      <td>110.230270</td>\n",
       "    </tr>\n",
       "    <tr>\n",
       "      <th>2004-08-23</th>\n",
       "      <td>54.869377</td>\n",
       "      <td>-1.227880</td>\n",
       "      <td>4.062357</td>\n",
       "      <td>18256100.0</td>\n",
       "      <td>110.064759</td>\n",
       "    </tr>\n",
       "    <tr>\n",
       "      <th>2004-08-24</th>\n",
       "      <td>52.597363</td>\n",
       "      <td>-5.726357</td>\n",
       "      <td>7.753210</td>\n",
       "      <td>15247300.0</td>\n",
       "      <td>110.340611</td>\n",
       "    </tr>\n",
       "    <tr>\n",
       "      <th>2004-08-25</th>\n",
       "      <td>53.164113</td>\n",
       "      <td>1.183658</td>\n",
       "      <td>3.966115</td>\n",
       "      <td>9188600.0</td>\n",
       "      <td>111.489156</td>\n",
       "    </tr>\n",
       "  </tbody>\n",
       "</table>\n",
       "</div>"
      ],
      "text/plain": [
       "            Adj. Close  Open-Close Percent Change  High-Low Percent Change  \\\n",
       "Date                                                                         \n",
       "2004-08-19   50.322842                   0.324968                 8.441017   \n",
       "2004-08-20   54.322689                   7.227007                 8.537313   \n",
       "2004-08-23   54.869377                  -1.227880                 4.062357   \n",
       "2004-08-24   52.597363                  -5.726357                 7.753210   \n",
       "2004-08-25   53.164113                   1.183658                 3.966115   \n",
       "\n",
       "            Adj. Volume    Forecast  \n",
       "Date                                 \n",
       "2004-08-19   44659000.0  109.713676  \n",
       "2004-08-20   22834300.0  110.230270  \n",
       "2004-08-23   18256100.0  110.064759  \n",
       "2004-08-24   15247300.0  110.340611  \n",
       "2004-08-25    9188600.0  111.489156  "
      ]
     },
     "metadata": {},
     "output_type": "display_data"
    }
   ],
   "source": [
    "# Raise errors, instead of give warnings\n",
    "pd.set_option('mode.chained_Assignment', 'raise')\n",
    "\n",
    "# Define GOOGL data file path\n",
    "GOOGL_data_file_path = os.path.join('Data','stocks.csv')\n",
    "\n",
    "# Preview data\n",
    "stocks = pd.read_csv(GOOGL_data_file_path, index_col='Date')\n",
    "display(stocks.head())"
   ]
  },
  {
   "cell_type": "code",
   "execution_count": 11,
   "metadata": {},
   "outputs": [],
   "source": [
    "X = np.array(stocks.drop(['Forecast'], 1))\n",
    "y = np.array(stocks['Forecast'])"
   ]
  },
  {
   "cell_type": "code",
   "execution_count": 12,
   "metadata": {},
   "outputs": [
    {
     "data": {
      "text/plain": [
       "array([5.03228418e+01, 3.24967503e-01, 8.44101709e+00, 4.46590000e+07])"
      ]
     },
     "execution_count": 12,
     "metadata": {},
     "output_type": "execute_result"
    }
   ],
   "source": [
    "X[0]"
   ]
  },
  {
   "cell_type": "code",
   "execution_count": 13,
   "metadata": {},
   "outputs": [
    {
     "data": {
      "text/plain": [
       "11164764.772206597"
      ]
     },
     "execution_count": 13,
     "metadata": {},
     "output_type": "execute_result"
    }
   ],
   "source": [
    "np.mean(X[0])"
   ]
  },
  {
   "cell_type": "code",
   "execution_count": 14,
   "metadata": {},
   "outputs": [
    {
     "data": {
      "text/plain": [
       "409.05788478499363"
      ]
     },
     "execution_count": 14,
     "metadata": {},
     "output_type": "execute_result"
    }
   ],
   "source": [
    "np.mean(X[:,0])"
   ]
  },
  {
   "cell_type": "code",
   "execution_count": 15,
   "metadata": {},
   "outputs": [
    {
     "data": {
      "text/plain": [
       "11164764.772206597"
      ]
     },
     "execution_count": 15,
     "metadata": {},
     "output_type": "execute_result"
    }
   ],
   "source": [
    "np.mean(X[0])"
   ]
  },
  {
   "cell_type": "code",
   "execution_count": 16,
   "metadata": {},
   "outputs": [
    {
     "data": {
      "text/plain": [
       "array([ 4.09057885e+02, -2.50302360e-02,  2.15670285e+00,  7.81856760e+06])"
      ]
     },
     "execution_count": 16,
     "metadata": {},
     "output_type": "execute_result"
    }
   ],
   "source": [
    "np.mean(X, axis=0)"
   ]
  },
  {
   "cell_type": "code",
   "execution_count": 17,
   "metadata": {},
   "outputs": [
    {
     "data": {
      "text/plain": [
       "array([11164764.7722066 ,  5708592.5217524 ,  4564039.42596328, ...,\n",
       "         603636.31964245,   818367.06005411,   735491.32351958])"
      ]
     },
     "execution_count": 17,
     "metadata": {},
     "output_type": "execute_result"
    }
   ],
   "source": [
    "np.mean(X, axis=1)"
   ]
  },
  {
   "cell_type": "code",
   "execution_count": 18,
   "metadata": {},
   "outputs": [
    {
     "data": {
      "text/plain": [
       "1954744.696556991"
      ]
     },
     "execution_count": 18,
     "metadata": {},
     "output_type": "execute_result"
    }
   ],
   "source": [
    "n = 0\n",
    "l = 0\n",
    "\n",
    "for i in X:\n",
    "    for j in i:\n",
    "        n+= j\n",
    "        l += 1\n",
    "\n",
    "n / l"
   ]
  },
  {
   "cell_type": "code",
   "execution_count": 19,
   "metadata": {},
   "outputs": [
    {
     "data": {
      "text/plain": [
       "1954744.6965569898"
      ]
     },
     "execution_count": 19,
     "metadata": {},
     "output_type": "execute_result"
    }
   ],
   "source": [
    "np.mean(X)"
   ]
  },
  {
   "cell_type": "code",
   "execution_count": 20,
   "metadata": {},
   "outputs": [],
   "source": [
    "import math\n",
    "forecast_out = math.ceil(0.05*len(stocks))"
   ]
  },
  {
   "cell_type": "code",
   "execution_count": 21,
   "metadata": {},
   "outputs": [],
   "source": [
    "X_known = X[:-forecast_out]\n",
    "y_known = y[:-forecast_out]"
   ]
  },
  {
   "cell_type": "code",
   "execution_count": 22,
   "metadata": {},
   "outputs": [],
   "source": [
    "from sklearn.preprocessing import StandardScaler\n",
    "from sklearn.model_selection import train_test_split\n",
    "from sklearn.linear_model import LinearRegression"
   ]
  },
  {
   "cell_type": "code",
   "execution_count": 23,
   "metadata": {},
   "outputs": [],
   "source": [
    "# Initialize scaler\n",
    "scaler = StandardScaler()\n",
    "\n",
    "# Fit data to scaler\n",
    "scaler.fit(X_known, y_known)\n",
    "\n",
    "# Scale features\n",
    "X_known = scaler.transform(X_known)\n",
    "\n",
    "X_train, x_test, y_train, y_test = train_test_split(X_known, y_known, test_size=0.2)"
   ]
  },
  {
   "cell_type": "code",
   "execution_count": 24,
   "metadata": {},
   "outputs": [
    {
     "ename": "ValueError",
     "evalue": "operands could not be broadcast together with shapes (2601,4) (2601,) ",
     "output_type": "error",
     "traceback": [
      "\u001b[1;31m---------------------------------------------------------------------------\u001b[0m",
      "\u001b[1;31mValueError\u001b[0m                                Traceback (most recent call last)",
      "\u001b[1;32m<ipython-input-24-7113aeaecb20>\u001b[0m in \u001b[0;36m<module>\u001b[1;34m\u001b[0m\n\u001b[1;32m----> 1\u001b[1;33m \u001b[0mm\u001b[0m\u001b[1;33m,\u001b[0m \u001b[0mb\u001b[0m \u001b[1;33m=\u001b[0m \u001b[0mslope_intercept\u001b[0m\u001b[1;33m(\u001b[0m\u001b[0mX_train\u001b[0m\u001b[1;33m,\u001b[0m \u001b[0my_train\u001b[0m\u001b[1;33m)\u001b[0m\u001b[1;33m\u001b[0m\u001b[1;33m\u001b[0m\u001b[0m\n\u001b[0m",
      "\u001b[1;32m<ipython-input-4-ec7c863694a3>\u001b[0m in \u001b[0;36mslope_intercept\u001b[1;34m(x, y)\u001b[0m\n\u001b[0;32m      1\u001b[0m \u001b[1;32mdef\u001b[0m \u001b[0mslope_intercept\u001b[0m\u001b[1;33m(\u001b[0m\u001b[0mx\u001b[0m\u001b[1;33m,\u001b[0m \u001b[0my\u001b[0m\u001b[1;33m)\u001b[0m\u001b[1;33m:\u001b[0m\u001b[1;33m\u001b[0m\u001b[1;33m\u001b[0m\u001b[0m\n\u001b[0;32m      2\u001b[0m \u001b[1;33m\u001b[0m\u001b[0m\n\u001b[1;32m----> 3\u001b[1;33m     \u001b[0mm_numerator\u001b[0m \u001b[1;33m=\u001b[0m \u001b[1;33m(\u001b[0m \u001b[1;33m(\u001b[0m\u001b[0mnp\u001b[0m\u001b[1;33m.\u001b[0m\u001b[0mmean\u001b[0m\u001b[1;33m(\u001b[0m\u001b[0mx\u001b[0m\u001b[1;33m)\u001b[0m\u001b[1;33m*\u001b[0m\u001b[0mnp\u001b[0m\u001b[1;33m.\u001b[0m\u001b[0mmean\u001b[0m\u001b[1;33m(\u001b[0m\u001b[0my\u001b[0m\u001b[1;33m)\u001b[0m\u001b[1;33m)\u001b[0m \u001b[1;33m-\u001b[0m \u001b[0mnp\u001b[0m\u001b[1;33m.\u001b[0m\u001b[0mmean\u001b[0m\u001b[1;33m(\u001b[0m\u001b[0mx\u001b[0m\u001b[1;33m*\u001b[0m\u001b[0my\u001b[0m\u001b[1;33m)\u001b[0m \u001b[1;33m)\u001b[0m\u001b[1;33m\u001b[0m\u001b[1;33m\u001b[0m\u001b[0m\n\u001b[0m\u001b[0;32m      4\u001b[0m     \u001b[0mm_denominator\u001b[0m \u001b[1;33m=\u001b[0m \u001b[1;33m(\u001b[0m \u001b[0mnp\u001b[0m\u001b[1;33m.\u001b[0m\u001b[0mmean\u001b[0m\u001b[1;33m(\u001b[0m\u001b[0mx\u001b[0m\u001b[1;33m)\u001b[0m\u001b[1;33m**\u001b[0m\u001b[1;36m2\u001b[0m \u001b[1;33m-\u001b[0m \u001b[0mnp\u001b[0m\u001b[1;33m.\u001b[0m\u001b[0mmean\u001b[0m\u001b[1;33m(\u001b[0m\u001b[0mx\u001b[0m\u001b[1;33m**\u001b[0m\u001b[1;36m2\u001b[0m\u001b[1;33m)\u001b[0m\u001b[1;33m)\u001b[0m\u001b[1;33m\u001b[0m\u001b[1;33m\u001b[0m\u001b[0m\n\u001b[0;32m      5\u001b[0m \u001b[1;33m\u001b[0m\u001b[0m\n",
      "\u001b[1;31mValueError\u001b[0m: operands could not be broadcast together with shapes (2601,4) (2601,) "
     ]
    }
   ],
   "source": [
    "m, b = slope_intercept(X_train, y_train)"
   ]
  },
  {
   "cell_type": "markdown",
   "metadata": {},
   "source": [
    "# Coefficient of Determination\n",
    "\n",
    "Coefficient of Determination is one way of measuring how well a line fits a dataset.\n",
    "\n",
    "calculated using squared error calculated usin squared errors$^{2}$\n",
    "\n",
    "$$\n",
    "r^{2} = 1 - \\frac{SE(\\hat{y})}{SE(\\overline{y})}\n",
    "$$\n",
    "\n",
    "Where SE() is the squared error"
   ]
  },
  {
   "cell_type": "code",
   "execution_count": 27,
   "metadata": {},
   "outputs": [],
   "source": [
    "def squared_error(y_actual, y_predicted):\n",
    "    \n",
    "    return sum( (y_predicted - y_actual)**2 )"
   ]
  },
  {
   "cell_type": "code",
   "execution_count": 28,
   "metadata": {},
   "outputs": [],
   "source": [
    "def coefficient_of_determination(y_actual, y_predicted):\n",
    "    \n",
    "    y_mean_line = [np.mean(y_actual) for y in y_actual]\n",
    "    \n",
    "    regression_squared_error = squared_error(y_actual, y_predicted)\n",
    "    \n",
    "    squared_error_y_mean = squared_error(y_actual, y_mean_line)\n",
    "    \n",
    "    return 1 - (regression_squared_error / squared_error_y_mean)"
   ]
  },
  {
   "cell_type": "code",
   "execution_count": 38,
   "metadata": {},
   "outputs": [
    {
     "name": "stdout",
     "output_type": "stream",
     "text": [
      "0.5844155844155845\n"
     ]
    }
   ],
   "source": [
    "r_squared = coefficient_of_determination(y, regression_line)\n",
    "print(r_squared)"
   ]
  },
  {
   "cell_type": "code",
   "execution_count": null,
   "metadata": {},
   "outputs": [],
   "source": []
  },
  {
   "cell_type": "code",
   "execution_count": null,
   "metadata": {},
   "outputs": [],
   "source": []
  },
  {
   "cell_type": "code",
   "execution_count": null,
   "metadata": {},
   "outputs": [],
   "source": []
  },
  {
   "cell_type": "code",
   "execution_count": null,
   "metadata": {},
   "outputs": [],
   "source": []
  },
  {
   "cell_type": "markdown",
   "metadata": {},
   "source": [
    "# Sources:\n",
    "\n",
    "1. <a href='https://pythonprogramming.net/simple-linear-regression-machine-learning-tutorial/' target='_blank'>Regression - Theory and how it works</a>\n",
    "2. <a href='https://pythonprogramming.net/r-squared-coefficient-of-determination-machine-learning-tutorial/' target='_blank'>Regression - R Squared and Coefficient of Determination Theory</a>\n",
    "2. <a href='https://medium.com/analytics-vidhya/how-does-linear-regression-work-implementation-with-sklearn-e5a850eddc89' target='_blank'>How does Linear Regression work? Implementation with sklearn.\n",
    "</a>\n",
    "3. <a href='https://www.kdnuggets.com/2019/03/beginners-guide-linear-regression-python-scikit-learn.html' target='_blank'>A Beginner’s Guide to Linear Regression in Python with Scikit-Learn</a>\n",
    "4. <a href='https://www.educative.io/edpresso/a-deep-dive-into-linear-regression-3-way-implementation' target='_blank'>A deep dive into linear regression (3-way implementation)</a>\n",
    "5. <a href='https://medium.com/@ktv0303/simple-linear-regression-or-linear-regression-with-one-variable-2c37d5ba4fe' target='_blank'>Simple Linear Regression or Linear Regression with One Variable</a>\n",
    "6. <a href='https://medium.com/@sdoshi579/linear-regression-from-basic-bfe2be9e06ea' target='_blank'>Linear Regression from basic</a>\n",
    "7. <a href='https://stackabuse.com/linear-regression-in-python-with-scikit-learn/' target='_blank'>Linear Regression in Python with Scikit-Learn</a>"
   ]
  },
  {
   "cell_type": "code",
   "execution_count": null,
   "metadata": {},
   "outputs": [],
   "source": []
  }
 ],
 "metadata": {
  "kernelspec": {
   "display_name": "Python 3",
   "language": "python",
   "name": "python3"
  },
  "language_info": {
   "codemirror_mode": {
    "name": "ipython",
    "version": 3
   },
   "file_extension": ".py",
   "mimetype": "text/x-python",
   "name": "python",
   "nbconvert_exporter": "python",
   "pygments_lexer": "ipython3",
   "version": "3.7.1"
  }
 },
 "nbformat": 4,
 "nbformat_minor": 4
}

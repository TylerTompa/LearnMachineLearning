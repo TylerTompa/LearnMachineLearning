{
 "cells": [
  {
   "cell_type": "markdown",
   "metadata": {},
   "source": [
    "# Linear Regression: Pickling\n",
    "\n",
    "Though pickling is not unique to linear regression, or even machine learning at all, it is often employed in machine learning.  In Notebook 3 Section 7, we saved our classifier and scaler as files using pickling; in this notebook, we will unpickle these, and reperform future stock price predictions, without retraining our classifier, or refitting a scaler."
   ]
  },
  {
   "cell_type": "markdown",
   "metadata": {},
   "source": [
    "# 1. General Setup"
   ]
  },
  {
   "cell_type": "code",
   "execution_count": 1,
   "metadata": {},
   "outputs": [],
   "source": [
    "# Import analytics libraries\n",
    "import pandas as pd\n",
    "import numpy as np\n",
    "\n",
    "# Import support dependencies\n",
    "import os\n",
    "import pickle"
   ]
  },
  {
   "cell_type": "code",
   "execution_count": 2,
   "metadata": {},
   "outputs": [],
   "source": [
    "# Raise errors, instead of give warnings\n",
    "pd.set_option('mode.chained_Assignment', 'raise')"
   ]
  },
  {
   "cell_type": "code",
   "execution_count": 3,
   "metadata": {},
   "outputs": [
    {
     "data": {
      "text/html": [
       "<div>\n",
       "<style scoped>\n",
       "    .dataframe tbody tr th:only-of-type {\n",
       "        vertical-align: middle;\n",
       "    }\n",
       "\n",
       "    .dataframe tbody tr th {\n",
       "        vertical-align: top;\n",
       "    }\n",
       "\n",
       "    .dataframe thead th {\n",
       "        text-align: right;\n",
       "    }\n",
       "</style>\n",
       "<table border=\"1\" class=\"dataframe\">\n",
       "  <thead>\n",
       "    <tr style=\"text-align: right;\">\n",
       "      <th></th>\n",
       "      <th>Adj. Close</th>\n",
       "      <th>Open-Close Percent Change</th>\n",
       "      <th>High-Low Percent Change</th>\n",
       "      <th>Adj. Volume</th>\n",
       "      <th>Forecast</th>\n",
       "    </tr>\n",
       "    <tr>\n",
       "      <th>Date</th>\n",
       "      <th></th>\n",
       "      <th></th>\n",
       "      <th></th>\n",
       "      <th></th>\n",
       "      <th></th>\n",
       "    </tr>\n",
       "  </thead>\n",
       "  <tbody>\n",
       "    <tr>\n",
       "      <th>2004-08-19</th>\n",
       "      <td>50.322842</td>\n",
       "      <td>0.324968</td>\n",
       "      <td>8.441017</td>\n",
       "      <td>44659000.0</td>\n",
       "      <td>109.713676</td>\n",
       "    </tr>\n",
       "    <tr>\n",
       "      <th>2004-08-20</th>\n",
       "      <td>54.322689</td>\n",
       "      <td>7.227007</td>\n",
       "      <td>8.537313</td>\n",
       "      <td>22834300.0</td>\n",
       "      <td>110.230270</td>\n",
       "    </tr>\n",
       "    <tr>\n",
       "      <th>2004-08-23</th>\n",
       "      <td>54.869377</td>\n",
       "      <td>-1.227880</td>\n",
       "      <td>4.062357</td>\n",
       "      <td>18256100.0</td>\n",
       "      <td>110.064759</td>\n",
       "    </tr>\n",
       "    <tr>\n",
       "      <th>2004-08-24</th>\n",
       "      <td>52.597363</td>\n",
       "      <td>-5.726357</td>\n",
       "      <td>7.753210</td>\n",
       "      <td>15247300.0</td>\n",
       "      <td>110.340611</td>\n",
       "    </tr>\n",
       "    <tr>\n",
       "      <th>2004-08-25</th>\n",
       "      <td>53.164113</td>\n",
       "      <td>1.183658</td>\n",
       "      <td>3.966115</td>\n",
       "      <td>9188600.0</td>\n",
       "      <td>111.489156</td>\n",
       "    </tr>\n",
       "  </tbody>\n",
       "</table>\n",
       "</div>"
      ],
      "text/plain": [
       "            Adj. Close  Open-Close Percent Change  High-Low Percent Change  \\\n",
       "Date                                                                         \n",
       "2004-08-19   50.322842                   0.324968                 8.441017   \n",
       "2004-08-20   54.322689                   7.227007                 8.537313   \n",
       "2004-08-23   54.869377                  -1.227880                 4.062357   \n",
       "2004-08-24   52.597363                  -5.726357                 7.753210   \n",
       "2004-08-25   53.164113                   1.183658                 3.966115   \n",
       "\n",
       "            Adj. Volume    Forecast  \n",
       "Date                                 \n",
       "2004-08-19   44659000.0  109.713676  \n",
       "2004-08-20   22834300.0  110.230270  \n",
       "2004-08-23   18256100.0  110.064759  \n",
       "2004-08-24   15247300.0  110.340611  \n",
       "2004-08-25    9188600.0  111.489156  "
      ]
     },
     "metadata": {},
     "output_type": "display_data"
    }
   ],
   "source": [
    "# Define GOOGL data file path\n",
    "GOOGL_data_file_path = os.path.join('Data','stocks.csv')\n",
    "\n",
    "# Preview data\n",
    "stocks = pd.read_csv(GOOGL_data_file_path, index_col='Date')\n",
    "display(stocks.head())"
   ]
  },
  {
   "cell_type": "markdown",
   "metadata": {},
   "source": [
    "# 2. Repredict Forecast\n",
    "\n",
    "In Notebook 3 Section 7, we used the pickle.dump() method to save our classifier and scaler into files.  When we want to load these files into a new script, we use the pickle.load() method."
   ]
  },
  {
   "cell_type": "code",
   "execution_count": 4,
   "metadata": {},
   "outputs": [
    {
     "name": "stdout",
     "output_type": "stream",
     "text": [
      "False\n",
      "False\n",
      "True\n",
      "True\n"
     ]
    }
   ],
   "source": [
    "# Define classifier & scaler file paths\n",
    "classifier_file_path = os.path.join('Classifiers', 'GOOGL Regression')\n",
    "scaler_file_path = os.path.join('Classifiers', 'GOOGL Scaler')\n",
    "\n",
    "pickle_in_stocks_classifier = open(classifier_file_path, 'rb')\n",
    "pickle_in_stocks_scaler = open(scaler_file_path, 'rb')\n",
    "\n",
    "# Confirm files open\n",
    "print(pickle_in_stocks_classifier.closed)\n",
    "print(pickle_in_stocks_scaler.closed)\n",
    "\n",
    "# Load in classifier & scaler\n",
    "clf = pickle.load(pickle_in_stocks_classifier)\n",
    "scaler = pickle.load(pickle_in_stocks_scaler)\n",
    "\n",
    "# Close files\n",
    "pickle_in_stocks_classifier.close()\n",
    "pickle_in_stocks_scaler.close()\n",
    "\n",
    "# Confirm files closed\n",
    "print(pickle_in_stocks_classifier.closed)\n",
    "print(pickle_in_stocks_scaler.closed)"
   ]
  },
  {
   "cell_type": "markdown",
   "metadata": {},
   "source": [
    "## 2.1 Recreate Forecastless Features"
   ]
  },
  {
   "cell_type": "code",
   "execution_count": 5,
   "metadata": {},
   "outputs": [],
   "source": [
    "# define features\n",
    "X = np.array(stocks.drop(['Forecast'], 1))\n",
    "\n",
    "# Create copies of original data\n",
    "X_original = X.copy(order='C')\n",
    "\n",
    "# Define forecast percentage\n",
    "import math\n",
    "forecast_out = math.ceil(0.05*len(stocks))\n",
    "\n",
    "# Define forecastless features as the point of features without a forecast until the end\n",
    "X_no_forecast = X[-forecast_out:]"
   ]
  },
  {
   "cell_type": "markdown",
   "metadata": {},
   "source": [
    "## 2.2 Rescale And Reperform Prediction"
   ]
  },
  {
   "cell_type": "code",
   "execution_count": 6,
   "metadata": {},
   "outputs": [
    {
     "data": {
      "text/plain": [
       "array([1111.04073806, 1113.33428731, 1118.0062465 , 1085.29074295,\n",
       "       1081.04189798, 1065.5445191 , 1073.76450014, 1058.49004614,\n",
       "       1060.62701044, 1061.47587979, 1053.36210613, 1059.96075796,\n",
       "       1059.89339246, 1058.00069572, 1053.49879391, 1034.43604008,\n",
       "       1042.43814701, 1052.32277651, 1051.29115512, 1058.20773748,\n",
       "       1038.78744322, 1038.0675985 , 1031.91817947, 1053.97113089,\n",
       "       1056.40808718, 1049.38688975, 1042.45533662, 1040.08641168,\n",
       "       1048.75347506, 1057.58129215, 1070.54714466, 1066.59614818,\n",
       "       1054.52654567, 1055.43843007, 1064.40429226, 1054.60898962,\n",
       "       1056.79263696, 1060.70592673, 1065.22510778, 1053.30230019,\n",
       "       1047.897759  , 1041.6895236 , 1049.91555432, 1061.93495219,\n",
       "       1061.56037817, 1057.03890626, 1046.53312411, 1050.55596898,\n",
       "       1075.39794493, 1081.19936919, 1091.09684278, 1083.34839238,\n",
       "       1089.1943442 , 1083.03276916, 1103.71898137, 1113.18343566,\n",
       "       1111.48574393, 1105.9736324 , 1126.45184356, 1126.38793275,\n",
       "       1128.88725021, 1130.44615748, 1132.49703053, 1134.25077509,\n",
       "       1122.01049399, 1125.79900161, 1102.76725412, 1107.23268878,\n",
       "       1110.43624813, 1110.01236366, 1156.31059097, 1156.68006372,\n",
       "       1156.60434438, 1167.44910732, 1167.6516852 , 1175.75576575,\n",
       "       1167.32322137, 1178.39928661, 1172.89477124, 1169.38596703,\n",
       "       1165.93707389, 1166.38025124, 1160.66805302, 1174.12142724,\n",
       "       1159.23742886, 1158.76097562, 1176.28218027, 1177.92931358,\n",
       "       1183.08455314, 1200.19754792, 1189.45826311, 1160.18087827,\n",
       "       1159.96986047, 1147.30890771, 1132.21076074, 1141.0391303 ,\n",
       "       1156.34719265, 1169.74513523, 1174.87942724, 1177.8166913 ,\n",
       "       1173.93012122, 1177.24257619, 1183.8876555 , 1200.11244728,\n",
       "       1214.69234099, 1208.57825161, 1201.53538497, 1198.78642259,\n",
       "       1196.87418954, 1193.2161046 , 1186.8344786 , 1182.04562542,\n",
       "       1179.59293452, 1201.54924143, 1221.84166898, 1226.52768255,\n",
       "       1242.83889533, 1247.20793978, 1245.31893733, 1242.69854677,\n",
       "       1244.54269486, 1265.40077589, 1264.6353438 , 1274.59320313,\n",
       "       1270.92690977, 1279.74449796, 1302.60104412, 1316.05849374,\n",
       "       1309.78020962, 1322.52288581, 1328.24503095, 1327.23691729,\n",
       "       1317.14931718, 1322.47978106, 1321.79339337, 1251.82735774,\n",
       "       1193.46903606, 1213.41064882, 1179.83178885, 1122.40210986,\n",
       "       1166.80928322, 1180.19838959, 1180.21386182, 1200.79158558,\n",
       "       1221.17699713, 1226.03517251, 1234.90983125, 1245.92413645,\n",
       "       1241.59192108, 1262.35719691, 1280.00741608, 1249.27190336,\n",
       "       1234.47631099, 1196.88893703, 1213.26066109, 1225.15572609,\n",
       "       1232.19612759, 1247.98282331, 1264.12144026, 1298.84924743,\n",
       "       1304.23640587, 1273.41861867, 1285.41127073, 1286.90431525,\n",
       "       1268.30047379, 1229.93459221, 1225.93515915, 1224.15003251,\n",
       "       1177.26147087, 1147.40104496, 1178.54422039, 1123.43771238])"
      ]
     },
     "execution_count": 6,
     "metadata": {},
     "output_type": "execute_result"
    }
   ],
   "source": [
    "# Scale features\n",
    "X_no_forecast = scaler.transform(X_no_forecast)\n",
    "\n",
    "# Preddict forecast\n",
    "clf.predict(X_no_forecast)"
   ]
  },
  {
   "cell_type": "markdown",
   "metadata": {},
   "source": [
    "Above, we prepredicted our stock forecast, without having to refit a scaler, or retrain a classifier; notice that we did not even import Scikit-learn!  Compare the forecast values to those Notebook 4 Section 5.  This is pickling."
   ]
  },
  {
   "cell_type": "markdown",
   "metadata": {},
   "source": [
    "# Sources\n",
    "1. <a href='https://pythonprogramming.net/python-pickle-module-save-objects-serialization/' target='_blank'>Python Pickle Module for saving Objects by serialization</a>"
   ]
  }
 ],
 "metadata": {
  "kernelspec": {
   "display_name": "Python 3",
   "language": "python",
   "name": "python3"
  },
  "language_info": {
   "codemirror_mode": {
    "name": "ipython",
    "version": 3
   },
   "file_extension": ".py",
   "mimetype": "text/x-python",
   "name": "python",
   "nbconvert_exporter": "python",
   "pygments_lexer": "ipython3",
   "version": "3.7.1"
  }
 },
 "nbformat": 4,
 "nbformat_minor": 4
}

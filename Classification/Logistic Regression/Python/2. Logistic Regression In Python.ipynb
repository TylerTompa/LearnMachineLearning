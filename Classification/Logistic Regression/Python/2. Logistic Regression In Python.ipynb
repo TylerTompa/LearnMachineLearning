{
 "cells": [
  {
   "cell_type": "markdown",
   "id": "3ffbee32",
   "metadata": {},
   "source": [
    "# Logistic Regression: Application\n",
    "\n",
    "In this notebook, we examine how to apply logistic regression in Python on a sample dataset containing information on whether an indiviudal purchased a product based on multiple variables.\n",
    "\n",
    "Sources:\n",
    "1. <a href='https://www.udemy.com/course/machinelearning/'>Machine Learning A-Z™: Hands-On Python & R In Data Science</a>\n",
    "2. <a href='https://scikit-learn.org/stable/modules/generated/sklearn.linear_model.LogisticRegression.html'>sklearn.linear_model.LogisticRegression</a>\n",
    "3. <a href='https://kiwidamien.github.io/are-you-sure-thats-a-probability.html'>Are you sure that's a probability?</a>\n",
    "4. <a href='https://www.datasciencecentral.com/understanding-type-i-and-type-ii-errors/'>Understanding Type I and Type II Errors</a>"
   ]
  },
  {
   "cell_type": "code",
   "execution_count": 1,
   "id": "9fc8e02e",
   "metadata": {},
   "outputs": [],
   "source": [
    "# Import analytical libraries\n",
    "import pandas as pd\n",
    "import numpy as np\n",
    "import matplotlib.pyplot as plt\n",
    "from matplotlib import style\n",
    "style.use('ggplot')\n",
    "\n",
    "# Import machine learning libraries\n",
    "from sklearn.model_selection import train_test_split\n",
    "from sklearn.preprocessing import StandardScaler\n",
    "from sklearn.linear_model import LogisticRegression\n",
    "from sklearn.metrics import confusion_matrix, ConfusionMatrixDisplay\n",
    "\n",
    "# Import other support\n",
    "import os"
   ]
  },
  {
   "cell_type": "markdown",
   "id": "79b35808",
   "metadata": {},
   "source": [
    "## Load & Preview Data"
   ]
  },
  {
   "cell_type": "code",
   "execution_count": 2,
   "id": "c3160a14",
   "metadata": {},
   "outputs": [],
   "source": [
    "# Define purchase data file path\n",
    "purchase_data_file_path = os.path.join('..', 'Data', 'Social_Network_Ads.csv')\n",
    "\n",
    "# Load purchase data\n",
    "purchases = pd.read_csv(purchase_data_file_path)"
   ]
  },
  {
   "cell_type": "code",
   "execution_count": 3,
   "id": "af59fd7c",
   "metadata": {},
   "outputs": [
    {
     "data": {
      "text/plain": [
       "(400, 3)"
      ]
     },
     "metadata": {},
     "output_type": "display_data"
    },
    {
     "data": {
      "text/html": [
       "<div>\n",
       "<style scoped>\n",
       "    .dataframe tbody tr th:only-of-type {\n",
       "        vertical-align: middle;\n",
       "    }\n",
       "\n",
       "    .dataframe tbody tr th {\n",
       "        vertical-align: top;\n",
       "    }\n",
       "\n",
       "    .dataframe thead th {\n",
       "        text-align: right;\n",
       "    }\n",
       "</style>\n",
       "<table border=\"1\" class=\"dataframe\">\n",
       "  <thead>\n",
       "    <tr style=\"text-align: right;\">\n",
       "      <th></th>\n",
       "      <th>Age</th>\n",
       "      <th>EstimatedSalary</th>\n",
       "      <th>Purchased</th>\n",
       "    </tr>\n",
       "  </thead>\n",
       "  <tbody>\n",
       "    <tr>\n",
       "      <th>0</th>\n",
       "      <td>19</td>\n",
       "      <td>19000</td>\n",
       "      <td>0</td>\n",
       "    </tr>\n",
       "    <tr>\n",
       "      <th>1</th>\n",
       "      <td>35</td>\n",
       "      <td>20000</td>\n",
       "      <td>0</td>\n",
       "    </tr>\n",
       "    <tr>\n",
       "      <th>2</th>\n",
       "      <td>26</td>\n",
       "      <td>43000</td>\n",
       "      <td>0</td>\n",
       "    </tr>\n",
       "    <tr>\n",
       "      <th>3</th>\n",
       "      <td>27</td>\n",
       "      <td>57000</td>\n",
       "      <td>0</td>\n",
       "    </tr>\n",
       "    <tr>\n",
       "      <th>4</th>\n",
       "      <td>19</td>\n",
       "      <td>76000</td>\n",
       "      <td>0</td>\n",
       "    </tr>\n",
       "  </tbody>\n",
       "</table>\n",
       "</div>"
      ],
      "text/plain": [
       "   Age  EstimatedSalary  Purchased\n",
       "0   19            19000          0\n",
       "1   35            20000          0\n",
       "2   26            43000          0\n",
       "3   27            57000          0\n",
       "4   19            76000          0"
      ]
     },
     "metadata": {},
     "output_type": "display_data"
    },
    {
     "data": {
      "text/html": [
       "<div>\n",
       "<style scoped>\n",
       "    .dataframe tbody tr th:only-of-type {\n",
       "        vertical-align: middle;\n",
       "    }\n",
       "\n",
       "    .dataframe tbody tr th {\n",
       "        vertical-align: top;\n",
       "    }\n",
       "\n",
       "    .dataframe thead th {\n",
       "        text-align: right;\n",
       "    }\n",
       "</style>\n",
       "<table border=\"1\" class=\"dataframe\">\n",
       "  <thead>\n",
       "    <tr style=\"text-align: right;\">\n",
       "      <th></th>\n",
       "      <th>Age</th>\n",
       "      <th>EstimatedSalary</th>\n",
       "      <th>Purchased</th>\n",
       "    </tr>\n",
       "  </thead>\n",
       "  <tbody>\n",
       "    <tr>\n",
       "      <th>count</th>\n",
       "      <td>400.000000</td>\n",
       "      <td>400.000000</td>\n",
       "      <td>400.000000</td>\n",
       "    </tr>\n",
       "    <tr>\n",
       "      <th>mean</th>\n",
       "      <td>37.655000</td>\n",
       "      <td>69742.500000</td>\n",
       "      <td>0.357500</td>\n",
       "    </tr>\n",
       "    <tr>\n",
       "      <th>std</th>\n",
       "      <td>10.482877</td>\n",
       "      <td>34096.960282</td>\n",
       "      <td>0.479864</td>\n",
       "    </tr>\n",
       "    <tr>\n",
       "      <th>min</th>\n",
       "      <td>18.000000</td>\n",
       "      <td>15000.000000</td>\n",
       "      <td>0.000000</td>\n",
       "    </tr>\n",
       "    <tr>\n",
       "      <th>25%</th>\n",
       "      <td>29.750000</td>\n",
       "      <td>43000.000000</td>\n",
       "      <td>0.000000</td>\n",
       "    </tr>\n",
       "    <tr>\n",
       "      <th>50%</th>\n",
       "      <td>37.000000</td>\n",
       "      <td>70000.000000</td>\n",
       "      <td>0.000000</td>\n",
       "    </tr>\n",
       "    <tr>\n",
       "      <th>75%</th>\n",
       "      <td>46.000000</td>\n",
       "      <td>88000.000000</td>\n",
       "      <td>1.000000</td>\n",
       "    </tr>\n",
       "    <tr>\n",
       "      <th>max</th>\n",
       "      <td>60.000000</td>\n",
       "      <td>150000.000000</td>\n",
       "      <td>1.000000</td>\n",
       "    </tr>\n",
       "  </tbody>\n",
       "</table>\n",
       "</div>"
      ],
      "text/plain": [
       "              Age  EstimatedSalary   Purchased\n",
       "count  400.000000       400.000000  400.000000\n",
       "mean    37.655000     69742.500000    0.357500\n",
       "std     10.482877     34096.960282    0.479864\n",
       "min     18.000000     15000.000000    0.000000\n",
       "25%     29.750000     43000.000000    0.000000\n",
       "50%     37.000000     70000.000000    0.000000\n",
       "75%     46.000000     88000.000000    1.000000\n",
       "max     60.000000    150000.000000    1.000000"
      ]
     },
     "metadata": {},
     "output_type": "display_data"
    },
    {
     "data": {
      "text/plain": [
       "Age                0\n",
       "EstimatedSalary    0\n",
       "Purchased          0\n",
       "dtype: int64"
      ]
     },
     "metadata": {},
     "output_type": "display_data"
    }
   ],
   "source": [
    "# Preview data\n",
    "display(purchases.shape)\n",
    "display(purchases.head())\n",
    "display(purchases.describe())\n",
    "display(purchases.isna().sum())"
   ]
  },
  {
   "cell_type": "markdown",
   "id": "757edd5b",
   "metadata": {},
   "source": [
    "## Prepare Data"
   ]
  },
  {
   "cell_type": "code",
   "execution_count": 4,
   "id": "43671871",
   "metadata": {},
   "outputs": [],
   "source": [
    "# Define features and labels\n",
    "X = purchases.drop(['Purchased'], axis=1).values\n",
    "y = purchases['Purchased'].values\n",
    "\n",
    "# Train-test split\n",
    "X_train, X_test, y_train, y_test = train_test_split(X, y, test_size=0.25, random_state=0)"
   ]
  },
  {
   "cell_type": "code",
   "execution_count": 5,
   "id": "d0852955",
   "metadata": {},
   "outputs": [],
   "source": [
    "# Initialize scalar\n",
    "scaler = StandardScaler()\n",
    "\n",
    "# Fit scaler to data\n",
    "scaler.fit(X_train)\n",
    "\n",
    "# Scale features\n",
    "X_train = scaler.transform(X_train)\n",
    "X_test = scaler.transform(X_test)"
   ]
  },
  {
   "cell_type": "markdown",
   "id": "7a37b63a",
   "metadata": {},
   "source": [
    "## Prepare Classifier"
   ]
  },
  {
   "cell_type": "code",
   "execution_count": 6,
   "id": "52016da8",
   "metadata": {},
   "outputs": [
    {
     "data": {
      "text/plain": [
       "LogisticRegression(random_state=0)"
      ]
     },
     "execution_count": 6,
     "metadata": {},
     "output_type": "execute_result"
    }
   ],
   "source": [
    "# Initialize regressor object\n",
    "classifier = LogisticRegression(random_state=0)\n",
    "\n",
    "# Fit regressor to data\n",
    "classifier.fit(X_train, y_train)"
   ]
  },
  {
   "cell_type": "markdown",
   "id": "a7662d7f",
   "metadata": {},
   "source": [
    "## Use Classifier\n",
    "\n",
    "At this stage we have \"built\" our machine learning classifier.  Now we will examine how we can use this on an example of an individual who did purchase the product.  Examining our original data, the first case who did not purchase the product is a 27 year old with a salary of 84000, while the first case of someone who did purchase the product is a 32 year old with a salary of 150,000."
   ]
  },
  {
   "cell_type": "code",
   "execution_count": 7,
   "id": "555933a0",
   "metadata": {},
   "outputs": [
    {
     "name": "stdout",
     "output_type": "stream",
     "text": [
      "[0 1]\n"
     ]
    }
   ],
   "source": [
    "# Create example data point\n",
    "example_0 = np.array([27, 84000])\n",
    "example_1 = np.array([32, 150000])\n",
    "\n",
    "examples = np.array([example_0, example_1])\n",
    "\n",
    "# Scale example datapoint\n",
    "examples = scaler.transform(examples)\n",
    "\n",
    "# Predict class for example cases\n",
    "print(classifier.predict(examples))"
   ]
  },
  {
   "cell_type": "markdown",
   "id": "cbf510b9",
   "metadata": {},
   "source": [
    "Above we see that the first individual was predicted as class 0 (did not purchase the product), while the second individual was predicted as class 1 (did purchase the product).\n",
    "\n",
    "In addition to using the .predict() method, we may also use the .predict_prob() method, which returns the probability that an observation falls into each class."
   ]
  },
  {
   "cell_type": "code",
   "execution_count": 8,
   "id": "6001e469",
   "metadata": {
    "scrolled": true
   },
   "outputs": [
    {
     "name": "stdout",
     "output_type": "stream",
     "text": [
      "[[0.94139491 0.05860509]\n",
      " [0.40700336 0.59299664]]\n"
     ]
    }
   ],
   "source": [
    "print(classifier.predict_proba(examples))"
   ]
  },
  {
   "cell_type": "markdown",
   "id": "e3df743b",
   "metadata": {},
   "source": [
    "Above, we see that there is a 94% probabiltiy that the first example falls into class 0, and a 0.06% probability that this example falls into class 1.  In the second example, there is a 41% probability that this case falls into class 0, and a 59% probability that this case falls into class 1.  The probabilities for each case will always sum to 1.  When reading such a probabilties matrix, we can not only predict a datapoint's class, but also determine the confidence in that prediction.  In the first case, we predict that the data point falls into class 0, and we are 94% confident thereof, while in the second case, we predict that the datapoint fall1s into class 1, but we are only 59% confident thereof."
   ]
  },
  {
   "cell_type": "markdown",
   "id": "3b0da74d",
   "metadata": {},
   "source": [
    "## Examine Classifier Accuracy\n",
    "\n",
    "There are a number of ways to evaluate the classifier's performance.  Options include observing the accuracy, examining concated predictions and actuals, and using a confusion matrix.  We will first look at accuracy, which simple returns the percentage of correct predictions out of all predicitons made."
   ]
  },
  {
   "cell_type": "code",
   "execution_count": 9,
   "id": "efbd61da",
   "metadata": {},
   "outputs": [
    {
     "name": "stdout",
     "output_type": "stream",
     "text": [
      "0.89\n"
     ]
    }
   ],
   "source": [
    "# Test classifier\n",
    "print(classifier.score(X_test, y_test))"
   ]
  },
  {
   "cell_type": "markdown",
   "id": "f08a2536",
   "metadata": {},
   "source": [
    "The next method in evaluating the classifier is by concatenating actual values to predicted values.  In doing so, we will view each value side-by-side, to observe for ourselves how often they match."
   ]
  },
  {
   "cell_type": "code",
   "execution_count": 10,
   "id": "9840f35e",
   "metadata": {},
   "outputs": [],
   "source": [
    "# Predict purchase class for test points\n",
    "y_predict = classifier.predict(X_test)"
   ]
  },
  {
   "cell_type": "code",
   "execution_count": 11,
   "id": "a85bf078",
   "metadata": {},
   "outputs": [
    {
     "data": {
      "text/plain": [
       "array([[0, 0],\n",
       "       [0, 0],\n",
       "       [0, 0],\n",
       "       [0, 0],\n",
       "       [0, 0],\n",
       "       [0, 0],\n",
       "       [0, 0],\n",
       "       [1, 1],\n",
       "       [0, 0],\n",
       "       [1, 0],\n",
       "       [0, 0],\n",
       "       [0, 0],\n",
       "       [0, 0],\n",
       "       [0, 0],\n",
       "       [0, 0],\n",
       "       [0, 0],\n",
       "       [0, 0],\n",
       "       [0, 0],\n",
       "       [1, 1],\n",
       "       [0, 0],\n",
       "       [0, 0],\n",
       "       [1, 1],\n",
       "       [0, 0],\n",
       "       [1, 1],\n",
       "       [0, 0],\n",
       "       [1, 1],\n",
       "       [0, 0],\n",
       "       [0, 0],\n",
       "       [0, 0],\n",
       "       [0, 0],\n",
       "       [0, 0],\n",
       "       [0, 1],\n",
       "       [1, 1],\n",
       "       [0, 0],\n",
       "       [0, 0],\n",
       "       [0, 0],\n",
       "       [0, 0],\n",
       "       [0, 0],\n",
       "       [0, 0],\n",
       "       [1, 1],\n",
       "       [0, 0],\n",
       "       [0, 0],\n",
       "       [0, 0],\n",
       "       [0, 0],\n",
       "       [1, 1],\n",
       "       [0, 0],\n",
       "       [0, 0],\n",
       "       [1, 1],\n",
       "       [0, 0],\n",
       "       [1, 1],\n",
       "       [1, 1],\n",
       "       [0, 0],\n",
       "       [0, 0],\n",
       "       [0, 0],\n",
       "       [1, 1],\n",
       "       [0, 1],\n",
       "       [0, 0],\n",
       "       [0, 0],\n",
       "       [0, 1],\n",
       "       [0, 0],\n",
       "       [0, 0],\n",
       "       [1, 1],\n",
       "       [0, 0],\n",
       "       [0, 1],\n",
       "       [0, 0],\n",
       "       [1, 1],\n",
       "       [0, 0],\n",
       "       [0, 0],\n",
       "       [0, 0],\n",
       "       [0, 0],\n",
       "       [1, 1],\n",
       "       [0, 0],\n",
       "       [0, 0],\n",
       "       [0, 1],\n",
       "       [0, 0],\n",
       "       [0, 0],\n",
       "       [1, 0],\n",
       "       [0, 0],\n",
       "       [1, 1],\n",
       "       [1, 1],\n",
       "       [1, 1],\n",
       "       [1, 0],\n",
       "       [0, 0],\n",
       "       [0, 0],\n",
       "       [1, 1],\n",
       "       [1, 1],\n",
       "       [0, 0],\n",
       "       [1, 1],\n",
       "       [0, 1],\n",
       "       [0, 0],\n",
       "       [0, 0],\n",
       "       [1, 1],\n",
       "       [0, 0],\n",
       "       [0, 0],\n",
       "       [0, 0],\n",
       "       [0, 1],\n",
       "       [0, 0],\n",
       "       [0, 1],\n",
       "       [1, 1],\n",
       "       [1, 1]], dtype=int64)"
      ]
     },
     "execution_count": 11,
     "metadata": {},
     "output_type": "execute_result"
    }
   ],
   "source": [
    "# Get length of predictions array\n",
    "lenth_of_predictions = len(y_predict)\n",
    "\n",
    "# Define predicted values and actual test values\n",
    "y_predict = y_predict.reshape(lenth_of_predictions, 1)\n",
    "y_test = y_test.reshape(lenth_of_predictions,1)\n",
    "\n",
    "# Concatenate predicted and actual test values\n",
    "np.concatenate([y_predict, y_test], axis=1)"
   ]
  },
  {
   "cell_type": "markdown",
   "id": "04853cbc",
   "metadata": {},
   "source": [
    "Examining the above, we can examine our predicted value in the first column, and the actual classifiction in the second column.  In fact, see see that the first wrong prediction happens 10 rows in.\n",
    "\n",
    "Lastly, we can also use a confusion matrix.  A confusion matrix looks as follows:\n",
    "\n",
    "<table>\n",
    "    <tr><td colspan=2></td><td colspan=2>Predicted</td></tr>\n",
    "    <tr><td colspan=2></td><td>0</td><td>1</td></tr>\n",
    "    <tr><td rowspan=3>Actual</td></tr>\n",
    "    <tr><td>0</td><td>$a$</td><td>$b$</td></tr>\n",
    "    <tr><td>1</td><td>$c$</td><td>$d$</td></tr>\n",
    "</table>\n",
    "\n",
    "Therefore, the values may be interpreted as follows:\n",
    "<ul>\n",
    "    <li>$a$ represents datapoints we classified as 0 (will not purchase the product), and actually did not purchase.</li>\n",
    "    <li>$b$ represents datapoints we classified as 1 (will purchase the product), but did not actually purchase.</li>\n",
    "    <li>$c$ represents datapoints we classified as 0, but actually did purchase.</li>\n",
    "    <li>$d$ represents datapoints we classified as 1, and did actually purchase.</li>\n",
    "</ul>\n",
    "    \n",
    "\n",
    "Illustrated differently, a confusion matrix may be interpreted as follows:\n",
    "\n",
    "<table>\n",
    "    <tr><td>correcty predicted first class</td><td>incorrectly predicted second class</td></tr>\n",
    "    <tr><td>incorrectly predicted first class</td><td>correctly predicted second class</td></tr>\n",
    "</table>"
   ]
  },
  {
   "cell_type": "code",
   "execution_count": 12,
   "id": "aa1f370c",
   "metadata": {},
   "outputs": [
    {
     "data": {
      "text/plain": [
       "array([[65,  3],\n",
       "       [ 8, 24]], dtype=int64)"
      ]
     },
     "execution_count": 12,
     "metadata": {},
     "output_type": "execute_result"
    }
   ],
   "source": [
    "# Compute confusion matrix\n",
    "confusion_matrix(y_test, y_predict)"
   ]
  },
  {
   "cell_type": "markdown",
   "id": "da959b65",
   "metadata": {},
   "source": [
    "Examining the confusion matrix above, we see that we correctly predicted that 65 individudals would not purchase the product, and correctly predicted that 24 individuals would make the purchase.  We incorrectly predicted that 3 individuals would make the purchase, when they actually did not, and we incorrectly predicted that 8 individuals would not purchase the product, when they actually did.\n",
    "\n",
    "It is worth noting that in this particular case, we more often \"missed someone who would purchased the product\" than \"tried selling to someone who would not make the purchase.\"  These are known as \"type\" errors.  A type 1 error is a false positive; that is, we predicted something to be true (would make the purchase), when it was actually false (would not make the purchase).  A type 2 error is a false negative; that is, we predicted something to be false, when it was actually true$^4$.\n",
    "\n",
    "Lastly, recall that we have 400 datapoints in this dataset, and we defined the test set to be 25% of the data when splitting; this means that our test set has 100 observations.  If we add our correct predictions, we get 65+24=89, and 89 correct predictions out of 100 is 89%.  This is the accuracy that classifier.predict() returned earlier.  If you know the number of points in your dataset, you can add the number of correct predicitons in a confusion matrix, and divide by the dataset length, to compute the accuracy."
   ]
  },
  {
   "cell_type": "markdown",
   "id": "74d0b3d8",
   "metadata": {},
   "source": [
    "## Visualize Classifier\n",
    "\n",
    "In addition to returning the confusion matrix values in a numpy array, we can also visualize the confusion matrix using the ConfusionMatrixDisplay class."
   ]
  },
  {
   "cell_type": "code",
   "execution_count": 13,
   "id": "a290b7ce",
   "metadata": {},
   "outputs": [
    {
     "data": {
      "text/plain": [
       "<sklearn.metrics._plot.confusion_matrix.ConfusionMatrixDisplay at 0x23aa94e69a0>"
      ]
     },
     "execution_count": 13,
     "metadata": {},
     "output_type": "execute_result"
    },
    {
     "data": {
      "image/png": "[encoded data removed]",
      "text/plain": [
       "<Figure size 432x288 with 2 Axes>"
      ]
     },
     "metadata": {},
     "output_type": "display_data"
    }
   ],
   "source": [
    "# Define new figure and axis\n",
    "figure, axis = plt.subplots()\n",
    "# Turn grid off\n",
    "axis.grid(False)\n",
    "# Plot confusion matrix\n",
    "ConfusionMatrixDisplay.from_predictions(y_test, y_predict, ax=axis)"
   ]
  }
 ],
 "metadata": {
  "kernelspec": {
   "display_name": "Python 3 (ipykernel)",
   "language": "python",
   "name": "python3"
  },
  "language_info": {
   "codemirror_mode": {
    "name": "ipython",
    "version": 3
   },
   "file_extension": ".py",
   "mimetype": "text/x-python",
   "name": "python",
   "nbconvert_exporter": "python",
   "pygments_lexer": "ipython3",
   "version": "3.9.12"
  }
 },
 "nbformat": 4,
 "nbformat_minor": 5
}

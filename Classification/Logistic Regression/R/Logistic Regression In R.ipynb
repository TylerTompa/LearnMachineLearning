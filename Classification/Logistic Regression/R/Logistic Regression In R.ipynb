{
 "cells": [
  {
   "cell_type": "markdown",
   "id": "e6cee765",
   "metadata": {},
   "source": [
    "# Logistic Regression: Application\n",
    "\n",
    "In this notebook, we examine how to apply logistic regression in R on a sample dataset containing information on whether an indiviudal purchased a product based on multiple variables.\n",
    "\n",
    "Sources:\n",
    "1. <a href='https://www.udemy.com/course/machinelearning/'>Machine Learning A-Z™: Hands-On Python & R In Data Science</a>\n",
    "2. <a href='https://kiwidamien.github.io/are-you-sure-thats-a-probability.html'>Are you sure that's a probability?</a>\n",
    "3. <a href='https://www.datasciencecentral.com/understanding-type-i-and-type-ii-errors/'>Understanding Type I and Type II Errors</a>"
   ]
  },
  {
   "cell_type": "code",
   "execution_count": 1,
   "id": "081d1775",
   "metadata": {},
   "outputs": [
    {
     "name": "stderr",
     "output_type": "stream",
     "text": [
      "Loading required package: ggplot2\n",
      "\n",
      "Loading required package: lattice\n",
      "\n"
     ]
    },
    {
     "data": {
      "text/html": [
       "<ol>\n",
       "\t<li><style>\n",
       ".list-inline {list-style: none; margin:0; padding: 0}\n",
       ".list-inline>li {display: inline-block}\n",
       ".list-inline>li:not(:last-child)::after {content: \"\\00b7\"; padding: 0 .5ex}\n",
       "</style>\n",
       "<ol class=list-inline><li>'caret'</li><li>'lattice'</li><li>'ggplot2'</li><li>'stats'</li><li>'graphics'</li><li>'grDevices'</li><li>'utils'</li><li>'datasets'</li><li>'methods'</li><li>'base'</li></ol>\n",
       "</li>\n",
       "\t<li><style>\n",
       ".list-inline {list-style: none; margin:0; padding: 0}\n",
       ".list-inline>li {display: inline-block}\n",
       ".list-inline>li:not(:last-child)::after {content: \"\\00b7\"; padding: 0 .5ex}\n",
       "</style>\n",
       "<ol class=list-inline><li>'caTools'</li><li>'caret'</li><li>'lattice'</li><li>'ggplot2'</li><li>'stats'</li><li>'graphics'</li><li>'grDevices'</li><li>'utils'</li><li>'datasets'</li><li>'methods'</li><li>'base'</li></ol>\n",
       "</li>\n",
       "\t<li><style>\n",
       ".list-inline {list-style: none; margin:0; padding: 0}\n",
       ".list-inline>li {display: inline-block}\n",
       ".list-inline>li:not(:last-child)::after {content: \"\\00b7\"; padding: 0 .5ex}\n",
       "</style>\n",
       "<ol class=list-inline><li>'ElemStatLearn'</li><li>'caTools'</li><li>'caret'</li><li>'lattice'</li><li>'ggplot2'</li><li>'stats'</li><li>'graphics'</li><li>'grDevices'</li><li>'utils'</li><li>'datasets'</li><li>'methods'</li><li>'base'</li></ol>\n",
       "</li>\n",
       "</ol>\n"
      ],
      "text/latex": [
       "\\begin{enumerate}\n",
       "\\item \\begin{enumerate*}\n",
       "\\item 'caret'\n",
       "\\item 'lattice'\n",
       "\\item 'ggplot2'\n",
       "\\item 'stats'\n",
       "\\item 'graphics'\n",
       "\\item 'grDevices'\n",
       "\\item 'utils'\n",
       "\\item 'datasets'\n",
       "\\item 'methods'\n",
       "\\item 'base'\n",
       "\\end{enumerate*}\n",
       "\n",
       "\\item \\begin{enumerate*}\n",
       "\\item 'caTools'\n",
       "\\item 'caret'\n",
       "\\item 'lattice'\n",
       "\\item 'ggplot2'\n",
       "\\item 'stats'\n",
       "\\item 'graphics'\n",
       "\\item 'grDevices'\n",
       "\\item 'utils'\n",
       "\\item 'datasets'\n",
       "\\item 'methods'\n",
       "\\item 'base'\n",
       "\\end{enumerate*}\n",
       "\n",
       "\\item \\begin{enumerate*}\n",
       "\\item 'ElemStatLearn'\n",
       "\\item 'caTools'\n",
       "\\item 'caret'\n",
       "\\item 'lattice'\n",
       "\\item 'ggplot2'\n",
       "\\item 'stats'\n",
       "\\item 'graphics'\n",
       "\\item 'grDevices'\n",
       "\\item 'utils'\n",
       "\\item 'datasets'\n",
       "\\item 'methods'\n",
       "\\item 'base'\n",
       "\\end{enumerate*}\n",
       "\n",
       "\\end{enumerate}\n"
      ],
      "text/markdown": [
       "1. 1. 'caret'\n",
       "2. 'lattice'\n",
       "3. 'ggplot2'\n",
       "4. 'stats'\n",
       "5. 'graphics'\n",
       "6. 'grDevices'\n",
       "7. 'utils'\n",
       "8. 'datasets'\n",
       "9. 'methods'\n",
       "10. 'base'\n",
       "\n",
       "\n",
       "\n",
       "2. 1. 'caTools'\n",
       "2. 'caret'\n",
       "3. 'lattice'\n",
       "4. 'ggplot2'\n",
       "5. 'stats'\n",
       "6. 'graphics'\n",
       "7. 'grDevices'\n",
       "8. 'utils'\n",
       "9. 'datasets'\n",
       "10. 'methods'\n",
       "11. 'base'\n",
       "\n",
       "\n",
       "\n",
       "3. 1. 'ElemStatLearn'\n",
       "2. 'caTools'\n",
       "3. 'caret'\n",
       "4. 'lattice'\n",
       "5. 'ggplot2'\n",
       "6. 'stats'\n",
       "7. 'graphics'\n",
       "8. 'grDevices'\n",
       "9. 'utils'\n",
       "10. 'datasets'\n",
       "11. 'methods'\n",
       "12. 'base'\n",
       "\n",
       "\n",
       "\n",
       "\n",
       "\n"
      ],
      "text/plain": [
       "[[1]]\n",
       " [1] \"caret\"     \"lattice\"   \"ggplot2\"   \"stats\"     \"graphics\"  \"grDevices\"\n",
       " [7] \"utils\"     \"datasets\"  \"methods\"   \"base\"     \n",
       "\n",
       "[[2]]\n",
       " [1] \"caTools\"   \"caret\"     \"lattice\"   \"ggplot2\"   \"stats\"     \"graphics\" \n",
       " [7] \"grDevices\" \"utils\"     \"datasets\"  \"methods\"   \"base\"     \n",
       "\n",
       "[[3]]\n",
       " [1] \"ElemStatLearn\" \"caTools\"       \"caret\"         \"lattice\"      \n",
       " [5] \"ggplot2\"       \"stats\"         \"graphics\"      \"grDevices\"    \n",
       " [9] \"utils\"         \"datasets\"      \"methods\"       \"base\"         \n"
      ]
     },
     "metadata": {},
     "output_type": "display_data"
    }
   ],
   "source": [
    "libraries <- c('caret', 'caTools', 'ElemStatLearn')\n",
    "\n",
    "lapply(X=libraries, FUN=library, character.only=TRUE)"
   ]
  },
  {
   "cell_type": "markdown",
   "id": "80a6c4a1",
   "metadata": {},
   "source": [
    "## Load & Preview Data"
   ]
  },
  {
   "cell_type": "code",
   "execution_count": 2,
   "id": "f4f32474",
   "metadata": {},
   "outputs": [],
   "source": [
    "# Define purchase data file path\n",
    "purchases_file_path <- file.path('../Data/Social_Network_Ads.csv')\n",
    "\n",
    "# Load purchase data\n",
    "purchases <- read.csv(purchases_file_path)"
   ]
  },
  {
   "cell_type": "code",
   "execution_count": 3,
   "id": "7c696d58",
   "metadata": {},
   "outputs": [
    {
     "name": "stdout",
     "output_type": "stream",
     "text": [
      "Shape:"
     ]
    },
    {
     "data": {
      "text/html": [
       "<style>\n",
       ".list-inline {list-style: none; margin:0; padding: 0}\n",
       ".list-inline>li {display: inline-block}\n",
       ".list-inline>li:not(:last-child)::after {content: \"\\00b7\"; padding: 0 .5ex}\n",
       "</style>\n",
       "<ol class=list-inline><li>400</li><li>3</li></ol>\n"
      ],
      "text/latex": [
       "\\begin{enumerate*}\n",
       "\\item 400\n",
       "\\item 3\n",
       "\\end{enumerate*}\n"
      ],
      "text/markdown": [
       "1. 400\n",
       "2. 3\n",
       "\n",
       "\n"
      ],
      "text/plain": [
       "[1] 400   3"
      ]
     },
     "metadata": {},
     "output_type": "display_data"
    },
    {
     "name": "stdout",
     "output_type": "stream",
     "text": [
      "\n",
      "\n",
      "Preview:"
     ]
    },
    {
     "data": {
      "text/html": [
       "<table class=\"dataframe\">\n",
       "<caption>A data.frame: 20 × 3</caption>\n",
       "<thead>\n",
       "\t<tr><th></th><th scope=col>Age</th><th scope=col>EstimatedSalary</th><th scope=col>Purchased</th></tr>\n",
       "\t<tr><th></th><th scope=col>&lt;int&gt;</th><th scope=col>&lt;int&gt;</th><th scope=col>&lt;int&gt;</th></tr>\n",
       "</thead>\n",
       "<tbody>\n",
       "\t<tr><th scope=row>1</th><td>19</td><td> 19000</td><td>0</td></tr>\n",
       "\t<tr><th scope=row>2</th><td>35</td><td> 20000</td><td>0</td></tr>\n",
       "\t<tr><th scope=row>3</th><td>26</td><td> 43000</td><td>0</td></tr>\n",
       "\t<tr><th scope=row>4</th><td>27</td><td> 57000</td><td>0</td></tr>\n",
       "\t<tr><th scope=row>5</th><td>19</td><td> 76000</td><td>0</td></tr>\n",
       "\t<tr><th scope=row>6</th><td>27</td><td> 58000</td><td>0</td></tr>\n",
       "\t<tr><th scope=row>7</th><td>27</td><td> 84000</td><td>0</td></tr>\n",
       "\t<tr><th scope=row>8</th><td>32</td><td>150000</td><td>1</td></tr>\n",
       "\t<tr><th scope=row>9</th><td>25</td><td> 33000</td><td>0</td></tr>\n",
       "\t<tr><th scope=row>10</th><td>35</td><td> 65000</td><td>0</td></tr>\n",
       "\t<tr><th scope=row>11</th><td>26</td><td> 80000</td><td>0</td></tr>\n",
       "\t<tr><th scope=row>12</th><td>26</td><td> 52000</td><td>0</td></tr>\n",
       "\t<tr><th scope=row>13</th><td>20</td><td> 86000</td><td>0</td></tr>\n",
       "\t<tr><th scope=row>14</th><td>32</td><td> 18000</td><td>0</td></tr>\n",
       "\t<tr><th scope=row>15</th><td>18</td><td> 82000</td><td>0</td></tr>\n",
       "\t<tr><th scope=row>16</th><td>29</td><td> 80000</td><td>0</td></tr>\n",
       "\t<tr><th scope=row>17</th><td>47</td><td> 25000</td><td>1</td></tr>\n",
       "\t<tr><th scope=row>18</th><td>45</td><td> 26000</td><td>1</td></tr>\n",
       "\t<tr><th scope=row>19</th><td>46</td><td> 28000</td><td>1</td></tr>\n",
       "\t<tr><th scope=row>20</th><td>48</td><td> 29000</td><td>1</td></tr>\n",
       "</tbody>\n",
       "</table>\n"
      ],
      "text/latex": [
       "A data.frame: 20 × 3\n",
       "\\begin{tabular}{r|lll}\n",
       "  & Age & EstimatedSalary & Purchased\\\\\n",
       "  & <int> & <int> & <int>\\\\\n",
       "\\hline\n",
       "\t1 & 19 &  19000 & 0\\\\\n",
       "\t2 & 35 &  20000 & 0\\\\\n",
       "\t3 & 26 &  43000 & 0\\\\\n",
       "\t4 & 27 &  57000 & 0\\\\\n",
       "\t5 & 19 &  76000 & 0\\\\\n",
       "\t6 & 27 &  58000 & 0\\\\\n",
       "\t7 & 27 &  84000 & 0\\\\\n",
       "\t8 & 32 & 150000 & 1\\\\\n",
       "\t9 & 25 &  33000 & 0\\\\\n",
       "\t10 & 35 &  65000 & 0\\\\\n",
       "\t11 & 26 &  80000 & 0\\\\\n",
       "\t12 & 26 &  52000 & 0\\\\\n",
       "\t13 & 20 &  86000 & 0\\\\\n",
       "\t14 & 32 &  18000 & 0\\\\\n",
       "\t15 & 18 &  82000 & 0\\\\\n",
       "\t16 & 29 &  80000 & 0\\\\\n",
       "\t17 & 47 &  25000 & 1\\\\\n",
       "\t18 & 45 &  26000 & 1\\\\\n",
       "\t19 & 46 &  28000 & 1\\\\\n",
       "\t20 & 48 &  29000 & 1\\\\\n",
       "\\end{tabular}\n"
      ],
      "text/markdown": [
       "\n",
       "A data.frame: 20 × 3\n",
       "\n",
       "| <!--/--> | Age &lt;int&gt; | EstimatedSalary &lt;int&gt; | Purchased &lt;int&gt; |\n",
       "|---|---|---|---|\n",
       "| 1 | 19 |  19000 | 0 |\n",
       "| 2 | 35 |  20000 | 0 |\n",
       "| 3 | 26 |  43000 | 0 |\n",
       "| 4 | 27 |  57000 | 0 |\n",
       "| 5 | 19 |  76000 | 0 |\n",
       "| 6 | 27 |  58000 | 0 |\n",
       "| 7 | 27 |  84000 | 0 |\n",
       "| 8 | 32 | 150000 | 1 |\n",
       "| 9 | 25 |  33000 | 0 |\n",
       "| 10 | 35 |  65000 | 0 |\n",
       "| 11 | 26 |  80000 | 0 |\n",
       "| 12 | 26 |  52000 | 0 |\n",
       "| 13 | 20 |  86000 | 0 |\n",
       "| 14 | 32 |  18000 | 0 |\n",
       "| 15 | 18 |  82000 | 0 |\n",
       "| 16 | 29 |  80000 | 0 |\n",
       "| 17 | 47 |  25000 | 1 |\n",
       "| 18 | 45 |  26000 | 1 |\n",
       "| 19 | 46 |  28000 | 1 |\n",
       "| 20 | 48 |  29000 | 1 |\n",
       "\n"
      ],
      "text/plain": [
       "   Age EstimatedSalary Purchased\n",
       "1  19   19000          0        \n",
       "2  35   20000          0        \n",
       "3  26   43000          0        \n",
       "4  27   57000          0        \n",
       "5  19   76000          0        \n",
       "6  27   58000          0        \n",
       "7  27   84000          0        \n",
       "8  32  150000          1        \n",
       "9  25   33000          0        \n",
       "10 35   65000          0        \n",
       "11 26   80000          0        \n",
       "12 26   52000          0        \n",
       "13 20   86000          0        \n",
       "14 32   18000          0        \n",
       "15 18   82000          0        \n",
       "16 29   80000          0        \n",
       "17 47   25000          1        \n",
       "18 45   26000          1        \n",
       "19 46   28000          1        \n",
       "20 48   29000          1        "
      ]
     },
     "metadata": {},
     "output_type": "display_data"
    },
    {
     "name": "stdout",
     "output_type": "stream",
     "text": [
      "\n",
      "\n",
      "Structure:\n",
      "'data.frame':\t400 obs. of  3 variables:\n",
      " $ Age            : int  19 35 26 27 19 27 27 32 25 35 ...\n",
      " $ EstimatedSalary: int  19000 20000 43000 57000 76000 58000 84000 150000 33000 65000 ...\n",
      " $ Purchased      : int  0 0 0 0 0 0 0 1 0 0 ...\n",
      "\n",
      "\n",
      "Summary:"
     ]
    },
    {
     "data": {
      "text/plain": [
       "      Age        EstimatedSalary    Purchased     \n",
       " Min.   :18.00   Min.   : 15000   Min.   :0.0000  \n",
       " 1st Qu.:29.75   1st Qu.: 43000   1st Qu.:0.0000  \n",
       " Median :37.00   Median : 70000   Median :0.0000  \n",
       " Mean   :37.66   Mean   : 69743   Mean   :0.3575  \n",
       " 3rd Qu.:46.00   3rd Qu.: 88000   3rd Qu.:1.0000  \n",
       " Max.   :60.00   Max.   :150000   Max.   :1.0000  "
      ]
     },
     "metadata": {},
     "output_type": "display_data"
    }
   ],
   "source": [
    "cat('Shape:')\n",
    "dim(purchases)\n",
    "\n",
    "cat('\\n\\nPreview:')\n",
    "head(purchases, 20)\n",
    "\n",
    "cat('\\n\\nStructure:\\n')\n",
    "str(purchases)\n",
    "\n",
    "cat('\\n\\nSummary:')\n",
    "summary(purchases)"
   ]
  },
  {
   "cell_type": "markdown",
   "id": "074fb56b",
   "metadata": {},
   "source": [
    "## Prepare Data"
   ]
  },
  {
   "cell_type": "code",
   "execution_count": 4,
   "id": "ba54e251",
   "metadata": {},
   "outputs": [],
   "source": [
    "# Set seed for constant splitting results\n",
    "set.seed(123)\n",
    "\n",
    "# Define train-test split function\n",
    "split <- sample.split(Y=purchases$Purchased, SplitRatio = 0.75)\n",
    "purchases_train <- subset(purchases, split==TRUE)\n",
    "purchases_test <- subset(purchases, split==FALSE)"
   ]
  },
  {
   "cell_type": "code",
   "execution_count": 5,
   "id": "943556de",
   "metadata": {},
   "outputs": [],
   "source": [
    "# Define mean & standard deviation for scaling\n",
    "purchases_scale  <- scale(purchases_train[,-3])\n",
    "scale_mean <- attr(purchases_scale, which='scaled:center')\n",
    "scale_standard_deviation <- attr(purchases_scale, which='scaled:scale')\n",
    "\n",
    "# Scale training data\n",
    "purchases_train[,-3] <- scale(purchases_train[,-3]\n",
    "                            ,center=scale_mean\n",
    "                            ,scale=scale_standard_deviation)\n",
    "# Scale test data\n",
    "purchases_test[,-3] <- scale(purchases_test[,-3]\n",
    "                            ,center=scale_mean\n",
    "                            ,scale=scale_standard_deviation)"
   ]
  },
  {
   "cell_type": "markdown",
   "id": "b36b02ed",
   "metadata": {},
   "source": [
    "## Prepare Classifier"
   ]
  },
  {
   "cell_type": "code",
   "execution_count": 6,
   "id": "22d7233f",
   "metadata": {},
   "outputs": [],
   "source": [
    "# Initialize classifier object\n",
    "classifier <- glm(formula = Purchased ~ .\n",
    "                  ,family=binomial\n",
    "                  ,data=purchases_train)"
   ]
  },
  {
   "cell_type": "markdown",
   "id": "b1d80de0",
   "metadata": {},
   "source": [
    "## Use Classifier\n",
    "\n",
    "At this stage we have \"built\" our machine learning classifier.  Now we will examine how we can use this on an example of an individual who did purchase the product.  Examining our original data, we see a case of someone who did not purchase the product being 27 year old with a salary of 84000, while a case of someone who did purchase the product is a 32 year old with a salary of 150,000."
   ]
  },
  {
   "cell_type": "code",
   "execution_count": 7,
   "id": "945e93eb",
   "metadata": {},
   "outputs": [
    {
     "name": "stdout",
     "output_type": "stream",
     "text": [
      "        1         2 \n",
      "0.0357766 0.6436936 \n",
      "\n",
      "Figure 1"
     ]
    }
   ],
   "source": [
    "# Create example data points\n",
    "ages <- c(27, 32)\n",
    "salaries <- c(84000, 150000)\n",
    "# Create example dataframe\n",
    "examples <- data.frame(ages, salaries)\n",
    "# Rename columns\n",
    "names(examples) <- c('Age', 'EstimatedSalary')\n",
    "# Scale data\n",
    "examples <- scale(examples\n",
    "                  ,center=scale_mean\n",
    "                  ,scale=scale_standard_deviation) |> data.frame()\n",
    "\n",
    "# Compute class probabilities\n",
    "probabilities <- predict(classifier\n",
    "                         ,type='response'\n",
    "                         ,newdata=examples)\n",
    "\n",
    "print(probabilities)\n",
    "cat('\\nFigure 1') "
   ]
  },
  {
   "cell_type": "markdown",
   "id": "1d90d5a4",
   "metadata": {},
   "source": [
    "The predict() function returns the probability of each datapoint falling into class 1 (will purchase the product).  In Figure 1, our first example (a 27 year old with a salary of 84000) then has a 3.5% chance of falling into this class, and consequently, a 96.5% chance of falling into class 0 (will not purchase the product).\n",
    "\n",
    "The second example (a 32 year old with a salary of 150,000 has a 64.37% chance of falling into class 1.  To get the actual class predictions, we can simply use an ifelse() function and determine a threshold.  A typical threshold is at 50%; that is, if a datapoint has less than a 50% chance, we predict class 0, and if the datapoint has equal to or greater than this probability, we predict class 1.\n",
    "\n",
    "We now apply this classifier to the entire test set."
   ]
  },
  {
   "cell_type": "code",
   "execution_count": 8,
   "id": "560da024",
   "metadata": {
    "scrolled": false
   },
   "outputs": [],
   "source": [
    "# Compute class probabilities\n",
    "probabilities <- predict(classifier\n",
    "        ,type='response'\n",
    "        ,newdata=purchases_test[,-3])\n",
    "\n",
    "# Get predictions\n",
    "predictions <- ifelse(probabilities > 0.5, 1, 0)"
   ]
  },
  {
   "cell_type": "markdown",
   "id": "f06a3093",
   "metadata": {},
   "source": [
    "With the test predictions, we can create a confusion matrix.  A confusion matrix looks as follows:\n",
    "\n",
    "<table>\n",
    "    <tr><td colspan=2></td><td colspan=2>Predicted</td></tr>\n",
    "    <tr><td colspan=2></td><td>0</td><td>1</td></tr>\n",
    "    <tr><td rowspan=3>Actual</td></tr>\n",
    "    <tr><td>0</td><td>$a$</td><td>$b$</td></tr>\n",
    "    <tr><td>1</td><td>$c$</td><td>$d$</td></tr>\n",
    "</table>\n",
    "\n",
    "Therefore, the values may be interpreted as follows:\n",
    "<ul>\n",
    "    <li>$a$ represents datapoints we classified as 0 (will not purchase the product), and actually did not purchase.</li>\n",
    "    <li>$b$ represents datapoints we classified as 1 (will purchase the product), but did not actually purchase (false positive).</li>\n",
    "    <li>$c$ represents datapoints we classified as 0, but actually did purchase (false negative).</li>\n",
    "    <li>$d$ represents datapoints we classified as 1, and did actually purchase.</li>\n",
    "</ul>\n",
    "    \n",
    "\n",
    "Illustrated differently, a confusion matrix may be interpreted as follows:\n",
    "\n",
    "<table>\n",
    "    <tr><td>correcty predicted first class</td><td>incorrectly predicted second class</td></tr>\n",
    "    <tr><td>incorrectly predicted first class</td><td>correctly predicted second class</td></tr>\n",
    "</table>"
   ]
  },
  {
   "cell_type": "code",
   "execution_count": 9,
   "id": "6dba19d0",
   "metadata": {},
   "outputs": [
    {
     "data": {
      "text/plain": [
       "       Predictions\n",
       "Actuals  0  1\n",
       "      0 57  7\n",
       "      1 10 26"
      ]
     },
     "metadata": {},
     "output_type": "display_data"
    },
    {
     "name": "stdout",
     "output_type": "stream",
     "text": [
      "Accuracy: 83\n",
      "\n",
      "Figure 2"
     ]
    }
   ],
   "source": [
    "# Create confusion matrix\n",
    "confusion_matrix <- table(Actuals=purchases_test[,3], Predictions=predictions)\n",
    "\n",
    "# View confusion matrix\n",
    "confusion_matrix\n",
    "\n",
    "# Computer classifier accuracy\n",
    "cat('Accuracy:', (diag(confusion_matrix) |> sum() * 100) / sum(confusion_matrix))\n",
    "\n",
    "cat('\\n\\nFigure 2')"
   ]
  },
  {
   "cell_type": "markdown",
   "id": "e88b846f",
   "metadata": {},
   "source": [
    "Examining the confusion matrix in Figure 2, we see that we correctly predicted that 57 individudals would not purchase the product, and correctly predicted that 26 individuals would make the purchase.  We incorrectly predicted that 7 individuals would make the purchase, when they actually did not, and we incorrectly predicted that 10 individuals would not purchase the product, when they actually did.\n",
    "\n",
    "It is worth noting that in this particular case, we more often \"missed someone who would purchased the product\" than \"tried selling to someone who would not make the purchase.\"  These are known as \"type\" errors.  A type 1 error is a false positive; that is, we predicted something to be true (would make the purchase), when it was actually false (did not make the purchase).  A type 2 error is a false negative; that is, we predicted something to be false, when it was actually true$^3$.\n",
    "\n",
    "Using the confusionMatrix() function of the caret library, we can return a confusion matrix along with many other statistical measures."
   ]
  },
  {
   "cell_type": "code",
   "execution_count": 10,
   "id": "7cf8f1bd",
   "metadata": {
    "scrolled": true
   },
   "outputs": [
    {
     "data": {
      "text/plain": [
       "Confusion Matrix and Statistics\n",
       "\n",
       "          Reference\n",
       "Prediction  0  1\n",
       "         0 57 10\n",
       "         1  7 26\n",
       "                                          \n",
       "               Accuracy : 0.83            \n",
       "                 95% CI : (0.7418, 0.8977)\n",
       "    No Information Rate : 0.64            \n",
       "    P-Value [Acc > NIR] : 2.389e-05       \n",
       "                                          \n",
       "                  Kappa : 0.6242          \n",
       "                                          \n",
       " Mcnemar's Test P-Value : 0.6276          \n",
       "                                          \n",
       "            Sensitivity : 0.8906          \n",
       "            Specificity : 0.7222          \n",
       "         Pos Pred Value : 0.8507          \n",
       "         Neg Pred Value : 0.7879          \n",
       "             Prevalence : 0.6400          \n",
       "         Detection Rate : 0.5700          \n",
       "   Detection Prevalence : 0.6700          \n",
       "      Balanced Accuracy : 0.8064          \n",
       "                                          \n",
       "       'Positive' Class : 0               \n",
       "                                          "
      ]
     },
     "metadata": {},
     "output_type": "display_data"
    }
   ],
   "source": [
    "# Get confusion matrix and statistics\n",
    "confusionMatrix(factor(predictions)\n",
    "                ,factor(purchases_test[,3])\n",
    "               )"
   ]
  },
  {
   "cell_type": "markdown",
   "id": "9871ac29",
   "metadata": {},
   "source": [
    "## Visualize Classifier"
   ]
  },
  {
   "cell_type": "code",
   "execution_count": 11,
   "id": "158d7f2a",
   "metadata": {
    "scrolled": true
   },
   "outputs": [
    {
     "data": {
      "image/png": "[encoded data removed]",
      "text/plain": [
       "Plot with title \"Logistic Regression (Training Set)\""
      ]
     },
     "metadata": {
      "image/png": {
       "height": 420,
       "width": 420
      }
     },
     "output_type": "display_data"
    }
   ],
   "source": [
    "# Define set to plot as training set\n",
    "set = purchases_train\n",
    "# Define ranges for x-axis (age) and y-axis (salary)\n",
    "age_range = seq(min(set[,1]) - 1, max(set[,1]) + 1, by=0.01)\n",
    "salary_range = seq(min(set[,2]) - 1, max(set[,1]) + 1 , by=0.01)\n",
    "# Create matrix of all combinations of points from age_range and salary_range\n",
    "grid_matrix = expand.grid(age_range, salary_range)\n",
    "# Specify column names that classifier will expect\n",
    "colnames(grid_matrix) = c('Age', 'EstimatedSalary')\n",
    "# Get classification probabilities\n",
    "probabilities = predict(classifier, type='response', newdata=grid_matrix)\n",
    "# Get predictions based on class probability\n",
    "predictions = ifelse(probabilities > 0.5, 1, 0)\n",
    "\n",
    "# Plot data\n",
    "plot(set[,-3] # Plot all fields but label\n",
    "     ,main = 'Logistic Regression (Training Set)' # Title plot\n",
    "     ,xlab='Age' # Label x-axis\n",
    "     ,ylab='Estimated Salary' # Lbael y-axis\n",
    "     ,xlim=range(age_range) # Define x-axis range\n",
    "     ,ylim=range(salary_range)) # Define y-axis range\n",
    "\n",
    "# Add contour ine separating classes\n",
    "contour(age_range, salary_range, matrix(as.numeric(predictions), length(age_range), length(salary_range)), add=TRUE)\n",
    "# Plot \"fake points\" at every pixel, essentially coloring each class region\n",
    "points(grid_matrix, pch='.', col=ifelse(predictions ==1, 'springgreen1', 'tomato'))\n",
    "# Plot actual points\n",
    "points(set, pch=21, bg=ifelse(set[,3] == 1, 'green3', 'red3'))"
   ]
  },
  {
   "cell_type": "markdown",
   "id": "59a49740",
   "metadata": {},
   "source": [
    "...\n",
    "\n",
    "The red region is where the classifier predicts that the individual will not purchase the product, and the green region is where our classifier predicts that the individual will purchase the product.\n",
    "\n",
    "... For example, we see that an older age tends to result in purchases more often than high salaries.  Most young folks in our dataset did not purchase the product, even if they have a high salary, whereas most older folks did purchase the product, including those with a low salary."
   ]
  },
  {
   "cell_type": "code",
   "execution_count": 12,
   "id": "3285ceda",
   "metadata": {},
   "outputs": [
    {
     "data": {
      "image/png": "[encoded data removed]",
      "text/plain": [
       "Plot with title \"Logistic Regression (Training Set)\""
      ]
     },
     "metadata": {
      "image/png": {
       "height": 420,
       "width": 420
      }
     },
     "output_type": "display_data"
    }
   ],
   "source": [
    "# Define set to plot as training set\n",
    "set = purchases_test\n",
    "# Define ranges for x-axis (age) and y-axis (salary)\n",
    "age_range = seq(min(set[,1]) - 1, max(set[,1]) + 1, by=0.01)\n",
    "salary_range = seq(min(set[,2]) - 1, max(set[,1]) + 1 , by=0.01)\n",
    "# Create matrix of all combinations of points from age_range and salary_range\n",
    "grid_matrix = expand.grid(age_range, salary_range)\n",
    "# Specify column names that classifier will expect\n",
    "colnames(grid_matrix) = c('Age', 'EstimatedSalary')\n",
    "# Get classification probabilities\n",
    "probabilities = predict(classifier, type='response', newdata=grid_matrix)\n",
    "# Get predictions based on class probability\n",
    "predictions = ifelse(probabilities > 0.5, 1, 0)\n",
    "\n",
    "# Plot data\n",
    "plot(set[,-3] # Plot all fields but label\n",
    "     ,main = 'Logistic Regression (Training Set)' # Title plot\n",
    "     ,xlab='Age' # Label x-axis\n",
    "     ,ylab='Estimated Salary' # Lbael y-axis\n",
    "     ,xlim=range(age_range) # Define x-axis range\n",
    "     ,ylim=range(salary_range)) # Define y-axis range\n",
    "\n",
    "# Add contour ine separating classes\n",
    "contour(age_range, salary_range, matrix(as.numeric(predictions), length(age_range), length(salary_range)), add=TRUE)\n",
    "# Plot \"fake points\" at every pixel, essentially coloring each class region\n",
    "points(grid_matrix, pch='.', col=ifelse(predictions ==1, 'springgreen1', 'tomato'))\n",
    "# Plot actual points\n",
    "points(set, pch=21, bg=ifelse(set[,3] == 1, 'green3', 'red3'))"
   ]
  }
 ],
 "metadata": {
  "kernelspec": {
   "display_name": "R",
   "language": "R",
   "name": "ir"
  },
  "language_info": {
   "codemirror_mode": "r",
   "file_extension": ".r",
   "mimetype": "text/x-r-source",
   "name": "R",
   "pygments_lexer": "r",
   "version": "4.2.0"
  }
 },
 "nbformat": 4,
 "nbformat_minor": 5
}

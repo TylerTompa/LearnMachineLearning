{
 "cells": [
  {
   "cell_type": "markdown",
   "id": "398c11d0",
   "metadata": {},
   "source": [
    "# Polynomial Linear Regression: Application\n",
    "\n",
    "In this notebook, we examine how to apply polynomial linear regression in Python on a sample dataset containing a single independent variable, in order to determine a job candidate's salary.\n",
    "\n",
    "Sources:\n",
    "1. <a href='https://www.udemy.com/course/machinelearning/'>Machine Learning A-Z™: Hands-On Python & R In Data Science</a>\n",
    "2. <a>Find a page that discusses overfitting and come back here</a>"
   ]
  },
  {
   "cell_type": "code",
   "execution_count": 1,
   "id": "83eef150",
   "metadata": {},
   "outputs": [],
   "source": [
    "# Import machine learning support\n",
    "from sklearn.preprocessing import PolynomialFeatures\n",
    "from sklearn.linear_model import LinearRegression\n",
    "\n",
    "# Import analytical support\n",
    "import pandas as pd\n",
    "import numpy as np\n",
    "import matplotlib.pyplot as plt\n",
    "\n",
    "# Import other support\n",
    "import os"
   ]
  },
  {
   "cell_type": "markdown",
   "id": "dd1d168d",
   "metadata": {},
   "source": [
    "## Load & Preview Data"
   ]
  },
  {
   "cell_type": "code",
   "execution_count": 2,
   "id": "aa318b07",
   "metadata": {},
   "outputs": [],
   "source": [
    "# Define salary data file path\n",
    "salaries_file_path = os.path.join('..', 'Data', 'Position_Salaries.csv')\n",
    "\n",
    "# Load salary data\n",
    "salaries = pd.read_csv(salaries_file_path)"
   ]
  },
  {
   "cell_type": "code",
   "execution_count": 3,
   "id": "7d8ceba3",
   "metadata": {},
   "outputs": [
    {
     "name": "stdout",
     "output_type": "stream",
     "text": [
      "(10, 3)\n"
     ]
    },
    {
     "data": {
      "text/html": [
       "<div>\n",
       "<style scoped>\n",
       "    .dataframe tbody tr th:only-of-type {\n",
       "        vertical-align: middle;\n",
       "    }\n",
       "\n",
       "    .dataframe tbody tr th {\n",
       "        vertical-align: top;\n",
       "    }\n",
       "\n",
       "    .dataframe thead th {\n",
       "        text-align: right;\n",
       "    }\n",
       "</style>\n",
       "<table border=\"1\" class=\"dataframe\">\n",
       "  <thead>\n",
       "    <tr style=\"text-align: right;\">\n",
       "      <th></th>\n",
       "      <th>Position</th>\n",
       "      <th>Level</th>\n",
       "      <th>Salary</th>\n",
       "    </tr>\n",
       "  </thead>\n",
       "  <tbody>\n",
       "    <tr>\n",
       "      <th>0</th>\n",
       "      <td>Business Analyst</td>\n",
       "      <td>1</td>\n",
       "      <td>45000</td>\n",
       "    </tr>\n",
       "    <tr>\n",
       "      <th>1</th>\n",
       "      <td>Junior Consultant</td>\n",
       "      <td>2</td>\n",
       "      <td>50000</td>\n",
       "    </tr>\n",
       "    <tr>\n",
       "      <th>2</th>\n",
       "      <td>Senior Consultant</td>\n",
       "      <td>3</td>\n",
       "      <td>60000</td>\n",
       "    </tr>\n",
       "    <tr>\n",
       "      <th>3</th>\n",
       "      <td>Manager</td>\n",
       "      <td>4</td>\n",
       "      <td>80000</td>\n",
       "    </tr>\n",
       "    <tr>\n",
       "      <th>4</th>\n",
       "      <td>Country Manager</td>\n",
       "      <td>5</td>\n",
       "      <td>110000</td>\n",
       "    </tr>\n",
       "  </tbody>\n",
       "</table>\n",
       "</div>"
      ],
      "text/plain": [
       "            Position  Level  Salary\n",
       "0   Business Analyst      1   45000\n",
       "1  Junior Consultant      2   50000\n",
       "2  Senior Consultant      3   60000\n",
       "3            Manager      4   80000\n",
       "4    Country Manager      5  110000"
      ]
     },
     "metadata": {},
     "output_type": "display_data"
    },
    {
     "data": {
      "text/html": [
       "<div>\n",
       "<style scoped>\n",
       "    .dataframe tbody tr th:only-of-type {\n",
       "        vertical-align: middle;\n",
       "    }\n",
       "\n",
       "    .dataframe tbody tr th {\n",
       "        vertical-align: top;\n",
       "    }\n",
       "\n",
       "    .dataframe thead th {\n",
       "        text-align: right;\n",
       "    }\n",
       "</style>\n",
       "<table border=\"1\" class=\"dataframe\">\n",
       "  <thead>\n",
       "    <tr style=\"text-align: right;\">\n",
       "      <th></th>\n",
       "      <th>count</th>\n",
       "      <th>mean</th>\n",
       "      <th>std</th>\n",
       "      <th>min</th>\n",
       "      <th>25%</th>\n",
       "      <th>50%</th>\n",
       "      <th>75%</th>\n",
       "      <th>max</th>\n",
       "    </tr>\n",
       "  </thead>\n",
       "  <tbody>\n",
       "    <tr>\n",
       "      <th>Level</th>\n",
       "      <td>10.0</td>\n",
       "      <td>5.5</td>\n",
       "      <td>3.027650</td>\n",
       "      <td>1.0</td>\n",
       "      <td>3.25</td>\n",
       "      <td>5.5</td>\n",
       "      <td>7.75</td>\n",
       "      <td>10.0</td>\n",
       "    </tr>\n",
       "    <tr>\n",
       "      <th>Salary</th>\n",
       "      <td>10.0</td>\n",
       "      <td>249500.0</td>\n",
       "      <td>299373.883668</td>\n",
       "      <td>45000.0</td>\n",
       "      <td>65000.00</td>\n",
       "      <td>130000.0</td>\n",
       "      <td>275000.00</td>\n",
       "      <td>1000000.0</td>\n",
       "    </tr>\n",
       "  </tbody>\n",
       "</table>\n",
       "</div>"
      ],
      "text/plain": [
       "        count      mean            std      min       25%       50%  \\\n",
       "Level    10.0       5.5       3.027650      1.0      3.25       5.5   \n",
       "Salary   10.0  249500.0  299373.883668  45000.0  65000.00  130000.0   \n",
       "\n",
       "              75%        max  \n",
       "Level        7.75       10.0  \n",
       "Salary  275000.00  1000000.0  "
      ]
     },
     "metadata": {},
     "output_type": "display_data"
    }
   ],
   "source": [
    "# Preview data\n",
    "print(salaries.shape)\n",
    "display(salaries.head())\n",
    "display(salaries.describe().transpose())"
   ]
  },
  {
   "cell_type": "markdown",
   "id": "4aea72bf",
   "metadata": {},
   "source": [
    "Before we define our features and labels, we make a note of the columns we have to work with.  Ultimately, we are using a person's position to determine their salary, and we have two related columns to this — Position and Level.  By observation, we can tell that these two columns correspond to each other, and are redundant.  Therefore, we only need to proceed with one.  For simplicity's sake, we will use the Level column, since this is already a numerical column; otherwise we would have to encode the Position column into ordinal numbers."
   ]
  },
  {
   "cell_type": "code",
   "execution_count": 4,
   "id": "72e8b333",
   "metadata": {},
   "outputs": [],
   "source": [
    "# Define features and labels\n",
    "X = salaries.iloc[:,1].values.reshape(-1,1)\n",
    "y = salaries.iloc[:,2].values"
   ]
  },
  {
   "cell_type": "markdown",
   "id": "7bd84b8a",
   "metadata": {},
   "source": [
    "Because there is so little data to work with, we will not split it into training and testing sets.  We will instead use all the data to train the model, then examine how well the model fits the data.\n",
    "\n",
    "For comparison's sake, we will train both a simple linear regression and a polynomial regression model, and observe how each one fits the data."
   ]
  },
  {
   "cell_type": "code",
   "execution_count": 5,
   "id": "eba8062d",
   "metadata": {},
   "outputs": [
    {
     "data": {
      "text/plain": [
       "LinearRegression()"
      ]
     },
     "execution_count": 5,
     "metadata": {},
     "output_type": "execute_result"
    }
   ],
   "source": [
    "# Initialize simple regression object\n",
    "regressor_simple = LinearRegression()\n",
    "\n",
    "# Fit simple linear regressor to data\n",
    "regressor_simple.fit(X, y)"
   ]
  },
  {
   "cell_type": "markdown",
   "id": "2fc89469",
   "metadata": {},
   "source": [
    "Before we examine our simple linear regression model, we will build the polynomial linear regression model.  To understand how to implement polynomial linear regression in Python, let's think back to the definition of a polynomial linear regression model:\n",
    "\n",
    "\n",
    "$$\n",
    "y = b_0 + b_1x + b_2x^2 + ... b_nx^n\n",
    "$$\n",
    "\n",
    "Essentially, we are using a single independent variable — just like in simple linear regression.  With polynomial linear regression however, we raise this variable to the power of 1, then 2, and so on up until a pre-defined power $n$.  Therefore, our input will not be a single vector, but a matrix of variables raised to incrementing powers.  The first column in our matrix will be composed of $x^1$, or rather simply $x$.  The next column will be composed of $x^2$, and so on until the $n^th$ column composed of $x^n.\n",
    "\n",
    "In our case, our featues are a \"position level\" — 1, 2, 3, ..., 10.  Defining $n$ = 2, our polynomial matrix therefore will be as follows:\n",
    "\n",
    "\\begin{equation}\n",
    "\\begin{bmatrix}\n",
    "1 & 1^1 \\\\\n",
    "2 & 2^2 \\\\\n",
    "3 & 3^2 \\\\\n",
    "4 & 4^2 \\\\\n",
    "5 & 5^2 \\\\\n",
    "6 & 6^2 \\\\\n",
    "7 & 7^2 \\\\\n",
    "8 & 8^2 \\\\\n",
    "9 & 9^2 \\\\\n",
    "10 & 10^2\n",
    "\\end{bmatrix}\n",
    "=\n",
    "\\begin{bmatrix}\n",
    "1 & 1 \\\\\n",
    "2 & 4 \\\\\n",
    "3 & 9 \\\\\n",
    "4 & 16 \\\\\n",
    "5 &  25 \\\\\n",
    "6 & 36 \\\\\n",
    "7 & 49 \\\\\n",
    "8 & 64 \\\\\n",
    "9 & 81 \\\\\n",
    "10 & 100 \\\\\n",
    "\\end{bmatrix}\n",
    "\\end{equation}\n",
    "\n",
    "Using $n=3$, our matrix would look as follows:\n",
    "\n",
    "\\begin{equation}\n",
    "\\begin{bmatrix}\n",
    "1 & 1^1 & 1^3 \\\\\n",
    "2 & 2^2 & 2^3 \\\\\n",
    "3 & 3^2 & 3^3 \\\\\n",
    "4 & 4^2 & 4^3 \\\\\n",
    "5 & 5^2 & 5^3 \\\\\n",
    "6 & 6^2 & 6^3 \\\\\n",
    "7 & 7^2 & 7^3 \\\\\n",
    "8 & 8^2 & 8^3 \\\\\n",
    "9 & 9^2 & 9^3 \\\\\n",
    "10 & 10^2 & 10^3 \\\\\n",
    "\\end{bmatrix}\n",
    "=\n",
    "\\begin{bmatrix}\n",
    "1 & 1 & 1 \\\\\n",
    "2 & 4 & 8 \\\\\n",
    "3 & 9 & 27 \\\\\n",
    "4 & 16 & 64 \\\\\n",
    "5 &  25 & 125 \\\\\n",
    "6 & 36 & 216 \\\\\n",
    "7 & 49 & 343 \\\\\n",
    "8 & 64 & 512 \\\\\n",
    "9 & 81 & 729 \\\\\n",
    "10 & 100 & 1000\n",
    "\\end{bmatrix}\n",
    "\\end{equation}\n",
    "\n",
    "The preprocessing module of scikit-learn includes the PolynomialFeatures class, which we will now use to create a polynomial features matrix."
   ]
  },
  {
   "cell_type": "code",
   "execution_count": 6,
   "id": "2739b82b",
   "metadata": {},
   "outputs": [],
   "source": [
    "# Initialize polynomial features generator of degree 2\n",
    "polynomial_generator = PolynomialFeatures(degree=2)\n",
    "\n",
    "# Fit polynomial matrix to features\n",
    "polynomial_generator.fit(X)\n",
    "\n",
    "# Define polynomial featues matrix\n",
    "X_polynomial = polynomial_generator.transform(X)"
   ]
  },
  {
   "cell_type": "markdown",
   "id": "3f9590f1",
   "metadata": {},
   "source": [
    "We now compare our original features $X$, to our newly created polynomial features matrix."
   ]
  },
  {
   "cell_type": "code",
   "execution_count": 7,
   "id": "99f7ea4d",
   "metadata": {},
   "outputs": [
    {
     "data": {
      "text/plain": [
       "array([[ 1],\n",
       "       [ 2],\n",
       "       [ 3],\n",
       "       [ 4],\n",
       "       [ 5],\n",
       "       [ 6],\n",
       "       [ 7],\n",
       "       [ 8],\n",
       "       [ 9],\n",
       "       [10]], dtype=int64)"
      ]
     },
     "metadata": {},
     "output_type": "display_data"
    },
    {
     "data": {
      "text/plain": [
       "array([[  1.,   1.,   1.],\n",
       "       [  1.,   2.,   4.],\n",
       "       [  1.,   3.,   9.],\n",
       "       [  1.,   4.,  16.],\n",
       "       [  1.,   5.,  25.],\n",
       "       [  1.,   6.,  36.],\n",
       "       [  1.,   7.,  49.],\n",
       "       [  1.,   8.,  64.],\n",
       "       [  1.,   9.,  81.],\n",
       "       [  1.,  10., 100.]])"
      ]
     },
     "metadata": {},
     "output_type": "display_data"
    }
   ],
   "source": [
    "display(X, X_polynomial)"
   ]
  },
  {
   "cell_type": "markdown",
   "id": "265c58e0",
   "metadata": {},
   "source": [
    "Notice the column of ones in the polynomial matrix, and recall the equation of a polynomial linear regression model:\n",
    "\n",
    "$$\n",
    "y = b_0 + b_1x + b_2x^2 + ... b_nx^n\n",
    "$$\n",
    "\n",
    "We include this column of ones, because something has to line up with the $y$-intercept $b_0$.  We essentially have $b_0 \\times 1 = b_0$.\n",
    "\n",
    "Now, we proceed to build our polynomial linear regression model."
   ]
  },
  {
   "cell_type": "code",
   "execution_count": 8,
   "id": "c70953ef",
   "metadata": {},
   "outputs": [
    {
     "data": {
      "text/plain": [
       "LinearRegression()"
      ]
     },
     "execution_count": 8,
     "metadata": {},
     "output_type": "execute_result"
    }
   ],
   "source": [
    "# Initialize polynomial regression object\n",
    "regressor_polynomial = LinearRegression()\n",
    "\n",
    "# Fit simple linear regressor to data\n",
    "regressor_polynomial.fit(X_polynomial, y)"
   ]
  },
  {
   "cell_type": "markdown",
   "id": "acb1e738",
   "metadata": {},
   "source": [
    "## Visualize Results"
   ]
  },
  {
   "cell_type": "code",
   "execution_count": 9,
   "id": "2d0ac474",
   "metadata": {},
   "outputs": [
    {
     "data": {
      "image/png": "[encoded data removed]",
      "text/plain": [
       "<Figure size 432x288 with 1 Axes>"
      ]
     },
     "metadata": {
      "needs_background": "light"
     },
     "output_type": "display_data"
    },
    {
     "name": "stdout",
     "output_type": "stream",
     "text": [
      "Figure 1.\n"
     ]
    }
   ],
   "source": [
    "# Define predicted salaries using simple regression\n",
    "predicted_salaries_simple = regressor_simple.predict(X)\n",
    "\n",
    "# Plot actual salaries\n",
    "plt.scatter(X, y, color='black')\n",
    "\n",
    "# Plot predicted salaries using simple regression\n",
    "plt.plot(X, predicted_salaries_simple, color='orange')\n",
    "\n",
    "# Define Salary\n",
    "plt.title('Salary By Position Level')\n",
    "\n",
    "# Define axis labels\n",
    "plt.xlabel(' Position Level')\n",
    "plt.ylabel('Salary')\n",
    "\n",
    "# Show graph\n",
    "plt.show()\n",
    "\n",
    "print('Figure 1.')"
   ]
  },
  {
   "cell_type": "markdown",
   "id": "42bf6483",
   "metadata": {},
   "source": [
    "As can be seen in Figure 1, our actual data is not linear, and so graphically a straight line is a poor fit to it.  We see rather than our data forms a curve, and this is where polynomial regression comes in, as can be seen in Figure 2."
   ]
  },
  {
   "cell_type": "code",
   "execution_count": 10,
   "id": "b96493da",
   "metadata": {},
   "outputs": [
    {
     "data": {
      "image/png": "[encoded data removed]",
      "text/plain": [
       "<Figure size 432x288 with 1 Axes>"
      ]
     },
     "metadata": {
      "needs_background": "light"
     },
     "output_type": "display_data"
    },
    {
     "name": "stdout",
     "output_type": "stream",
     "text": [
      "Figure 2.\n"
     ]
    }
   ],
   "source": [
    "# Define predicted salaries using polynomial regression\n",
    "predicted_salaries_polynomial = regressor_polynomial.predict(X_polynomial)\n",
    "\n",
    "# Plot actual salaries\n",
    "plt.scatter(X, y, color='black')\n",
    "\n",
    "# Plot predicted salaries using simple regression\n",
    "plt.plot(X, predicted_salaries_polynomial, color='blue')\n",
    "\n",
    "# Define Salary\n",
    "plt.title('Salary By Position Level')\n",
    "\n",
    "# Define axis labels\n",
    "plt.xlabel(' Position Level')\n",
    "plt.ylabel('Salary')\n",
    "\n",
    "# Show graph\n",
    "plt.show()\n",
    "\n",
    "print('Figure 2.')"
   ]
  },
  {
   "cell_type": "markdown",
   "id": "192be32f",
   "metadata": {},
   "source": [
    "As seen in Figure 2, higher degree polynomial regression fits this curved data better than a first degree model; although it could still be better.  In simple terms, the higher the degree of the polynomial, the more capable the model is of fitting the data.  Recall that we used a second degree polynomial: $y = b_0 + b_1x + b_2x^2$.  Next, we will compare this to third and fourth degree polynomials."
   ]
  },
  {
   "cell_type": "code",
   "execution_count": 11,
   "id": "ff820814",
   "metadata": {},
   "outputs": [
    {
     "data": {
      "image/png": "[encoded data removed]",
      "text/plain": [
       "<Figure size 432x288 with 1 Axes>"
      ]
     },
     "metadata": {
      "needs_background": "light"
     },
     "output_type": "display_data"
    },
    {
     "name": "stdout",
     "output_type": "stream",
     "text": [
      "Figure 3.\n"
     ]
    },
    {
     "data": {
      "image/png": "[encoded data removed]",
      "text/plain": [
       "<Figure size 432x288 with 1 Axes>"
      ]
     },
     "metadata": {
      "needs_background": "light"
     },
     "output_type": "display_data"
    },
    {
     "name": "stdout",
     "output_type": "stream",
     "text": [
      "Figure 4.\n"
     ]
    },
    {
     "data": {
      "image/png": "[encoded data removed]",
      "text/plain": [
       "<Figure size 432x288 with 1 Axes>"
      ]
     },
     "metadata": {
      "needs_background": "light"
     },
     "output_type": "display_data"
    },
    {
     "name": "stdout",
     "output_type": "stream",
     "text": [
      "Figure 5.\n"
     ]
    }
   ],
   "source": [
    "# Define starting degree of polynomial\n",
    "n = 2\n",
    "\n",
    "# Define figure-numbering variable\n",
    "figure_number = 3\n",
    "\n",
    "while n < 5:\n",
    "    # Initialize polynomial features generator of incrementing degrees\n",
    "    polynomial_generator = PolynomialFeatures(degree=n)\n",
    "    \n",
    "    # Fit polynomial matrix to features\n",
    "    polynomial_generator.fit(X)\n",
    "    \n",
    "    # Define polynomial featues matrix\n",
    "    X_polynomial = polynomial_generator.transform(X)\n",
    "\n",
    "    # Fit simple linear regressor to data\n",
    "    regressor_polynomial.fit(X_polynomial, y)\n",
    "    \n",
    "    # Define predicted salaries using polynomial regression\n",
    "    predicted_salaries_polynomial = regressor_polynomial.predict(X_polynomial)\n",
    "    \n",
    "    # Plot actual salaries\n",
    "    plt.scatter(X, y, color='black')\n",
    "    # Plot predicted salaries using simple regression\n",
    "    plt.plot(X, predicted_salaries_polynomial, color='blue')\n",
    "    \n",
    "    # Define Salary\n",
    "    plt.title(f'Salary By Position Level (Degree = {n})')\n",
    "\n",
    "    # Define axis labels\n",
    "    plt.xlabel(' Position Level')\n",
    "    plt.ylabel('Salary')\n",
    "\n",
    "    # Show graph\n",
    "    plt.show()\n",
    "\n",
    "    print(f'Figure {figure_number}.')\n",
    "    \n",
    "    n += 1\n",
    "    figure_number += 1"
   ]
  },
  {
   "cell_type": "markdown",
   "id": "e4ad2b85",
   "metadata": {},
   "source": [
    "Examining Figures 3-5, we see that our curve fits the data better and better the higher the degree of the polynomial.  We should use this time though to caution about over-fitting models$^3$.  Essentially, we may potentially train a model that memorizes exact values, rather than learning a good-fitting curve.  When a brand new independent variables is introduced, this could potentially cause inaccurate outputs.  We ignore this for now, in order to demonstrate the effect of incrementing degrees.\n",
    "\n",
    "Finally, we close by examining a simple linear regression model and a polynomial regression model on the same graph, for comparison."
   ]
  },
  {
   "cell_type": "code",
   "execution_count": 12,
   "id": "664560e6",
   "metadata": {},
   "outputs": [
    {
     "data": {
      "image/png": "[encoded data removed]",
      "text/plain": [
       "<Figure size 432x288 with 1 Axes>"
      ]
     },
     "metadata": {
      "needs_background": "light"
     },
     "output_type": "display_data"
    },
    {
     "name": "stdout",
     "output_type": "stream",
     "text": [
      "Figure 6.\n"
     ]
    }
   ],
   "source": [
    "# Plot actual salaries\n",
    "plt.scatter(X, y, color='black')\n",
    "\n",
    "# Plot predicted salaries using simple regression\n",
    "plt.plot(X, predicted_salaries_simple, color='orange', label='Simple Regression')\n",
    "# Plot predicted salaries using simple regression\n",
    "plt.plot(X, predicted_salaries_polynomial, color='blue', label= 'Polynomial Regression')\n",
    "\n",
    "# Define Salary\n",
    "plt.title('Salary By Position Level')\n",
    "\n",
    "# Define axis labels\n",
    "plt.xlabel(' Position Level')\n",
    "plt.ylabel('Salary')\n",
    "\n",
    "plt.legend()\n",
    "\n",
    "# Show graph\n",
    "plt.show()\n",
    "\n",
    "print('Figure 6.')"
   ]
  },
  {
   "cell_type": "markdown",
   "id": "e51eb2ae",
   "metadata": {},
   "source": [
    "## Predicting New Results\n",
    "\n",
    "We have already seen how to use simple linear regression models to predict outputs."
   ]
  },
  {
   "cell_type": "code",
   "execution_count": 13,
   "id": "f3692f8a",
   "metadata": {},
   "outputs": [
    {
     "name": "stdout",
     "output_type": "stream",
     "text": [
      "[128181.81818182]\n",
      "\n",
      "Figure 7.\n"
     ]
    }
   ],
   "source": [
    "# Define position level\n",
    "position_level = [[4]]\n",
    "\n",
    "# Predict salary using simple regression\n",
    "print(regressor_simple.predict(position_level))\n",
    "\n",
    "print('\\nFigure 7.')"
   ]
  },
  {
   "cell_type": "markdown",
   "id": "26fe096c",
   "metadata": {},
   "source": [
    "In Figure 7, our simple regression model tells us that an individual at position level 4 (Manager) should have a salary of $128,000.  Let's now examine the actual salary:"
   ]
  },
  {
   "cell_type": "code",
   "execution_count": 14,
   "id": "d539900c",
   "metadata": {},
   "outputs": [
    {
     "data": {
      "text/plain": [
       "Position    Manager\n",
       "Level             4\n",
       "Salary        80000\n",
       "Name: 3, dtype: object"
      ]
     },
     "execution_count": 14,
     "metadata": {},
     "output_type": "execute_result"
    }
   ],
   "source": [
    "salaries.iloc[3]"
   ]
  },
  {
   "cell_type": "markdown",
   "id": "e1f3a34e",
   "metadata": {},
   "source": [
    "Per the actual data, a Manager (position level 4) should only be making $80,000.  Using simple linear regression, we would pay this individual far more than necessary.\n",
    "\n",
    "Let us now examine how to use polynomial regression models to make the same prediction.  Recall that when training the model, we used a PolynomialFeatures object to create a polynomial matrix for input; we therefore do the same for inputs to the predict() method."
   ]
  },
  {
   "cell_type": "code",
   "execution_count": 15,
   "id": "ddd3279e",
   "metadata": {},
   "outputs": [
    {
     "name": "stdout",
     "output_type": "stream",
     "text": [
      "[94632.86713289]\n",
      "\n",
      "Figure 8.\n"
     ]
    }
   ],
   "source": [
    "# Fit polynomial matrix to input value\n",
    "polynomial_generator.fit(position_level)\n",
    "\n",
    "# Define polynomial features matrix\n",
    "position_level_polynomial_matrix = polynomial_generator.transform(position_level)\n",
    "\n",
    "# Predict salary using polynomial regression\n",
    "print(regressor_polynomial.predict(position_level_polynomial_matrix))\n",
    "\n",
    "print('\\nFigure 8.')"
   ]
  },
  {
   "cell_type": "markdown",
   "id": "7a0ead4d",
   "metadata": {},
   "source": [
    "Per Figrure 8, a polynomial regression model predicted a salary of $94,000 for a Manager, still not perfect, but much better than simple regression.  By using a higher degree polynomial, we may able to get any closer to the actual value, albeit with the risk of overfitting the model.\n",
    "\n",
    "Predicting multiple salaries is as simple as using an array with multiple elements as the starting input."
   ]
  },
  {
   "cell_type": "code",
   "execution_count": 16,
   "id": "366902dd",
   "metadata": {},
   "outputs": [
    {
     "name": "stdout",
     "output_type": "stream",
     "text": [
      "[ 94632.86713289 121724.94172498]\n",
      "\n",
      "Figure 8.\n"
     ]
    }
   ],
   "source": [
    "# Define position levels\n",
    "position_levels = [[4], [5]]\n",
    "\n",
    "# Fit polynomial matrix to input value\n",
    "polynomial_generator.fit(position_levels)\n",
    "\n",
    "# Define polynomial features matrix\n",
    "position_level_polynomial_matrix = polynomial_generator.transform(position_levels)\n",
    "\n",
    "# Predict salary using polynomial regression\n",
    "print(regressor_polynomial.predict(position_level_polynomial_matrix))\n",
    "\n",
    "print('\\nFigure 8.')"
   ]
  },
  {
   "cell_type": "code",
   "execution_count": 17,
   "id": "be80a5a5",
   "metadata": {},
   "outputs": [
    {
     "name": "stdout",
     "output_type": "stream",
     "text": [
      "Position    Manager\n",
      "Level             4\n",
      "Salary        80000\n",
      "Name: 3, dtype: object\n",
      "\n",
      " Position    Country Manager\n",
      "Level                     5\n",
      "Salary               110000\n",
      "Name: 4, dtype: object\n"
     ]
    }
   ],
   "source": [
    "# Print actual datapoints\n",
    "print(salaries.iloc[3])\n",
    "print('\\n', salaries.iloc[4])"
   ]
  },
  {
   "cell_type": "markdown",
   "id": "fe1dfeda",
   "metadata": {},
   "source": [
    "## Closing Notes\n",
    "\n",
    "Recall that our polynomial regression object is just an instance of the LinearRegression() class, meaning it has the same methods and attributes.  Similar to simple and multiple linear regression, we can return the $y$-intercept and coefficients using these attributes."
   ]
  },
  {
   "cell_type": "code",
   "execution_count": 18,
   "id": "1529660d",
   "metadata": {},
   "outputs": [
    {
     "name": "stdout",
     "output_type": "stream",
     "text": [
      "184166.6666670672\n",
      "\n",
      " [      0.         -211002.33100266   94765.44289054  -15463.2867133\n",
      "     890.15151515]\n"
     ]
    }
   ],
   "source": [
    "# Print y-intercept\n",
    "print(regressor_polynomial.intercept_)\n",
    "\n",
    "# Print coefficients\n",
    "print('\\n', regressor_polynomial.coef_)"
   ]
  }
 ],
 "metadata": {
  "kernelspec": {
   "display_name": "Python 3 (ipykernel)",
   "language": "python",
   "name": "python3"
  },
  "language_info": {
   "codemirror_mode": {
    "name": "ipython",
    "version": 3
   },
   "file_extension": ".py",
   "mimetype": "text/x-python",
   "name": "python",
   "nbconvert_exporter": "python",
   "pygments_lexer": "ipython3",
   "version": "3.9.12"
  }
 },
 "nbformat": 4,
 "nbformat_minor": 5
}

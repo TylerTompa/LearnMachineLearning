{
 "cells": [
  {
   "cell_type": "markdown",
   "id": "d279acf3",
   "metadata": {},
   "source": [
    "# Multiple Linear Regression: Application\n",
    "\n",
    "In this notebook, we examine how to apply multiple linear regression in Python on a sample dataset containing multiple independent variables, in order to predict a company's profits.\n",
    "\n",
    "Sources:\n",
    "1. <a href='https://www.udemy.com/course/machinelearning/'>Machine Learning A-Z™: Hands-On Python & R In Data Science</a>"
   ]
  },
  {
   "cell_type": "code",
   "execution_count": 1,
   "id": "e059078b",
   "metadata": {},
   "outputs": [],
   "source": [
    "# Import machine learning support\n",
    "from sklearn.model_selection import train_test_split\n",
    "from sklearn.compose import ColumnTransformer\n",
    "from sklearn.preprocessing import OneHotEncoder\n",
    "from sklearn.linear_model import LinearRegression\n",
    "\n",
    "# Import analytical libraries\n",
    "import pandas as pd\n",
    "import numpy as np\n",
    "\n",
    "# import other support\n",
    "import os"
   ]
  },
  {
   "cell_type": "markdown",
   "id": "412ee3d1",
   "metadata": {},
   "source": [
    "## Load & Preview Data"
   ]
  },
  {
   "cell_type": "code",
   "execution_count": 2,
   "id": "aeb2a198",
   "metadata": {
    "scrolled": true
   },
   "outputs": [],
   "source": [
    "# Define profit data file path\n",
    "profit_data_file_path = os.path.join('Data', '50_Startups.csv')\n",
    "\n",
    "# Load profit data\n",
    "profits = pd.read_csv(profit_data_file_path)"
   ]
  },
  {
   "cell_type": "code",
   "execution_count": 3,
   "id": "5dd95354",
   "metadata": {},
   "outputs": [
    {
     "name": "stdout",
     "output_type": "stream",
     "text": [
      "(50, 5)\n"
     ]
    },
    {
     "data": {
      "text/html": [
       "<div>\n",
       "<style scoped>\n",
       "    .dataframe tbody tr th:only-of-type {\n",
       "        vertical-align: middle;\n",
       "    }\n",
       "\n",
       "    .dataframe tbody tr th {\n",
       "        vertical-align: top;\n",
       "    }\n",
       "\n",
       "    .dataframe thead th {\n",
       "        text-align: right;\n",
       "    }\n",
       "</style>\n",
       "<table border=\"1\" class=\"dataframe\">\n",
       "  <thead>\n",
       "    <tr style=\"text-align: right;\">\n",
       "      <th></th>\n",
       "      <th>R&amp;D Spend</th>\n",
       "      <th>Administration</th>\n",
       "      <th>Marketing Spend</th>\n",
       "      <th>State</th>\n",
       "      <th>Profit</th>\n",
       "    </tr>\n",
       "  </thead>\n",
       "  <tbody>\n",
       "    <tr>\n",
       "      <th>0</th>\n",
       "      <td>165349.20</td>\n",
       "      <td>136897.80</td>\n",
       "      <td>471784.10</td>\n",
       "      <td>New York</td>\n",
       "      <td>192261.83</td>\n",
       "    </tr>\n",
       "    <tr>\n",
       "      <th>1</th>\n",
       "      <td>162597.70</td>\n",
       "      <td>151377.59</td>\n",
       "      <td>443898.53</td>\n",
       "      <td>California</td>\n",
       "      <td>191792.06</td>\n",
       "    </tr>\n",
       "    <tr>\n",
       "      <th>2</th>\n",
       "      <td>153441.51</td>\n",
       "      <td>101145.55</td>\n",
       "      <td>407934.54</td>\n",
       "      <td>Florida</td>\n",
       "      <td>191050.39</td>\n",
       "    </tr>\n",
       "    <tr>\n",
       "      <th>3</th>\n",
       "      <td>144372.41</td>\n",
       "      <td>118671.85</td>\n",
       "      <td>383199.62</td>\n",
       "      <td>New York</td>\n",
       "      <td>182901.99</td>\n",
       "    </tr>\n",
       "    <tr>\n",
       "      <th>4</th>\n",
       "      <td>142107.34</td>\n",
       "      <td>91391.77</td>\n",
       "      <td>366168.42</td>\n",
       "      <td>Florida</td>\n",
       "      <td>166187.94</td>\n",
       "    </tr>\n",
       "  </tbody>\n",
       "</table>\n",
       "</div>"
      ],
      "text/plain": [
       "   R&D Spend  Administration  Marketing Spend       State     Profit\n",
       "0  165349.20       136897.80        471784.10    New York  192261.83\n",
       "1  162597.70       151377.59        443898.53  California  191792.06\n",
       "2  153441.51       101145.55        407934.54     Florida  191050.39\n",
       "3  144372.41       118671.85        383199.62    New York  182901.99\n",
       "4  142107.34        91391.77        366168.42     Florida  166187.94"
      ]
     },
     "metadata": {},
     "output_type": "display_data"
    },
    {
     "data": {
      "text/html": [
       "<div>\n",
       "<style scoped>\n",
       "    .dataframe tbody tr th:only-of-type {\n",
       "        vertical-align: middle;\n",
       "    }\n",
       "\n",
       "    .dataframe tbody tr th {\n",
       "        vertical-align: top;\n",
       "    }\n",
       "\n",
       "    .dataframe thead th {\n",
       "        text-align: right;\n",
       "    }\n",
       "</style>\n",
       "<table border=\"1\" class=\"dataframe\">\n",
       "  <thead>\n",
       "    <tr style=\"text-align: right;\">\n",
       "      <th></th>\n",
       "      <th>count</th>\n",
       "      <th>mean</th>\n",
       "      <th>std</th>\n",
       "      <th>min</th>\n",
       "      <th>25%</th>\n",
       "      <th>50%</th>\n",
       "      <th>75%</th>\n",
       "      <th>max</th>\n",
       "    </tr>\n",
       "  </thead>\n",
       "  <tbody>\n",
       "    <tr>\n",
       "      <th>R&amp;D Spend</th>\n",
       "      <td>50.0</td>\n",
       "      <td>73721.6156</td>\n",
       "      <td>45902.256482</td>\n",
       "      <td>0.00</td>\n",
       "      <td>39936.3700</td>\n",
       "      <td>73051.080</td>\n",
       "      <td>101602.8000</td>\n",
       "      <td>165349.20</td>\n",
       "    </tr>\n",
       "    <tr>\n",
       "      <th>Administration</th>\n",
       "      <td>50.0</td>\n",
       "      <td>121344.6396</td>\n",
       "      <td>28017.802755</td>\n",
       "      <td>51283.14</td>\n",
       "      <td>103730.8750</td>\n",
       "      <td>122699.795</td>\n",
       "      <td>144842.1800</td>\n",
       "      <td>182645.56</td>\n",
       "    </tr>\n",
       "    <tr>\n",
       "      <th>Marketing Spend</th>\n",
       "      <td>50.0</td>\n",
       "      <td>211025.0978</td>\n",
       "      <td>122290.310726</td>\n",
       "      <td>0.00</td>\n",
       "      <td>129300.1325</td>\n",
       "      <td>212716.240</td>\n",
       "      <td>299469.0850</td>\n",
       "      <td>471784.10</td>\n",
       "    </tr>\n",
       "    <tr>\n",
       "      <th>Profit</th>\n",
       "      <td>50.0</td>\n",
       "      <td>112012.6392</td>\n",
       "      <td>40306.180338</td>\n",
       "      <td>14681.40</td>\n",
       "      <td>90138.9025</td>\n",
       "      <td>107978.190</td>\n",
       "      <td>139765.9775</td>\n",
       "      <td>192261.83</td>\n",
       "    </tr>\n",
       "  </tbody>\n",
       "</table>\n",
       "</div>"
      ],
      "text/plain": [
       "                 count         mean            std       min          25%  \\\n",
       "R&D Spend         50.0   73721.6156   45902.256482      0.00   39936.3700   \n",
       "Administration    50.0  121344.6396   28017.802755  51283.14  103730.8750   \n",
       "Marketing Spend   50.0  211025.0978  122290.310726      0.00  129300.1325   \n",
       "Profit            50.0  112012.6392   40306.180338  14681.40   90138.9025   \n",
       "\n",
       "                        50%          75%        max  \n",
       "R&D Spend         73051.080  101602.8000  165349.20  \n",
       "Administration   122699.795  144842.1800  182645.56  \n",
       "Marketing Spend  212716.240  299469.0850  471784.10  \n",
       "Profit           107978.190  139765.9775  192261.83  "
      ]
     },
     "metadata": {},
     "output_type": "display_data"
    }
   ],
   "source": [
    "# Preview data\n",
    "print(profits.shape)\n",
    "display(profits.head())\n",
    "display(profits.describe().T)"
   ]
  },
  {
   "cell_type": "markdown",
   "id": "7f72fec1",
   "metadata": {},
   "source": [
    "## Prepare Data"
   ]
  },
  {
   "cell_type": "code",
   "execution_count": 4,
   "id": "3cfd42aa",
   "metadata": {},
   "outputs": [],
   "source": [
    "# Define features and labels\n",
    "X = profits.drop('Profit', axis = 1).values\n",
    "y = profits['Profit'].values"
   ]
  },
  {
   "cell_type": "markdown",
   "id": "56a74228",
   "metadata": {},
   "source": [
    "Recall that because one of our features is a categorical variable (State), we must use one-hot encoding to convert this into something a machine learning algorithm could understand."
   ]
  },
  {
   "cell_type": "code",
   "execution_count": 5,
   "id": "391b99ed",
   "metadata": {},
   "outputs": [],
   "source": [
    "# Create transformer object\n",
    "transformer = ColumnTransformer(transformers = [('encoder'\n",
    "                                  ,OneHotEncoder()\n",
    "                                  ,[3])] # State in index position 3\n",
    "                                ,remainder = 'passthrough'\n",
    "                               )\n",
    "\n",
    "# Fit transformer to data\n",
    "transformer.fit(X)\n",
    "\n",
    "# One-hot encode features\n",
    "X = transformer.transform(X)\n",
    "\n",
    "# Train-test split\n",
    "X_train, X_test, y_train, y_test = train_test_split(X, y, test_size = 0.2, random_state = 0)"
   ]
  },
  {
   "cell_type": "code",
   "execution_count": 6,
   "id": "bf3e95b9",
   "metadata": {
    "scrolled": true
   },
   "outputs": [
    {
     "name": "stdout",
     "output_type": "stream",
     "text": [
      "[[0.0 1.0 0.0 55493.95 103057.49 214634.81]\n",
      " [0.0 0.0 1.0 46014.02 85047.44 205517.64]\n",
      " [0.0 1.0 0.0 75328.87 144135.98 134050.07]\n",
      " [1.0 0.0 0.0 46426.07 157693.92 210797.67]\n",
      " [0.0 1.0 0.0 91749.16 114175.79 294919.57]\n",
      " [0.0 1.0 0.0 130298.13 145530.06 323876.68]\n",
      " [0.0 1.0 0.0 119943.24 156547.42 256512.92]\n",
      " [0.0 0.0 1.0 1000.23 124153.04 1903.93]\n",
      " [0.0 0.0 1.0 542.05 51743.15 0.0]\n",
      " [0.0 0.0 1.0 65605.48 153032.06 107138.38]\n",
      " [0.0 0.0 1.0 114523.61 122616.84 261776.23]\n",
      " [0.0 1.0 0.0 61994.48 115641.28 91131.24]\n",
      " [1.0 0.0 0.0 63408.86 129219.61 46085.25]\n",
      " [1.0 0.0 0.0 78013.11 121597.55 264346.06]\n",
      " [1.0 0.0 0.0 23640.93 96189.63 148001.11]\n",
      " [1.0 0.0 0.0 76253.86 113867.3 298664.47]\n",
      " [0.0 0.0 1.0 15505.73 127382.3 35534.17]\n",
      " [0.0 0.0 1.0 120542.52 148718.95 311613.29]\n",
      " [1.0 0.0 0.0 91992.39 135495.07 252664.93]\n",
      " [1.0 0.0 0.0 64664.71 139553.16 137962.62]\n",
      " [0.0 0.0 1.0 131876.9 99814.71 362861.36]\n",
      " [0.0 0.0 1.0 94657.16 145077.58 282574.31]\n",
      " [1.0 0.0 0.0 28754.33 118546.05 172795.67]\n",
      " [1.0 0.0 0.0 0.0 116983.8 45173.06]\n",
      " [1.0 0.0 0.0 162597.7 151377.59 443898.53]\n",
      " [0.0 1.0 0.0 93863.75 127320.38 249839.44]\n",
      " [1.0 0.0 0.0 44069.95 51283.14 197029.42]\n",
      " [0.0 0.0 1.0 77044.01 99281.34 140574.81]\n",
      " [1.0 0.0 0.0 134615.46 147198.87 127716.82]\n",
      " [0.0 1.0 0.0 67532.53 105751.03 304768.73]\n",
      " [0.0 1.0 0.0 28663.76 127056.21 201126.82]\n",
      " [0.0 0.0 1.0 78389.47 153773.43 299737.29]\n",
      " [0.0 0.0 1.0 86419.7 153514.11 0.0]\n",
      " [1.0 0.0 0.0 123334.88 108679.17 304981.62]\n",
      " [1.0 0.0 0.0 38558.51 82982.09 174999.3]\n",
      " [0.0 1.0 0.0 1315.46 115816.21 297114.46]\n",
      " [0.0 0.0 1.0 144372.41 118671.85 383199.62]\n",
      " [0.0 0.0 1.0 165349.2 136897.8 471784.1]\n",
      " [1.0 0.0 0.0 0.0 135426.92 0.0]\n",
      " [1.0 0.0 0.0 22177.74 154806.14 28334.72]]\n"
     ]
    }
   ],
   "source": [
    "print(X_train)"
   ]
  },
  {
   "cell_type": "markdown",
   "id": "6c61c8e7",
   "metadata": {},
   "source": [
    "In multiple linear regression, feature scaling is not always required, as the coefficients will naturally compensate for variables of different magnitudes.\n",
    "\n",
    "(come back and try it with and without to compare results)"
   ]
  },
  {
   "cell_type": "markdown",
   "id": "c5b3ed3b",
   "metadata": {},
   "source": [
    "Before we proceed, notice that we have three binary values resulting from our one-hot encoding (i.e. 0/1 for California, Florida, and New York).  In theory, we would omit one of these variables to avoid the dummy variable trap; however, in practice, the LinearRegression class we use automatically manages this for us, meaning <b>we do not need to take extra steps to remove one variable on our own</b>.  If we were to do so, then it would automatically manage and ignore the remaining second variable.\n",
    "\n",
    "Furthermore, this class will also determine which variables are statistically significant on its own, meaning that we do not have to employ any method to determine statistically significant variables.\n",
    "\n",
    "As we will soon see, all we must do, is simply call the LinearRegression class, and let it do all the work under the hood."
   ]
  },
  {
   "cell_type": "markdown",
   "id": "afe28866",
   "metadata": {},
   "source": [
    "## Prepare Regressor"
   ]
  },
  {
   "cell_type": "code",
   "execution_count": 7,
   "id": "71c0d25d",
   "metadata": {},
   "outputs": [
    {
     "name": "stdout",
     "output_type": "stream",
     "text": [
      "0.9347068473282303\n"
     ]
    }
   ],
   "source": [
    "# Initialize regressor object\n",
    "regressor = LinearRegression()\n",
    "\n",
    "# Fit regressor to data\n",
    "regressor.fit(X_train, y_train)\n",
    "\n",
    "# Test regressor\n",
    "print(regressor.score(X_test, y_test))"
   ]
  },
  {
   "cell_type": "markdown",
   "id": "7e58cad1",
   "metadata": {},
   "source": [
    "## Evaluate Regressor"
   ]
  },
  {
   "cell_type": "markdown",
   "id": "d345b473",
   "metadata": {},
   "source": [
    "We cannot create a simple visualization of our regressor's results the way we did with simple linear regressions, since we now have multiple variables and multiple dimensions.  Instead, we will examine a vector of predicted profits next to the actual profits."
   ]
  },
  {
   "cell_type": "code",
   "execution_count": 8,
   "id": "154a8161",
   "metadata": {},
   "outputs": [],
   "source": [
    "# Predict test labels\n",
    "y_predicted = regressor.predict(X_test)\n",
    "\n",
    "# Display 2 decimals places\n",
    "np.set_printoptions(precision=2)"
   ]
  },
  {
   "cell_type": "code",
   "execution_count": 9,
   "id": "79c58370",
   "metadata": {},
   "outputs": [
    {
     "name": "stdout",
     "output_type": "stream",
     "text": [
      "[[103015.2  103282.38]\n",
      " [132582.28 144259.4 ]\n",
      " [132447.74 146121.95]\n",
      " [ 71976.1   77798.83]\n",
      " [178537.48 191050.39]\n",
      " [116161.24 105008.31]\n",
      " [ 67851.69  81229.06]\n",
      " [ 98791.73  97483.56]\n",
      " [113969.44 110352.25]\n",
      " [167921.07 166187.94]]\n",
      "\n",
      "Figure 1.\n"
     ]
    }
   ],
   "source": [
    "# Define test set length\n",
    "vector_length = len(y_predicted)\n",
    "\n",
    "# Reshape predicted values & labels to single column\n",
    "y_predicted = y_predicted.reshape(vector_length, 1)\n",
    "y_test = y_test.reshape(vector_length, 1)\n",
    "\n",
    "# Concatenate predicted values with actual values\n",
    "print(np.concatenate((y_predicted, y_test), axis=1))\n",
    "print('\\nFigure 1.')"
   ]
  },
  {
   "cell_type": "markdown",
   "id": "ae7c6b5d",
   "metadata": {},
   "source": [
    "Examining Figure 1, we see that our first predicted profit is \\\\$103,015, while the actual profit is \\\\$103,282, a pretty close prediction.  Examining the sixth company however, we predicted a profit of \\\\$116,161, while the actual profit was \\\\$105,008, not as great.  Similar to simple linear regression, multiple linear regression is best suited for linear datasets.  While some predictions will be accurate enough, others may be off due to outliers."
   ]
  },
  {
   "cell_type": "markdown",
   "id": "63c11eba",
   "metadata": {},
   "source": [
    "## Making A Prediction\n",
    "\n",
    "Now that we have trained our machine learning regressor, we can use it to make predictions.  Suppose we have a startup based in Florida, that spends 260,000 on Research & Development, 240,000 on Administrative costs, and 8,000 on marketing."
   ]
  },
  {
   "cell_type": "code",
   "execution_count": 10,
   "id": "7a25cf43",
   "metadata": {},
   "outputs": [
    {
     "data": {
      "text/plain": [
       "array([250881.54])"
      ]
     },
     "execution_count": 10,
     "metadata": {},
     "output_type": "execute_result"
    }
   ],
   "source": [
    "# Define sample features\n",
    "features = [[0, 1, 0, 260000, 240000, 8000]]\n",
    "\n",
    "# Predict sample profit\n",
    "regressor.predict(features)"
   ]
  },
  {
   "cell_type": "markdown",
   "id": "0f4b8c72",
   "metadata": {},
   "source": [
    "We may also want to know the actual equation that produces these results.  We can determine this by getting the coefficients, and $y$-intercept, as follows:"
   ]
  },
  {
   "cell_type": "code",
   "execution_count": 11,
   "id": "4d619ce6",
   "metadata": {},
   "outputs": [
    {
     "name": "stdout",
     "output_type": "stream",
     "text": [
      "42467.52924854249\n",
      "[ 8.66e+01 -8.73e+02  7.86e+02  7.73e-01  3.29e-02  3.66e-02]\n"
     ]
    }
   ],
   "source": [
    "# Get y-intercept\n",
    "print(regressor.intercept_)\n",
    "print(regressor.coef_)"
   ]
  },
  {
   "cell_type": "markdown",
   "id": "0d70c8f1",
   "metadata": {},
   "source": [
    "Therefore, our multiple linear regression equation would be:\n",
    "\n",
    "$$\n",
    "  y = 42,467.53 + 86.6 D_1 - 873 D_2 + 786 D_3 + 0.77 x_1  + 0.03 x_2 + 0.04 x_3\n",
    "$$\n",
    "\n",
    "where $D_1$ is the dummy variable \"Is California,\" $D_2$ is the dummy variable \"Is Florida,\" $D_3$ is the dummy variable \"Is New York,\" $x_1$ is the R&D Spend, $x_2$ is the Administrative Costs, and $x_3$ is the Marketing Spend."
   ]
  }
 ],
 "metadata": {
  "kernelspec": {
   "display_name": "Python 3 (ipykernel)",
   "language": "python",
   "name": "python3"
  },
  "language_info": {
   "codemirror_mode": {
    "name": "ipython",
    "version": 3
   },
   "file_extension": ".py",
   "mimetype": "text/x-python",
   "name": "python",
   "nbconvert_exporter": "python",
   "pygments_lexer": "ipython3",
   "version": "3.9.12"
  }
 },
 "nbformat": 4,
 "nbformat_minor": 5
}

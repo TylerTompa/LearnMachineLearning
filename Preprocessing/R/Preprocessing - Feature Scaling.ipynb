{
 "cells": [
  {
   "cell_type": "markdown",
   "metadata": {},
   "source": [
    "# Machine Learning Preprocessing: Train-Test Splitting\n",
    "\n",
    "In this notebook, we discuss feature scaling.  When working with multiple numerical variables, it is sometimes necessary to bring each feature onto the same scale.\n",
    "\n",
    "Sources:\n",
    "1. <a href='https://www.udemy.com/course/machinelearning/'>Machine Learning A-Z™: Hands-On Python & R In Data Science</a>"
   ]
  },
  {
   "cell_type": "markdown",
   "metadata": {},
   "source": [
    "## Load & Preview Data"
   ]
  },
  {
   "cell_type": "code",
   "execution_count": 1,
   "metadata": {},
   "outputs": [],
   "source": [
    "# Define file path to data\n",
    "purchases_file_path  <- file.path('Data','Data.csv')\n",
    "\n",
    "# Load data\n",
    "purchases  <- read.csv(purchases_file_path)"
   ]
  },
  {
   "cell_type": "code",
   "execution_count": 2,
   "metadata": {},
   "outputs": [
    {
     "name": "stdout",
     "output_type": "stream",
     "text": [
      "Shape:"
     ]
    },
    {
     "data": {
      "text/html": [
       "<style>\n",
       ".list-inline {list-style: none; margin:0; padding: 0}\n",
       ".list-inline>li {display: inline-block}\n",
       ".list-inline>li:not(:last-child)::after {content: \"\\00b7\"; padding: 0 .5ex}\n",
       "</style>\n",
       "<ol class=list-inline><li>10</li><li>4</li></ol>\n"
      ],
      "text/latex": [
       "\\begin{enumerate*}\n",
       "\\item 10\n",
       "\\item 4\n",
       "\\end{enumerate*}\n"
      ],
      "text/markdown": [
       "1. 10\n",
       "2. 4\n",
       "\n",
       "\n"
      ],
      "text/plain": [
       "[1] 10  4"
      ]
     },
     "metadata": {},
     "output_type": "display_data"
    },
    {
     "name": "stdout",
     "output_type": "stream",
     "text": [
      "Figure 1.\n",
      "\n",
      "Preview:"
     ]
    },
    {
     "data": {
      "text/html": [
       "<table class=\"dataframe\">\n",
       "<caption>A data.frame: 5 × 4</caption>\n",
       "<thead>\n",
       "\t<tr><th></th><th scope=col>Country</th><th scope=col>Age</th><th scope=col>Salary</th><th scope=col>Purchased</th></tr>\n",
       "\t<tr><th></th><th scope=col>&lt;chr&gt;</th><th scope=col>&lt;int&gt;</th><th scope=col>&lt;int&gt;</th><th scope=col>&lt;chr&gt;</th></tr>\n",
       "</thead>\n",
       "<tbody>\n",
       "\t<tr><th scope=row>1</th><td>France </td><td>44</td><td>72000</td><td>No </td></tr>\n",
       "\t<tr><th scope=row>2</th><td>Spain  </td><td>27</td><td>48000</td><td>Yes</td></tr>\n",
       "\t<tr><th scope=row>3</th><td>Germany</td><td>30</td><td>54000</td><td>No </td></tr>\n",
       "\t<tr><th scope=row>4</th><td>Spain  </td><td>38</td><td>61000</td><td>No </td></tr>\n",
       "\t<tr><th scope=row>5</th><td>Germany</td><td>40</td><td>   NA</td><td>Yes</td></tr>\n",
       "</tbody>\n",
       "</table>\n"
      ],
      "text/latex": [
       "A data.frame: 5 × 4\n",
       "\\begin{tabular}{r|llll}\n",
       "  & Country & Age & Salary & Purchased\\\\\n",
       "  & <chr> & <int> & <int> & <chr>\\\\\n",
       "\\hline\n",
       "\t1 & France  & 44 & 72000 & No \\\\\n",
       "\t2 & Spain   & 27 & 48000 & Yes\\\\\n",
       "\t3 & Germany & 30 & 54000 & No \\\\\n",
       "\t4 & Spain   & 38 & 61000 & No \\\\\n",
       "\t5 & Germany & 40 &    NA & Yes\\\\\n",
       "\\end{tabular}\n"
      ],
      "text/markdown": [
       "\n",
       "A data.frame: 5 × 4\n",
       "\n",
       "| <!--/--> | Country &lt;chr&gt; | Age &lt;int&gt; | Salary &lt;int&gt; | Purchased &lt;chr&gt; |\n",
       "|---|---|---|---|---|\n",
       "| 1 | France  | 44 | 72000 | No  |\n",
       "| 2 | Spain   | 27 | 48000 | Yes |\n",
       "| 3 | Germany | 30 | 54000 | No  |\n",
       "| 4 | Spain   | 38 | 61000 | No  |\n",
       "| 5 | Germany | 40 |    NA | Yes |\n",
       "\n"
      ],
      "text/plain": [
       "  Country Age Salary Purchased\n",
       "1 France  44  72000  No       \n",
       "2 Spain   27  48000  Yes      \n",
       "3 Germany 30  54000  No       \n",
       "4 Spain   38  61000  No       \n",
       "5 Germany 40     NA  Yes      "
      ]
     },
     "metadata": {},
     "output_type": "display_data"
    },
    {
     "name": "stdout",
     "output_type": "stream",
     "text": [
      "Figure 2.\n",
      "\n",
      "Structure:\n",
      "'data.frame':\t10 obs. of  4 variables:\n",
      " $ Country  : chr  \"France\" \"Spain\" \"Germany\" \"Spain\" ...\n",
      " $ Age      : int  44 27 30 38 40 35 NA 48 50 37\n",
      " $ Salary   : int  72000 48000 54000 61000 NA 58000 52000 79000 83000 67000\n",
      " $ Purchased: chr  \"No\" \"Yes\" \"No\" \"No\" ...\n",
      "Figure 3.\n",
      "\n",
      "Summary:"
     ]
    },
    {
     "data": {
      "text/plain": [
       "   Country               Age            Salary       Purchased        \n",
       " Length:10          Min.   :27.00   Min.   :48000   Length:10         \n",
       " Class :character   1st Qu.:35.00   1st Qu.:54000   Class :character  \n",
       " Mode  :character   Median :38.00   Median :61000   Mode  :character  \n",
       "                    Mean   :38.78   Mean   :63778                     \n",
       "                    3rd Qu.:44.00   3rd Qu.:72000                     \n",
       "                    Max.   :50.00   Max.   :83000                     \n",
       "                    NA's   :1       NA's   :1                         "
      ]
     },
     "metadata": {},
     "output_type": "display_data"
    },
    {
     "name": "stdout",
     "output_type": "stream",
     "text": [
      "Figure 4."
     ]
    }
   ],
   "source": [
    "cat('Shape:')\n",
    "dim(purchases)\n",
    "cat('Figure 1.')\n",
    "\n",
    "cat('\\n\\nPreview:')\n",
    "head(purchases, 5)\n",
    "cat('Figure 2.')\n",
    "\n",
    "cat('\\n\\nStructure:\\n')\n",
    "str(purchases)\n",
    "cat('Figure 3.')\n",
    "\n",
    "cat('\\n\\nSummary:')\n",
    "summary(purchases)\n",
    "cat('Figure 4.')"
   ]
  },
  {
   "cell_type": "markdown",
   "metadata": {},
   "source": [
    "## Address Missing Values"
   ]
  },
  {
   "cell_type": "code",
   "execution_count": 3,
   "metadata": {},
   "outputs": [],
   "source": [
    "# Replace salary values with averages if they are null\n",
    "purchases$Salary <- ifelse(is.na(purchases$Salary) # If the salary is null\n",
    "                          ,ave(purchases$Salary, FUN = function(x) mean(x, na.rm = TRUE)) # then return the mean salary\n",
    "                          ,purchases$Salary) # else return the current record's salary\n",
    "\n",
    "# Replace age values with averages if they are null\n",
    "purchases$Age <- ifelse(is.na(purchases$Age) # If the age is null\n",
    "                          ,ave(purchases$Age, FUN = function(x) mean(x, na.rm = TRUE)) # then return the mean age\n",
    "                          ,purchases$Age) # else return the current record's age                        "
   ]
  },
  {
   "cell_type": "markdown",
   "metadata": {},
   "source": [
    "## Encode Categorical Data"
   ]
  },
  {
   "cell_type": "code",
   "execution_count": 4,
   "metadata": {},
   "outputs": [],
   "source": [
    "# Encode country features\n",
    "purchases$Country  <- factor(purchases$Country\n",
    "                            ,levels=c('France', 'Spain', 'Germany')\n",
    "                            ,labels=c(1,2,3))\n",
    "\n",
    "# Encode purchased label\n",
    "purchases$Purchased  <- factor(purchases$Purchased\n",
    "                            ,levels=c('Yes', 'No')\n",
    "                            ,labels=c(1,0))"
   ]
  },
  {
   "cell_type": "markdown",
   "metadata": {},
   "source": [
    "## Train-Test Splitting\n",
    "\n",
    "When building machine learning models, we often split the data into a training set, and a test set.  The model uses the training set to look for patterns which it can apply to new data in the future.  We then run the classifier on the test set—which the classifier has never seen—and compare the classifier's predictions to the actual values.  In this way, we can measure how well the classifier works."
   ]
  },
  {
   "cell_type": "code",
   "execution_count": 5,
   "metadata": {},
   "outputs": [],
   "source": [
    "# Load dependencies\n",
    "library(caTools)"
   ]
  },
  {
   "cell_type": "code",
   "execution_count": 6,
   "metadata": {},
   "outputs": [],
   "source": [
    "# Set seed to keep splitting results consistent\n",
    "set.seed(123)"
   ]
  },
  {
   "cell_type": "code",
   "execution_count": 7,
   "metadata": {},
   "outputs": [
    {
     "data": {
      "text/html": [
       "<style>\n",
       ".list-inline {list-style: none; margin:0; padding: 0}\n",
       ".list-inline>li {display: inline-block}\n",
       ".list-inline>li:not(:last-child)::after {content: \"\\00b7\"; padding: 0 .5ex}\n",
       "</style>\n",
       "<ol class=list-inline><li>TRUE</li><li>TRUE</li><li>TRUE</li><li>TRUE</li><li>TRUE</li><li>FALSE</li><li>TRUE</li><li>TRUE</li><li>FALSE</li><li>TRUE</li></ol>\n"
      ],
      "text/latex": [
       "\\begin{enumerate*}\n",
       "\\item TRUE\n",
       "\\item TRUE\n",
       "\\item TRUE\n",
       "\\item TRUE\n",
       "\\item TRUE\n",
       "\\item FALSE\n",
       "\\item TRUE\n",
       "\\item TRUE\n",
       "\\item FALSE\n",
       "\\item TRUE\n",
       "\\end{enumerate*}\n"
      ],
      "text/markdown": [
       "1. TRUE\n",
       "2. TRUE\n",
       "3. TRUE\n",
       "4. TRUE\n",
       "5. TRUE\n",
       "6. FALSE\n",
       "7. TRUE\n",
       "8. TRUE\n",
       "9. FALSE\n",
       "10. TRUE\n",
       "\n",
       "\n"
      ],
      "text/plain": [
       " [1]  TRUE  TRUE  TRUE  TRUE  TRUE FALSE  TRUE  TRUE FALSE  TRUE"
      ]
     },
     "metadata": {},
     "output_type": "display_data"
    }
   ],
   "source": [
    "# Define train-test split function\n",
    "split <- sample.split(Y=purchases$Purchased, SplitRatio = 0.8)\n",
    "\n",
    "# View splitting\n",
    "split"
   ]
  },
  {
   "cell_type": "markdown",
   "metadata": {},
   "source": [
    "Before proceeding, let's examine our splitting.  We defined that split ratio—or the percentage of records to be \"train records\"—to be 80%.  Therefore, out of our 10 records, 8 will be for training, and 2 will be for testing.  Our splitting assigned 2 FALSE values to our purchase records, in index positions 6 and 9.  Let's view our entire dataframe now."
   ]
  },
  {
   "cell_type": "code",
   "execution_count": 8,
   "metadata": {},
   "outputs": [
    {
     "data": {
      "text/html": [
       "<table class=\"dataframe\">\n",
       "<caption>A data.frame: 10 × 4</caption>\n",
       "<thead>\n",
       "\t<tr><th scope=col>Country</th><th scope=col>Age</th><th scope=col>Salary</th><th scope=col>Purchased</th></tr>\n",
       "\t<tr><th scope=col>&lt;fct&gt;</th><th scope=col>&lt;dbl&gt;</th><th scope=col>&lt;dbl&gt;</th><th scope=col>&lt;fct&gt;</th></tr>\n",
       "</thead>\n",
       "<tbody>\n",
       "\t<tr><td>1</td><td>44.00000</td><td>72000.00</td><td>0</td></tr>\n",
       "\t<tr><td>2</td><td>27.00000</td><td>48000.00</td><td>1</td></tr>\n",
       "\t<tr><td>3</td><td>30.00000</td><td>54000.00</td><td>0</td></tr>\n",
       "\t<tr><td>2</td><td>38.00000</td><td>61000.00</td><td>0</td></tr>\n",
       "\t<tr><td>3</td><td>40.00000</td><td>63777.78</td><td>1</td></tr>\n",
       "\t<tr><td>1</td><td>35.00000</td><td>58000.00</td><td>1</td></tr>\n",
       "\t<tr><td>2</td><td>38.77778</td><td>52000.00</td><td>0</td></tr>\n",
       "\t<tr><td>1</td><td>48.00000</td><td>79000.00</td><td>1</td></tr>\n",
       "\t<tr><td>3</td><td>50.00000</td><td>83000.00</td><td>0</td></tr>\n",
       "\t<tr><td>1</td><td>37.00000</td><td>67000.00</td><td>1</td></tr>\n",
       "</tbody>\n",
       "</table>\n"
      ],
      "text/latex": [
       "A data.frame: 10 × 4\n",
       "\\begin{tabular}{llll}\n",
       " Country & Age & Salary & Purchased\\\\\n",
       " <fct> & <dbl> & <dbl> & <fct>\\\\\n",
       "\\hline\n",
       "\t 1 & 44.00000 & 72000.00 & 0\\\\\n",
       "\t 2 & 27.00000 & 48000.00 & 1\\\\\n",
       "\t 3 & 30.00000 & 54000.00 & 0\\\\\n",
       "\t 2 & 38.00000 & 61000.00 & 0\\\\\n",
       "\t 3 & 40.00000 & 63777.78 & 1\\\\\n",
       "\t 1 & 35.00000 & 58000.00 & 1\\\\\n",
       "\t 2 & 38.77778 & 52000.00 & 0\\\\\n",
       "\t 1 & 48.00000 & 79000.00 & 1\\\\\n",
       "\t 3 & 50.00000 & 83000.00 & 0\\\\\n",
       "\t 1 & 37.00000 & 67000.00 & 1\\\\\n",
       "\\end{tabular}\n"
      ],
      "text/markdown": [
       "\n",
       "A data.frame: 10 × 4\n",
       "\n",
       "| Country &lt;fct&gt; | Age &lt;dbl&gt; | Salary &lt;dbl&gt; | Purchased &lt;fct&gt; |\n",
       "|---|---|---|---|\n",
       "| 1 | 44.00000 | 72000.00 | 0 |\n",
       "| 2 | 27.00000 | 48000.00 | 1 |\n",
       "| 3 | 30.00000 | 54000.00 | 0 |\n",
       "| 2 | 38.00000 | 61000.00 | 0 |\n",
       "| 3 | 40.00000 | 63777.78 | 1 |\n",
       "| 1 | 35.00000 | 58000.00 | 1 |\n",
       "| 2 | 38.77778 | 52000.00 | 0 |\n",
       "| 1 | 48.00000 | 79000.00 | 1 |\n",
       "| 3 | 50.00000 | 83000.00 | 0 |\n",
       "| 1 | 37.00000 | 67000.00 | 1 |\n",
       "\n"
      ],
      "text/plain": [
       "   Country Age      Salary   Purchased\n",
       "1  1       44.00000 72000.00 0        \n",
       "2  2       27.00000 48000.00 1        \n",
       "3  3       30.00000 54000.00 0        \n",
       "4  2       38.00000 61000.00 0        \n",
       "5  3       40.00000 63777.78 1        \n",
       "6  1       35.00000 58000.00 1        \n",
       "7  2       38.77778 52000.00 0        \n",
       "8  1       48.00000 79000.00 1        \n",
       "9  3       50.00000 83000.00 0        \n",
       "10 1       37.00000 67000.00 1        "
      ]
     },
     "metadata": {},
     "output_type": "display_data"
    }
   ],
   "source": [
    "# View data before splitting\n",
    "purchases"
   ]
  },
  {
   "cell_type": "markdown",
   "metadata": {},
   "source": [
    "Viewing the above, we can see that the ages/salaries at indices 6 and 8 are 35/58k, and 50/83k, respectively. When we split our data, these will be our two testing records."
   ]
  },
  {
   "cell_type": "code",
   "execution_count": 9,
   "metadata": {},
   "outputs": [],
   "source": [
    "# Split data into training and testing sets\n",
    "X_train <- subset(purchases, split == TRUE)\n",
    "X_test <- subset(purchases, split == FALSE)"
   ]
  },
  {
   "cell_type": "code",
   "execution_count": 10,
   "metadata": {},
   "outputs": [
    {
     "data": {
      "text/html": [
       "<table class=\"dataframe\">\n",
       "<caption>A data.frame: 8 × 4</caption>\n",
       "<thead>\n",
       "\t<tr><th></th><th scope=col>Country</th><th scope=col>Age</th><th scope=col>Salary</th><th scope=col>Purchased</th></tr>\n",
       "\t<tr><th></th><th scope=col>&lt;fct&gt;</th><th scope=col>&lt;dbl&gt;</th><th scope=col>&lt;dbl&gt;</th><th scope=col>&lt;fct&gt;</th></tr>\n",
       "</thead>\n",
       "<tbody>\n",
       "\t<tr><th scope=row>1</th><td>1</td><td>44.00000</td><td>72000.00</td><td>0</td></tr>\n",
       "\t<tr><th scope=row>2</th><td>2</td><td>27.00000</td><td>48000.00</td><td>1</td></tr>\n",
       "\t<tr><th scope=row>3</th><td>3</td><td>30.00000</td><td>54000.00</td><td>0</td></tr>\n",
       "\t<tr><th scope=row>4</th><td>2</td><td>38.00000</td><td>61000.00</td><td>0</td></tr>\n",
       "\t<tr><th scope=row>5</th><td>3</td><td>40.00000</td><td>63777.78</td><td>1</td></tr>\n",
       "\t<tr><th scope=row>7</th><td>2</td><td>38.77778</td><td>52000.00</td><td>0</td></tr>\n",
       "\t<tr><th scope=row>8</th><td>1</td><td>48.00000</td><td>79000.00</td><td>1</td></tr>\n",
       "\t<tr><th scope=row>10</th><td>1</td><td>37.00000</td><td>67000.00</td><td>1</td></tr>\n",
       "</tbody>\n",
       "</table>\n"
      ],
      "text/latex": [
       "A data.frame: 8 × 4\n",
       "\\begin{tabular}{r|llll}\n",
       "  & Country & Age & Salary & Purchased\\\\\n",
       "  & <fct> & <dbl> & <dbl> & <fct>\\\\\n",
       "\\hline\n",
       "\t1 & 1 & 44.00000 & 72000.00 & 0\\\\\n",
       "\t2 & 2 & 27.00000 & 48000.00 & 1\\\\\n",
       "\t3 & 3 & 30.00000 & 54000.00 & 0\\\\\n",
       "\t4 & 2 & 38.00000 & 61000.00 & 0\\\\\n",
       "\t5 & 3 & 40.00000 & 63777.78 & 1\\\\\n",
       "\t7 & 2 & 38.77778 & 52000.00 & 0\\\\\n",
       "\t8 & 1 & 48.00000 & 79000.00 & 1\\\\\n",
       "\t10 & 1 & 37.00000 & 67000.00 & 1\\\\\n",
       "\\end{tabular}\n"
      ],
      "text/markdown": [
       "\n",
       "A data.frame: 8 × 4\n",
       "\n",
       "| <!--/--> | Country &lt;fct&gt; | Age &lt;dbl&gt; | Salary &lt;dbl&gt; | Purchased &lt;fct&gt; |\n",
       "|---|---|---|---|---|\n",
       "| 1 | 1 | 44.00000 | 72000.00 | 0 |\n",
       "| 2 | 2 | 27.00000 | 48000.00 | 1 |\n",
       "| 3 | 3 | 30.00000 | 54000.00 | 0 |\n",
       "| 4 | 2 | 38.00000 | 61000.00 | 0 |\n",
       "| 5 | 3 | 40.00000 | 63777.78 | 1 |\n",
       "| 7 | 2 | 38.77778 | 52000.00 | 0 |\n",
       "| 8 | 1 | 48.00000 | 79000.00 | 1 |\n",
       "| 10 | 1 | 37.00000 | 67000.00 | 1 |\n",
       "\n"
      ],
      "text/plain": [
       "   Country Age      Salary   Purchased\n",
       "1  1       44.00000 72000.00 0        \n",
       "2  2       27.00000 48000.00 1        \n",
       "3  3       30.00000 54000.00 0        \n",
       "4  2       38.00000 61000.00 0        \n",
       "5  3       40.00000 63777.78 1        \n",
       "7  2       38.77778 52000.00 0        \n",
       "8  1       48.00000 79000.00 1        \n",
       "10 1       37.00000 67000.00 1        "
      ]
     },
     "metadata": {},
     "output_type": "display_data"
    },
    {
     "data": {
      "text/html": [
       "<table class=\"dataframe\">\n",
       "<caption>A data.frame: 2 × 4</caption>\n",
       "<thead>\n",
       "\t<tr><th></th><th scope=col>Country</th><th scope=col>Age</th><th scope=col>Salary</th><th scope=col>Purchased</th></tr>\n",
       "\t<tr><th></th><th scope=col>&lt;fct&gt;</th><th scope=col>&lt;dbl&gt;</th><th scope=col>&lt;dbl&gt;</th><th scope=col>&lt;fct&gt;</th></tr>\n",
       "</thead>\n",
       "<tbody>\n",
       "\t<tr><th scope=row>6</th><td>1</td><td>35</td><td>58000</td><td>1</td></tr>\n",
       "\t<tr><th scope=row>9</th><td>3</td><td>50</td><td>83000</td><td>0</td></tr>\n",
       "</tbody>\n",
       "</table>\n"
      ],
      "text/latex": [
       "A data.frame: 2 × 4\n",
       "\\begin{tabular}{r|llll}\n",
       "  & Country & Age & Salary & Purchased\\\\\n",
       "  & <fct> & <dbl> & <dbl> & <fct>\\\\\n",
       "\\hline\n",
       "\t6 & 1 & 35 & 58000 & 1\\\\\n",
       "\t9 & 3 & 50 & 83000 & 0\\\\\n",
       "\\end{tabular}\n"
      ],
      "text/markdown": [
       "\n",
       "A data.frame: 2 × 4\n",
       "\n",
       "| <!--/--> | Country &lt;fct&gt; | Age &lt;dbl&gt; | Salary &lt;dbl&gt; | Purchased &lt;fct&gt; |\n",
       "|---|---|---|---|---|\n",
       "| 6 | 1 | 35 | 58000 | 1 |\n",
       "| 9 | 3 | 50 | 83000 | 0 |\n",
       "\n"
      ],
      "text/plain": [
       "  Country Age Salary Purchased\n",
       "6 1       35  58000  1        \n",
       "9 3       50  83000  0        "
      ]
     },
     "metadata": {},
     "output_type": "display_data"
    }
   ],
   "source": [
    "# View training records\n",
    "X_train\n",
    "\n",
    "# View testing records\n",
    "X_test"
   ]
  },
  {
   "cell_type": "markdown",
   "metadata": {},
   "source": [
    "## Feture Scaling\n",
    "\n",
    "Feature scaling in a basic sense determines some measure (e.g. mean, standard deviation) to use to transform features onto the same scale.  While the ages in our dataset can range from 30 to 50, our salaries can range from 50,000 to 80,000.  A difference of 20 is huge for age, but nothing for salary.  Machine learning models sensitive to Euclidean distance will be led to believe that age makes no difference in predicting an outcome.  We will visualize this soon.\n",
    "\n",
    "Feature scaling should be performed after splitting the data into training and testing sets.  You only want data being used to train the model to contribute to this scaling.  The test set is meant to mimic future data that you haven't seen yet; therefore, you don't want this data contributing to the measure you scale on (e.g. mean and standard deviation).  Consider the effect if an extremely impactful outlier were to contribute to these measures, then end up in the test set; this is technically a future data point we haven't seen, yet it drastically increases or decreases our scaling measure.  Following therefrom, you may often want to split before even imputing data.  In this notebook, we imputed first, as to not disrupt the flow of learning.\n",
    "\n",
    "As previously mentioned, feature scaling essentially uses some measure (e.g. mean and standard deviation) to bring all features onto a similar scale.  While the ages in our dataset can range from 30 to 50, our salaries can range from 50,000 to 80,000.  A difference of 20 is huge for age, but nothing for salary.  However, 50 is actually a 66.67% change from 30, whereas 80,000 is only a 60% change from 50,000.  It is however not always necessary to scale a features; consider a multiple linear regression model for example:\n",
    "\n",
    "$$\n",
    "y = x_0 + b_1 x_1 + b_2 x_2 + ... b_n x_n\n",
    "$$\n",
    "\n",
    "If any variable is significantly higher than the rest, the coefficients may naturally compensate by taking lower values.  We will revisit this in regression.\n",
    "\n",
    "The two main feature scaling techniques are <em>normalization</em> and <em>standardization</em> (or $z$-score normalization).  The are achieved by applying one of the following formulas to every point in a dataset:\n",
    "\n",
    "<center><b>Normalization:</b>\n",
    "$$\n",
    "x_{norm} = \\frac{x - x_{min}}{x_{max}-x_{min}}\n",
    "$$\n",
    "</center>\n",
    "<br>\n",
    "\n",
    "<center><b>Standardization:</b>\n",
    "$$\n",
    "x_{stand} = z = \\frac{x - \\mu}{\\sigma}\n",
    "$$\n",
    "Where $x$ is a particular observation, $\\mu$ is the mean of the dataset, and $\\sigma$ is the standard deviation of the dataset; the result of this formula is known as the $z$-score.</center>\n",
    "\n",
    "\n",
    "Conceptually, normalization  puts all features on a scale from 0 to 1.  Assuming that not every single datapoint is the same value, a datapoint $x$ will always be greater than or equal to the minimum $x$ value, thus being zero or a positive number, while the maximum $x$ value minus the minimum $x$ value will always be positive, thus being another positive.  Lastly, there is a bigger difference between the maximum $x$ value and the minimum $x$ value, and between any given $x$ value and the minimum, thus making the denominator larger or the same as the numerator.  Therefore, zero or some positive number dividied by the same or a larger positive number will always lie between 0 and 1.  \n",
    "\n",
    "Standardization (or $z$-score normalization) on the other hand is calcualting the $z$-score of every feature, and roughly puts every datapoint on a range from -3 to 3.  Recall from the Empirical Rule, that 99.7% of data falls within 3 standard deviations of the mean.$^2$  The next question then is when to use which method.  Normalization is typically recommended when you have a normal distribution in most features.  Standardization on the other hand is generally \"good all the time.\"\n",
    "\n",
    "Before proceeding, it is important to note not to scale encoded values.  Recall that we transformed our country features into numbers representing each country; we do not want to scale these meaningful numbers.  First, the whole point of scaling is to put all features into the same range.  Standardization puts features onto a scale from -3 to 3, while normalization puts features onto a scale from 0 to 1.  Either way, only having three categories, the numbers in our encoded Country column fall between 1 and 3 and are already within either scale.  Furthermore, the exact values of 1, 2, and 3 have meaning, namely, \"This is France,\" \"This is Spain,\" and \"This is Germany.\"  We would not want to scale these down to values such as [0.3, 0.3, 0.4] which has no meaning with respect to answering \"yes\" or \"no\" to what a country is.  Therefore, we do not scale encoded values.\n",
    "\n",
    "Next, we will create a copy of our features, then scale them, to visually examine what happens when we scale data.  We will also calculate the first Z-score ourselves to show what the scale() function does to our data."
   ]
  },
  {
   "cell_type": "code",
   "execution_count": 11,
   "metadata": {},
   "outputs": [],
   "source": [
    "# Create copy of training features\n",
    "X_train_original = X_train"
   ]
  },
  {
   "cell_type": "code",
   "execution_count": 12,
   "metadata": {
    "scrolled": true
   },
   "outputs": [
    {
     "data": {
      "text/html": [
       "<table class=\"dataframe\">\n",
       "<caption>A data.frame: 8 × 4</caption>\n",
       "<thead>\n",
       "\t<tr><th></th><th scope=col>Country</th><th scope=col>Age</th><th scope=col>Salary</th><th scope=col>Purchased</th></tr>\n",
       "\t<tr><th></th><th scope=col>&lt;fct&gt;</th><th scope=col>&lt;dbl&gt;</th><th scope=col>&lt;dbl&gt;</th><th scope=col>&lt;fct&gt;</th></tr>\n",
       "</thead>\n",
       "<tbody>\n",
       "\t<tr><th scope=row>1</th><td>1</td><td>44.00000</td><td>72000.00</td><td>0</td></tr>\n",
       "\t<tr><th scope=row>2</th><td>2</td><td>27.00000</td><td>48000.00</td><td>1</td></tr>\n",
       "\t<tr><th scope=row>3</th><td>3</td><td>30.00000</td><td>54000.00</td><td>0</td></tr>\n",
       "\t<tr><th scope=row>4</th><td>2</td><td>38.00000</td><td>61000.00</td><td>0</td></tr>\n",
       "\t<tr><th scope=row>5</th><td>3</td><td>40.00000</td><td>63777.78</td><td>1</td></tr>\n",
       "\t<tr><th scope=row>7</th><td>2</td><td>38.77778</td><td>52000.00</td><td>0</td></tr>\n",
       "\t<tr><th scope=row>8</th><td>1</td><td>48.00000</td><td>79000.00</td><td>1</td></tr>\n",
       "\t<tr><th scope=row>10</th><td>1</td><td>37.00000</td><td>67000.00</td><td>1</td></tr>\n",
       "</tbody>\n",
       "</table>\n"
      ],
      "text/latex": [
       "A data.frame: 8 × 4\n",
       "\\begin{tabular}{r|llll}\n",
       "  & Country & Age & Salary & Purchased\\\\\n",
       "  & <fct> & <dbl> & <dbl> & <fct>\\\\\n",
       "\\hline\n",
       "\t1 & 1 & 44.00000 & 72000.00 & 0\\\\\n",
       "\t2 & 2 & 27.00000 & 48000.00 & 1\\\\\n",
       "\t3 & 3 & 30.00000 & 54000.00 & 0\\\\\n",
       "\t4 & 2 & 38.00000 & 61000.00 & 0\\\\\n",
       "\t5 & 3 & 40.00000 & 63777.78 & 1\\\\\n",
       "\t7 & 2 & 38.77778 & 52000.00 & 0\\\\\n",
       "\t8 & 1 & 48.00000 & 79000.00 & 1\\\\\n",
       "\t10 & 1 & 37.00000 & 67000.00 & 1\\\\\n",
       "\\end{tabular}\n"
      ],
      "text/markdown": [
       "\n",
       "A data.frame: 8 × 4\n",
       "\n",
       "| <!--/--> | Country &lt;fct&gt; | Age &lt;dbl&gt; | Salary &lt;dbl&gt; | Purchased &lt;fct&gt; |\n",
       "|---|---|---|---|---|\n",
       "| 1 | 1 | 44.00000 | 72000.00 | 0 |\n",
       "| 2 | 2 | 27.00000 | 48000.00 | 1 |\n",
       "| 3 | 3 | 30.00000 | 54000.00 | 0 |\n",
       "| 4 | 2 | 38.00000 | 61000.00 | 0 |\n",
       "| 5 | 3 | 40.00000 | 63777.78 | 1 |\n",
       "| 7 | 2 | 38.77778 | 52000.00 | 0 |\n",
       "| 8 | 1 | 48.00000 | 79000.00 | 1 |\n",
       "| 10 | 1 | 37.00000 | 67000.00 | 1 |\n",
       "\n"
      ],
      "text/plain": [
       "   Country Age      Salary   Purchased\n",
       "1  1       44.00000 72000.00 0        \n",
       "2  2       27.00000 48000.00 1        \n",
       "3  3       30.00000 54000.00 0        \n",
       "4  2       38.00000 61000.00 0        \n",
       "5  3       40.00000 63777.78 1        \n",
       "7  2       38.77778 52000.00 0        \n",
       "8  1       48.00000 79000.00 1        \n",
       "10 1       37.00000 67000.00 1        "
      ]
     },
     "metadata": {},
     "output_type": "display_data"
    }
   ],
   "source": [
    "# View pre-scaled features\n",
    "X_train_original"
   ]
  },
  {
   "cell_type": "markdown",
   "metadata": {},
   "source": [
    "##### come back and learn and how to select columns by name instead of index"
   ]
  },
  {
   "cell_type": "code",
   "execution_count": 13,
   "metadata": {},
   "outputs": [],
   "source": [
    "# Scale features\n",
    "# X_train[,c(purchases$Age, purchases$Salary)] <- scale(X_train[,c(purchases$Age, purchases$Salary)])\n",
    "X_train[,2:3] <- scale(X_train[,2:3])\n",
    "X_test[,2:3] <- scale(X_test[,2:3])"
   ]
  },
  {
   "cell_type": "code",
   "execution_count": null,
   "metadata": {},
   "outputs": [],
   "source": []
  },
  {
   "cell_type": "markdown",
   "metadata": {},
   "source": [
    "Examing the first age, age mean, and age standard deviation in Figure 1, we can calculate the Z-score ourselves.\n",
    "\n",
    "$$\n",
    "\\displaystyle Z = \\frac{38.77 - 40.1}{6.89} = -0.19\n",
    "$$\n",
    "<br><center>Figure 2. Z-Score Of First Age</center>\n",
    "\n",
    "\n",
    "Now let's scale our data and examine the first scaled age."
   ]
  },
  {
   "cell_type": "code",
   "execution_count": 15,
   "metadata": {},
   "outputs": [
    {
     "data": {
      "text/html": [
       "<table class=\"dataframe\">\n",
       "<caption>A data.frame: 8 × 4</caption>\n",
       "<thead>\n",
       "\t<tr><th></th><th scope=col>Country</th><th scope=col>Age</th><th scope=col>Salary</th><th scope=col>Purchased</th></tr>\n",
       "\t<tr><th></th><th scope=col>&lt;fct&gt;</th><th scope=col>&lt;dbl&gt;</th><th scope=col>&lt;dbl&gt;</th><th scope=col>&lt;fct&gt;</th></tr>\n",
       "</thead>\n",
       "<tbody>\n",
       "\t<tr><th scope=row>1</th><td>1</td><td> 0.90101716</td><td> 0.9392746</td><td>0</td></tr>\n",
       "\t<tr><th scope=row>2</th><td>2</td><td>-1.58847494</td><td>-1.3371160</td><td>1</td></tr>\n",
       "\t<tr><th scope=row>3</th><td>3</td><td>-1.14915281</td><td>-0.7680183</td><td>0</td></tr>\n",
       "\t<tr><th scope=row>4</th><td>2</td><td> 0.02237289</td><td>-0.1040711</td><td>0</td></tr>\n",
       "\t<tr><th scope=row>5</th><td>3</td><td> 0.31525431</td><td> 0.1594000</td><td>1</td></tr>\n",
       "\t<tr><th scope=row>7</th><td>2</td><td> 0.13627122</td><td>-0.9577176</td><td>0</td></tr>\n",
       "\t<tr><th scope=row>8</th><td>1</td><td> 1.48678000</td><td> 1.6032218</td><td>1</td></tr>\n",
       "\t<tr><th scope=row>10</th><td>1</td><td>-0.12406783</td><td> 0.4650265</td><td>1</td></tr>\n",
       "</tbody>\n",
       "</table>\n"
      ],
      "text/latex": [
       "A data.frame: 8 × 4\n",
       "\\begin{tabular}{r|llll}\n",
       "  & Country & Age & Salary & Purchased\\\\\n",
       "  & <fct> & <dbl> & <dbl> & <fct>\\\\\n",
       "\\hline\n",
       "\t1 & 1 &  0.90101716 &  0.9392746 & 0\\\\\n",
       "\t2 & 2 & -1.58847494 & -1.3371160 & 1\\\\\n",
       "\t3 & 3 & -1.14915281 & -0.7680183 & 0\\\\\n",
       "\t4 & 2 &  0.02237289 & -0.1040711 & 0\\\\\n",
       "\t5 & 3 &  0.31525431 &  0.1594000 & 1\\\\\n",
       "\t7 & 2 &  0.13627122 & -0.9577176 & 0\\\\\n",
       "\t8 & 1 &  1.48678000 &  1.6032218 & 1\\\\\n",
       "\t10 & 1 & -0.12406783 &  0.4650265 & 1\\\\\n",
       "\\end{tabular}\n"
      ],
      "text/markdown": [
       "\n",
       "A data.frame: 8 × 4\n",
       "\n",
       "| <!--/--> | Country &lt;fct&gt; | Age &lt;dbl&gt; | Salary &lt;dbl&gt; | Purchased &lt;fct&gt; |\n",
       "|---|---|---|---|---|\n",
       "| 1 | 1 |  0.90101716 |  0.9392746 | 0 |\n",
       "| 2 | 2 | -1.58847494 | -1.3371160 | 1 |\n",
       "| 3 | 3 | -1.14915281 | -0.7680183 | 0 |\n",
       "| 4 | 2 |  0.02237289 | -0.1040711 | 0 |\n",
       "| 5 | 3 |  0.31525431 |  0.1594000 | 1 |\n",
       "| 7 | 2 |  0.13627122 | -0.9577176 | 0 |\n",
       "| 8 | 1 |  1.48678000 |  1.6032218 | 1 |\n",
       "| 10 | 1 | -0.12406783 |  0.4650265 | 1 |\n",
       "\n"
      ],
      "text/plain": [
       "   Country Age         Salary     Purchased\n",
       "1  1        0.90101716  0.9392746 0        \n",
       "2  2       -1.58847494 -1.3371160 1        \n",
       "3  3       -1.14915281 -0.7680183 0        \n",
       "4  2        0.02237289 -0.1040711 0        \n",
       "5  3        0.31525431  0.1594000 1        \n",
       "7  2        0.13627122 -0.9577176 0        \n",
       "8  1        1.48678000  1.6032218 1        \n",
       "10 1       -0.12406783  0.4650265 1        "
      ]
     },
     "metadata": {},
     "output_type": "display_data"
    }
   ],
   "source": [
    "X_train"
   ]
  },
  {
   "cell_type": "code",
   "execution_count": null,
   "metadata": {},
   "outputs": [],
   "source": []
  },
  {
   "cell_type": "code",
   "execution_count": null,
   "metadata": {},
   "outputs": [],
   "source": []
  }
 ],
 "metadata": {
  "kernelspec": {
   "display_name": "R",
   "language": "R",
   "name": "ir"
  },
  "language_info": {
   "codemirror_mode": "r",
   "file_extension": ".r",
   "mimetype": "text/x-r-source",
   "name": "R",
   "pygments_lexer": "r",
   "version": "4.2.0"
  }
 },
 "nbformat": 4,
 "nbformat_minor": 4
}

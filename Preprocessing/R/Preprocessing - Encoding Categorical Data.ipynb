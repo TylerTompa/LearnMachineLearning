{
 "cells": [
  {
   "cell_type": "markdown",
   "metadata": {},
   "source": [
    "# Machine Learning Preprocessing: Encoding Categorical Data\n",
    "\n",
    "In this notebook, we explore how to encode categorical data.  Machine Learning algorithms often require numerical data, and encoding \"<em>small, medium, large</em>\" is an important step in converting data into a format that algorithms can understand.\n",
    "\n",
    "Sources:\n",
    "1. <a href='https://www.udemy.com/course/machinelearning/'>Machine Learning A-Z™: Hands-On Python & R In Data Science</a>"
   ]
  },
  {
   "cell_type": "markdown",
   "metadata": {},
   "source": [
    "## Load & Preview Data"
   ]
  },
  {
   "cell_type": "code",
   "execution_count": 1,
   "metadata": {},
   "outputs": [],
   "source": [
    "# Define file path to data\n",
    "purchases_file_path  <- file.path('Data','Data.csv')\n",
    "\n",
    "# Load data\n",
    "purchases  <- read.csv(purchases_file_path)"
   ]
  },
  {
   "cell_type": "code",
   "execution_count": 2,
   "metadata": {},
   "outputs": [
    {
     "name": "stdout",
     "output_type": "stream",
     "text": [
      "Shape:"
     ]
    },
    {
     "data": {
      "text/html": [
       "<style>\n",
       ".list-inline {list-style: none; margin:0; padding: 0}\n",
       ".list-inline>li {display: inline-block}\n",
       ".list-inline>li:not(:last-child)::after {content: \"\\00b7\"; padding: 0 .5ex}\n",
       "</style>\n",
       "<ol class=list-inline><li>10</li><li>4</li></ol>\n"
      ],
      "text/latex": [
       "\\begin{enumerate*}\n",
       "\\item 10\n",
       "\\item 4\n",
       "\\end{enumerate*}\n"
      ],
      "text/markdown": [
       "1. 10\n",
       "2. 4\n",
       "\n",
       "\n"
      ],
      "text/plain": [
       "[1] 10  4"
      ]
     },
     "metadata": {},
     "output_type": "display_data"
    },
    {
     "name": "stdout",
     "output_type": "stream",
     "text": [
      "Figure 1.\n",
      "\n",
      "Preview:"
     ]
    },
    {
     "data": {
      "text/html": [
       "<table class=\"dataframe\">\n",
       "<caption>A data.frame: 5 × 4</caption>\n",
       "<thead>\n",
       "\t<tr><th></th><th scope=col>Country</th><th scope=col>Age</th><th scope=col>Salary</th><th scope=col>Purchased</th></tr>\n",
       "\t<tr><th></th><th scope=col>&lt;chr&gt;</th><th scope=col>&lt;int&gt;</th><th scope=col>&lt;int&gt;</th><th scope=col>&lt;chr&gt;</th></tr>\n",
       "</thead>\n",
       "<tbody>\n",
       "\t<tr><th scope=row>1</th><td>France </td><td>44</td><td>72000</td><td>No </td></tr>\n",
       "\t<tr><th scope=row>2</th><td>Spain  </td><td>27</td><td>48000</td><td>Yes</td></tr>\n",
       "\t<tr><th scope=row>3</th><td>Germany</td><td>30</td><td>54000</td><td>No </td></tr>\n",
       "\t<tr><th scope=row>4</th><td>Spain  </td><td>38</td><td>61000</td><td>No </td></tr>\n",
       "\t<tr><th scope=row>5</th><td>Germany</td><td>40</td><td>   NA</td><td>Yes</td></tr>\n",
       "</tbody>\n",
       "</table>\n"
      ],
      "text/latex": [
       "A data.frame: 5 × 4\n",
       "\\begin{tabular}{r|llll}\n",
       "  & Country & Age & Salary & Purchased\\\\\n",
       "  & <chr> & <int> & <int> & <chr>\\\\\n",
       "\\hline\n",
       "\t1 & France  & 44 & 72000 & No \\\\\n",
       "\t2 & Spain   & 27 & 48000 & Yes\\\\\n",
       "\t3 & Germany & 30 & 54000 & No \\\\\n",
       "\t4 & Spain   & 38 & 61000 & No \\\\\n",
       "\t5 & Germany & 40 &    NA & Yes\\\\\n",
       "\\end{tabular}\n"
      ],
      "text/markdown": [
       "\n",
       "A data.frame: 5 × 4\n",
       "\n",
       "| <!--/--> | Country &lt;chr&gt; | Age &lt;int&gt; | Salary &lt;int&gt; | Purchased &lt;chr&gt; |\n",
       "|---|---|---|---|---|\n",
       "| 1 | France  | 44 | 72000 | No  |\n",
       "| 2 | Spain   | 27 | 48000 | Yes |\n",
       "| 3 | Germany | 30 | 54000 | No  |\n",
       "| 4 | Spain   | 38 | 61000 | No  |\n",
       "| 5 | Germany | 40 |    NA | Yes |\n",
       "\n"
      ],
      "text/plain": [
       "  Country Age Salary Purchased\n",
       "1 France  44  72000  No       \n",
       "2 Spain   27  48000  Yes      \n",
       "3 Germany 30  54000  No       \n",
       "4 Spain   38  61000  No       \n",
       "5 Germany 40     NA  Yes      "
      ]
     },
     "metadata": {},
     "output_type": "display_data"
    },
    {
     "name": "stdout",
     "output_type": "stream",
     "text": [
      "Figure 2.\n",
      "\n",
      "Structure:\n",
      "'data.frame':\t10 obs. of  4 variables:\n",
      " $ Country  : chr  \"France\" \"Spain\" \"Germany\" \"Spain\" ...\n",
      " $ Age      : int  44 27 30 38 40 35 NA 48 50 37\n",
      " $ Salary   : int  72000 48000 54000 61000 NA 58000 52000 79000 83000 67000\n",
      " $ Purchased: chr  \"No\" \"Yes\" \"No\" \"No\" ...\n",
      "Figure 3.\n",
      "\n",
      "Summary:"
     ]
    },
    {
     "data": {
      "text/plain": [
       "   Country               Age            Salary       Purchased        \n",
       " Length:10          Min.   :27.00   Min.   :48000   Length:10         \n",
       " Class :character   1st Qu.:35.00   1st Qu.:54000   Class :character  \n",
       " Mode  :character   Median :38.00   Median :61000   Mode  :character  \n",
       "                    Mean   :38.78   Mean   :63778                     \n",
       "                    3rd Qu.:44.00   3rd Qu.:72000                     \n",
       "                    Max.   :50.00   Max.   :83000                     \n",
       "                    NA's   :1       NA's   :1                         "
      ]
     },
     "metadata": {},
     "output_type": "display_data"
    },
    {
     "name": "stdout",
     "output_type": "stream",
     "text": [
      "Figure 4."
     ]
    }
   ],
   "source": [
    "cat('Shape:')\n",
    "dim(purchases)\n",
    "cat('Figure 1.')\n",
    "\n",
    "cat('\\n\\nPreview:')\n",
    "head(purchases, 5)\n",
    "cat('Figure 2.')\n",
    "\n",
    "cat('\\n\\nStructure:\\n')\n",
    "str(purchases)\n",
    "cat('Figure 3.')\n",
    "\n",
    "cat('\\n\\nSummary:')\n",
    "summary(purchases)\n",
    "cat('Figure 4.')"
   ]
  },
  {
   "cell_type": "markdown",
   "metadata": {},
   "source": [
    "## Address Missing Values"
   ]
  },
  {
   "cell_type": "code",
   "execution_count": 3,
   "metadata": {},
   "outputs": [],
   "source": [
    "# Replace salary values with averages if they are null\n",
    "purchases$Salary <- ifelse(is.na(purchases$Salary) # If the salary is null\n",
    "                          ,ave(purchases$Salary, FUN = function(x) mean(x, na.rm = TRUE)) # then return the mean salary\n",
    "                          ,purchases$Salary) # else return the current record's salary\n",
    "\n",
    "# Replace age values with averages if they are null\n",
    "purchases$Age <- ifelse(is.na(purchases$Age) # If the age is null\n",
    "                          ,ave(purchases$Age, FUN = function(x) mean(x, na.rm = TRUE)) # then return the mean age\n",
    "                          ,purchases$Age) # else return the current record's age                        "
   ]
  },
  {
   "cell_type": "markdown",
   "metadata": {},
   "source": [
    "## Encode Categorical Data\n",
    "\n",
    "Let's start by preview our data again."
   ]
  },
  {
   "cell_type": "code",
   "execution_count": 4,
   "metadata": {},
   "outputs": [
    {
     "data": {
      "text/html": [
       "<table class=\"dataframe\">\n",
       "<caption>A data.frame: 5 × 4</caption>\n",
       "<thead>\n",
       "\t<tr><th></th><th scope=col>Country</th><th scope=col>Age</th><th scope=col>Salary</th><th scope=col>Purchased</th></tr>\n",
       "\t<tr><th></th><th scope=col>&lt;chr&gt;</th><th scope=col>&lt;dbl&gt;</th><th scope=col>&lt;dbl&gt;</th><th scope=col>&lt;chr&gt;</th></tr>\n",
       "</thead>\n",
       "<tbody>\n",
       "\t<tr><th scope=row>1</th><td>France </td><td>44</td><td>72000.00</td><td>No </td></tr>\n",
       "\t<tr><th scope=row>2</th><td>Spain  </td><td>27</td><td>48000.00</td><td>Yes</td></tr>\n",
       "\t<tr><th scope=row>3</th><td>Germany</td><td>30</td><td>54000.00</td><td>No </td></tr>\n",
       "\t<tr><th scope=row>4</th><td>Spain  </td><td>38</td><td>61000.00</td><td>No </td></tr>\n",
       "\t<tr><th scope=row>5</th><td>Germany</td><td>40</td><td>63777.78</td><td>Yes</td></tr>\n",
       "</tbody>\n",
       "</table>\n"
      ],
      "text/latex": [
       "A data.frame: 5 × 4\n",
       "\\begin{tabular}{r|llll}\n",
       "  & Country & Age & Salary & Purchased\\\\\n",
       "  & <chr> & <dbl> & <dbl> & <chr>\\\\\n",
       "\\hline\n",
       "\t1 & France  & 44 & 72000.00 & No \\\\\n",
       "\t2 & Spain   & 27 & 48000.00 & Yes\\\\\n",
       "\t3 & Germany & 30 & 54000.00 & No \\\\\n",
       "\t4 & Spain   & 38 & 61000.00 & No \\\\\n",
       "\t5 & Germany & 40 & 63777.78 & Yes\\\\\n",
       "\\end{tabular}\n"
      ],
      "text/markdown": [
       "\n",
       "A data.frame: 5 × 4\n",
       "\n",
       "| <!--/--> | Country &lt;chr&gt; | Age &lt;dbl&gt; | Salary &lt;dbl&gt; | Purchased &lt;chr&gt; |\n",
       "|---|---|---|---|---|\n",
       "| 1 | France  | 44 | 72000.00 | No  |\n",
       "| 2 | Spain   | 27 | 48000.00 | Yes |\n",
       "| 3 | Germany | 30 | 54000.00 | No  |\n",
       "| 4 | Spain   | 38 | 61000.00 | No  |\n",
       "| 5 | Germany | 40 | 63777.78 | Yes |\n",
       "\n"
      ],
      "text/plain": [
       "  Country Age Salary   Purchased\n",
       "1 France  44  72000.00 No       \n",
       "2 Spain   27  48000.00 Yes      \n",
       "3 Germany 30  54000.00 No       \n",
       "4 Spain   38  61000.00 No       \n",
       "5 Germany 40  63777.78 Yes      "
      ]
     },
     "metadata": {},
     "output_type": "display_data"
    }
   ],
   "source": [
    "head(purchases, 5)"
   ]
  },
  {
   "cell_type": "markdown",
   "metadata": {},
   "source": [
    "One of our features is the Country, with the options France, Spain, and Germany.  Under the hood, many machine learning algorithms will not understand these strings, and will instead require numbers.  We therefore want to convert these textual categories to numbers.  Encoding is the process of converting the text \"France\" to the number 1, the text \"Spain\" to the number 2, and the text \"Germany\" to the number 3.  Linear Regression algorithms can understand, and can compute the mean, standard deviation, etc, of the numbers 1, 2, and 3, but they cannot do the same with the text \"France,\" \"Germany,\" and \"Spain.\"\n",
    "\n",
    "To apply encoding we use the factor() function.  This function takes 3 arguments:\n",
    "<ul>\n",
    "    <li><b>x:</b> The data to transform into factors</li>\n",
    "    <li><b>levels:</b> The name of each category</li>\n",
    "    <li><b>labels:</b> Which number to give to each category</li>\n",
    "</ul>"
   ]
  },
  {
   "cell_type": "code",
   "execution_count": 5,
   "metadata": {},
   "outputs": [
    {
     "data": {
      "text/html": [
       "<style>\n",
       ".list-inline {list-style: none; margin:0; padding: 0}\n",
       ".list-inline>li {display: inline-block}\n",
       ".list-inline>li:not(:last-child)::after {content: \"\\00b7\"; padding: 0 .5ex}\n",
       "</style>\n",
       "<ol class=list-inline><li>'France'</li><li>'Spain'</li><li>'Germany'</li><li>'Spain'</li><li>'Germany'</li><li>'France'</li><li>'Spain'</li><li>'France'</li><li>'Germany'</li><li>'France'</li></ol>\n"
      ],
      "text/latex": [
       "\\begin{enumerate*}\n",
       "\\item 'France'\n",
       "\\item 'Spain'\n",
       "\\item 'Germany'\n",
       "\\item 'Spain'\n",
       "\\item 'Germany'\n",
       "\\item 'France'\n",
       "\\item 'Spain'\n",
       "\\item 'France'\n",
       "\\item 'Germany'\n",
       "\\item 'France'\n",
       "\\end{enumerate*}\n"
      ],
      "text/markdown": [
       "1. 'France'\n",
       "2. 'Spain'\n",
       "3. 'Germany'\n",
       "4. 'Spain'\n",
       "5. 'Germany'\n",
       "6. 'France'\n",
       "7. 'Spain'\n",
       "8. 'France'\n",
       "9. 'Germany'\n",
       "10. 'France'\n",
       "\n",
       "\n"
      ],
      "text/plain": [
       " [1] \"France\"  \"Spain\"   \"Germany\" \"Spain\"   \"Germany\" \"France\"  \"Spain\"  \n",
       " [8] \"France\"  \"Germany\" \"France\" "
      ]
     },
     "metadata": {},
     "output_type": "display_data"
    },
    {
     "data": {
      "text/html": [
       "<style>\n",
       ".list-inline {list-style: none; margin:0; padding: 0}\n",
       ".list-inline>li {display: inline-block}\n",
       ".list-inline>li:not(:last-child)::after {content: \"\\00b7\"; padding: 0 .5ex}\n",
       "</style>\n",
       "<ol class=list-inline><li>'No'</li><li>'Yes'</li><li>'No'</li><li>'No'</li><li>'Yes'</li><li>'Yes'</li><li>'No'</li><li>'Yes'</li><li>'No'</li><li>'Yes'</li></ol>\n"
      ],
      "text/latex": [
       "\\begin{enumerate*}\n",
       "\\item 'No'\n",
       "\\item 'Yes'\n",
       "\\item 'No'\n",
       "\\item 'No'\n",
       "\\item 'Yes'\n",
       "\\item 'Yes'\n",
       "\\item 'No'\n",
       "\\item 'Yes'\n",
       "\\item 'No'\n",
       "\\item 'Yes'\n",
       "\\end{enumerate*}\n"
      ],
      "text/markdown": [
       "1. 'No'\n",
       "2. 'Yes'\n",
       "3. 'No'\n",
       "4. 'No'\n",
       "5. 'Yes'\n",
       "6. 'Yes'\n",
       "7. 'No'\n",
       "8. 'Yes'\n",
       "9. 'No'\n",
       "10. 'Yes'\n",
       "\n",
       "\n"
      ],
      "text/plain": [
       " [1] \"No\"  \"Yes\" \"No\"  \"No\"  \"Yes\" \"Yes\" \"No\"  \"Yes\" \"No\"  \"Yes\""
      ]
     },
     "metadata": {},
     "output_type": "display_data"
    }
   ],
   "source": [
    "# View categorical variables before encoding\n",
    "purchases$Country\n",
    "purchases$Purchased"
   ]
  },
  {
   "cell_type": "code",
   "execution_count": 6,
   "metadata": {},
   "outputs": [],
   "source": [
    "# Encode country features\n",
    "purchases$Country  <- factor(purchases$Country\n",
    "                            ,levels=c('France', 'Spain', 'Germany')\n",
    "                            ,labels=c(1,2,3))\n",
    "\n",
    "# Encode purchased label\n",
    "purchases$Purchased  <- factor(purchases$Purchased\n",
    "                            ,levels=c('Yes', 'No')\n",
    "                            ,labels=c(1,0))"
   ]
  },
  {
   "cell_type": "code",
   "execution_count": 8,
   "metadata": {},
   "outputs": [
    {
     "data": {
      "text/html": [
       "<style>\n",
       ".list-inline {list-style: none; margin:0; padding: 0}\n",
       ".list-inline>li {display: inline-block}\n",
       ".list-inline>li:not(:last-child)::after {content: \"\\00b7\"; padding: 0 .5ex}\n",
       "</style>\n",
       "<ol class=list-inline><li>1</li><li>2</li><li>3</li><li>2</li><li>3</li><li>1</li><li>2</li><li>1</li><li>3</li><li>1</li></ol>\n",
       "\n",
       "<details>\n",
       "\t<summary style=display:list-item;cursor:pointer>\n",
       "\t\t<strong>Levels</strong>:\n",
       "\t</summary>\n",
       "\t<style>\n",
       "\t.list-inline {list-style: none; margin:0; padding: 0}\n",
       "\t.list-inline>li {display: inline-block}\n",
       "\t.list-inline>li:not(:last-child)::after {content: \"\\00b7\"; padding: 0 .5ex}\n",
       "\t</style>\n",
       "\t<ol class=list-inline><li>'1'</li><li>'2'</li><li>'3'</li></ol>\n",
       "</details>"
      ],
      "text/latex": [
       "\\begin{enumerate*}\n",
       "\\item 1\n",
       "\\item 2\n",
       "\\item 3\n",
       "\\item 2\n",
       "\\item 3\n",
       "\\item 1\n",
       "\\item 2\n",
       "\\item 1\n",
       "\\item 3\n",
       "\\item 1\n",
       "\\end{enumerate*}\n",
       "\n",
       "\\emph{Levels}: \\begin{enumerate*}\n",
       "\\item '1'\n",
       "\\item '2'\n",
       "\\item '3'\n",
       "\\end{enumerate*}\n"
      ],
      "text/markdown": [
       "1. 1\n",
       "2. 2\n",
       "3. 3\n",
       "4. 2\n",
       "5. 3\n",
       "6. 1\n",
       "7. 2\n",
       "8. 1\n",
       "9. 3\n",
       "10. 1\n",
       "\n",
       "\n",
       "\n",
       "**Levels**: 1. '1'\n",
       "2. '2'\n",
       "3. '3'\n",
       "\n",
       "\n"
      ],
      "text/plain": [
       " [1] 1 2 3 2 3 1 2 1 3 1\n",
       "Levels: 1 2 3"
      ]
     },
     "metadata": {},
     "output_type": "display_data"
    },
    {
     "data": {
      "text/html": [
       "<style>\n",
       ".list-inline {list-style: none; margin:0; padding: 0}\n",
       ".list-inline>li {display: inline-block}\n",
       ".list-inline>li:not(:last-child)::after {content: \"\\00b7\"; padding: 0 .5ex}\n",
       "</style>\n",
       "<ol class=list-inline><li>0</li><li>1</li><li>0</li><li>0</li><li>1</li><li>1</li><li>0</li><li>1</li><li>0</li><li>1</li></ol>\n",
       "\n",
       "<details>\n",
       "\t<summary style=display:list-item;cursor:pointer>\n",
       "\t\t<strong>Levels</strong>:\n",
       "\t</summary>\n",
       "\t<style>\n",
       "\t.list-inline {list-style: none; margin:0; padding: 0}\n",
       "\t.list-inline>li {display: inline-block}\n",
       "\t.list-inline>li:not(:last-child)::after {content: \"\\00b7\"; padding: 0 .5ex}\n",
       "\t</style>\n",
       "\t<ol class=list-inline><li>'1'</li><li>'0'</li></ol>\n",
       "</details>"
      ],
      "text/latex": [
       "\\begin{enumerate*}\n",
       "\\item 0\n",
       "\\item 1\n",
       "\\item 0\n",
       "\\item 0\n",
       "\\item 1\n",
       "\\item 1\n",
       "\\item 0\n",
       "\\item 1\n",
       "\\item 0\n",
       "\\item 1\n",
       "\\end{enumerate*}\n",
       "\n",
       "\\emph{Levels}: \\begin{enumerate*}\n",
       "\\item '1'\n",
       "\\item '0'\n",
       "\\end{enumerate*}\n"
      ],
      "text/markdown": [
       "1. 0\n",
       "2. 1\n",
       "3. 0\n",
       "4. 0\n",
       "5. 1\n",
       "6. 1\n",
       "7. 0\n",
       "8. 1\n",
       "9. 0\n",
       "10. 1\n",
       "\n",
       "\n",
       "\n",
       "**Levels**: 1. '1'\n",
       "2. '0'\n",
       "\n",
       "\n"
      ],
      "text/plain": [
       " [1] 0 1 0 0 1 1 0 1 0 1\n",
       "Levels: 1 0"
      ]
     },
     "metadata": {},
     "output_type": "display_data"
    }
   ],
   "source": [
    "# View categorical variables after encoding\n",
    "purchases$Country\n",
    "purchases$Purchased"
   ]
  },
  {
   "cell_type": "code",
   "execution_count": 11,
   "metadata": {},
   "outputs": [
    {
     "data": {
      "text/html": [
       "<table class=\"dataframe\">\n",
       "<caption>A data.frame: 6 × 4</caption>\n",
       "<thead>\n",
       "\t<tr><th></th><th scope=col>Country</th><th scope=col>Age</th><th scope=col>Salary</th><th scope=col>Purchased</th></tr>\n",
       "\t<tr><th></th><th scope=col>&lt;fct&gt;</th><th scope=col>&lt;dbl&gt;</th><th scope=col>&lt;dbl&gt;</th><th scope=col>&lt;fct&gt;</th></tr>\n",
       "</thead>\n",
       "<tbody>\n",
       "\t<tr><th scope=row>1</th><td>1</td><td>44</td><td>72000.00</td><td>0</td></tr>\n",
       "\t<tr><th scope=row>2</th><td>2</td><td>27</td><td>48000.00</td><td>1</td></tr>\n",
       "\t<tr><th scope=row>3</th><td>3</td><td>30</td><td>54000.00</td><td>0</td></tr>\n",
       "\t<tr><th scope=row>4</th><td>2</td><td>38</td><td>61000.00</td><td>0</td></tr>\n",
       "\t<tr><th scope=row>5</th><td>3</td><td>40</td><td>63777.78</td><td>1</td></tr>\n",
       "\t<tr><th scope=row>6</th><td>1</td><td>35</td><td>58000.00</td><td>1</td></tr>\n",
       "</tbody>\n",
       "</table>\n"
      ],
      "text/latex": [
       "A data.frame: 6 × 4\n",
       "\\begin{tabular}{r|llll}\n",
       "  & Country & Age & Salary & Purchased\\\\\n",
       "  & <fct> & <dbl> & <dbl> & <fct>\\\\\n",
       "\\hline\n",
       "\t1 & 1 & 44 & 72000.00 & 0\\\\\n",
       "\t2 & 2 & 27 & 48000.00 & 1\\\\\n",
       "\t3 & 3 & 30 & 54000.00 & 0\\\\\n",
       "\t4 & 2 & 38 & 61000.00 & 0\\\\\n",
       "\t5 & 3 & 40 & 63777.78 & 1\\\\\n",
       "\t6 & 1 & 35 & 58000.00 & 1\\\\\n",
       "\\end{tabular}\n"
      ],
      "text/markdown": [
       "\n",
       "A data.frame: 6 × 4\n",
       "\n",
       "| <!--/--> | Country &lt;fct&gt; | Age &lt;dbl&gt; | Salary &lt;dbl&gt; | Purchased &lt;fct&gt; |\n",
       "|---|---|---|---|---|\n",
       "| 1 | 1 | 44 | 72000.00 | 0 |\n",
       "| 2 | 2 | 27 | 48000.00 | 1 |\n",
       "| 3 | 3 | 30 | 54000.00 | 0 |\n",
       "| 4 | 2 | 38 | 61000.00 | 0 |\n",
       "| 5 | 3 | 40 | 63777.78 | 1 |\n",
       "| 6 | 1 | 35 | 58000.00 | 1 |\n",
       "\n"
      ],
      "text/plain": [
       "  Country Age Salary   Purchased\n",
       "1 1       44  72000.00 0        \n",
       "2 2       27  48000.00 1        \n",
       "3 3       30  54000.00 0        \n",
       "4 2       38  61000.00 0        \n",
       "5 3       40  63777.78 1        \n",
       "6 1       35  58000.00 1        "
      ]
     },
     "metadata": {},
     "output_type": "display_data"
    }
   ],
   "source": [
    "# Preview purchases data\n",
    "head(purchases)"
   ]
  },
  {
   "cell_type": "markdown",
   "metadata": {},
   "source": [
    "## Parking Lot Notes\n",
    "\n",
    "Earlier we discussed what the encoding process is.  The idea of converting \"Frace\" to 1, \"Spain\" to 2, and \"Germany\" to 3 is called \"label encoding.\"  In certain models, this could confuse the algorithm into believing that there is a numerical ranking to the countries, that is, that Germany, being 3, is the \"best,\" and France, being 1, is the \"worst,\" with Spain in the middle.  In reality there is no ranking to these countries; so this type of encoding could bias certain machine learning classifiers.\n",
    "\n",
    "An alternative is to use \"one-hot encoding,\" which creates binary vectors (essentially TRUE or FALSE vectors) for each category.  In other words, it turns a column with $n$ categories into $n$ distinct columns.  In our case, the Country column has 3 categories, and one-hot encoding would transform this into 3 distinct columns.  The result would essentially be an \"Is France?\" column, an \"Is Spain?\" column, and an \"Is Germany?\" column; we would then populate one of these columns with 1, or \"True,\" and the others with 0, or \"False.\"  France would receive the vector [1,0,0]; Spain would receive the vector [0,1,0], and Germany would receive the vector [0,0,1].\n",
    "\n",
    "Due to the way R can implement simple linear regression, one-hot encoding is necessary, and we may use label encoding on features with more than two categories.  For reference however, following is how you could perform one-hot encoding in R."
   ]
  },
  {
   "cell_type": "code",
   "execution_count": 3,
   "metadata": {},
   "outputs": [],
   "source": [
    "# install.packages(\"caret\", dependencies=TRUE, type=\"win.binary\")\n",
    "# R.version.string"
   ]
  },
  {
   "cell_type": "code",
   "execution_count": 4,
   "metadata": {
    "scrolled": true
   },
   "outputs": [
    {
     "name": "stderr",
     "output_type": "stream",
     "text": [
      "Loading required package: ggplot2\n",
      "\n",
      "Loading required package: lattice\n",
      "\n"
     ]
    }
   ],
   "source": [
    "library(caret)"
   ]
  },
  {
   "cell_type": "code",
   "execution_count": null,
   "metadata": {},
   "outputs": [],
   "source": [
    "dummy <- dummyVars(\"  ~ . \", data=purchases)"
   ]
  },
  {
   "cell_type": "code",
   "execution_count": null,
   "metadata": {},
   "outputs": [],
   "source": [
    "predict(dummy, newdata=purchases)"
   ]
  },
  {
   "cell_type": "code",
   "execution_count": null,
   "metadata": {},
   "outputs": [],
   "source": [
    "data.frame(predict(dummy, newdata=purchases))"
   ]
  },
  {
   "cell_type": "code",
   "execution_count": null,
   "metadata": {},
   "outputs": [],
   "source": []
  },
  {
   "cell_type": "code",
   "execution_count": null,
   "metadata": {},
   "outputs": [],
   "source": [
    "library(mltools)\n",
    "library(data.table)"
   ]
  },
  {
   "cell_type": "code",
   "execution_count": null,
   "metadata": {},
   "outputs": [],
   "source": [
    "one_hot( as.dataframe(purchases$Country))"
   ]
  },
  {
   "cell_type": "code",
   "execution_count": null,
   "metadata": {},
   "outputs": [],
   "source": [
    "one_hot(as.data.frame(purchases), cols=purchases$Country)"
   ]
  },
  {
   "cell_type": "code",
   "execution_count": null,
   "metadata": {},
   "outputs": [],
   "source": [
    "purchases$Country <- one_hot(as.data.table(purchases$Country))"
   ]
  },
  {
   "cell_type": "code",
   "execution_count": null,
   "metadata": {},
   "outputs": [],
   "source": []
  },
  {
   "cell_type": "code",
   "execution_count": null,
   "metadata": {},
   "outputs": [],
   "source": []
  }
 ],
 "metadata": {
  "kernelspec": {
   "display_name": "R",
   "language": "R",
   "name": "ir"
  },
  "language_info": {
   "codemirror_mode": "r",
   "file_extension": ".r",
   "mimetype": "text/x-r-source",
   "name": "R",
   "pygments_lexer": "r",
   "version": "4.2.0"
  }
 },
 "nbformat": 4,
 "nbformat_minor": 4
}

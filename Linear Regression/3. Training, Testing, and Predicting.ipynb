{
 "cells": [
  {
   "cell_type": "markdown",
   "metadata": {},
   "source": [
    "# Linear Regression: Training, Testing, and Predicting"
   ]
  },
  {
   "cell_type": "markdown",
   "metadata": {},
   "source": [
    "# 1. General Setup"
   ]
  },
  {
   "cell_type": "code",
   "execution_count": 1,
   "metadata": {},
   "outputs": [],
   "source": [
    "# Import analytics libraries\n",
    "import pandas as pd\n",
    "import numpy as np\n",
    "import matplotlib.pyplot as plt\n",
    "\n",
    "# Import machine learning dependencies\n",
    "from sklearn.preprocessing import StandardScaler\n",
    "from sklearn.model_selection import train_test_split\n",
    "from sklearn.linear_model import LinearRegression"
   ]
  },
  {
   "cell_type": "code",
   "execution_count": 2,
   "metadata": {},
   "outputs": [],
   "source": [
    "# Raise errors, instead of give warnings\n",
    "pd.set_option('mode.chained_Assignment', 'raise')"
   ]
  },
  {
   "cell_type": "code",
   "execution_count": 3,
   "metadata": {},
   "outputs": [
    {
     "data": {
      "text/html": [
       "<div>\n",
       "<style scoped>\n",
       "    .dataframe tbody tr th:only-of-type {\n",
       "        vertical-align: middle;\n",
       "    }\n",
       "\n",
       "    .dataframe tbody tr th {\n",
       "        vertical-align: top;\n",
       "    }\n",
       "\n",
       "    .dataframe thead th {\n",
       "        text-align: right;\n",
       "    }\n",
       "</style>\n",
       "<table border=\"1\" class=\"dataframe\">\n",
       "  <thead>\n",
       "    <tr style=\"text-align: right;\">\n",
       "      <th></th>\n",
       "      <th>Adj. Close</th>\n",
       "      <th>Open-Close Percent Change</th>\n",
       "      <th>High-Low Percent Change</th>\n",
       "      <th>Adj. Volume</th>\n",
       "      <th>Forecast</th>\n",
       "    </tr>\n",
       "    <tr>\n",
       "      <th>Date</th>\n",
       "      <th></th>\n",
       "      <th></th>\n",
       "      <th></th>\n",
       "      <th></th>\n",
       "      <th></th>\n",
       "    </tr>\n",
       "  </thead>\n",
       "  <tbody>\n",
       "    <tr>\n",
       "      <th>2004-08-19</th>\n",
       "      <td>50.322842</td>\n",
       "      <td>0.324968</td>\n",
       "      <td>8.441017</td>\n",
       "      <td>44659000.0</td>\n",
       "      <td>69.078238</td>\n",
       "    </tr>\n",
       "    <tr>\n",
       "      <th>2004-08-20</th>\n",
       "      <td>54.322689</td>\n",
       "      <td>7.227007</td>\n",
       "      <td>8.537313</td>\n",
       "      <td>22834300.0</td>\n",
       "      <td>67.839414</td>\n",
       "    </tr>\n",
       "    <tr>\n",
       "      <th>2004-08-23</th>\n",
       "      <td>54.869377</td>\n",
       "      <td>-1.227880</td>\n",
       "      <td>4.062357</td>\n",
       "      <td>18256100.0</td>\n",
       "      <td>68.912727</td>\n",
       "    </tr>\n",
       "    <tr>\n",
       "      <th>2004-08-24</th>\n",
       "      <td>52.597363</td>\n",
       "      <td>-5.726357</td>\n",
       "      <td>7.753210</td>\n",
       "      <td>15247300.0</td>\n",
       "      <td>70.668146</td>\n",
       "    </tr>\n",
       "    <tr>\n",
       "      <th>2004-08-25</th>\n",
       "      <td>53.164113</td>\n",
       "      <td>1.183658</td>\n",
       "      <td>3.966115</td>\n",
       "      <td>9188600.0</td>\n",
       "      <td>71.219849</td>\n",
       "    </tr>\n",
       "  </tbody>\n",
       "</table>\n",
       "</div>"
      ],
      "text/plain": [
       "            Adj. Close  Open-Close Percent Change  High-Low Percent Change  \\\n",
       "Date                                                                         \n",
       "2004-08-19   50.322842                   0.324968                 8.441017   \n",
       "2004-08-20   54.322689                   7.227007                 8.537313   \n",
       "2004-08-23   54.869377                  -1.227880                 4.062357   \n",
       "2004-08-24   52.597363                  -5.726357                 7.753210   \n",
       "2004-08-25   53.164113                   1.183658                 3.966115   \n",
       "\n",
       "            Adj. Volume   Forecast  \n",
       "Date                                \n",
       "2004-08-19   44659000.0  69.078238  \n",
       "2004-08-20   22834300.0  67.839414  \n",
       "2004-08-23   18256100.0  68.912727  \n",
       "2004-08-24   15247300.0  70.668146  \n",
       "2004-08-25    9188600.0  71.219849  "
      ]
     },
     "metadata": {},
     "output_type": "display_data"
    },
    {
     "data": {
      "text/html": [
       "<div>\n",
       "<style scoped>\n",
       "    .dataframe tbody tr th:only-of-type {\n",
       "        vertical-align: middle;\n",
       "    }\n",
       "\n",
       "    .dataframe tbody tr th {\n",
       "        vertical-align: top;\n",
       "    }\n",
       "\n",
       "    .dataframe thead th {\n",
       "        text-align: right;\n",
       "    }\n",
       "</style>\n",
       "<table border=\"1\" class=\"dataframe\">\n",
       "  <thead>\n",
       "    <tr style=\"text-align: right;\">\n",
       "      <th></th>\n",
       "      <th>Adj. Close</th>\n",
       "      <th>Open-Close Percent Change</th>\n",
       "      <th>High-Low Percent Change</th>\n",
       "      <th>Adj. Volume</th>\n",
       "      <th>Forecast</th>\n",
       "    </tr>\n",
       "    <tr>\n",
       "      <th>Date</th>\n",
       "      <th></th>\n",
       "      <th></th>\n",
       "      <th></th>\n",
       "      <th></th>\n",
       "      <th></th>\n",
       "    </tr>\n",
       "  </thead>\n",
       "  <tbody>\n",
       "    <tr>\n",
       "      <th>2018-03-21</th>\n",
       "      <td>1094.00</td>\n",
       "      <td>0.130884</td>\n",
       "      <td>1.976619</td>\n",
       "      <td>1990515.0</td>\n",
       "      <td>NaN</td>\n",
       "    </tr>\n",
       "    <tr>\n",
       "      <th>2018-03-22</th>\n",
       "      <td>1053.15</td>\n",
       "      <td>-2.487014</td>\n",
       "      <td>3.265882</td>\n",
       "      <td>3418154.0</td>\n",
       "      <td>NaN</td>\n",
       "    </tr>\n",
       "    <tr>\n",
       "      <th>2018-03-23</th>\n",
       "      <td>1026.55</td>\n",
       "      <td>-2.360729</td>\n",
       "      <td>4.089299</td>\n",
       "      <td>2413517.0</td>\n",
       "      <td>NaN</td>\n",
       "    </tr>\n",
       "    <tr>\n",
       "      <th>2018-03-26</th>\n",
       "      <td>1054.09</td>\n",
       "      <td>0.332191</td>\n",
       "      <td>4.818025</td>\n",
       "      <td>3272409.0</td>\n",
       "      <td>NaN</td>\n",
       "    </tr>\n",
       "    <tr>\n",
       "      <th>2018-03-27</th>\n",
       "      <td>1006.94</td>\n",
       "      <td>-5.353887</td>\n",
       "      <td>6.707965</td>\n",
       "      <td>2940957.0</td>\n",
       "      <td>NaN</td>\n",
       "    </tr>\n",
       "  </tbody>\n",
       "</table>\n",
       "</div>"
      ],
      "text/plain": [
       "            Adj. Close  Open-Close Percent Change  High-Low Percent Change  \\\n",
       "Date                                                                         \n",
       "2018-03-21     1094.00                   0.130884                 1.976619   \n",
       "2018-03-22     1053.15                  -2.487014                 3.265882   \n",
       "2018-03-23     1026.55                  -2.360729                 4.089299   \n",
       "2018-03-26     1054.09                   0.332191                 4.818025   \n",
       "2018-03-27     1006.94                  -5.353887                 6.707965   \n",
       "\n",
       "            Adj. Volume  Forecast  \n",
       "Date                               \n",
       "2018-03-21    1990515.0       NaN  \n",
       "2018-03-22    3418154.0       NaN  \n",
       "2018-03-23    2413517.0       NaN  \n",
       "2018-03-26    3272409.0       NaN  \n",
       "2018-03-27    2940957.0       NaN  "
      ]
     },
     "metadata": {},
     "output_type": "display_data"
    }
   ],
   "source": [
    "# Import data\n",
    "import os\n",
    "data_file_path = os.path.join('Data','stocks.csv')\n",
    "\n",
    "# Preview data\n",
    "stocks = pd.read_csv(data_file_path, index_col='Date')\n",
    "display(stocks.head())\n",
    "display(stocks.tail())"
   ]
  },
  {
   "cell_type": "markdown",
   "metadata": {},
   "source": [
    "# 2. Preprocessing"
   ]
  },
  {
   "cell_type": "code",
   "execution_count": 4,
   "metadata": {},
   "outputs": [
    {
     "name": "stdout",
     "output_type": "stream",
     "text": [
      "[[ 5.03228418e+01  3.24967503e-01  8.44101709e+00  4.46590000e+07]\n",
      " [ 5.43226889e+01  7.22700723e+00  8.53731343e+00  2.28343000e+07]\n",
      " [ 5.48693765e+01 -1.22788010e+00  4.06235672e+00  1.82561000e+07]\n",
      " ...\n",
      " [ 1.02655000e+03 -2.36072933e+00  4.08929913e+00  2.41351700e+06]\n",
      " [ 1.05409000e+03  3.32191129e-01  4.81802529e+00  3.27240900e+06]\n",
      " [ 1.00694000e+03 -5.35388664e+00  6.70796496e+00  2.94095700e+06]]\n",
      "[69.0782379  67.83941377 68.91272699 ...         nan         nan\n",
      "         nan]\n"
     ]
    }
   ],
   "source": [
    "# define features and labels\n",
    "X = np.array(stocks.drop(['Forecast'], 1))\n",
    "y = np.array(stocks['Forecast'])\n",
    "\n",
    "print(X)\n",
    "print(y)"
   ]
  },
  {
   "cell_type": "code",
   "execution_count": 5,
   "metadata": {},
   "outputs": [
    {
     "data": {
      "text/plain": [
       "<matplotlib.legend.Legend at 0x208dbe27160>"
      ]
     },
     "execution_count": 5,
     "metadata": {},
     "output_type": "execute_result"
    },
    {
     "data": {
      "image/png": "[encoded data removed]",
      "text/plain": [
       "<Figure size 1440x576 with 1 Axes>"
      ]
     },
     "metadata": {
      "needs_background": "light"
     },
     "output_type": "display_data"
    }
   ],
   "source": [
    "# Preview pre-scaled data\n",
    "plt.figure(figsize=(20,8))\n",
    "plt.subplot(1,2,1)\n",
    "plt.plot(X[:,0], label='Adj. Close Price')\n",
    "plt.plot(X[:,3], label = 'Adj. Volume')\n",
    "plt.legend()"
   ]
  },
  {
   "cell_type": "code",
   "execution_count": 6,
   "metadata": {},
   "outputs": [],
   "source": [
    "# Create copies of original data\n",
    "X_original = X.copy(order='C')\n",
    "y_original = y.copy(order='C')\n",
    "\n",
    "# Initialize scaler\n",
    "scaler = StandardScaler()\n",
    "\n",
    "# Fit data\n",
    "scaler.fit(X, y)\n",
    "\n",
    "# Scale features\n",
    "X = scaler.transform(X)"
   ]
  },
  {
   "cell_type": "code",
   "execution_count": 7,
   "metadata": {},
   "outputs": [
    {
     "data": {
      "text/plain": [
       "[<matplotlib.lines.Line2D at 0x208dc8a6a20>]"
      ]
     },
     "execution_count": 7,
     "metadata": {},
     "output_type": "execute_result"
    },
    {
     "data": {
      "image/png": "[encoded data removed]",
      "text/plain": [
       "<Figure size 1440x576 with 1 Axes>"
      ]
     },
     "metadata": {
      "needs_background": "light"
     },
     "output_type": "display_data"
    }
   ],
   "source": [
    "# Preview scaled data\n",
    "plt.figure(figsize=(20,8))\n",
    "plt.subplot(1,2,1)\n",
    "plt.plot(X[:,0], label='Adj. Close Price')\n",
    "plt.plot(X[:,3], label='Adj. volume')"
   ]
  },
  {
   "cell_type": "markdown",
   "metadata": {},
   "source": [
    "# 3. Address Missing Values\n",
    "\n",
    "Recall that make our forecast column, we shifted each adjusted close price up $x$ rows, where $x$ was 1% of the length of the dataframe, which in this case was 35 rows.  Consequently, the last 35 rows of the forecast column are null, as there were no values to shift into these rows."
   ]
  },
  {
   "cell_type": "code",
   "execution_count": 8,
   "metadata": {},
   "outputs": [
    {
     "name": "stdout",
     "output_type": "stream",
     "text": [
      "35\n"
     ]
    }
   ],
   "source": [
    "# Define the number of days out we want to forecast out\n",
    "# In this case, want to forecast out 1% of the dataframe\n",
    "# We will use the math ceil() function to round the number of columns to the nearest whole number.\n",
    "import math\n",
    "forecast_out = math.ceil(0.01*len(stocks))\n",
    "print(forecast_out)"
   ]
  },
  {
   "cell_type": "markdown",
   "metadata": {},
   "source": [
    "We will now examine the last 37 rows of our dataframe to observe this phenomenon.  The last 35 rows will be null, while the first 2 will have values."
   ]
  },
  {
   "cell_type": "code",
   "execution_count": 9,
   "metadata": {},
   "outputs": [
    {
     "data": {
      "text/html": [
       "<div>\n",
       "<style scoped>\n",
       "    .dataframe tbody tr th:only-of-type {\n",
       "        vertical-align: middle;\n",
       "    }\n",
       "\n",
       "    .dataframe tbody tr th {\n",
       "        vertical-align: top;\n",
       "    }\n",
       "\n",
       "    .dataframe thead th {\n",
       "        text-align: right;\n",
       "    }\n",
       "</style>\n",
       "<table border=\"1\" class=\"dataframe\">\n",
       "  <thead>\n",
       "    <tr style=\"text-align: right;\">\n",
       "      <th></th>\n",
       "      <th>Adj. Close</th>\n",
       "      <th>Open-Close Percent Change</th>\n",
       "      <th>High-Low Percent Change</th>\n",
       "      <th>Adj. Volume</th>\n",
       "      <th>Forecast</th>\n",
       "    </tr>\n",
       "    <tr>\n",
       "      <th>Date</th>\n",
       "      <th></th>\n",
       "      <th></th>\n",
       "      <th></th>\n",
       "      <th></th>\n",
       "      <th></th>\n",
       "    </tr>\n",
       "  </thead>\n",
       "  <tbody>\n",
       "    <tr>\n",
       "      <th>2018-02-02</th>\n",
       "      <td>1119.20</td>\n",
       "      <td>-0.729098</td>\n",
       "      <td>1.811604</td>\n",
       "      <td>5798880.0</td>\n",
       "      <td>1054.09</td>\n",
       "    </tr>\n",
       "    <tr>\n",
       "      <th>2018-02-05</th>\n",
       "      <td>1068.76</td>\n",
       "      <td>-2.893850</td>\n",
       "      <td>5.512236</td>\n",
       "      <td>3742469.0</td>\n",
       "      <td>1006.94</td>\n",
       "    </tr>\n",
       "    <tr>\n",
       "      <th>2018-02-06</th>\n",
       "      <td>1084.43</td>\n",
       "      <td>4.879205</td>\n",
       "      <td>5.569849</td>\n",
       "      <td>3732527.0</td>\n",
       "      <td>NaN</td>\n",
       "    </tr>\n",
       "    <tr>\n",
       "      <th>2018-02-07</th>\n",
       "      <td>1055.41</td>\n",
       "      <td>-2.724499</td>\n",
       "      <td>3.025734</td>\n",
       "      <td>2544683.0</td>\n",
       "      <td>NaN</td>\n",
       "    </tr>\n",
       "    <tr>\n",
       "      <th>2018-02-08</th>\n",
       "      <td>1005.60</td>\n",
       "      <td>-5.120439</td>\n",
       "      <td>5.851043</td>\n",
       "      <td>3067173.0</td>\n",
       "      <td>NaN</td>\n",
       "    </tr>\n",
       "    <tr>\n",
       "      <th>2018-02-09</th>\n",
       "      <td>1043.43</td>\n",
       "      <td>1.710726</td>\n",
       "      <td>5.488465</td>\n",
       "      <td>4436032.0</td>\n",
       "      <td>NaN</td>\n",
       "    </tr>\n",
       "    <tr>\n",
       "      <th>2018-02-12</th>\n",
       "      <td>1054.56</td>\n",
       "      <td>-0.199684</td>\n",
       "      <td>1.920631</td>\n",
       "      <td>2796258.0</td>\n",
       "      <td>NaN</td>\n",
       "    </tr>\n",
       "    <tr>\n",
       "      <th>2018-02-13</th>\n",
       "      <td>1054.14</td>\n",
       "      <td>0.394286</td>\n",
       "      <td>1.365911</td>\n",
       "      <td>1574121.0</td>\n",
       "      <td>NaN</td>\n",
       "    </tr>\n",
       "    <tr>\n",
       "      <th>2018-02-14</th>\n",
       "      <td>1072.70</td>\n",
       "      <td>1.743304</td>\n",
       "      <td>2.445228</td>\n",
       "      <td>2029979.0</td>\n",
       "      <td>NaN</td>\n",
       "    </tr>\n",
       "    <tr>\n",
       "      <th>2018-02-15</th>\n",
       "      <td>1091.36</td>\n",
       "      <td>0.730075</td>\n",
       "      <td>2.517733</td>\n",
       "      <td>1806206.0</td>\n",
       "      <td>NaN</td>\n",
       "    </tr>\n",
       "    <tr>\n",
       "      <th>2018-02-16</th>\n",
       "      <td>1095.50</td>\n",
       "      <td>0.193894</td>\n",
       "      <td>1.535431</td>\n",
       "      <td>1971928.0</td>\n",
       "      <td>NaN</td>\n",
       "    </tr>\n",
       "    <tr>\n",
       "      <th>2018-02-20</th>\n",
       "      <td>1103.59</td>\n",
       "      <td>0.991068</td>\n",
       "      <td>2.411927</td>\n",
       "      <td>1646405.0</td>\n",
       "      <td>NaN</td>\n",
       "    </tr>\n",
       "    <tr>\n",
       "      <th>2018-02-21</th>\n",
       "      <td>1113.75</td>\n",
       "      <td>0.419259</td>\n",
       "      <td>2.590496</td>\n",
       "      <td>2024534.0</td>\n",
       "      <td>NaN</td>\n",
       "    </tr>\n",
       "    <tr>\n",
       "      <th>2018-02-22</th>\n",
       "      <td>1109.90</td>\n",
       "      <td>-0.828292</td>\n",
       "      <td>1.837760</td>\n",
       "      <td>1386115.0</td>\n",
       "      <td>NaN</td>\n",
       "    </tr>\n",
       "    <tr>\n",
       "      <th>2018-02-23</th>\n",
       "      <td>1128.09</td>\n",
       "      <td>0.842973</td>\n",
       "      <td>1.854859</td>\n",
       "      <td>1234539.0</td>\n",
       "      <td>NaN</td>\n",
       "    </tr>\n",
       "    <tr>\n",
       "      <th>2018-02-26</th>\n",
       "      <td>1143.70</td>\n",
       "      <td>1.046066</td>\n",
       "      <td>1.315813</td>\n",
       "      <td>1489118.0</td>\n",
       "      <td>NaN</td>\n",
       "    </tr>\n",
       "    <tr>\n",
       "      <th>2018-02-27</th>\n",
       "      <td>1117.51</td>\n",
       "      <td>-2.289936</td>\n",
       "      <td>2.458833</td>\n",
       "      <td>2094863.0</td>\n",
       "      <td>NaN</td>\n",
       "    </tr>\n",
       "    <tr>\n",
       "      <th>2018-02-28</th>\n",
       "      <td>1103.92</td>\n",
       "      <td>-1.611408</td>\n",
       "      <td>2.234814</td>\n",
       "      <td>2431023.0</td>\n",
       "      <td>NaN</td>\n",
       "    </tr>\n",
       "    <tr>\n",
       "      <th>2018-03-01</th>\n",
       "      <td>1071.41</td>\n",
       "      <td>-3.436559</td>\n",
       "      <td>4.120717</td>\n",
       "      <td>2766856.0</td>\n",
       "      <td>NaN</td>\n",
       "    </tr>\n",
       "    <tr>\n",
       "      <th>2018-03-02</th>\n",
       "      <td>1084.14</td>\n",
       "      <td>2.472637</td>\n",
       "      <td>3.502490</td>\n",
       "      <td>2508145.0</td>\n",
       "      <td>NaN</td>\n",
       "    </tr>\n",
       "    <tr>\n",
       "      <th>2018-03-05</th>\n",
       "      <td>1094.76</td>\n",
       "      <td>1.542486</td>\n",
       "      <td>2.696149</td>\n",
       "      <td>1432369.0</td>\n",
       "      <td>NaN</td>\n",
       "    </tr>\n",
       "    <tr>\n",
       "      <th>2018-03-06</th>\n",
       "      <td>1100.90</td>\n",
       "      <td>-0.108883</td>\n",
       "      <td>1.016903</td>\n",
       "      <td>1169068.0</td>\n",
       "      <td>NaN</td>\n",
       "    </tr>\n",
       "    <tr>\n",
       "      <th>2018-03-07</th>\n",
       "      <td>1115.04</td>\n",
       "      <td>2.033272</td>\n",
       "      <td>2.412126</td>\n",
       "      <td>1537429.0</td>\n",
       "      <td>NaN</td>\n",
       "    </tr>\n",
       "    <tr>\n",
       "      <th>2018-03-08</th>\n",
       "      <td>1129.38</td>\n",
       "      <td>1.090226</td>\n",
       "      <td>1.274615</td>\n",
       "      <td>1510478.0</td>\n",
       "      <td>NaN</td>\n",
       "    </tr>\n",
       "    <tr>\n",
       "      <th>2018-03-09</th>\n",
       "      <td>1160.84</td>\n",
       "      <td>1.872751</td>\n",
       "      <td>2.354777</td>\n",
       "      <td>2070174.0</td>\n",
       "      <td>NaN</td>\n",
       "    </tr>\n",
       "    <tr>\n",
       "      <th>2018-03-12</th>\n",
       "      <td>1165.93</td>\n",
       "      <td>0.075533</td>\n",
       "      <td>1.635611</td>\n",
       "      <td>2129297.0</td>\n",
       "      <td>NaN</td>\n",
       "    </tr>\n",
       "    <tr>\n",
       "      <th>2018-03-13</th>\n",
       "      <td>1139.91</td>\n",
       "      <td>-2.723945</td>\n",
       "      <td>3.827882</td>\n",
       "      <td>2129435.0</td>\n",
       "      <td>NaN</td>\n",
       "    </tr>\n",
       "    <tr>\n",
       "      <th>2018-03-14</th>\n",
       "      <td>1148.89</td>\n",
       "      <td>0.269681</td>\n",
       "      <td>1.524051</td>\n",
       "      <td>2033697.0</td>\n",
       "      <td>NaN</td>\n",
       "    </tr>\n",
       "    <tr>\n",
       "      <th>2018-03-15</th>\n",
       "      <td>1150.61</td>\n",
       "      <td>0.090469</td>\n",
       "      <td>2.363383</td>\n",
       "      <td>1623868.0</td>\n",
       "      <td>NaN</td>\n",
       "    </tr>\n",
       "    <tr>\n",
       "      <th>2018-03-16</th>\n",
       "      <td>1134.42</td>\n",
       "      <td>-1.811572</td>\n",
       "      <td>2.249505</td>\n",
       "      <td>2654602.0</td>\n",
       "      <td>NaN</td>\n",
       "    </tr>\n",
       "    <tr>\n",
       "      <th>2018-03-19</th>\n",
       "      <td>1100.07</td>\n",
       "      <td>-1.582630</td>\n",
       "      <td>2.796349</td>\n",
       "      <td>3076349.0</td>\n",
       "      <td>NaN</td>\n",
       "    </tr>\n",
       "    <tr>\n",
       "      <th>2018-03-20</th>\n",
       "      <td>1095.80</td>\n",
       "      <td>-0.236708</td>\n",
       "      <td>2.136878</td>\n",
       "      <td>2709310.0</td>\n",
       "      <td>NaN</td>\n",
       "    </tr>\n",
       "    <tr>\n",
       "      <th>2018-03-21</th>\n",
       "      <td>1094.00</td>\n",
       "      <td>0.130884</td>\n",
       "      <td>1.976619</td>\n",
       "      <td>1990515.0</td>\n",
       "      <td>NaN</td>\n",
       "    </tr>\n",
       "    <tr>\n",
       "      <th>2018-03-22</th>\n",
       "      <td>1053.15</td>\n",
       "      <td>-2.487014</td>\n",
       "      <td>3.265882</td>\n",
       "      <td>3418154.0</td>\n",
       "      <td>NaN</td>\n",
       "    </tr>\n",
       "    <tr>\n",
       "      <th>2018-03-23</th>\n",
       "      <td>1026.55</td>\n",
       "      <td>-2.360729</td>\n",
       "      <td>4.089299</td>\n",
       "      <td>2413517.0</td>\n",
       "      <td>NaN</td>\n",
       "    </tr>\n",
       "    <tr>\n",
       "      <th>2018-03-26</th>\n",
       "      <td>1054.09</td>\n",
       "      <td>0.332191</td>\n",
       "      <td>4.818025</td>\n",
       "      <td>3272409.0</td>\n",
       "      <td>NaN</td>\n",
       "    </tr>\n",
       "    <tr>\n",
       "      <th>2018-03-27</th>\n",
       "      <td>1006.94</td>\n",
       "      <td>-5.353887</td>\n",
       "      <td>6.707965</td>\n",
       "      <td>2940957.0</td>\n",
       "      <td>NaN</td>\n",
       "    </tr>\n",
       "  </tbody>\n",
       "</table>\n",
       "</div>"
      ],
      "text/plain": [
       "            Adj. Close  Open-Close Percent Change  High-Low Percent Change  \\\n",
       "Date                                                                         \n",
       "2018-02-02     1119.20                  -0.729098                 1.811604   \n",
       "2018-02-05     1068.76                  -2.893850                 5.512236   \n",
       "2018-02-06     1084.43                   4.879205                 5.569849   \n",
       "2018-02-07     1055.41                  -2.724499                 3.025734   \n",
       "2018-02-08     1005.60                  -5.120439                 5.851043   \n",
       "2018-02-09     1043.43                   1.710726                 5.488465   \n",
       "2018-02-12     1054.56                  -0.199684                 1.920631   \n",
       "2018-02-13     1054.14                   0.394286                 1.365911   \n",
       "2018-02-14     1072.70                   1.743304                 2.445228   \n",
       "2018-02-15     1091.36                   0.730075                 2.517733   \n",
       "2018-02-16     1095.50                   0.193894                 1.535431   \n",
       "2018-02-20     1103.59                   0.991068                 2.411927   \n",
       "2018-02-21     1113.75                   0.419259                 2.590496   \n",
       "2018-02-22     1109.90                  -0.828292                 1.837760   \n",
       "2018-02-23     1128.09                   0.842973                 1.854859   \n",
       "2018-02-26     1143.70                   1.046066                 1.315813   \n",
       "2018-02-27     1117.51                  -2.289936                 2.458833   \n",
       "2018-02-28     1103.92                  -1.611408                 2.234814   \n",
       "2018-03-01     1071.41                  -3.436559                 4.120717   \n",
       "2018-03-02     1084.14                   2.472637                 3.502490   \n",
       "2018-03-05     1094.76                   1.542486                 2.696149   \n",
       "2018-03-06     1100.90                  -0.108883                 1.016903   \n",
       "2018-03-07     1115.04                   2.033272                 2.412126   \n",
       "2018-03-08     1129.38                   1.090226                 1.274615   \n",
       "2018-03-09     1160.84                   1.872751                 2.354777   \n",
       "2018-03-12     1165.93                   0.075533                 1.635611   \n",
       "2018-03-13     1139.91                  -2.723945                 3.827882   \n",
       "2018-03-14     1148.89                   0.269681                 1.524051   \n",
       "2018-03-15     1150.61                   0.090469                 2.363383   \n",
       "2018-03-16     1134.42                  -1.811572                 2.249505   \n",
       "2018-03-19     1100.07                  -1.582630                 2.796349   \n",
       "2018-03-20     1095.80                  -0.236708                 2.136878   \n",
       "2018-03-21     1094.00                   0.130884                 1.976619   \n",
       "2018-03-22     1053.15                  -2.487014                 3.265882   \n",
       "2018-03-23     1026.55                  -2.360729                 4.089299   \n",
       "2018-03-26     1054.09                   0.332191                 4.818025   \n",
       "2018-03-27     1006.94                  -5.353887                 6.707965   \n",
       "\n",
       "            Adj. Volume  Forecast  \n",
       "Date                               \n",
       "2018-02-02    5798880.0   1054.09  \n",
       "2018-02-05    3742469.0   1006.94  \n",
       "2018-02-06    3732527.0       NaN  \n",
       "2018-02-07    2544683.0       NaN  \n",
       "2018-02-08    3067173.0       NaN  \n",
       "2018-02-09    4436032.0       NaN  \n",
       "2018-02-12    2796258.0       NaN  \n",
       "2018-02-13    1574121.0       NaN  \n",
       "2018-02-14    2029979.0       NaN  \n",
       "2018-02-15    1806206.0       NaN  \n",
       "2018-02-16    1971928.0       NaN  \n",
       "2018-02-20    1646405.0       NaN  \n",
       "2018-02-21    2024534.0       NaN  \n",
       "2018-02-22    1386115.0       NaN  \n",
       "2018-02-23    1234539.0       NaN  \n",
       "2018-02-26    1489118.0       NaN  \n",
       "2018-02-27    2094863.0       NaN  \n",
       "2018-02-28    2431023.0       NaN  \n",
       "2018-03-01    2766856.0       NaN  \n",
       "2018-03-02    2508145.0       NaN  \n",
       "2018-03-05    1432369.0       NaN  \n",
       "2018-03-06    1169068.0       NaN  \n",
       "2018-03-07    1537429.0       NaN  \n",
       "2018-03-08    1510478.0       NaN  \n",
       "2018-03-09    2070174.0       NaN  \n",
       "2018-03-12    2129297.0       NaN  \n",
       "2018-03-13    2129435.0       NaN  \n",
       "2018-03-14    2033697.0       NaN  \n",
       "2018-03-15    1623868.0       NaN  \n",
       "2018-03-16    2654602.0       NaN  \n",
       "2018-03-19    3076349.0       NaN  \n",
       "2018-03-20    2709310.0       NaN  \n",
       "2018-03-21    1990515.0       NaN  \n",
       "2018-03-22    3418154.0       NaN  \n",
       "2018-03-23    2413517.0       NaN  \n",
       "2018-03-26    3272409.0       NaN  \n",
       "2018-03-27    2940957.0       NaN  "
      ]
     },
     "metadata": {},
     "output_type": "display_data"
    }
   ],
   "source": [
    "# View last 37 rows of data\n",
    "display(stocks.tail(forecast_out+2))"
   ]
  },
  {
   "cell_type": "markdown",
   "metadata": {},
   "source": [
    "The Linear Regression algorithm we will soon use cannot take null values, and will error out if we pass in this data in its current state.  Though it is generally recommended to fill in missing data, we will simply drop ours to not overcomplicate learning our first algorithm.\n",
    "\n",
    "Observe what happens if we select up until the last 35 records of our labels, vs what happens if we select up to the last 37 records."
   ]
  },
  {
   "cell_type": "code",
   "execution_count": 10,
   "metadata": {},
   "outputs": [
    {
     "data": {
      "text/plain": [
       "array([  69.0782379 ,   67.83941377,   68.91272699, ..., 1026.55      ,\n",
       "       1054.09      , 1006.94      ])"
      ]
     },
     "metadata": {},
     "output_type": "display_data"
    },
    {
     "data": {
      "text/plain": [
       "array([  69.0782379 ,   67.83941377,   68.91272699, ..., 1006.94      ,\n",
       "                 nan,           nan])"
      ]
     },
     "metadata": {},
     "output_type": "display_data"
    }
   ],
   "source": [
    "# View last 35 rows of data, and last 37 rows\n",
    "# to illustrate up to what point we have data\n",
    "display(y[:-forecast_out])\n",
    "display(y[:-forecast_out+2])"
   ]
  },
  {
   "cell_type": "markdown",
   "metadata": {},
   "source": [
    "Now we will select only the last record from our labels, only our 35$^{th}$ to last record, only our 36$^{th}$ to last record, and only our 37$^{th}$ to last record."
   ]
  },
  {
   "cell_type": "code",
   "execution_count": 11,
   "metadata": {},
   "outputs": [
    {
     "data": {
      "text/plain": [
       "nan"
      ]
     },
     "metadata": {},
     "output_type": "display_data"
    },
    {
     "data": {
      "text/plain": [
       "nan"
      ]
     },
     "metadata": {},
     "output_type": "display_data"
    },
    {
     "data": {
      "text/plain": [
       "1006.94"
      ]
     },
     "metadata": {},
     "output_type": "display_data"
    },
    {
     "data": {
      "text/plain": [
       "1054.09"
      ]
     },
     "metadata": {},
     "output_type": "display_data"
    }
   ],
   "source": [
    "# View last row of data, and rows 35, 36, and 37 from the last\n",
    "# to illustrate up to what point we have data\n",
    "display(y[-1])\n",
    "display(y[-35])\n",
    "display(y[-36])\n",
    "display(y[-37])"
   ]
  },
  {
   "cell_type": "markdown",
   "metadata": {},
   "source": [
    "The last record, up to the 35$^{th}$ to last are null.  From the beginning of the array up until the 36$^{th}$ we do have values.  We will therefore overwrite our features and labels by selecting up to the point where we still have data."
   ]
  },
  {
   "cell_type": "code",
   "execution_count": 12,
   "metadata": {},
   "outputs": [],
   "source": [
    "# Define features and labels to be only up to the point without missing data\n",
    "X = X[:-forecast_out]\n",
    "y = y[:-forecast_out]"
   ]
  },
  {
   "cell_type": "markdown",
   "metadata": {},
   "source": [
    "We will then select the last two values in our labels to confirm their value."
   ]
  },
  {
   "cell_type": "code",
   "execution_count": 13,
   "metadata": {},
   "outputs": [
    {
     "data": {
      "text/plain": [
       "1006.94"
      ]
     },
     "metadata": {},
     "output_type": "display_data"
    },
    {
     "data": {
      "text/plain": [
       "1054.09"
      ]
     },
     "metadata": {},
     "output_type": "display_data"
    }
   ],
   "source": [
    "# Preview last 2 rows of data, to confirm no data is missing\n",
    "display(y[-1])\n",
    "display(y[-2])"
   ]
  },
  {
   "cell_type": "markdown",
   "metadata": {},
   "source": [
    "We see the same values that we saw 36 and 37 rows from the last, and have removed any missing data.  We are now ready to train a machine learning classifier."
   ]
  },
  {
   "cell_type": "markdown",
   "metadata": {},
   "source": [
    "# 4. Training Machine Learning Classifier\n",
    "\n",
    "In general, the next steps at this point are splitting the data into training and testing sets, using the defined machine learning algorithm on the training set, then testing the accuracy on the test set.\n",
    "\n",
    "Under the hood, Linear Regression determines a best-fit line to model the relationship between the features and the labels, or in other words, it determines the coefficients to model a best-fit line for the data.  Afterwards, we pass testing features into this best-fit line, and measure how accurate they are compared to the actual labels."
   ]
  },
  {
   "cell_type": "code",
   "execution_count": 14,
   "metadata": {},
   "outputs": [
    {
     "data": {
      "text/plain": [
       "LinearRegression(copy_X=True, fit_intercept=True, n_jobs=None, normalize=False)"
      ]
     },
     "execution_count": 14,
     "metadata": {},
     "output_type": "execute_result"
    }
   ],
   "source": [
    "# Split training and testing data, with 20% of the data reserved for testing\n",
    "X_train, X_test, y_train, y_test = train_test_split(X, y, test_size = 0.2)\n",
    "\n",
    "# Define the type of classifier; we are using Linear Regression\n",
    "classifier = LinearRegression()\n",
    "\n",
    "# Train the classifier;\n",
    "# this determines the coefficients to model the best-fit line\n",
    "classifier.fit(X_train, y_train)"
   ]
  },
  {
   "cell_type": "code",
   "execution_count": 15,
   "metadata": {},
   "outputs": [
    {
     "data": {
      "text/plain": [
       "0.9802809260327793"
      ]
     },
     "execution_count": 15,
     "metadata": {},
     "output_type": "execute_result"
    }
   ],
   "source": [
    "# Check the accuracy when using this classifier on testing data\n",
    "classifier.score(X_test, y_test)"
   ]
  },
  {
   "cell_type": "markdown",
   "metadata": {},
   "source": [
    "By checking the score above, we can see that this model had 98% accuracy when predicting the labels on the testing set.  If we are happy with this accuracy, we can proceed to deploy this model for real-world use."
   ]
  },
  {
   "cell_type": "markdown",
   "metadata": {},
   "source": [
    "# 5. Using Our Model To Predict Future Values"
   ]
  },
  {
   "cell_type": "code",
   "execution_count": null,
   "metadata": {},
   "outputs": [],
   "source": []
  },
  {
   "cell_type": "code",
   "execution_count": null,
   "metadata": {},
   "outputs": [],
   "source": []
  },
  {
   "cell_type": "code",
   "execution_count": null,
   "metadata": {},
   "outputs": [],
   "source": []
  },
  {
   "cell_type": "markdown",
   "metadata": {},
   "source": [
    "# Sources: \n",
    "1. <a href=\"https://pythonprogramming.net/training-testing-machine-learning-tutorial/\" target=\"_blank\">Python Programming: Regression - Training and Testing</a>\n",
    "2. <a href=\"https://pythonprogramming.net/forecasting-predicting-machine-learning-tutorial/\" target=\"_blank\">Python Programming: Regression - Forecasting and Predicting</a>"
   ]
  },
  {
   "cell_type": "code",
   "execution_count": null,
   "metadata": {},
   "outputs": [],
   "source": []
  }
 ],
 "metadata": {
  "kernelspec": {
   "display_name": "Python 3",
   "language": "python",
   "name": "python3"
  },
  "language_info": {
   "codemirror_mode": {
    "name": "ipython",
    "version": 3
   },
   "file_extension": ".py",
   "mimetype": "text/x-python",
   "name": "python",
   "nbconvert_exporter": "python",
   "pygments_lexer": "ipython3",
   "version": "3.7.1"
  }
 },
 "nbformat": 4,
 "nbformat_minor": 4
}

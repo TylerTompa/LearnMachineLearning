{
 "cells": [
  {
   "cell_type": "markdown",
   "metadata": {},
   "source": [
    "# Linear Regression: Training, Testing, and Predicting"
   ]
  },
  {
   "cell_type": "markdown",
   "metadata": {},
   "source": [
    "# 1. General Setup"
   ]
  },
  {
   "cell_type": "code",
   "execution_count": 1,
   "metadata": {},
   "outputs": [],
   "source": [
    "# Import analytics libraries\n",
    "import pandas as pd\n",
    "import numpy as np\n",
    "import matplotlib.pyplot as plt\n",
    "\n",
    "# Import machine learning dependencies\n",
    "from sklearn.preprocessing import StandardScaler\n",
    "from sklearn.model_selection import train_test_split\n",
    "from sklearn.linear_model import LinearRegression"
   ]
  },
  {
   "cell_type": "code",
   "execution_count": 2,
   "metadata": {},
   "outputs": [],
   "source": [
    "# Raise errors, instead of give warnings\n",
    "pd.set_option('mode.chained_Assignment', 'raise')"
   ]
  },
  {
   "cell_type": "code",
   "execution_count": 3,
   "metadata": {},
   "outputs": [
    {
     "data": {
      "text/html": [
       "<div>\n",
       "<style scoped>\n",
       "    .dataframe tbody tr th:only-of-type {\n",
       "        vertical-align: middle;\n",
       "    }\n",
       "\n",
       "    .dataframe tbody tr th {\n",
       "        vertical-align: top;\n",
       "    }\n",
       "\n",
       "    .dataframe thead th {\n",
       "        text-align: right;\n",
       "    }\n",
       "</style>\n",
       "<table border=\"1\" class=\"dataframe\">\n",
       "  <thead>\n",
       "    <tr style=\"text-align: right;\">\n",
       "      <th></th>\n",
       "      <th>Adj. Close</th>\n",
       "      <th>Open-Close Percent Change</th>\n",
       "      <th>High-Low Percent Change</th>\n",
       "      <th>Adj. Volume</th>\n",
       "      <th>Forecast</th>\n",
       "    </tr>\n",
       "    <tr>\n",
       "      <th>Date</th>\n",
       "      <th></th>\n",
       "      <th></th>\n",
       "      <th></th>\n",
       "      <th></th>\n",
       "      <th></th>\n",
       "    </tr>\n",
       "  </thead>\n",
       "  <tbody>\n",
       "    <tr>\n",
       "      <th>2004-08-19</th>\n",
       "      <td>50.322842</td>\n",
       "      <td>0.324968</td>\n",
       "      <td>8.441017</td>\n",
       "      <td>44659000.0</td>\n",
       "      <td>109.713676</td>\n",
       "    </tr>\n",
       "    <tr>\n",
       "      <th>2004-08-20</th>\n",
       "      <td>54.322689</td>\n",
       "      <td>7.227007</td>\n",
       "      <td>8.537313</td>\n",
       "      <td>22834300.0</td>\n",
       "      <td>110.230270</td>\n",
       "    </tr>\n",
       "    <tr>\n",
       "      <th>2004-08-23</th>\n",
       "      <td>54.869377</td>\n",
       "      <td>-1.227880</td>\n",
       "      <td>4.062357</td>\n",
       "      <td>18256100.0</td>\n",
       "      <td>110.064759</td>\n",
       "    </tr>\n",
       "    <tr>\n",
       "      <th>2004-08-24</th>\n",
       "      <td>52.597363</td>\n",
       "      <td>-5.726357</td>\n",
       "      <td>7.753210</td>\n",
       "      <td>15247300.0</td>\n",
       "      <td>110.340611</td>\n",
       "    </tr>\n",
       "    <tr>\n",
       "      <th>2004-08-25</th>\n",
       "      <td>53.164113</td>\n",
       "      <td>1.183658</td>\n",
       "      <td>3.966115</td>\n",
       "      <td>9188600.0</td>\n",
       "      <td>111.489156</td>\n",
       "    </tr>\n",
       "  </tbody>\n",
       "</table>\n",
       "</div>"
      ],
      "text/plain": [
       "            Adj. Close  Open-Close Percent Change  High-Low Percent Change  \\\n",
       "Date                                                                         \n",
       "2004-08-19   50.322842                   0.324968                 8.441017   \n",
       "2004-08-20   54.322689                   7.227007                 8.537313   \n",
       "2004-08-23   54.869377                  -1.227880                 4.062357   \n",
       "2004-08-24   52.597363                  -5.726357                 7.753210   \n",
       "2004-08-25   53.164113                   1.183658                 3.966115   \n",
       "\n",
       "            Adj. Volume    Forecast  \n",
       "Date                                 \n",
       "2004-08-19   44659000.0  109.713676  \n",
       "2004-08-20   22834300.0  110.230270  \n",
       "2004-08-23   18256100.0  110.064759  \n",
       "2004-08-24   15247300.0  110.340611  \n",
       "2004-08-25    9188600.0  111.489156  "
      ]
     },
     "metadata": {},
     "output_type": "display_data"
    },
    {
     "data": {
      "text/html": [
       "<div>\n",
       "<style scoped>\n",
       "    .dataframe tbody tr th:only-of-type {\n",
       "        vertical-align: middle;\n",
       "    }\n",
       "\n",
       "    .dataframe tbody tr th {\n",
       "        vertical-align: top;\n",
       "    }\n",
       "\n",
       "    .dataframe thead th {\n",
       "        text-align: right;\n",
       "    }\n",
       "</style>\n",
       "<table border=\"1\" class=\"dataframe\">\n",
       "  <thead>\n",
       "    <tr style=\"text-align: right;\">\n",
       "      <th></th>\n",
       "      <th>Adj. Close</th>\n",
       "      <th>Open-Close Percent Change</th>\n",
       "      <th>High-Low Percent Change</th>\n",
       "      <th>Adj. Volume</th>\n",
       "      <th>Forecast</th>\n",
       "    </tr>\n",
       "    <tr>\n",
       "      <th>Date</th>\n",
       "      <th></th>\n",
       "      <th></th>\n",
       "      <th></th>\n",
       "      <th></th>\n",
       "      <th></th>\n",
       "    </tr>\n",
       "  </thead>\n",
       "  <tbody>\n",
       "    <tr>\n",
       "      <th>2018-03-21</th>\n",
       "      <td>1094.00</td>\n",
       "      <td>0.130884</td>\n",
       "      <td>1.976619</td>\n",
       "      <td>1990515.0</td>\n",
       "      <td>NaN</td>\n",
       "    </tr>\n",
       "    <tr>\n",
       "      <th>2018-03-22</th>\n",
       "      <td>1053.15</td>\n",
       "      <td>-2.487014</td>\n",
       "      <td>3.265882</td>\n",
       "      <td>3418154.0</td>\n",
       "      <td>NaN</td>\n",
       "    </tr>\n",
       "    <tr>\n",
       "      <th>2018-03-23</th>\n",
       "      <td>1026.55</td>\n",
       "      <td>-2.360729</td>\n",
       "      <td>4.089299</td>\n",
       "      <td>2413517.0</td>\n",
       "      <td>NaN</td>\n",
       "    </tr>\n",
       "    <tr>\n",
       "      <th>2018-03-26</th>\n",
       "      <td>1054.09</td>\n",
       "      <td>0.332191</td>\n",
       "      <td>4.818025</td>\n",
       "      <td>3272409.0</td>\n",
       "      <td>NaN</td>\n",
       "    </tr>\n",
       "    <tr>\n",
       "      <th>2018-03-27</th>\n",
       "      <td>1006.94</td>\n",
       "      <td>-5.353887</td>\n",
       "      <td>6.707965</td>\n",
       "      <td>2940957.0</td>\n",
       "      <td>NaN</td>\n",
       "    </tr>\n",
       "  </tbody>\n",
       "</table>\n",
       "</div>"
      ],
      "text/plain": [
       "            Adj. Close  Open-Close Percent Change  High-Low Percent Change  \\\n",
       "Date                                                                         \n",
       "2018-03-21     1094.00                   0.130884                 1.976619   \n",
       "2018-03-22     1053.15                  -2.487014                 3.265882   \n",
       "2018-03-23     1026.55                  -2.360729                 4.089299   \n",
       "2018-03-26     1054.09                   0.332191                 4.818025   \n",
       "2018-03-27     1006.94                  -5.353887                 6.707965   \n",
       "\n",
       "            Adj. Volume  Forecast  \n",
       "Date                               \n",
       "2018-03-21    1990515.0       NaN  \n",
       "2018-03-22    3418154.0       NaN  \n",
       "2018-03-23    2413517.0       NaN  \n",
       "2018-03-26    3272409.0       NaN  \n",
       "2018-03-27    2940957.0       NaN  "
      ]
     },
     "metadata": {},
     "output_type": "display_data"
    }
   ],
   "source": [
    "# Import data\n",
    "import os\n",
    "data_file_path = os.path.join('Data','stocks.csv')\n",
    "\n",
    "# Preview data\n",
    "stocks = pd.read_csv(data_file_path, index_col='Date')\n",
    "display(stocks.head())\n",
    "display(stocks.tail())"
   ]
  },
  {
   "cell_type": "markdown",
   "metadata": {},
   "source": [
    "# 2. Preprocessing"
   ]
  },
  {
   "cell_type": "code",
   "execution_count": 4,
   "metadata": {},
   "outputs": [
    {
     "name": "stdout",
     "output_type": "stream",
     "text": [
      "[[ 5.03228418e+01  3.24967503e-01  8.44101709e+00  4.46590000e+07]\n",
      " [ 5.43226889e+01  7.22700723e+00  8.53731343e+00  2.28343000e+07]\n",
      " [ 5.48693765e+01 -1.22788010e+00  4.06235672e+00  1.82561000e+07]\n",
      " ...\n",
      " [ 1.02655000e+03 -2.36072933e+00  4.08929913e+00  2.41351700e+06]\n",
      " [ 1.05409000e+03  3.32191129e-01  4.81802529e+00  3.27240900e+06]\n",
      " [ 1.00694000e+03 -5.35388664e+00  6.70796496e+00  2.94095700e+06]]\n",
      "[109.71367561 110.23027028 110.06475937 ...          nan          nan\n",
      "          nan]\n"
     ]
    }
   ],
   "source": [
    "# define features and labels\n",
    "X = np.array(stocks.drop(['Forecast'], 1))\n",
    "y = np.array(stocks['Forecast'])\n",
    "\n",
    "print(X)\n",
    "print(y)"
   ]
  },
  {
   "cell_type": "code",
   "execution_count": 5,
   "metadata": {},
   "outputs": [
    {
     "data": {
      "text/plain": [
       "<matplotlib.legend.Legend at 0x1aa2d9692b0>"
      ]
     },
     "execution_count": 5,
     "metadata": {},
     "output_type": "execute_result"
    },
    {
     "data": {
      "image/png": "[encoded data removed]",
      "text/plain": [
       "<Figure size 1440x360 with 1 Axes>"
      ]
     },
     "metadata": {
      "needs_background": "light"
     },
     "output_type": "display_data"
    }
   ],
   "source": [
    "# Preview pre-scaled data\n",
    "plt.figure(figsize=(20,5))\n",
    "plt.subplot(1,2,1)\n",
    "plt.plot(X[:,0], label='Adj. Close Price')\n",
    "plt.plot(X[:,3], label = 'Adj. Volume')\n",
    "plt.legend()"
   ]
  },
  {
   "cell_type": "code",
   "execution_count": 6,
   "metadata": {},
   "outputs": [],
   "source": [
    "# Create copies of original data\n",
    "X_original = X.copy(order='C')\n",
    "y_original = y.copy(order='C')\n",
    "\n",
    "# Initialize scaler\n",
    "scaler = StandardScaler()\n",
    "\n",
    "# Fit data\n",
    "scaler.fit(X, y)\n",
    "\n",
    "# Scale features\n",
    "X = scaler.transform(X)"
   ]
  },
  {
   "cell_type": "code",
   "execution_count": 7,
   "metadata": {},
   "outputs": [
    {
     "data": {
      "text/plain": [
       "[<matplotlib.lines.Line2D at 0x1aa2e2a7940>]"
      ]
     },
     "execution_count": 7,
     "metadata": {},
     "output_type": "execute_result"
    },
    {
     "data": {
      "image/png": "[encoded data removed]",
      "text/plain": [
       "<Figure size 1440x360 with 1 Axes>"
      ]
     },
     "metadata": {
      "needs_background": "light"
     },
     "output_type": "display_data"
    }
   ],
   "source": [
    "# Preview scaled data\n",
    "plt.figure(figsize=(20,5))\n",
    "plt.subplot(1,2,1)\n",
    "plt.plot(X[:,0], label='Adj. Close Price')\n",
    "plt.plot(X[:,3], label='Adj. volume')"
   ]
  },
  {
   "cell_type": "markdown",
   "metadata": {},
   "source": [
    "# 3. Address Missing Values\n",
    "\n",
    "Recall that to make our forecast column, we shifted each adjusted close price up $x$ rows, where $x$ was 5% of the length of the dataframe, which in this case is 172 rows.  Consequently, the last 172 rows of the forecast column are null, as there were no values to shift into these rows."
   ]
  },
  {
   "cell_type": "code",
   "execution_count": 8,
   "metadata": {},
   "outputs": [
    {
     "name": "stdout",
     "output_type": "stream",
     "text": [
      "172\n"
     ]
    }
   ],
   "source": [
    "# Define the number of days out we want to forecast out\n",
    "# In this case, want to forecast out 5% of the dataframe\n",
    "# We will use the math ceil() function to round the number of columns to the nearest whole number.\n",
    "import math\n",
    "forecast_out = math.ceil(0.05*len(stocks))\n",
    "print(forecast_out)"
   ]
  },
  {
   "cell_type": "markdown",
   "metadata": {},
   "source": [
    "We will now examine the last 174 rows of our dataframe to observe this phenomenon.  The last 172 rows will be null, while the 2 rows preceeding this point will have values."
   ]
  },
  {
   "cell_type": "code",
   "execution_count": 9,
   "metadata": {
    "scrolled": true
   },
   "outputs": [
    {
     "data": {
      "text/html": [
       "<div>\n",
       "<style scoped>\n",
       "    .dataframe tbody tr th:only-of-type {\n",
       "        vertical-align: middle;\n",
       "    }\n",
       "\n",
       "    .dataframe tbody tr th {\n",
       "        vertical-align: top;\n",
       "    }\n",
       "\n",
       "    .dataframe thead th {\n",
       "        text-align: right;\n",
       "    }\n",
       "</style>\n",
       "<table border=\"1\" class=\"dataframe\">\n",
       "  <thead>\n",
       "    <tr style=\"text-align: right;\">\n",
       "      <th></th>\n",
       "      <th>Adj. Close</th>\n",
       "      <th>Open-Close Percent Change</th>\n",
       "      <th>High-Low Percent Change</th>\n",
       "      <th>Adj. Volume</th>\n",
       "      <th>Forecast</th>\n",
       "    </tr>\n",
       "    <tr>\n",
       "      <th>Date</th>\n",
       "      <th></th>\n",
       "      <th></th>\n",
       "      <th></th>\n",
       "      <th></th>\n",
       "      <th></th>\n",
       "    </tr>\n",
       "  </thead>\n",
       "  <tbody>\n",
       "    <tr>\n",
       "      <th>2017-07-18</th>\n",
       "      <td>986.95</td>\n",
       "      <td>1.396195</td>\n",
       "      <td>1.935106</td>\n",
       "      <td>1398920.0</td>\n",
       "      <td>1054.09</td>\n",
       "    </tr>\n",
       "    <tr>\n",
       "      <th>2017-07-19</th>\n",
       "      <td>992.77</td>\n",
       "      <td>0.278785</td>\n",
       "      <td>0.870305</td>\n",
       "      <td>1392709.0</td>\n",
       "      <td>1006.94</td>\n",
       "    </tr>\n",
       "    <tr>\n",
       "      <th>2017-07-20</th>\n",
       "      <td>992.19</td>\n",
       "      <td>-0.482447</td>\n",
       "      <td>1.427962</td>\n",
       "      <td>1410290.0</td>\n",
       "      <td>NaN</td>\n",
       "    </tr>\n",
       "    <tr>\n",
       "      <th>2017-07-21</th>\n",
       "      <td>993.84</td>\n",
       "      <td>0.489383</td>\n",
       "      <td>1.111597</td>\n",
       "      <td>1412108.0</td>\n",
       "      <td>NaN</td>\n",
       "    </tr>\n",
       "    <tr>\n",
       "      <th>2017-07-24</th>\n",
       "      <td>998.31</td>\n",
       "      <td>0.423499</td>\n",
       "      <td>1.607355</td>\n",
       "      <td>3053176.0</td>\n",
       "      <td>NaN</td>\n",
       "    </tr>\n",
       "    <tr>\n",
       "      <th>...</th>\n",
       "      <td>...</td>\n",
       "      <td>...</td>\n",
       "      <td>...</td>\n",
       "      <td>...</td>\n",
       "      <td>...</td>\n",
       "    </tr>\n",
       "    <tr>\n",
       "      <th>2018-03-21</th>\n",
       "      <td>1094.00</td>\n",
       "      <td>0.130884</td>\n",
       "      <td>1.976619</td>\n",
       "      <td>1990515.0</td>\n",
       "      <td>NaN</td>\n",
       "    </tr>\n",
       "    <tr>\n",
       "      <th>2018-03-22</th>\n",
       "      <td>1053.15</td>\n",
       "      <td>-2.487014</td>\n",
       "      <td>3.265882</td>\n",
       "      <td>3418154.0</td>\n",
       "      <td>NaN</td>\n",
       "    </tr>\n",
       "    <tr>\n",
       "      <th>2018-03-23</th>\n",
       "      <td>1026.55</td>\n",
       "      <td>-2.360729</td>\n",
       "      <td>4.089299</td>\n",
       "      <td>2413517.0</td>\n",
       "      <td>NaN</td>\n",
       "    </tr>\n",
       "    <tr>\n",
       "      <th>2018-03-26</th>\n",
       "      <td>1054.09</td>\n",
       "      <td>0.332191</td>\n",
       "      <td>4.818025</td>\n",
       "      <td>3272409.0</td>\n",
       "      <td>NaN</td>\n",
       "    </tr>\n",
       "    <tr>\n",
       "      <th>2018-03-27</th>\n",
       "      <td>1006.94</td>\n",
       "      <td>-5.353887</td>\n",
       "      <td>6.707965</td>\n",
       "      <td>2940957.0</td>\n",
       "      <td>NaN</td>\n",
       "    </tr>\n",
       "  </tbody>\n",
       "</table>\n",
       "<p>174 rows × 5 columns</p>\n",
       "</div>"
      ],
      "text/plain": [
       "            Adj. Close  Open-Close Percent Change  High-Low Percent Change  \\\n",
       "Date                                                                         \n",
       "2017-07-18      986.95                   1.396195                 1.935106   \n",
       "2017-07-19      992.77                   0.278785                 0.870305   \n",
       "2017-07-20      992.19                  -0.482447                 1.427962   \n",
       "2017-07-21      993.84                   0.489383                 1.111597   \n",
       "2017-07-24      998.31                   0.423499                 1.607355   \n",
       "...                ...                        ...                      ...   \n",
       "2018-03-21     1094.00                   0.130884                 1.976619   \n",
       "2018-03-22     1053.15                  -2.487014                 3.265882   \n",
       "2018-03-23     1026.55                  -2.360729                 4.089299   \n",
       "2018-03-26     1054.09                   0.332191                 4.818025   \n",
       "2018-03-27     1006.94                  -5.353887                 6.707965   \n",
       "\n",
       "            Adj. Volume  Forecast  \n",
       "Date                               \n",
       "2017-07-18    1398920.0   1054.09  \n",
       "2017-07-19    1392709.0   1006.94  \n",
       "2017-07-20    1410290.0       NaN  \n",
       "2017-07-21    1412108.0       NaN  \n",
       "2017-07-24    3053176.0       NaN  \n",
       "...                 ...       ...  \n",
       "2018-03-21    1990515.0       NaN  \n",
       "2018-03-22    3418154.0       NaN  \n",
       "2018-03-23    2413517.0       NaN  \n",
       "2018-03-26    3272409.0       NaN  \n",
       "2018-03-27    2940957.0       NaN  \n",
       "\n",
       "[174 rows x 5 columns]"
      ]
     },
     "metadata": {},
     "output_type": "display_data"
    }
   ],
   "source": [
    "# View last 174 rows of data\n",
    "display(stocks.tail(forecast_out+2))"
   ]
  },
  {
   "cell_type": "markdown",
   "metadata": {},
   "source": [
    "The Linear Regression algorithm we will use cannot take null values, and will error out if we pass in this data in its current state.  Though it is generally recommended not to simply drop data, we will do so in this case, in order to not overcomplicate learning our first algorithm.\n",
    "\n",
    "Observe what happens if we select up until the last 172 records of our labels, vs what happens if we select up to the last 173 records."
   ]
  },
  {
   "cell_type": "code",
   "execution_count": 10,
   "metadata": {},
   "outputs": [
    {
     "data": {
      "text/plain": [
       "array([ 109.71367561,  110.23027028,  110.06475937, ..., 1026.55      ,\n",
       "       1054.09      , 1006.94      ])"
      ]
     },
     "metadata": {},
     "output_type": "display_data"
    },
    {
     "data": {
      "text/plain": [
       "array([ 109.71367561,  110.23027028,  110.06475937, ..., 1054.09      ,\n",
       "       1006.94      ,           nan])"
      ]
     },
     "metadata": {},
     "output_type": "display_data"
    }
   ],
   "source": [
    "# View last 172 rows of data, and last 174 rows\n",
    "# to illustrate up to what point we have data\n",
    "display(y[:-forecast_out])\n",
    "display(y[:-forecast_out+1])"
   ]
  },
  {
   "cell_type": "markdown",
   "metadata": {},
   "source": [
    "Now we will select only the last record from our labels, only our 172$^{nd}$ to last record, only our 173$^{rd}$ to last, and only our 174$^{th}$ to last."
   ]
  },
  {
   "cell_type": "code",
   "execution_count": 11,
   "metadata": {},
   "outputs": [
    {
     "data": {
      "text/plain": [
       "nan"
      ]
     },
     "metadata": {},
     "output_type": "display_data"
    },
    {
     "data": {
      "text/plain": [
       "nan"
      ]
     },
     "metadata": {},
     "output_type": "display_data"
    },
    {
     "data": {
      "text/plain": [
       "1006.94"
      ]
     },
     "metadata": {},
     "output_type": "display_data"
    },
    {
     "data": {
      "text/plain": [
       "1054.09"
      ]
     },
     "metadata": {},
     "output_type": "display_data"
    }
   ],
   "source": [
    "# View last row of data, and rows 172, 173, and 174 from the last\n",
    "# to illustrate up to what point we have data\n",
    "display(y[-1])\n",
    "display(y[-forecast_out])\n",
    "display(y[-forecast_out-1])\n",
    "display(y[-forecast_out-2])"
   ]
  },
  {
   "cell_type": "markdown",
   "metadata": {},
   "source": [
    "The last record, up to the 172$^{nd}$ to last are null.  From the beginning of the array up until the 173$^{nd}$ from last, we do have values.  We will therefore overwrite our features and labels by selecting up to the point where we still have data."
   ]
  },
  {
   "cell_type": "code",
   "execution_count": 12,
   "metadata": {},
   "outputs": [],
   "source": [
    "# Define features and labels to be only up to the point without missing data\n",
    "X_known = X[:-forecast_out]\n",
    "y_known = y[:-forecast_out]"
   ]
  },
  {
   "cell_type": "markdown",
   "metadata": {},
   "source": [
    "We will then select the last two values in our labels to confirm their value."
   ]
  },
  {
   "cell_type": "code",
   "execution_count": 13,
   "metadata": {},
   "outputs": [
    {
     "data": {
      "text/plain": [
       "1006.94"
      ]
     },
     "metadata": {},
     "output_type": "display_data"
    },
    {
     "data": {
      "text/plain": [
       "1054.09"
      ]
     },
     "metadata": {},
     "output_type": "display_data"
    }
   ],
   "source": [
    "# Preview last 2 rows of data, to confirm no data is missing\n",
    "display(y_known[-1])\n",
    "display(y_known[-2])"
   ]
  },
  {
   "cell_type": "markdown",
   "metadata": {},
   "source": [
    "We see the same values that we saw 173 and 174 rows from the last, and have removed any missing data.  We are now ready to train a machine learning classifier."
   ]
  },
  {
   "cell_type": "markdown",
   "metadata": {},
   "source": [
    "# 4. Training Machine Learning Classifier\n",
    "\n",
    "In general, the next steps at this point are splitting the data into training and testing sets, using the defined machine learning algorithm on the training set, then testing the accuracy on the test set.\n",
    "\n",
    "Under the hood, Linear Regression determines a best-fit line to model the relationship between the features and the labels, or in other words, it determines the coefficients to model a best-fit line for the data.  Afterwards, we pass testing features into this best-fit line, and measure how accurate they are compared to the actual labels."
   ]
  },
  {
   "cell_type": "code",
   "execution_count": 14,
   "metadata": {},
   "outputs": [
    {
     "data": {
      "text/plain": [
       "LinearRegression(copy_X=True, fit_intercept=True, n_jobs=None, normalize=False)"
      ]
     },
     "execution_count": 14,
     "metadata": {},
     "output_type": "execute_result"
    }
   ],
   "source": [
    "# Split training and testing data, with 20% of the data reserved for testing\n",
    "X_train, X_test, y_train, y_test = train_test_split(X_known, y_known, test_size = 0.2)\n",
    "\n",
    "# Define the type of classifier; we are using Linear Regression\n",
    "classifier = LinearRegression()\n",
    "\n",
    "# Train the classifier;\n",
    "# this determines the coefficients to model the best-fit line\n",
    "classifier.fit(X_train, y_train)"
   ]
  },
  {
   "cell_type": "code",
   "execution_count": 15,
   "metadata": {},
   "outputs": [
    {
     "data": {
      "text/plain": [
       "0.9227506412628677"
      ]
     },
     "execution_count": 15,
     "metadata": {},
     "output_type": "execute_result"
    }
   ],
   "source": [
    "# Check the accuracy when using this classifier on testing data\n",
    "classifier.score(X_test, y_test)"
   ]
  },
  {
   "cell_type": "markdown",
   "metadata": {},
   "source": [
    "By checking the score above, we can see that this model had 93% accuracy when predicting the labels on the testing set.  If we are happy with this accuracy, we can proceed to deploy this model for real-world use.  Note that in real practice, there are likely far more factors for predicting stock price than the numerical data points in this example; from a purely numerical perspective though based on the 4 data points comprising our features, this is our accuracy."
   ]
  },
  {
   "cell_type": "markdown",
   "metadata": {},
   "source": [
    "# 5. Using Our Model To Predict Future Values\n",
    "\n",
    "Now that we have trained a classifier, we can use it on real data to predict unknown values.  Recall again that we defined our forecast by shifting the labels up 5% of the length of the dataframe, in our case 172 rows.  This left the last 172 rows with no forecast."
   ]
  },
  {
   "cell_type": "code",
   "execution_count": 16,
   "metadata": {
    "scrolled": true
   },
   "outputs": [
    {
     "data": {
      "text/html": [
       "<div>\n",
       "<style scoped>\n",
       "    .dataframe tbody tr th:only-of-type {\n",
       "        vertical-align: middle;\n",
       "    }\n",
       "\n",
       "    .dataframe tbody tr th {\n",
       "        vertical-align: top;\n",
       "    }\n",
       "\n",
       "    .dataframe thead th {\n",
       "        text-align: right;\n",
       "    }\n",
       "</style>\n",
       "<table border=\"1\" class=\"dataframe\">\n",
       "  <thead>\n",
       "    <tr style=\"text-align: right;\">\n",
       "      <th></th>\n",
       "      <th>Adj. Close</th>\n",
       "      <th>Open-Close Percent Change</th>\n",
       "      <th>High-Low Percent Change</th>\n",
       "      <th>Adj. Volume</th>\n",
       "      <th>Forecast</th>\n",
       "    </tr>\n",
       "    <tr>\n",
       "      <th>Date</th>\n",
       "      <th></th>\n",
       "      <th></th>\n",
       "      <th></th>\n",
       "      <th></th>\n",
       "      <th></th>\n",
       "    </tr>\n",
       "  </thead>\n",
       "  <tbody>\n",
       "    <tr>\n",
       "      <th>2017-07-18</th>\n",
       "      <td>986.95</td>\n",
       "      <td>1.396195</td>\n",
       "      <td>1.935106</td>\n",
       "      <td>1398920.0</td>\n",
       "      <td>1054.09</td>\n",
       "    </tr>\n",
       "    <tr>\n",
       "      <th>2017-07-19</th>\n",
       "      <td>992.77</td>\n",
       "      <td>0.278785</td>\n",
       "      <td>0.870305</td>\n",
       "      <td>1392709.0</td>\n",
       "      <td>1006.94</td>\n",
       "    </tr>\n",
       "    <tr>\n",
       "      <th>2017-07-20</th>\n",
       "      <td>992.19</td>\n",
       "      <td>-0.482447</td>\n",
       "      <td>1.427962</td>\n",
       "      <td>1410290.0</td>\n",
       "      <td>NaN</td>\n",
       "    </tr>\n",
       "    <tr>\n",
       "      <th>2017-07-21</th>\n",
       "      <td>993.84</td>\n",
       "      <td>0.489383</td>\n",
       "      <td>1.111597</td>\n",
       "      <td>1412108.0</td>\n",
       "      <td>NaN</td>\n",
       "    </tr>\n",
       "    <tr>\n",
       "      <th>2017-07-24</th>\n",
       "      <td>998.31</td>\n",
       "      <td>0.423499</td>\n",
       "      <td>1.607355</td>\n",
       "      <td>3053176.0</td>\n",
       "      <td>NaN</td>\n",
       "    </tr>\n",
       "    <tr>\n",
       "      <th>...</th>\n",
       "      <td>...</td>\n",
       "      <td>...</td>\n",
       "      <td>...</td>\n",
       "      <td>...</td>\n",
       "      <td>...</td>\n",
       "    </tr>\n",
       "    <tr>\n",
       "      <th>2018-03-21</th>\n",
       "      <td>1094.00</td>\n",
       "      <td>0.130884</td>\n",
       "      <td>1.976619</td>\n",
       "      <td>1990515.0</td>\n",
       "      <td>NaN</td>\n",
       "    </tr>\n",
       "    <tr>\n",
       "      <th>2018-03-22</th>\n",
       "      <td>1053.15</td>\n",
       "      <td>-2.487014</td>\n",
       "      <td>3.265882</td>\n",
       "      <td>3418154.0</td>\n",
       "      <td>NaN</td>\n",
       "    </tr>\n",
       "    <tr>\n",
       "      <th>2018-03-23</th>\n",
       "      <td>1026.55</td>\n",
       "      <td>-2.360729</td>\n",
       "      <td>4.089299</td>\n",
       "      <td>2413517.0</td>\n",
       "      <td>NaN</td>\n",
       "    </tr>\n",
       "    <tr>\n",
       "      <th>2018-03-26</th>\n",
       "      <td>1054.09</td>\n",
       "      <td>0.332191</td>\n",
       "      <td>4.818025</td>\n",
       "      <td>3272409.0</td>\n",
       "      <td>NaN</td>\n",
       "    </tr>\n",
       "    <tr>\n",
       "      <th>2018-03-27</th>\n",
       "      <td>1006.94</td>\n",
       "      <td>-5.353887</td>\n",
       "      <td>6.707965</td>\n",
       "      <td>2940957.0</td>\n",
       "      <td>NaN</td>\n",
       "    </tr>\n",
       "  </tbody>\n",
       "</table>\n",
       "<p>174 rows × 5 columns</p>\n",
       "</div>"
      ],
      "text/plain": [
       "            Adj. Close  Open-Close Percent Change  High-Low Percent Change  \\\n",
       "Date                                                                         \n",
       "2017-07-18      986.95                   1.396195                 1.935106   \n",
       "2017-07-19      992.77                   0.278785                 0.870305   \n",
       "2017-07-20      992.19                  -0.482447                 1.427962   \n",
       "2017-07-21      993.84                   0.489383                 1.111597   \n",
       "2017-07-24      998.31                   0.423499                 1.607355   \n",
       "...                ...                        ...                      ...   \n",
       "2018-03-21     1094.00                   0.130884                 1.976619   \n",
       "2018-03-22     1053.15                  -2.487014                 3.265882   \n",
       "2018-03-23     1026.55                  -2.360729                 4.089299   \n",
       "2018-03-26     1054.09                   0.332191                 4.818025   \n",
       "2018-03-27     1006.94                  -5.353887                 6.707965   \n",
       "\n",
       "            Adj. Volume  Forecast  \n",
       "Date                               \n",
       "2017-07-18    1398920.0   1054.09  \n",
       "2017-07-19    1392709.0   1006.94  \n",
       "2017-07-20    1410290.0       NaN  \n",
       "2017-07-21    1412108.0       NaN  \n",
       "2017-07-24    3053176.0       NaN  \n",
       "...                 ...       ...  \n",
       "2018-03-21    1990515.0       NaN  \n",
       "2018-03-22    3418154.0       NaN  \n",
       "2018-03-23    2413517.0       NaN  \n",
       "2018-03-26    3272409.0       NaN  \n",
       "2018-03-27    2940957.0       NaN  \n",
       "\n",
       "[174 rows x 5 columns]"
      ]
     },
     "execution_count": 16,
     "metadata": {},
     "output_type": "execute_result"
    }
   ],
   "source": [
    "stocks.tail(forecast_out+2)"
   ]
  },
  {
   "cell_type": "markdown",
   "metadata": {},
   "source": [
    "We then defined $X\\text{_}known$ and $y\\text{_}known$ as the data up to this point.  Therefore, we want to define our unknown data as the data from 172$^{nd}$ from the last row, until the end of our data (note that we do know our features, just not our labels).\n",
    "\n",
    "Predicting unknown values is then as simple as passing the features with unknown labels into the classifier we just trained."
   ]
  },
  {
   "cell_type": "code",
   "execution_count": 17,
   "metadata": {},
   "outputs": [
    {
     "data": {
      "text/plain": [
       "array([[ 2.26251845e+00, -3.03910119e-01, -5.01673718e-01,\n",
       "        -7.77042900e-01],\n",
       "       [ 2.26892035e+00,  3.41778764e-01, -7.19463431e-01,\n",
       "        -7.76822456e-01],\n",
       "       [ 2.28626369e+00,  2.98004737e-01, -3.78177465e-01,\n",
       "        -5.77832912e-01],\n",
       "       [ 2.17265900e+00, -9.76745206e-02, -5.61150714e-01,\n",
       "        -2.45562275e-01],\n",
       "       [ 2.15822562e+00, -4.93567762e-01, -5.01080109e-01,\n",
       "        -6.85381152e-01],\n",
       "       [ 2.10856237e+00, -1.12615317e+00,  8.99976459e-01,\n",
       "        -5.01110646e-01],\n",
       "       [ 2.13114363e+00,  7.41315657e-01, -2.84561461e-01,\n",
       "        -7.30336617e-01],\n",
       "       [ 2.08136398e+00, -9.86897868e-01, -6.16030572e-02,\n",
       "        -6.73020909e-01],\n",
       "       [ 2.08547672e+00, -7.09934704e-02, -7.90430612e-01,\n",
       "        -8.01838686e-01],\n",
       "       [ 2.08966706e+00, -3.45118033e-02, -2.60793801e-01,\n",
       "        -7.03114375e-01],\n",
       "       [ 2.06118829e+00, -5.99402053e-01, -7.10873882e-01,\n",
       "        -8.23326241e-01],\n",
       "       [ 2.08248916e+00,  1.46139698e-01, -9.17368504e-01,\n",
       "        -8.03406285e-01],\n",
       "       [ 2.08233397e+00, -1.07482896e-01, -1.08631821e+00,\n",
       "        -7.77668339e-01],\n",
       "       [ 2.07628126e+00,  9.59418393e-03, -7.53543303e-01,\n",
       "        -7.73632207e-01],\n",
       "       [ 2.06033470e+00,  1.32031116e-01, -7.59372820e-01,\n",
       "        -7.83067631e-01],\n",
       "       [ 1.99635446e+00, -7.94156820e-01, -4.00061569e-01,\n",
       "        -6.25837847e-01],\n",
       "       [ 2.02157408e+00,  4.75529928e-01, -5.77498403e-01,\n",
       "        -7.55275243e-01],\n",
       "       [ 2.05587277e+00,  6.72501844e-03, -1.00180910e+00,\n",
       "        -8.09791511e-01],\n",
       "       [ 2.05257482e+00, -1.91651583e-01, -1.01210737e+00,\n",
       "        -8.26057777e-01],\n",
       "       [ 2.07659165e+00,  2.29804443e-01, -7.62563715e-01,\n",
       "        -7.86863312e-01],\n",
       "       [ 2.01214583e+00, -1.06070680e+00, -2.84706263e-01,\n",
       "        -7.47518367e-01],\n",
       "       [ 2.00640351e+00, -4.07090904e-02, -9.20372651e-01,\n",
       "        -7.87107400e-01],\n",
       "       [ 1.98580102e+00, -3.35032029e-01, -7.61515011e-01,\n",
       "        -7.91310623e-01],\n",
       "       [ 2.06157628e+00,  9.79951221e-01, -3.10920269e-01,\n",
       "        -7.40534257e-01],\n",
       "       [ 2.07003455e+00,  4.12294964e-01, -7.35001777e-01,\n",
       "        -8.11455751e-01],\n",
       "       [ 2.04795769e+00, -4.63521607e-01, -3.33081409e-01,\n",
       "        -7.96588417e-01],\n",
       "       [ 2.02316486e+00, -5.99522278e-01, -6.97922141e-01,\n",
       "        -8.06288543e-01],\n",
       "       [ 2.01396940e+00, -2.50734471e-01, -8.35023109e-01,\n",
       "        -8.23737541e-01],\n",
       "       [ 2.04353455e+00,  1.15773524e+00, -7.08985958e-02,\n",
       "        -8.09231065e-01],\n",
       "       [ 2.07410849e+00,  5.81857497e-01, -6.14281207e-01,\n",
       "        -8.13113686e-01],\n",
       "       [ 2.11915461e+00,  6.44314756e-01, -6.88433619e-01,\n",
       "        -7.45262033e-01],\n",
       "       [ 2.10654480e+00, -3.63636356e-01, -9.01533075e-01,\n",
       "        -8.22577120e-01],\n",
       "       [ 2.06576662e+00, -3.60880490e-01, -3.23214452e-01,\n",
       "        -7.71614505e-01],\n",
       "       [ 2.06786178e+00, -1.13594173e-01, -6.12264562e-01,\n",
       "        -7.81206592e-01],\n",
       "       [ 2.09839692e+00,  4.13478824e-01, -5.32592341e-01,\n",
       "        -8.14269015e-01],\n",
       "       [ 2.06549502e+00, -5.63333543e-01, -7.01822625e-01,\n",
       "        -8.27223655e-01],\n",
       "       [ 2.07278931e+00, -2.57633173e-01, -6.30220378e-01,\n",
       "        -7.88258364e-01],\n",
       "       [ 2.08582591e+00, -2.31429491e-03, -7.07436814e-01,\n",
       "        -7.96992321e-01],\n",
       "       [ 2.10053089e+00,  3.63765025e-01, -8.93741288e-01,\n",
       "        -8.15534565e-01],\n",
       "       [ 2.06052870e+00, -3.95637883e-01, -7.74980099e-01,\n",
       "        -7.76451412e-01],\n",
       "       [ 2.04174978e+00, -3.22607845e-01, -7.08503775e-01,\n",
       "        -7.12806619e-01],\n",
       "       [ 2.02025490e+00, -3.57137903e-01, -6.32181890e-01,\n",
       "        -7.72769591e-01],\n",
       "       [ 2.04784129e+00,  2.62202524e-01, -6.46713200e-01,\n",
       "        -8.00428356e-01],\n",
       "       [ 2.08927906e+00,  7.11692865e-01, -5.66817242e-01,\n",
       "        -7.18036154e-01],\n",
       "       [ 2.08931786e+00, -2.40134562e-02, -5.01233281e-01,\n",
       "        -7.90085693e-01],\n",
       "       [ 2.07267291e+00,  5.11623163e-02, -8.14093814e-01,\n",
       "        -8.18594099e-01],\n",
       "       [ 2.03783104e+00, -3.49006365e-01, -3.49901134e-01,\n",
       "        -7.24036270e-01],\n",
       "       [ 2.05005285e+00,  6.91192445e-02, -8.25086980e-01,\n",
       "        -7.51834722e-01],\n",
       "       [ 2.13723514e+00,  1.22599719e+00,  2.31305287e-01,\n",
       "        -6.67523399e-01],\n",
       "       [ 2.15628565e+00,  6.11381064e-01, -7.18877074e-01,\n",
       "        -7.84626258e-01],\n",
       "       [ 2.19085593e+00,  5.47603813e-01, -7.85598200e-01,\n",
       "        -7.16881068e-01],\n",
       "       [ 2.16660629e+00, -5.40417014e-01, -3.54700978e-01,\n",
       "        -7.70233883e-01],\n",
       "       [ 2.18449282e+00,  3.27009893e-01, -7.88568527e-01,\n",
       "        -8.17054753e-01],\n",
       "       [ 2.16392913e+00, -3.23858789e-01, -8.58034637e-01,\n",
       "        -8.39339324e-01],\n",
       "       [ 2.23535886e+00,  8.63536475e-01, -3.32569326e-01,\n",
       "        -7.50734565e-01],\n",
       "       [ 2.26814436e+00,  9.41373210e-01, -3.76638846e-01,\n",
       "        -7.67287359e-01],\n",
       "       [ 2.26298404e+00, -1.62992796e-01, -8.62594753e-01,\n",
       "        -8.08479156e-01],\n",
       "       [ 2.24548550e+00, -4.84026474e-01, -3.36773634e-01,\n",
       "        -8.07529842e-01],\n",
       "       [ 2.31474246e+00,  1.13243580e+00, -1.17547878e-01,\n",
       "        -7.36039778e-01],\n",
       "       [ 2.31474246e+00,  1.36427455e-01, -7.66787410e-01,\n",
       "        -7.63602022e-01],\n",
       "       [ 2.32335593e+00, -6.50122232e-02, -9.58338632e-01,\n",
       "        -7.89339362e-01],\n",
       "       [ 2.32909824e+00, -1.79568409e-03, -7.64339007e-01,\n",
       "        -8.18699956e-01],\n",
       "       [ 2.33550014e+00,  2.51411543e-01, -9.02384181e-01,\n",
       "        -8.27834422e-01],\n",
       "       [ 2.34225124e+00,  1.27687437e-01, -7.32138684e-01,\n",
       "        -7.94027487e-01],\n",
       "       [ 2.29995988e+00, -1.75797555e-01, -7.93043528e-01,\n",
       "        -7.44700133e-01],\n",
       "       [ 2.31249209e+00, -1.14000991e-01, -1.04648761e+00,\n",
       "        -7.57864546e-01],\n",
       "       [ 2.23671683e+00, -1.28153631e+00,  1.04158377e-01,\n",
       "        -7.51180181e-01],\n",
       "       [ 2.24816266e+00,  1.50656113e-01, -6.26545164e-01,\n",
       "        -7.76316212e-01],\n",
       "       [ 2.25968609e+00,  3.66256669e-01, -3.08293246e-01,\n",
       "        -7.82165728e-01],\n",
       "       [ 2.25953089e+00, -4.52492930e-01, -3.69862736e-01,\n",
       "        -7.26431564e-01],\n",
       "       [ 2.42345842e+00,  1.89338465e-01,  9.80402422e-01,\n",
       "        -3.24799392e-01],\n",
       "       [ 2.42136325e+00,  2.72925346e-01, -3.06292839e-01,\n",
       "        -6.75786519e-01],\n",
       "       [ 2.42101405e+00,  1.92029283e-02, -4.98666962e-01,\n",
       "        -7.67297545e-01],\n",
       "       [ 2.45810629e+00,  4.19253155e-01, -5.61934890e-01,\n",
       "        -6.92716662e-01],\n",
       "       [ 2.45954187e+00,  2.07009567e-01, -3.56375146e-01,\n",
       "        -7.98500019e-01],\n",
       "       [ 2.48677906e+00,  4.77938357e-01, -6.21572618e-01,\n",
       "        -7.81822331e-01],\n",
       "       [ 2.45841669e+00, -3.89954367e-01, -7.85056537e-01,\n",
       "        -8.39173689e-01],\n",
       "       [ 2.49609092e+00,  1.90066034e-01, -7.97607884e-01,\n",
       "        -7.95877007e-01],\n",
       "       [ 2.47797159e+00, -1.12106433e-03, -4.85826322e-01,\n",
       "        -7.32610776e-01],\n",
       "       [ 2.46412020e+00,  3.44517137e-02, -1.12701267e+00,\n",
       "        -8.32188972e-01],\n",
       "       [ 2.45267437e+00,  4.21645976e-02, -8.56738967e-01,\n",
       "        -8.37117791e-01],\n",
       "       [ 2.45438155e+00,  2.67609933e-01, -6.17271209e-01,\n",
       "        -8.28880862e-01],\n",
       "       [ 2.43408945e+00,  1.07143326e-01, -8.92300544e-01,\n",
       "        -8.38834414e-01],\n",
       "       [ 2.48088155e+00,  6.38340400e-01, -5.72122920e-01,\n",
       "        -8.11515409e-01],\n",
       "       [ 2.43207189e+00, -8.63715638e-01, -3.34605170e-01,\n",
       "        -7.92108488e-01],\n",
       "       [ 2.42729956e+00, -6.93063188e-02, -1.08339048e+00,\n",
       "        -8.44930202e-01],\n",
       "       [ 2.48798184e+00,  6.72065884e-01, -7.39407102e-01,\n",
       "        -8.17629992e-01],\n",
       "       [ 2.49426735e+00,  6.46673910e-02, -9.46985738e-01,\n",
       "        -8.60563147e-01],\n",
       "       [ 2.51211508e+00,  1.50848308e-01, -9.51336220e-01,\n",
       "        -8.47971427e-01],\n",
       "       [ 2.57221537e+00,  8.60183347e-01, -2.92280125e-01,\n",
       "        -7.40920094e-01],\n",
       "       [ 2.53838228e+00, -6.45306244e-01,  1.77348622e-01,\n",
       "        -7.42629442e-01],\n",
       "       [ 2.43785300e+00, -1.16601008e+00,  4.62228996e-01,\n",
       "        -6.16090674e-01],\n",
       "       [ 2.43315827e+00, -2.24230425e-01, -5.44379663e-01,\n",
       "        -6.82452332e-01],\n",
       "       [ 2.39009092e+00, -3.27691140e-01, -1.07740687e-01,\n",
       "        -7.23659770e-01],\n",
       "       [ 2.33887569e+00, -1.01313904e+00,  2.41555641e-02,\n",
       "        -7.18108180e-01],\n",
       "       [ 2.36886764e+00,  5.82464222e-01,  8.75208195e-01,\n",
       "        -7.14291401e-01],\n",
       "       [ 2.41977247e+00,  1.07547388e+00,  1.60881881e-01,\n",
       "        -7.82016098e-01],\n",
       "       [ 2.46574978e+00,  5.61713143e-01, -5.83094015e-01,\n",
       "        -7.73749826e-01],\n",
       "       [ 2.48441230e+00, -1.36867443e-01, -7.89613416e-01,\n",
       "        -7.68630756e-01],\n",
       "       [ 2.49446134e+00,  7.09906586e-02, -7.01424511e-01,\n",
       "        -8.15031594e-01],\n",
       "       [ 2.48204553e+00, -6.12000672e-02, -3.23148462e-01,\n",
       "        -7.43735419e-01],\n",
       "       [ 2.49221098e+00, -2.69443586e-02, -8.99281871e-01,\n",
       "        -7.81979236e-01],\n",
       "       [ 2.51580102e+00,  1.41266302e-01, -6.03929796e-01,\n",
       "        -7.62344960e-01],\n",
       "       [ 2.57217657e+00,  5.30026533e-01, -5.00224472e-01,\n",
       "        -5.74490851e-01],\n",
       "       [ 2.62296500e+00,  5.49906946e-01, -4.47936830e-01,\n",
       "        -7.68254498e-01],\n",
       "       [ 2.60236251e+00, -1.82135422e-01, -6.69342507e-01,\n",
       "        -7.91879799e-01],\n",
       "       [ 2.57822928e+00, -4.35763983e-01, -6.71051773e-01,\n",
       "        -7.74769954e-01],\n",
       "       [ 2.56771464e+00, -2.63863172e-01, -9.36030899e-01,\n",
       "        -8.01206577e-01],\n",
       "       [ 2.55999355e+00, -5.41568441e-02, -1.22162213e+00,\n",
       "        -8.43671927e-01],\n",
       "       [ 2.54831493e+00, -1.56832265e-01, -8.20114059e-01,\n",
       "        -8.37151500e-01],\n",
       "       [ 2.52639326e+00, -3.82037585e-01, -8.41415288e-01,\n",
       "        -8.23442283e-01],\n",
       "       [ 2.50990351e+00, -3.77415469e-01, -7.35758199e-01,\n",
       "        -8.28941127e-01],\n",
       "       [ 2.50000966e+00, -1.14930111e-01, -1.13483704e+00,\n",
       "        -8.07833831e-01],\n",
       "       [ 2.57687130e+00,  1.29052176e+00,  1.63102541e-02,\n",
       "        -7.59397830e-01],\n",
       "       [ 2.64791303e+00,  1.10486504e+00, -3.08279393e-02,\n",
       "        -7.60030302e-01],\n",
       "       [ 2.66436398e+00, -6.39154509e-02, -8.66911900e-01,\n",
       "        -7.91714527e-01],\n",
       "       [ 2.72073953e+00,  4.28477488e-01, -7.48677572e-01,\n",
       "        -7.66966637e-01],\n",
       "       [ 2.73594890e+00,  2.08595951e-01, -9.16604830e-01,\n",
       "        -8.08731005e-01],\n",
       "       [ 2.73043938e+00, -3.19005775e-01, -8.48592704e-01,\n",
       "        -7.86051623e-01],\n",
       "       [ 2.72015754e+00,  2.05088299e-01, -9.35955627e-01,\n",
       "        -8.23424458e-01],\n",
       "       [ 2.72690863e+00, -9.05454291e-03, -9.63948509e-01,\n",
       "        -8.14369051e-01],\n",
       "       [ 2.79973513e+00,  1.24656612e+00, -3.76810839e-02,\n",
       "        -7.15909200e-01],\n",
       "       [ 2.79992913e+00, -5.43299116e-01, -1.27013226e-01,\n",
       "        -7.31742703e-01],\n",
       "       [ 2.83252064e+00,  1.76832006e-01, -5.14725833e-01,\n",
       "        -7.83977901e-01],\n",
       "       [ 2.82037642e+00, -1.80472368e-01, -4.97196106e-01,\n",
       "        -7.86338030e-01],\n",
       "       [ 2.84959238e+00,  3.35979807e-01, -7.99023234e-01,\n",
       "        -7.76062423e-01],\n",
       "       [ 2.92975197e+00,  1.19810925e+00,  2.61864114e-02,\n",
       "        -7.73688470e-01],\n",
       "       [ 2.97635007e+00,  3.31629663e-01, -8.20615931e-01,\n",
       "        -7.25892702e-01],\n",
       "       [ 2.95741595e+00, -7.50952506e-01, -3.25945862e-01,\n",
       "        -7.27583497e-01],\n",
       "       [ 2.99951332e+00,  9.70986437e-02, -7.11599268e-01,\n",
       "        -7.78416610e-01],\n",
       "       [ 3.02054260e+00,  1.83086627e-02, -3.33643400e-01,\n",
       "        -7.07783099e-01],\n",
       "       [ 3.01635226e+00, -6.83778121e-02, -6.74228839e-01,\n",
       "        -7.62050671e-01],\n",
       "       [ 2.98100600e+00, -3.11486457e-03, -6.98117452e-01,\n",
       "        -7.30685229e-01],\n",
       "       [ 2.99982371e+00, -7.26073905e-02, -6.49513576e-01,\n",
       "        -7.48719046e-01],\n",
       "       [ 2.99737935e+00,  3.33016135e-01, -4.19726553e-01,\n",
       "        -6.11567457e-01],\n",
       "       [ 2.75530980e+00, -4.67786195e-01, -2.37570110e-01,\n",
       "        -2.44899489e-01],\n",
       "       [ 2.55960556e+00, -1.90605746e+00,  2.30998825e+00,\n",
       "        -4.94251915e-01],\n",
       "       [ 2.62040424e+00,  3.25839716e+00,  2.34964978e+00,\n",
       "        -4.95457443e-01],\n",
       "       [ 2.50780834e+00, -1.79354019e+00,  5.98251516e-01,\n",
       "        -6.39490802e-01],\n",
       "       [ 2.31454846e+00, -3.38541422e+00,  2.54322691e+00,\n",
       "        -5.76135690e-01],\n",
       "       [ 2.46132664e+00,  1.15324503e+00,  2.29362446e+00,\n",
       "        -4.10153154e-01],\n",
       "       [ 2.50451039e+00, -1.16040740e-01, -1.62514964e-01,\n",
       "        -6.08985793e-01],\n",
       "       [ 2.50288082e+00,  2.78595528e-01, -5.44390094e-01,\n",
       "        -7.57177388e-01],\n",
       "       [ 2.57489253e+00,  1.17488957e+00,  1.98623870e-01,\n",
       "        -7.01901814e-01],\n",
       "       [ 2.64729224e+00,  5.01695688e-01,  2.48537273e-01,\n",
       "        -7.29035660e-01],\n",
       "       [ 2.66335519e+00,  1.45454421e-01, -4.27690651e-01,\n",
       "        -7.08940853e-01],\n",
       "       [ 2.69474392e+00,  6.75100864e-01,  1.75699031e-01,\n",
       "        -7.48412510e-01],\n",
       "       [ 2.73416412e+00,  2.95187805e-01,  2.98628159e-01,\n",
       "        -7.02562053e-01],\n",
       "       [ 2.71922635e+00, -5.33691231e-01, -2.19564291e-01,\n",
       "        -7.79974266e-01],\n",
       "       [ 2.78980248e+00,  5.76705408e-01, -2.07792794e-01,\n",
       "        -7.98353785e-01],\n",
       "       [ 2.85036837e+00,  7.11641321e-01, -5.78878600e-01,\n",
       "        -7.67484522e-01],\n",
       "       [ 2.74875270e+00, -1.50481437e+00,  2.07989879e-01,\n",
       "        -6.94034231e-01],\n",
       "       [ 2.69602430e+00, -1.05399713e+00,  5.37727325e-02,\n",
       "        -6.53272773e-01],\n",
       "       [ 2.56988740e+00, -2.26663627e+00,  1.35205037e+00,\n",
       "        -6.12550965e-01],\n",
       "       [ 2.61927906e+00,  1.65946178e+00,  9.26455826e-01,\n",
       "        -6.43921258e-01],\n",
       "       [ 2.66048404e+00,  1.04146504e+00,  3.71361265e-01,\n",
       "        -7.74365686e-01],\n",
       "       [ 2.68430688e+00, -5.57122061e-02, -7.84651809e-01,\n",
       "        -8.06292544e-01],\n",
       "       [ 2.73916925e+00,  1.36754569e+00,  1.75836140e-01,\n",
       "        -7.61626517e-01],\n",
       "       [ 2.79480761e+00,  7.40981302e-01, -6.07239557e-01,\n",
       "        -7.64894491e-01],\n",
       "       [ 2.91687057e+00,  1.26089509e+00,  1.36356570e-01,\n",
       "        -6.97027924e-01],\n",
       "       [ 2.93661947e+00,  6.68148550e-02, -3.58725908e-01,\n",
       "        -6.89858898e-01],\n",
       "       [ 2.83566339e+00, -1.79317165e+00,  1.15045930e+00,\n",
       "        -6.89842165e-01],\n",
       "       [ 2.87050527e+00,  1.95807274e-01, -4.35524756e-01,\n",
       "        -7.01450983e-01],\n",
       "       [ 2.87717876e+00,  7.67379871e-02,  1.42281323e-01,\n",
       "        -7.51145259e-01],\n",
       "       [ 2.81436251e+00, -1.18698708e+00,  6.38861049e-02,\n",
       "        -6.26162450e-01],\n",
       "       [ 2.68108653e+00, -1.03487645e+00,  4.40339698e-01,\n",
       "        -5.75023044e-01],\n",
       "       [ 2.66451918e+00, -1.40639681e-01, -1.36473308e-02,\n",
       "        -6.19528770e-01],\n",
       "       [ 2.65753528e+00,  1.03590207e-01, -1.23971800e-01,\n",
       "        -7.06687065e-01],\n",
       "       [ 2.49903967e+00, -1.63575383e+00,  7.63571701e-01,\n",
       "        -5.33577094e-01],\n",
       "       [ 2.39583323e+00, -1.55184968e+00,  1.33042197e+00,\n",
       "        -6.55395483e-01],\n",
       "       [ 2.50268682e+00,  2.37339588e-01,  1.83208562e+00,\n",
       "        -5.51249568e-01],\n",
       "       [ 2.31974758e+00, -3.54051775e+00,  3.13314228e+00,\n",
       "        -5.91440153e-01]])"
      ]
     },
     "metadata": {},
     "output_type": "display_data"
    }
   ],
   "source": [
    "# Define forecastless features as the point of features without a forecast until the end\n",
    "X_no_forecast = X[-forecast_out:]\n",
    "display(X_no_forecast)"
   ]
  },
  {
   "cell_type": "code",
   "execution_count": 18,
   "metadata": {},
   "outputs": [
    {
     "data": {
      "text/plain": [
       "array([1108.81363321, 1111.45299986, 1115.81619339, 1083.07564455,\n",
       "       1078.83600055, 1062.29342692, 1071.91692448, 1055.94192816,\n",
       "       1058.86729188, 1059.38001111, 1051.40704926, 1058.35511164,\n",
       "       1058.28674015, 1056.2481642 , 1051.81511926, 1032.23418828,\n",
       "       1040.80528358, 1050.75074966, 1049.66529086, 1056.54259761,\n",
       "       1036.45234402, 1036.48147111, 1030.16232123, 1052.30873415,\n",
       "       1054.80827003, 1047.26638271, 1040.5311341 , 1038.38184632,\n",
       "       1047.06193357, 1055.96708641, 1068.91908409, 1064.7807361 ,\n",
       "       1052.40601388, 1053.5735068 , 1062.65529279, 1052.65778499,\n",
       "       1054.88425603, 1058.92008157, 1063.66570909, 1051.43915551,\n",
       "       1046.01990375, 1039.80334153, 1048.23376774, 1060.28512026,\n",
       "       1059.64075052, 1055.3573354 , 1044.44717645, 1048.88851239,\n",
       "       1073.39133195, 1079.54844318, 1089.39570937, 1081.06344228,\n",
       "       1087.46265806, 1081.14483807, 1101.82705132, 1111.31202701,\n",
       "       1109.52860234, 1103.61923787, 1124.43089114, 1124.40271404,\n",
       "       1126.94161434, 1128.41476597, 1130.63063308, 1132.22148062,\n",
       "       1119.94083879, 1123.88807258, 1099.86576368, 1105.25459164,\n",
       "       1108.33838074, 1107.6409962 , 1153.03802871, 1154.31727761,\n",
       "       1154.29865715, 1165.24895366, 1165.29608358, 1173.61069759,\n",
       "       1165.02240613, 1176.2491433 , 1170.4942031 , 1167.42323194,\n",
       "       1163.83590094, 1164.21464655, 1158.63291741, 1172.02238119,\n",
       "       1156.52222674, 1156.78469033, 1174.28582161, 1175.84814206,\n",
       "       1181.01043249, 1197.88013852, 1186.37939796, 1156.82440852,\n",
       "       1157.55852761, 1144.67466643, 1129.31711029, 1138.1775877 ,\n",
       "       1154.03847403, 1167.62902544, 1172.61301797, 1175.5780916 ,\n",
       "       1171.41359737, 1175.07422841, 1181.57224545, 1197.7363184 ,\n",
       "       1212.30632245, 1206.09595033, 1198.98676725, 1196.47417455,\n",
       "       1194.82632586, 1190.91088483, 1184.4829732 , 1179.65608743,\n",
       "       1177.53060137, 1199.20613491, 1219.37695545, 1224.12823472,\n",
       "       1240.46849136, 1244.85522838, 1242.73900627, 1240.37998664,\n",
       "       1242.15356537, 1262.79418833, 1261.45608838, 1271.87333094,\n",
       "       1268.08630388, 1277.22216733, 1299.80893498, 1313.37867512,\n",
       "       1306.45574991, 1319.68991323, 1325.11392929, 1324.29799585,\n",
       "       1314.27702763, 1319.5395077 , 1318.8138675 , 1248.6071966 ,\n",
       "       1188.59231381, 1210.25797011, 1176.10196517, 1117.18944651,\n",
       "       1163.10322187, 1177.49207689, 1177.92560429, 1198.28277772,\n",
       "       1218.3271538 , 1223.42496741, 1232.11458847, 1242.86011898,\n",
       "       1238.58305979, 1259.65617841, 1277.48569971, 1245.60621596,\n",
       "       1231.10541634, 1192.47262549, 1210.42669474, 1222.42638026,\n",
       "       1229.73392608, 1245.38389797, 1261.69102075, 1296.00164015,\n",
       "       1301.22909845, 1269.00154515, 1282.576205  , 1283.70364633,\n",
       "       1264.72709044, 1226.33458868, 1222.94926561, 1221.35521551,\n",
       "       1173.46174425, 1143.47038121, 1174.78756213, 1117.82847846])"
      ]
     },
     "metadata": {},
     "output_type": "display_data"
    }
   ],
   "source": [
    "# Pass features into classifer's predict() method\n",
    "forecast = classifier.predict(X_no_forecast)\n",
    "\n",
    "display(forecast)"
   ]
  },
  {
   "cell_type": "markdown",
   "metadata": {},
   "source": [
    "The values shown above are a prediction, or a forecast, of stock prices for the next 172 days.  Note too that we do not have to pass an entire array into a machine learning classifier.  As can bee seen below, we could just as esily pass only one set of features."
   ]
  },
  {
   "cell_type": "code",
   "execution_count": 19,
   "metadata": {
    "scrolled": true
   },
   "outputs": [
    {
     "name": "stdout",
     "output_type": "stream",
     "text": [
      "[1108.81363321]\n"
     ]
    }
   ],
   "source": [
    "# Predict one price\n",
    "print(classifier.predict(X_no_forecast[0].reshape(1, -1)))"
   ]
  },
  {
   "cell_type": "markdown",
   "metadata": {},
   "source": [
    "# 6 Visualizing our Predictions\n",
    "\n",
    "The data points above are the actual predictions.  With a little extra work, we can visualize these predictions.  To do this, we may be tempted to simply fill in the unknown forecast prices we our predictions; however, we actually want to add rows to our dataframe representing the future days.\n",
    "\n",
    "It is not enough to simply plot the adjusted close prices as well as the forecast prices, since the first 172 rows of forecast prices known adjusted close prices, simply shifted up, and because we have values for both data points up until 172 rows from the last, we will plot two data points for the same date.  Our goal is to plot only one data point for each date, using predicted adjusted close prices once we run out of known adjusted close prices.  Observe Figure 1 to see the problem with simply plotting both sets of data points."
   ]
  },
  {
   "cell_type": "code",
   "execution_count": 20,
   "metadata": {},
   "outputs": [
    {
     "data": {
      "image/png": "[encoded data removed]",
      "text/plain": [
       "<Figure size 1440x720 with 1 Axes>"
      ]
     },
     "metadata": {
      "needs_background": "light"
     },
     "output_type": "display_data"
    },
    {
     "name": "stdout",
     "output_type": "stream",
     "text": [
      "Figure 1.\n"
     ]
    }
   ],
   "source": [
    "# Define figure with measurement 20x5\n",
    "plt.figure(figsize=(20,10))\n",
    "# Plot adjusted close prices\n",
    "stocks['Adj. Close'].plot()\n",
    "# Plot forecasted prices\n",
    "stocks['Forecast'].plot()\n",
    "# Plot legend\n",
    "plt.legend()\n",
    "# Show plot\n",
    "plt.show()\n",
    "\n",
    "print('Figure 1.')"
   ]
  },
  {
   "cell_type": "markdown",
   "metadata": {},
   "source": [
    "As stated, we want to plot all the adjusted close prices we know as one continuous data point, and then all the predicted values as one continuous data point <em>afterwards</em>.  These two data points will have no overlapping dates.  Let's therefore examine how many rows our dataframe has, and then examine the last row of our dataframe. "
   ]
  },
  {
   "cell_type": "code",
   "execution_count": 21,
   "metadata": {},
   "outputs": [
    {
     "name": "stdout",
     "output_type": "stream",
     "text": [
      "(3424, 5)\n"
     ]
    },
    {
     "data": {
      "text/html": [
       "<div>\n",
       "<style scoped>\n",
       "    .dataframe tbody tr th:only-of-type {\n",
       "        vertical-align: middle;\n",
       "    }\n",
       "\n",
       "    .dataframe tbody tr th {\n",
       "        vertical-align: top;\n",
       "    }\n",
       "\n",
       "    .dataframe thead th {\n",
       "        text-align: right;\n",
       "    }\n",
       "</style>\n",
       "<table border=\"1\" class=\"dataframe\">\n",
       "  <thead>\n",
       "    <tr style=\"text-align: right;\">\n",
       "      <th></th>\n",
       "      <th>Adj. Close</th>\n",
       "      <th>Open-Close Percent Change</th>\n",
       "      <th>High-Low Percent Change</th>\n",
       "      <th>Adj. Volume</th>\n",
       "      <th>Forecast</th>\n",
       "    </tr>\n",
       "    <tr>\n",
       "      <th>Date</th>\n",
       "      <th></th>\n",
       "      <th></th>\n",
       "      <th></th>\n",
       "      <th></th>\n",
       "      <th></th>\n",
       "    </tr>\n",
       "  </thead>\n",
       "  <tbody>\n",
       "    <tr>\n",
       "      <th>2018-03-27</th>\n",
       "      <td>1006.94</td>\n",
       "      <td>-5.353887</td>\n",
       "      <td>6.707965</td>\n",
       "      <td>2940957.0</td>\n",
       "      <td>NaN</td>\n",
       "    </tr>\n",
       "  </tbody>\n",
       "</table>\n",
       "</div>"
      ],
      "text/plain": [
       "            Adj. Close  Open-Close Percent Change  High-Low Percent Change  \\\n",
       "Date                                                                         \n",
       "2018-03-27     1006.94                  -5.353887                 6.707965   \n",
       "\n",
       "            Adj. Volume  Forecast  \n",
       "Date                               \n",
       "2018-03-27    2940957.0       NaN  "
      ]
     },
     "metadata": {},
     "output_type": "display_data"
    },
    {
     "name": "stdout",
     "output_type": "stream",
     "text": [
      "\n",
      "Figure 2.\n"
     ]
    }
   ],
   "source": [
    "# Get length of dataframe\n",
    "print(stocks.shape)\n",
    "\n",
    "# View last row of dataframe\n",
    "display(stocks.tail(1))\n",
    "\n",
    "print('\\nFigure 2.')"
   ]
  },
  {
   "cell_type": "markdown",
   "metadata": {},
   "source": [
    "Per Figure 2, we currently have 3,424 rows, and the index for the last row is the date 2018-03-27.\n",
    "\n",
    "By using the .iloc[] method, we can save the index, or \"name\" of this data point, as a variable."
   ]
  },
  {
   "cell_type": "code",
   "execution_count": 22,
   "metadata": {},
   "outputs": [
    {
     "name": "stdout",
     "output_type": "stream",
     "text": [
      "Adj. Close                   1.006940e+03\n",
      "Open-Close Percent Change   -5.353887e+00\n",
      "High-Low Percent Change      6.707965e+00\n",
      "Adj. Volume                  2.940957e+06\n",
      "Forecast                              NaN\n",
      "Name: 2018-03-27, dtype: float64\n",
      "\n",
      " 2018-03-27\n"
     ]
    }
   ],
   "source": [
    "# Get data points for last record\n",
    "print(stocks.iloc[-1])\n",
    "\n",
    "# Save last index into variable\n",
    "last_date_as_string = stocks.iloc[-1].name\n",
    "print('\\n',last_date_as_string)"
   ]
  },
  {
   "cell_type": "markdown",
   "metadata": {},
   "source": [
    "Now we want to add a new row to the dataframe, whose only value is our first forecasted price, and with an index of 2018-03-28.  Note that for this project, we will disregard the effect of weekends and holidays, and simply add the next day to the dataframe.  Then we will add another row, whose only value is the second predicted value, and with an index of 2018-03-29, and so on."
   ]
  },
  {
   "cell_type": "code",
   "execution_count": 23,
   "metadata": {},
   "outputs": [],
   "source": [
    "# Import datatime to work with time values\n",
    "from datetime import datetime, timedelta\n",
    "\n",
    "# Save the last_date as a date value\n",
    "last_date = datetime.strptime(last_date_as_string,'%Y-%m-%d').date()"
   ]
  },
  {
   "cell_type": "markdown",
   "metadata": {},
   "source": [
    "Recall that we are plotting all known adjusted close prices as one continuous data point, and all predicted values as one continuous datapoint.  We therefore need to clear out the forecast column, and only start filling it in with the predicted values starting on 2018-03-28."
   ]
  },
  {
   "cell_type": "code",
   "execution_count": 24,
   "metadata": {},
   "outputs": [
    {
     "data": {
      "text/html": [
       "<div>\n",
       "<style scoped>\n",
       "    .dataframe tbody tr th:only-of-type {\n",
       "        vertical-align: middle;\n",
       "    }\n",
       "\n",
       "    .dataframe tbody tr th {\n",
       "        vertical-align: top;\n",
       "    }\n",
       "\n",
       "    .dataframe thead th {\n",
       "        text-align: right;\n",
       "    }\n",
       "</style>\n",
       "<table border=\"1\" class=\"dataframe\">\n",
       "  <thead>\n",
       "    <tr style=\"text-align: right;\">\n",
       "      <th></th>\n",
       "      <th>Adj. Close</th>\n",
       "      <th>Open-Close Percent Change</th>\n",
       "      <th>High-Low Percent Change</th>\n",
       "      <th>Adj. Volume</th>\n",
       "      <th>Forecast</th>\n",
       "    </tr>\n",
       "    <tr>\n",
       "      <th>Date</th>\n",
       "      <th></th>\n",
       "      <th></th>\n",
       "      <th></th>\n",
       "      <th></th>\n",
       "      <th></th>\n",
       "    </tr>\n",
       "  </thead>\n",
       "  <tbody>\n",
       "    <tr>\n",
       "      <th>2004-08-19</th>\n",
       "      <td>50.322842</td>\n",
       "      <td>0.324968</td>\n",
       "      <td>8.441017</td>\n",
       "      <td>44659000.0</td>\n",
       "      <td>109.713676</td>\n",
       "    </tr>\n",
       "    <tr>\n",
       "      <th>2004-08-20</th>\n",
       "      <td>54.322689</td>\n",
       "      <td>7.227007</td>\n",
       "      <td>8.537313</td>\n",
       "      <td>22834300.0</td>\n",
       "      <td>110.230270</td>\n",
       "    </tr>\n",
       "    <tr>\n",
       "      <th>2004-08-23</th>\n",
       "      <td>54.869377</td>\n",
       "      <td>-1.227880</td>\n",
       "      <td>4.062357</td>\n",
       "      <td>18256100.0</td>\n",
       "      <td>110.064759</td>\n",
       "    </tr>\n",
       "    <tr>\n",
       "      <th>2004-08-24</th>\n",
       "      <td>52.597363</td>\n",
       "      <td>-5.726357</td>\n",
       "      <td>7.753210</td>\n",
       "      <td>15247300.0</td>\n",
       "      <td>110.340611</td>\n",
       "    </tr>\n",
       "    <tr>\n",
       "      <th>2004-08-25</th>\n",
       "      <td>53.164113</td>\n",
       "      <td>1.183658</td>\n",
       "      <td>3.966115</td>\n",
       "      <td>9188600.0</td>\n",
       "      <td>111.489156</td>\n",
       "    </tr>\n",
       "  </tbody>\n",
       "</table>\n",
       "</div>"
      ],
      "text/plain": [
       "            Adj. Close  Open-Close Percent Change  High-Low Percent Change  \\\n",
       "Date                                                                         \n",
       "2004-08-19   50.322842                   0.324968                 8.441017   \n",
       "2004-08-20   54.322689                   7.227007                 8.537313   \n",
       "2004-08-23   54.869377                  -1.227880                 4.062357   \n",
       "2004-08-24   52.597363                  -5.726357                 7.753210   \n",
       "2004-08-25   53.164113                   1.183658                 3.966115   \n",
       "\n",
       "            Adj. Volume    Forecast  \n",
       "Date                                 \n",
       "2004-08-19   44659000.0  109.713676  \n",
       "2004-08-20   22834300.0  110.230270  \n",
       "2004-08-23   18256100.0  110.064759  \n",
       "2004-08-24   15247300.0  110.340611  \n",
       "2004-08-25    9188600.0  111.489156  "
      ]
     },
     "metadata": {},
     "output_type": "display_data"
    },
    {
     "data": {
      "text/html": [
       "<div>\n",
       "<style scoped>\n",
       "    .dataframe tbody tr th:only-of-type {\n",
       "        vertical-align: middle;\n",
       "    }\n",
       "\n",
       "    .dataframe tbody tr th {\n",
       "        vertical-align: top;\n",
       "    }\n",
       "\n",
       "    .dataframe thead th {\n",
       "        text-align: right;\n",
       "    }\n",
       "</style>\n",
       "<table border=\"1\" class=\"dataframe\">\n",
       "  <thead>\n",
       "    <tr style=\"text-align: right;\">\n",
       "      <th></th>\n",
       "      <th>Adj. Close</th>\n",
       "      <th>Open-Close Percent Change</th>\n",
       "      <th>High-Low Percent Change</th>\n",
       "      <th>Adj. Volume</th>\n",
       "      <th>Forecast</th>\n",
       "    </tr>\n",
       "    <tr>\n",
       "      <th>Date</th>\n",
       "      <th></th>\n",
       "      <th></th>\n",
       "      <th></th>\n",
       "      <th></th>\n",
       "      <th></th>\n",
       "    </tr>\n",
       "  </thead>\n",
       "  <tbody>\n",
       "    <tr>\n",
       "      <th>2004-08-19</th>\n",
       "      <td>50.322842</td>\n",
       "      <td>0.324968</td>\n",
       "      <td>8.441017</td>\n",
       "      <td>44659000.0</td>\n",
       "      <td>NaN</td>\n",
       "    </tr>\n",
       "    <tr>\n",
       "      <th>2004-08-20</th>\n",
       "      <td>54.322689</td>\n",
       "      <td>7.227007</td>\n",
       "      <td>8.537313</td>\n",
       "      <td>22834300.0</td>\n",
       "      <td>NaN</td>\n",
       "    </tr>\n",
       "    <tr>\n",
       "      <th>2004-08-23</th>\n",
       "      <td>54.869377</td>\n",
       "      <td>-1.227880</td>\n",
       "      <td>4.062357</td>\n",
       "      <td>18256100.0</td>\n",
       "      <td>NaN</td>\n",
       "    </tr>\n",
       "    <tr>\n",
       "      <th>2004-08-24</th>\n",
       "      <td>52.597363</td>\n",
       "      <td>-5.726357</td>\n",
       "      <td>7.753210</td>\n",
       "      <td>15247300.0</td>\n",
       "      <td>NaN</td>\n",
       "    </tr>\n",
       "    <tr>\n",
       "      <th>2004-08-25</th>\n",
       "      <td>53.164113</td>\n",
       "      <td>1.183658</td>\n",
       "      <td>3.966115</td>\n",
       "      <td>9188600.0</td>\n",
       "      <td>NaN</td>\n",
       "    </tr>\n",
       "  </tbody>\n",
       "</table>\n",
       "</div>"
      ],
      "text/plain": [
       "            Adj. Close  Open-Close Percent Change  High-Low Percent Change  \\\n",
       "Date                                                                         \n",
       "2004-08-19   50.322842                   0.324968                 8.441017   \n",
       "2004-08-20   54.322689                   7.227007                 8.537313   \n",
       "2004-08-23   54.869377                  -1.227880                 4.062357   \n",
       "2004-08-24   52.597363                  -5.726357                 7.753210   \n",
       "2004-08-25   53.164113                   1.183658                 3.966115   \n",
       "\n",
       "            Adj. Volume  Forecast  \n",
       "Date                               \n",
       "2004-08-19   44659000.0       NaN  \n",
       "2004-08-20   22834300.0       NaN  \n",
       "2004-08-23   18256100.0       NaN  \n",
       "2004-08-24   15247300.0       NaN  \n",
       "2004-08-25    9188600.0       NaN  "
      ]
     },
     "metadata": {},
     "output_type": "display_data"
    }
   ],
   "source": [
    "# Preview stocks data\n",
    "display(stocks.head())\n",
    "\n",
    "# Fill Forecast column will NaN values\n",
    "stocks['Forecast'] = np.nan\n",
    "\n",
    "# Preview stocks data\n",
    "display(stocks.head())"
   ]
  },
  {
   "cell_type": "markdown",
   "metadata": {},
   "source": [
    "At this point, we can add new rows for each day after 2018-03-27, with the predicted adjusted close price.  Adding new records with a defined index is as simple as \"selecting\" the record at that index, and defining the datapoints.  For example, observe what happens when we try to select the row with index 2018-03-28."
   ]
  },
  {
   "cell_type": "code",
   "execution_count": 25,
   "metadata": {},
   "outputs": [
    {
     "name": "stdout",
     "output_type": "stream",
     "text": [
      "No such date exists.\n"
     ]
    }
   ],
   "source": [
    "try:\n",
    "    display(stocks.loc['2018-03-28'])\n",
    "except:\n",
    "    print('No such date exists.')"
   ]
  },
  {
   "cell_type": "markdown",
   "metadata": {},
   "source": [
    "As no such record exists, we get an error, but simply by defining data at this point, we can create the record.  We will only define the forecasted price."
   ]
  },
  {
   "cell_type": "code",
   "execution_count": 26,
   "metadata": {},
   "outputs": [
    {
     "data": {
      "text/plain": [
       "Adj. Close                   NaN\n",
       "Open-Close Percent Change    NaN\n",
       "High-Low Percent Change      NaN\n",
       "Adj. Volume                  NaN\n",
       "Forecast                     3.0\n",
       "Name: 2018-03-28, dtype: float64"
      ]
     },
     "metadata": {},
     "output_type": "display_data"
    },
    {
     "name": "stdout",
     "output_type": "stream",
     "text": [
      "\n",
      "Figure 3.\n"
     ]
    }
   ],
   "source": [
    "# Define new datapoints with an index of 2018-03-28.\n",
    "stocks.loc['2018-03-28'] = [np.nan, np.nan, np.nan, np.nan, 3]\n",
    "display(stocks.loc['2018-03-28'] )\n",
    "print('\\nFigure 3.')"
   ]
  },
  {
   "cell_type": "markdown",
   "metadata": {},
   "source": [
    "Using this logic, we will now loop through our forecasted values and populate new points in our dataframe at future dates.  This loop will increment the \"last date\" by one day, then populate the data points.  Because last_date is still defined as the 2018-02-37, our first increment will change this to 2018-03-28, and replcace the hard-coded value in Figure 3 with the real prediciton, then proceed to populate the rest of the predictions."
   ]
  },
  {
   "cell_type": "code",
   "execution_count": 27,
   "metadata": {},
   "outputs": [],
   "source": [
    "# Loop for every predicted price in our x-day forecast (COME BACK AND DEFINE X)\n",
    "for prediction in forecast:\n",
    "    # Increment last_date by one day\n",
    "    last_date += timedelta(days=1)\n",
    "    \n",
    "    # Where the index is the new \"last date,\" populate only the Forecast column with the prediction\n",
    "    stocks.loc[datetime.strftime(last_date, '%Y-%m-%d')] = [np.nan for _ in range(len(stocks.columns) -1)] + [prediction]"
   ]
  },
  {
   "cell_type": "markdown",
   "metadata": {},
   "source": [
    "To illustrate the loop above, we will examine the head and tail of our dataframe.  Up until our last known adjusted close price, we have all data points except for the forecast, and after that point, the only data point we have is the forecast.  Also recall from from Figure 2 that we previously had 3,424 rows, and the last row had an index of the date 2018-03-27.  Observing the row count and last index in Figure 4, we now see a row count of 3,596, with a last index of the date 2018-09-15; we can also observe the place at which the datapoints populated changes."
   ]
  },
  {
   "cell_type": "code",
   "execution_count": 28,
   "metadata": {},
   "outputs": [
    {
     "name": "stdout",
     "output_type": "stream",
     "text": [
      "(3596, 5)\n"
     ]
    },
    {
     "data": {
      "text/html": [
       "<div>\n",
       "<style scoped>\n",
       "    .dataframe tbody tr th:only-of-type {\n",
       "        vertical-align: middle;\n",
       "    }\n",
       "\n",
       "    .dataframe tbody tr th {\n",
       "        vertical-align: top;\n",
       "    }\n",
       "\n",
       "    .dataframe thead th {\n",
       "        text-align: right;\n",
       "    }\n",
       "</style>\n",
       "<table border=\"1\" class=\"dataframe\">\n",
       "  <thead>\n",
       "    <tr style=\"text-align: right;\">\n",
       "      <th></th>\n",
       "      <th>Adj. Close</th>\n",
       "      <th>Open-Close Percent Change</th>\n",
       "      <th>High-Low Percent Change</th>\n",
       "      <th>Adj. Volume</th>\n",
       "      <th>Forecast</th>\n",
       "    </tr>\n",
       "    <tr>\n",
       "      <th>Date</th>\n",
       "      <th></th>\n",
       "      <th></th>\n",
       "      <th></th>\n",
       "      <th></th>\n",
       "      <th></th>\n",
       "    </tr>\n",
       "  </thead>\n",
       "  <tbody>\n",
       "    <tr>\n",
       "      <th>2004-08-19</th>\n",
       "      <td>50.322842</td>\n",
       "      <td>0.324968</td>\n",
       "      <td>8.441017</td>\n",
       "      <td>44659000.0</td>\n",
       "      <td>NaN</td>\n",
       "    </tr>\n",
       "    <tr>\n",
       "      <th>2004-08-20</th>\n",
       "      <td>54.322689</td>\n",
       "      <td>7.227007</td>\n",
       "      <td>8.537313</td>\n",
       "      <td>22834300.0</td>\n",
       "      <td>NaN</td>\n",
       "    </tr>\n",
       "    <tr>\n",
       "      <th>2004-08-23</th>\n",
       "      <td>54.869377</td>\n",
       "      <td>-1.227880</td>\n",
       "      <td>4.062357</td>\n",
       "      <td>18256100.0</td>\n",
       "      <td>NaN</td>\n",
       "    </tr>\n",
       "    <tr>\n",
       "      <th>2004-08-24</th>\n",
       "      <td>52.597363</td>\n",
       "      <td>-5.726357</td>\n",
       "      <td>7.753210</td>\n",
       "      <td>15247300.0</td>\n",
       "      <td>NaN</td>\n",
       "    </tr>\n",
       "    <tr>\n",
       "      <th>2004-08-25</th>\n",
       "      <td>53.164113</td>\n",
       "      <td>1.183658</td>\n",
       "      <td>3.966115</td>\n",
       "      <td>9188600.0</td>\n",
       "      <td>NaN</td>\n",
       "    </tr>\n",
       "  </tbody>\n",
       "</table>\n",
       "</div>"
      ],
      "text/plain": [
       "            Adj. Close  Open-Close Percent Change  High-Low Percent Change  \\\n",
       "Date                                                                         \n",
       "2004-08-19   50.322842                   0.324968                 8.441017   \n",
       "2004-08-20   54.322689                   7.227007                 8.537313   \n",
       "2004-08-23   54.869377                  -1.227880                 4.062357   \n",
       "2004-08-24   52.597363                  -5.726357                 7.753210   \n",
       "2004-08-25   53.164113                   1.183658                 3.966115   \n",
       "\n",
       "            Adj. Volume  Forecast  \n",
       "Date                               \n",
       "2004-08-19   44659000.0       NaN  \n",
       "2004-08-20   22834300.0       NaN  \n",
       "2004-08-23   18256100.0       NaN  \n",
       "2004-08-24   15247300.0       NaN  \n",
       "2004-08-25    9188600.0       NaN  "
      ]
     },
     "metadata": {},
     "output_type": "display_data"
    },
    {
     "data": {
      "text/html": [
       "<div>\n",
       "<style scoped>\n",
       "    .dataframe tbody tr th:only-of-type {\n",
       "        vertical-align: middle;\n",
       "    }\n",
       "\n",
       "    .dataframe tbody tr th {\n",
       "        vertical-align: top;\n",
       "    }\n",
       "\n",
       "    .dataframe thead th {\n",
       "        text-align: right;\n",
       "    }\n",
       "</style>\n",
       "<table border=\"1\" class=\"dataframe\">\n",
       "  <thead>\n",
       "    <tr style=\"text-align: right;\">\n",
       "      <th></th>\n",
       "      <th>Adj. Close</th>\n",
       "      <th>Open-Close Percent Change</th>\n",
       "      <th>High-Low Percent Change</th>\n",
       "      <th>Adj. Volume</th>\n",
       "      <th>Forecast</th>\n",
       "    </tr>\n",
       "    <tr>\n",
       "      <th>Date</th>\n",
       "      <th></th>\n",
       "      <th></th>\n",
       "      <th></th>\n",
       "      <th></th>\n",
       "      <th></th>\n",
       "    </tr>\n",
       "  </thead>\n",
       "  <tbody>\n",
       "    <tr>\n",
       "      <th>2004-08-19</th>\n",
       "      <td>50.322842</td>\n",
       "      <td>0.324968</td>\n",
       "      <td>8.441017</td>\n",
       "      <td>44659000.0</td>\n",
       "      <td>NaN</td>\n",
       "    </tr>\n",
       "    <tr>\n",
       "      <th>2004-08-20</th>\n",
       "      <td>54.322689</td>\n",
       "      <td>7.227007</td>\n",
       "      <td>8.537313</td>\n",
       "      <td>22834300.0</td>\n",
       "      <td>NaN</td>\n",
       "    </tr>\n",
       "    <tr>\n",
       "      <th>2004-08-23</th>\n",
       "      <td>54.869377</td>\n",
       "      <td>-1.227880</td>\n",
       "      <td>4.062357</td>\n",
       "      <td>18256100.0</td>\n",
       "      <td>NaN</td>\n",
       "    </tr>\n",
       "    <tr>\n",
       "      <th>2004-08-24</th>\n",
       "      <td>52.597363</td>\n",
       "      <td>-5.726357</td>\n",
       "      <td>7.753210</td>\n",
       "      <td>15247300.0</td>\n",
       "      <td>NaN</td>\n",
       "    </tr>\n",
       "    <tr>\n",
       "      <th>2004-08-25</th>\n",
       "      <td>53.164113</td>\n",
       "      <td>1.183658</td>\n",
       "      <td>3.966115</td>\n",
       "      <td>9188600.0</td>\n",
       "      <td>NaN</td>\n",
       "    </tr>\n",
       "    <tr>\n",
       "      <th>...</th>\n",
       "      <td>...</td>\n",
       "      <td>...</td>\n",
       "      <td>...</td>\n",
       "      <td>...</td>\n",
       "      <td>...</td>\n",
       "    </tr>\n",
       "    <tr>\n",
       "      <th>2018-03-23</th>\n",
       "      <td>1026.550000</td>\n",
       "      <td>-2.360729</td>\n",
       "      <td>4.089299</td>\n",
       "      <td>2413517.0</td>\n",
       "      <td>NaN</td>\n",
       "    </tr>\n",
       "    <tr>\n",
       "      <th>2018-03-26</th>\n",
       "      <td>1054.090000</td>\n",
       "      <td>0.332191</td>\n",
       "      <td>4.818025</td>\n",
       "      <td>3272409.0</td>\n",
       "      <td>NaN</td>\n",
       "    </tr>\n",
       "    <tr>\n",
       "      <th>2018-03-27</th>\n",
       "      <td>1006.940000</td>\n",
       "      <td>-5.353887</td>\n",
       "      <td>6.707965</td>\n",
       "      <td>2940957.0</td>\n",
       "      <td>NaN</td>\n",
       "    </tr>\n",
       "    <tr>\n",
       "      <th>2018-03-28</th>\n",
       "      <td>NaN</td>\n",
       "      <td>NaN</td>\n",
       "      <td>NaN</td>\n",
       "      <td>NaN</td>\n",
       "      <td>1108.813633</td>\n",
       "    </tr>\n",
       "    <tr>\n",
       "      <th>2018-03-29</th>\n",
       "      <td>NaN</td>\n",
       "      <td>NaN</td>\n",
       "      <td>NaN</td>\n",
       "      <td>NaN</td>\n",
       "      <td>1111.453000</td>\n",
       "    </tr>\n",
       "  </tbody>\n",
       "</table>\n",
       "<p>3426 rows × 5 columns</p>\n",
       "</div>"
      ],
      "text/plain": [
       "             Adj. Close  Open-Close Percent Change  High-Low Percent Change  \\\n",
       "Date                                                                          \n",
       "2004-08-19    50.322842                   0.324968                 8.441017   \n",
       "2004-08-20    54.322689                   7.227007                 8.537313   \n",
       "2004-08-23    54.869377                  -1.227880                 4.062357   \n",
       "2004-08-24    52.597363                  -5.726357                 7.753210   \n",
       "2004-08-25    53.164113                   1.183658                 3.966115   \n",
       "...                 ...                        ...                      ...   \n",
       "2018-03-23  1026.550000                  -2.360729                 4.089299   \n",
       "2018-03-26  1054.090000                   0.332191                 4.818025   \n",
       "2018-03-27  1006.940000                  -5.353887                 6.707965   \n",
       "2018-03-28          NaN                        NaN                      NaN   \n",
       "2018-03-29          NaN                        NaN                      NaN   \n",
       "\n",
       "            Adj. Volume     Forecast  \n",
       "Date                                  \n",
       "2004-08-19   44659000.0          NaN  \n",
       "2004-08-20   22834300.0          NaN  \n",
       "2004-08-23   18256100.0          NaN  \n",
       "2004-08-24   15247300.0          NaN  \n",
       "2004-08-25    9188600.0          NaN  \n",
       "...                 ...          ...  \n",
       "2018-03-23    2413517.0          NaN  \n",
       "2018-03-26    3272409.0          NaN  \n",
       "2018-03-27    2940957.0          NaN  \n",
       "2018-03-28          NaN  1108.813633  \n",
       "2018-03-29          NaN  1111.453000  \n",
       "\n",
       "[3426 rows x 5 columns]"
      ]
     },
     "metadata": {},
     "output_type": "display_data"
    },
    {
     "data": {
      "text/html": [
       "<div>\n",
       "<style scoped>\n",
       "    .dataframe tbody tr th:only-of-type {\n",
       "        vertical-align: middle;\n",
       "    }\n",
       "\n",
       "    .dataframe tbody tr th {\n",
       "        vertical-align: top;\n",
       "    }\n",
       "\n",
       "    .dataframe thead th {\n",
       "        text-align: right;\n",
       "    }\n",
       "</style>\n",
       "<table border=\"1\" class=\"dataframe\">\n",
       "  <thead>\n",
       "    <tr style=\"text-align: right;\">\n",
       "      <th></th>\n",
       "      <th>Adj. Close</th>\n",
       "      <th>Open-Close Percent Change</th>\n",
       "      <th>High-Low Percent Change</th>\n",
       "      <th>Adj. Volume</th>\n",
       "      <th>Forecast</th>\n",
       "    </tr>\n",
       "    <tr>\n",
       "      <th>Date</th>\n",
       "      <th></th>\n",
       "      <th></th>\n",
       "      <th></th>\n",
       "      <th></th>\n",
       "      <th></th>\n",
       "    </tr>\n",
       "  </thead>\n",
       "  <tbody>\n",
       "    <tr>\n",
       "      <th>2018-09-11</th>\n",
       "      <td>NaN</td>\n",
       "      <td>NaN</td>\n",
       "      <td>NaN</td>\n",
       "      <td>NaN</td>\n",
       "      <td>1221.355216</td>\n",
       "    </tr>\n",
       "    <tr>\n",
       "      <th>2018-09-12</th>\n",
       "      <td>NaN</td>\n",
       "      <td>NaN</td>\n",
       "      <td>NaN</td>\n",
       "      <td>NaN</td>\n",
       "      <td>1173.461744</td>\n",
       "    </tr>\n",
       "    <tr>\n",
       "      <th>2018-09-13</th>\n",
       "      <td>NaN</td>\n",
       "      <td>NaN</td>\n",
       "      <td>NaN</td>\n",
       "      <td>NaN</td>\n",
       "      <td>1143.470381</td>\n",
       "    </tr>\n",
       "    <tr>\n",
       "      <th>2018-09-14</th>\n",
       "      <td>NaN</td>\n",
       "      <td>NaN</td>\n",
       "      <td>NaN</td>\n",
       "      <td>NaN</td>\n",
       "      <td>1174.787562</td>\n",
       "    </tr>\n",
       "    <tr>\n",
       "      <th>2018-09-15</th>\n",
       "      <td>NaN</td>\n",
       "      <td>NaN</td>\n",
       "      <td>NaN</td>\n",
       "      <td>NaN</td>\n",
       "      <td>1117.828478</td>\n",
       "    </tr>\n",
       "  </tbody>\n",
       "</table>\n",
       "</div>"
      ],
      "text/plain": [
       "            Adj. Close  Open-Close Percent Change  High-Low Percent Change  \\\n",
       "Date                                                                         \n",
       "2018-09-11         NaN                        NaN                      NaN   \n",
       "2018-09-12         NaN                        NaN                      NaN   \n",
       "2018-09-13         NaN                        NaN                      NaN   \n",
       "2018-09-14         NaN                        NaN                      NaN   \n",
       "2018-09-15         NaN                        NaN                      NaN   \n",
       "\n",
       "            Adj. Volume     Forecast  \n",
       "Date                                  \n",
       "2018-09-11          NaN  1221.355216  \n",
       "2018-09-12          NaN  1173.461744  \n",
       "2018-09-13          NaN  1143.470381  \n",
       "2018-09-14          NaN  1174.787562  \n",
       "2018-09-15          NaN  1117.828478  "
      ]
     },
     "metadata": {},
     "output_type": "display_data"
    },
    {
     "name": "stdout",
     "output_type": "stream",
     "text": [
      "\n",
      "Figure 4.\n"
     ]
    }
   ],
   "source": [
    "# Get length of dataframe\n",
    "print(stocks.shape)\n",
    "# Preview start of dataframe\n",
    "display(stocks.head())\n",
    "# Preview point where known ends and predictions begin\n",
    "display(stocks.head(-forecast_out+2))\n",
    "# Preview end of dataframe\n",
    "display(stocks.tail())\n",
    "\n",
    "print('\\nFigure 4.')"
   ]
  },
  {
   "cell_type": "markdown",
   "metadata": {},
   "source": [
    "Finally, we will simply plot both datapoints, Adjusted Close Prices, and Forecast, just as we did in Figure 1.  This time however, there will only be one point at each date, and the predicted prices will pick up where the known prices end."
   ]
  },
  {
   "cell_type": "code",
   "execution_count": 29,
   "metadata": {},
   "outputs": [
    {
     "data": {
      "image/png": "[encoded data removed]",
      "text/plain": [
       "<Figure size 1440x720 with 1 Axes>"
      ]
     },
     "metadata": {
      "needs_background": "light"
     },
     "output_type": "display_data"
    }
   ],
   "source": [
    "# Define figure with measurement 20x5\n",
    "plt.figure(figsize=(20,10))\n",
    "# Plot adjusted close prices\n",
    "stocks['Adj. Close'].plot()\n",
    "# Plot forecasted prices\n",
    "stocks['Forecast'].plot()\n",
    "# Show legend\n",
    "plt.legend()\n",
    "# Show plot\n",
    "plt.show()"
   ]
  },
  {
   "cell_type": "markdown",
   "metadata": {},
   "source": [
    "# Sources:\n",
    "1. <a href=\"https://pythonprogramming.net/training-testing-machine-learning-tutorial/\" target=\"_blank\">Python Programming: Regression - Training and Testing</a>\n",
    "2. <a href=\"https://pythonprogramming.net/forecasting-predicting-machine-learning-tutorial/\" target=\"_blank\">Python Programming: Regression - Forecasting and Predicting</a>"
   ]
  }
 ],
 "metadata": {
  "kernelspec": {
   "display_name": "Python 3",
   "language": "python",
   "name": "python3"
  },
  "language_info": {
   "codemirror_mode": {
    "name": "ipython",
    "version": 3
   },
   "file_extension": ".py",
   "mimetype": "text/x-python",
   "name": "python",
   "nbconvert_exporter": "python",
   "pygments_lexer": "ipython3",
   "version": "3.7.1"
  }
 },
 "nbformat": 4,
 "nbformat_minor": 4
}
